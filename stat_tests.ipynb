{
  "nbformat": 4,
  "nbformat_minor": 0,
  "metadata": {
    "colab": {
      "provenance": [],
      "collapsed_sections": [
        "cf6utbDaDZCc",
        "0aSuegg55SBw",
        "7QU2hHMM5ahl",
        "__MpbYyLK7Rn",
        "lLnB8BJ7HLCF",
        "2uM0U0_9yh-2",
        "_pb_RS5oyeEC",
        "FuMt_RlZF4LZ",
        "nHH0enR9RKdm",
        "9CNwrhMYZupy",
        "ZUeNNPPpUkCZ",
        "vSFdqv7aUW3j",
        "j_oHmDnOR8gt",
        "P4LgApnN53of",
        "e9sLTrxy7YEA",
        "8G-iNT2m7el9",
        "sSoeKLRIP5Sj",
        "CPG901lIO3ka",
        "A94LZCzwO-Fx",
        "Mi8lIdZDPEZ9",
        "ts91gFlMmxLB",
        "HTAsEN-bm13-",
        "fxHV6YMQRCBc",
        "WsxxkMxxO9Zo",
        "7gJE110tF4lO",
        "DdPvFisVxDtx",
        "IIjVrYCGxDDF"
      ],
      "authorship_tag": "ABX9TyNQvaCYKdY8/DO+C/6cy17v",
      "include_colab_link": true
    },
    "kernelspec": {
      "name": "python3",
      "display_name": "Python 3"
    },
    "language_info": {
      "name": "python"
    }
  },
  "cells": [
    {
      "cell_type": "markdown",
      "metadata": {
        "id": "view-in-github",
        "colab_type": "text"
      },
      "source": [
        "<a href=\"https://colab.research.google.com/github/Zaqzxcswsde/itmo-applied-statistics/blob/main/stat_tests.ipynb\" target=\"_parent\"><img src=\"https://colab.research.google.com/assets/colab-badge.svg\" alt=\"Open In Colab\"/></a>"
      ]
    },
    {
      "cell_type": "markdown",
      "source": [
        "TODO: переделать парсинг, чтобы работал с дробями и переменными"
      ],
      "metadata": {
        "id": "ky-Bk0T4GDyZ"
      }
    },
    {
      "cell_type": "markdown",
      "source": [
        "Don't forget to import functions from all of the weeks!"
      ],
      "metadata": {
        "id": "jusx37AwbtlZ"
      }
    },
    {
      "cell_type": "code",
      "execution_count": null,
      "metadata": {
        "id": "-LBrSgvnnh7X"
      },
      "outputs": [],
      "source": [
        "#@title Imports { display-mode: \"form\" }\n",
        "from pandas import Series, DataFrame\n",
        "import pandas as pd\n",
        "import numpy as np\n",
        "from os import listdir\n",
        "# from google.colab import drive\n",
        "#drive.mount('/content/drive')\n",
        "import matplotlib.pyplot as plt\n",
        "%matplotlib inline\n",
        "import itertools\n",
        "from itertools import product\n",
        "from scipy import special\n",
        "# как можно скачать файл напрямую из гуглдиска сюда в директорию /content\n",
        "# !gdown 1Xtw5-jqrDJmh318t1jtKHvOJXxMrB9XF\n",
        "from math import factorial\n",
        "from decimal import *\n",
        "import sympy\n",
        "from math import fsum\n",
        "from fractions import Fraction\n",
        "import scipy\n",
        "from scipy import stats\n",
        "from sympy import integrate, Symbol\n",
        "from math import pi,sqrt\n",
        "from numpy import exp\n",
        "from more_itertools import pairwise\n",
        "import math\n",
        "import csv\n",
        "import urllib.request\n",
        "import os"
      ]
    },
    {
      "cell_type": "markdown",
      "source": [
        "---\n",
        "---\n",
        "---"
      ],
      "metadata": {
        "id": "7odY3x8zIuBy"
      }
    },
    {
      "cell_type": "markdown",
      "source": [
        "# Week 1"
      ],
      "metadata": {
        "id": "cf6utbDaDZCc"
      }
    },
    {
      "cell_type": "markdown",
      "source": [
        "---\n",
        "## Function Definitions"
      ],
      "metadata": {
        "id": "0aSuegg55SBw"
      }
    },
    {
      "cell_type": "code",
      "source": [
        "#@title Получить произведение всех чисел в листе\n",
        "def list_product(array):\n",
        "  s = 1\n",
        "  for i in array:\n",
        "    s *= Decimal(i)\n",
        "  return s"
      ],
      "metadata": {
        "id": "fgIOVbqipir9",
        "cellView": "form"
      },
      "execution_count": null,
      "outputs": []
    },
    {
      "cell_type": "code",
      "source": [
        "#@title Функции комбинаторики\n",
        "\n",
        "# формула C из комбинаторики с повторениями и без\n",
        "def comb(n,k, *, repetition=0):\n",
        "  if repetition: return comb(n+k-1,k)\n",
        "  else: return Decimal(factorial(n))/Decimal(Decimal(factorial(k))*Decimal(factorial(n-k)))\n",
        "\n",
        "# 4 основные функции комбинаторики объединены в одну, повторения есть? порядок важен? n? k?\n",
        "def prob(n,k,o,r):\n",
        "  if not o: return Decimal(comb(n,k,repetition=r))\n",
        "  elif r: return Decimal(n)**Decimal(k)\n",
        "  else: return Decimal(special.perm(n,k))\n",
        "\n",
        "# упрощённый доступ напрямую к C из n по k\n",
        "def cnk(n,k):\n",
        "  return Decimal(prob(n,k,0,0))"
      ],
      "metadata": {
        "id": "Umr3xT9XNqnv",
        "cellView": "form"
      },
      "execution_count": null,
      "outputs": []
    },
    {
      "cell_type": "code",
      "source": [
        "#@title Конкатенация листа в строчку\n",
        "def conc(lst):\n",
        "  c = ''\n",
        "  for i in lst:\n",
        "    c+=str(i)\n",
        "  return c"
      ],
      "metadata": {
        "id": "71RQqSFG0b97",
        "cellView": "form"
      },
      "execution_count": null,
      "outputs": []
    },
    {
      "cell_type": "code",
      "source": [
        "#@title Является ли число факториалом другого?\n",
        "def isfactorial(x):\n",
        "  if not isinstance(x,int) or x<1: return -1\n",
        "  i=0\n",
        "  while factorial(i)<x:\n",
        "    i+=1\n",
        "  if factorial(i)==x: return i\n",
        "  else: return -1"
      ],
      "metadata": {
        "id": "mFdm5n7_fj_d",
        "cellView": "form"
      },
      "execution_count": null,
      "outputs": []
    },
    {
      "cell_type": "code",
      "source": [
        "#@title Перевод числа в 6-ти-ричную систему\n",
        "def tosix(n):\n",
        "    if n == 0:\n",
        "        return ['0']\n",
        "    digits = []\n",
        "    while n:\n",
        "        digits.append(str(int(n % 6)))\n",
        "        n //= 6\n",
        "    return digits[::-1]"
      ],
      "metadata": {
        "cellView": "form",
        "id": "te_VPf2fIbKi"
      },
      "execution_count": null,
      "outputs": []
    },
    {
      "cell_type": "code",
      "source": [
        "#@title Является ли лист уникальным? Не работает, если там хранятся другие листы (и прочие нехешитруемые типы)\n",
        "def isunique(lst):\n",
        "  return len(list(lst)) == len(list(set(list(lst))))"
      ],
      "metadata": {
        "cellView": "form",
        "id": "J6CkkBpHIabG"
      },
      "execution_count": null,
      "outputs": []
    },
    {
      "cell_type": "markdown",
      "source": [
        "---\n",
        "## Code itself"
      ],
      "metadata": {
        "id": "7QU2hHMM5ahl"
      }
    },
    {
      "cell_type": "code",
      "source": [
        "# сколько из всех вариантов пар произведений чисел от 1 до 4 целочисленно делятся на три \n",
        "list(map(lambda a: a % 3, map(lambda a: a[0]*a[1], itertools.product(np.arange(1,5),np.arange(1,5))))).count(0)"
      ],
      "metadata": {
        "colab": {
          "base_uri": "https://localhost:8080/"
        },
        "id": "_3Oz4Sj_p7Bd",
        "outputId": "c03d2b23-7db1-4120-d0bc-5498f065c46e"
      },
      "execution_count": null,
      "outputs": [
        {
          "output_type": "execute_result",
          "data": {
            "text/plain": [
              "7"
            ]
          },
          "metadata": {},
          "execution_count": 15
        }
      ]
    },
    {
      "cell_type": "code",
      "source": [
        "# у скольки из всех вариантов пар произведений чисел от 1 до 4 сумма превышает произведение \n",
        "len([1 for a in itertools.product(np.arange(1,5),np.arange(1,5)) if a[0]+a[1]>a[0]*a[1]])"
      ],
      "metadata": {
        "colab": {
          "base_uri": "https://localhost:8080/"
        },
        "id": "amJ-cQNBpSYF",
        "outputId": "c69229e5-0e32-42eb-ab32-cd619a775963"
      },
      "execution_count": null,
      "outputs": [
        {
          "output_type": "execute_result",
          "data": {
            "text/plain": [
              "7"
            ]
          },
          "metadata": {},
          "execution_count": 16
        }
      ]
    },
    {
      "cell_type": "code",
      "source": [
        "# сколькими способами можно выбрать из n пар детей двих так, чтобы они были из разных пар?\n",
        "pair_count=3\n",
        "4*sum(range(1,pair_count))"
      ],
      "metadata": {
        "colab": {
          "base_uri": "https://localhost:8080/"
        },
        "id": "DACENz3h3FAw",
        "outputId": "d6aa6579-df1a-4de4-9060-00178c6802dc"
      },
      "execution_count": null,
      "outputs": [
        {
          "output_type": "execute_result",
          "data": {
            "text/plain": [
              "12"
            ]
          },
          "metadata": {},
          "execution_count": 17
        }
      ]
    },
    {
      "cell_type": "code",
      "source": [
        "# или так\n",
        "all_possible_combinations=list(map(list,list(product(range(6),repeat=2))))\n",
        "all_possible_pair_variations=[[x[0]//2,x[1]//2] for x in all_possible_combinations]\n",
        "apc_with_rep_1=list(map(set,all_possible_combinations))\n",
        "apc_with_rep_2=[x for x in apc_with_rep_1 if len(x)>1]\n",
        "apc_without_rep=list(map(list,(set(map(tuple,apc_with_rep_2)))))\n",
        "apc_with_rep_pairs_1=[[x[0]//2,x[1]//2] for x in list(map(list,apc_without_rep))]\n",
        "apc_with_rep_pairs_2=list(map(set,apc_with_rep_pairs_1))\n",
        "apc_without_rep_pairs=[x for x in apc_with_rep_pairs_2 if len(x)==2]\n",
        "len(apc_without_rep_pairs)"
      ],
      "metadata": {
        "colab": {
          "base_uri": "https://localhost:8080/"
        },
        "id": "N2_4olPV6y-F",
        "outputId": "206000fd-460b-40bd-89b4-48f5cea7c8cd"
      },
      "execution_count": null,
      "outputs": [
        {
          "output_type": "execute_result",
          "data": {
            "text/plain": [
              "12"
            ]
          },
          "metadata": {},
          "execution_count": 18
        }
      ]
    },
    {
      "cell_type": "code",
      "source": [
        "# из цифр от 0 до 5 составили декартово проиведение длиной 4, в скольких вариантах нет повторений цифр?\n",
        "# способ 1\n",
        "len([x for x in map(set,product(range(0,6),repeat=4)) if len(x)==4])"
      ],
      "metadata": {
        "colab": {
          "base_uri": "https://localhost:8080/"
        },
        "id": "W4ze-TX2-zAZ",
        "outputId": "b58a255b-44be-424a-aa71-b7bf424d22dd"
      },
      "execution_count": null,
      "outputs": [
        {
          "output_type": "execute_result",
          "data": {
            "text/plain": [
              "360"
            ]
          },
          "metadata": {},
          "execution_count": 19
        }
      ]
    },
    {
      "cell_type": "code",
      "source": [
        "# способ 2\n",
        "sum(list(map(isunique,[''.join(tosix(x)).zfill(4) for x in range(0,6**4)])))"
      ],
      "metadata": {
        "colab": {
          "base_uri": "https://localhost:8080/"
        },
        "id": "CWAW86KMi2nt",
        "outputId": "00b1a46b-32f5-4f0f-c61a-4a5dd2a7e41c"
      },
      "execution_count": null,
      "outputs": [
        {
          "output_type": "execute_result",
          "data": {
            "text/plain": [
              "360"
            ]
          },
          "metadata": {},
          "execution_count": 20
        }
      ]
    },
    {
      "cell_type": "code",
      "source": [
        "# или так! 6 вариантов на первую, 5 на вторую и тд до четвёртой\n",
        "6*5*4*3"
      ],
      "metadata": {
        "colab": {
          "base_uri": "https://localhost:8080/"
        },
        "id": "cYibsnj0BxYL",
        "outputId": "f76d899a-81e3-408c-b18c-0b083c6dfc07"
      },
      "execution_count": null,
      "outputs": [
        {
          "output_type": "execute_result",
          "data": {
            "text/plain": [
              "360"
            ]
          },
          "metadata": {},
          "execution_count": 21
        }
      ]
    },
    {
      "cell_type": "markdown",
      "source": [
        "---\n",
        "---\n",
        "# Week 2\n"
      ],
      "metadata": {
        "id": "__MpbYyLK7Rn"
      }
    },
    {
      "cell_type": "markdown",
      "source": [
        "---\n",
        "## Function definitions"
      ],
      "metadata": {
        "id": "lLnB8BJ7HLCF"
      }
    },
    {
      "cell_type": "code",
      "source": [
        "#@title Парсинг таблиц из опенеду в датафрейм/серию/лист\n",
        "# Работает только с числовыми значениями, не работает с переменными или дробями - TODO\n",
        "def OpenEduTexToArrayOfArrays(full_tex,dec=True):\n",
        "  def is_float(element):\n",
        "    try:\n",
        "        float(element)\n",
        "        return True\n",
        "    except ValueError:\n",
        "        return False\n",
        "  full_tex=full_tex.replace(r'\\hline','\\n')      \n",
        "  full_tex=list(map(lambda a: a.split(),full_tex.split('\\n')))\n",
        "  for i,x in enumerate(full_tex):\n",
        "    full_tex[i]=[y for y in x if is_float(y)]\n",
        "  full_tex = [x for x in full_tex if len(x)>0]\n",
        "  if dec:\n",
        "    for i,x in enumerate(full_tex):\n",
        "      full_tex[i]=list(map(lambda a: Fraction(str(a)),x))\n",
        "  return full_tex\n",
        "def ArrayOfArraysWithIndexsAndColumnsToDataFrame(arrofarr):\n",
        "  if len(arrofarr)<=2: raise RuntimeError('don\\'t use this function for series!')\n",
        "  if len(arrofarr[0])<len(arrofarr[1]): arrofarr[0] = [''] + arrofarr[0]\n",
        "  npaoa = np.array(arrofarr)\n",
        "  return DataFrame(npaoa[1:,1:],columns=npaoa[0,:][1:],index=npaoa[:,0][1:],dtype=\"object\")\n",
        "def TTDFOVAP(full_tex,dec=True): # TexToDataFrameOrValsAndProbs\n",
        "  arrofarr=OpenEduTexToArrayOfArrays(full_tex,dec=dec)\n",
        "  if len(arrofarr)==1: return arrofarr[0]\n",
        "  elif len(arrofarr)==2: return (arrofarr[0],arrofarr[1])\n",
        "  else: return ArrayOfArraysWithIndexsAndColumnsToDataFrame(arrofarr)"
      ],
      "metadata": {
        "id": "3ek-o2WADLn_",
        "cellView": "form"
      },
      "execution_count": null,
      "outputs": []
    },
    {
      "cell_type": "code",
      "source": [
        "#@title Медиана распределения случайной величины\n",
        "def myMedian(vals, probs):\n",
        "  m_1 = [i for i,_ in enumerate(probs) if ((sum(probs[:i+1])>0.5) and (sum(probs[i:])>0.5))]\n",
        "  m_1_e = [vals[v] for v in m_1]\n",
        "  m_2 = m_1_e[0] if len(m_1_e)==1 else (max(m_1_e)+min(m_1_e))/2\n",
        "  return m_2"
      ],
      "metadata": {
        "id": "h_ZWY8RpVf-B",
        "cellView": "form"
      },
      "execution_count": null,
      "outputs": []
    },
    {
      "cell_type": "code",
      "source": [
        "#@title Проверка величин на независимость, !!!!!внутри DataFrame'а нужны Decimal'ы/Fractions'ы!!!!!\n",
        "def CheckIndependence(df):\n",
        "  xsi=df.sum(axis=0) # this produces series of decimals, as expected\n",
        "  # eta=df.sum(axis=1) # this instead produces series of floats, not decimals - presumably pandas bug\n",
        "  eta=Series({k:v.sum() for k,v in df.iterrows()})\n",
        "  # xsi=xsi.apply(lambda a: Decimal(str(a)))\n",
        "  # eta=eta.apply(lambda a: Decimal(str(a)))\n",
        "  df2 = pd.DataFrame(columns=df.columns, index=df.index)\n",
        "  for i in df.columns:\n",
        "    for j in df.index:\n",
        "      df2[i][j]=xsi[i]*eta[j]\n",
        "  return df.equals(df2)"
      ],
      "metadata": {
        "id": "_d2tnVU_IOfG",
        "cellView": "form"
      },
      "execution_count": null,
      "outputs": []
    },
    {
      "cell_type": "code",
      "source": [
        "#@title Математическое ожидание распределения случайной величины\n",
        "def myExpectedValue(vals, probs):\n",
        "  vals = np.asarray(vals)\n",
        "  probs = np.asarray(probs)\n",
        "  return (vals * probs).sum()"
      ],
      "metadata": {
        "id": "lYTwRFZ4WG7_",
        "cellView": "form"
      },
      "execution_count": null,
      "outputs": []
    },
    {
      "cell_type": "code",
      "source": [
        "#@title Совместное распределение -> мат.ожидание их произведения\n",
        "def TablToExpectedOfMult(df):\n",
        "  df2=DataFrame(columns=df.columns,index=df.index)\n",
        "  for i in df2.columns:\n",
        "    for j in df2.index:\n",
        "      df2[i][j]=i*j\n",
        "  ss={}\n",
        "  for i in df2.columns:\n",
        "    for j in df2.index:\n",
        "      if df2[i][j] in ss.keys():\n",
        "        ss[df2[i][j]]+=df[i][j]\n",
        "      else:\n",
        "        ss[df2[i][j]]=df[i][j]\n",
        "  # print(ss)\n",
        "  return sum(np.asarray(list(ss.keys()))*np.asarray(list(ss.values())))"
      ],
      "metadata": {
        "id": "ytdUohWwzyN6",
        "cellView": "form"
      },
      "execution_count": null,
      "outputs": []
    },
    {
      "cell_type": "code",
      "source": [
        "#@title Распределение случайной величины -> дисперсия\n",
        "def MyVariance(vals,probs):\n",
        "  ev = myExpectedValue(vals,probs)\n",
        "  vals2=[(x-ev)**2 for x in vals]\n",
        "  disp = myExpectedValue(vals2,probs)\n",
        "  return disp"
      ],
      "metadata": {
        "id": "Cdb68o_O3Bv0",
        "cellView": "form"
      },
      "execution_count": null,
      "outputs": []
    },
    {
      "cell_type": "code",
      "source": [
        "#@title Распределение случайной величины -> дисперсия 2\n",
        "def MyVariance2(vals,probs):\n",
        "  ev = myExpectedValue(vals,probs)\n",
        "  vals2=[x**2 for x in vals]\n",
        "  disp = myExpectedValue(vals2,probs)\n",
        "  return disp-ev**2"
      ],
      "metadata": {
        "id": "aixmsqUgYsr3",
        "cellView": "form"
      },
      "execution_count": null,
      "outputs": []
    },
    {
      "cell_type": "code",
      "source": [
        "#@title Совместное распределение -> мат.ожидание обеих - сначала по столбцам, потом по строкам\n",
        "def MyJointDistributionToExpectedOfBoth(df):\n",
        "  xsi,eta=MyJointDistributionToMarginalDistribution(df)\n",
        "  xsi_ev=myExpectedValue(xsi.index,xsi.values)\n",
        "  eta_ev=myExpectedValue(eta.index,eta.values)\n",
        "  return (xsi_ev,eta_ev)"
      ],
      "metadata": {
        "id": "3aCdY9db06GR",
        "cellView": "form"
      },
      "execution_count": null,
      "outputs": []
    },
    {
      "cell_type": "code",
      "source": [
        "#@title Совметное распределение -> маргинальное распределение\n",
        "def MyJointDistributionToMarginalDistribution(df):\n",
        "  xsi=df.sum(axis=0)\n",
        "  eta=Series({k:v.sum() for k,v in df.iterrows()})\n",
        "  return (xsi,eta)"
      ],
      "metadata": {
        "id": "9n1bGQaHhak4",
        "cellView": "form"
      },
      "execution_count": null,
      "outputs": []
    },
    {
      "cell_type": "code",
      "source": [
        "#@title Маргинальное распределение / дисперсия -> СКО\n",
        "def MyStandardDeviation(vals=None,probs=None,var=None):\n",
        "  if not var: return decimal_from_fraction(MyVariance(vals,probs))**Decimal(0.5)\n",
        "  else: return decimal_from_fraction(var)**Decimal(0.5)"
      ],
      "metadata": {
        "id": "XFfdMqmaXslK",
        "cellView": "form"
      },
      "execution_count": null,
      "outputs": []
    },
    {
      "cell_type": "code",
      "source": [
        "#@title Совметное распределение -> ковариация\n",
        "def MyCovariance(df):\n",
        "  ksi_ev, eta_ev = MyJointDistributionToExpectedOfBoth(df)\n",
        "  return TablToExpectedOfMult(df) - ksi_ev*eta_ev"
      ],
      "metadata": {
        "id": "LmmXV6JXJqoy",
        "cellView": "form"
      },
      "execution_count": null,
      "outputs": []
    },
    {
      "cell_type": "code",
      "source": [
        "#@title Совметное распределение -> дисперсия обеих\n",
        "def MyJointDistributionToVarianceOfBoth(df):\n",
        "  xsi, eta = MyJointDistributionToMarginalDistribution(df)\n",
        "  xsi_var = MyVariance(xsi.index,xsi.values)\n",
        "  eta_var = MyVariance(eta.index,eta.values)\n",
        "  return (xsi_var,eta_var)"
      ],
      "metadata": {
        "cellView": "form",
        "id": "1JmUixxUPBTz"
      },
      "execution_count": null,
      "outputs": []
    },
    {
      "cell_type": "code",
      "source": [
        "#@title Совметное распределение -> коэффицент корелляции (Пирсона)\n",
        "def MyPearsonCorrelationCoefficient(df):\n",
        "  cov = MyCovariance(df)\n",
        "  if cov == Decimal('0'): return Decimal('0')\n",
        "  xsi_var, eta_var = MyJointDistributionToVarianceOfBoth(df)\n",
        "  if xsi_var == eta_var: return cov/xsi_var\n",
        "  xsi_dev = MyStandardDeviation(var=xsi_var)\n",
        "  eta_dev = MyStandardDeviation(var=eta_var)\n",
        "  return decimal_from_fraction(cov)/(xsi_dev*eta_dev)"
      ],
      "metadata": {
        "cellView": "form",
        "id": "nBcmsb5VMj7w"
      },
      "execution_count": null,
      "outputs": []
    },
    {
      "cell_type": "code",
      "source": [
        "#@title Decimal -> Fraction\n",
        "def decimal_from_fraction(frac):\n",
        "  if isinstance(frac,Decimal): return frac\n",
        "  return frac.numerator / Decimal(frac.denominator)"
      ],
      "metadata": {
        "cellView": "form",
        "id": "q8euccvMwJ01"
      },
      "execution_count": null,
      "outputs": []
    },
    {
      "cell_type": "code",
      "source": [
        "#@title Схема бернули в нунжном мне виде\n",
        "def MyBernoulli(n,k,p,q=None): # n - всего, k - нужно удач, p - вероятность удачи, q - вероятность неудачи\n",
        "  n = Decimal(n)\n",
        "  k = Decimal(k)\n",
        "  p = Decimal(str(p))\n",
        "  if not q: q = Decimal(1-p)\n",
        "  return Decimal(cnk(n,k))*(Decimal(p)**Decimal(k))*(Decimal(q)**(n-k))"
      ],
      "metadata": {
        "id": "Rxi-KM-I4tXn",
        "cellView": "form"
      },
      "execution_count": null,
      "outputs": []
    },
    {
      "cell_type": "code",
      "source": [
        "#@title НЕ ИСПОЛЬЗОВАТЬ! Лобовая реализация вычисления мат. ожидания и дисперсии случайной величины схемы Бернулли\n",
        "def BAD_MyXsiBernoulli(n,p,q=None):\n",
        "  if not q: q = 1-p\n",
        "  vals = range(0,n+1)\n",
        "  probs = [MyBernoulli(n,x,Decimal(str(p)),Decimal(str(q))) for x in range(0,n+1)]\n",
        "  ev=myExpectedValue(vals,probs)\n",
        "  var=MyVariance(vals,probs)\n",
        "  return (ev,var)"
      ],
      "metadata": {
        "id": "3P3Pvag46Tfj",
        "cellView": "form"
      },
      "execution_count": null,
      "outputs": []
    },
    {
      "cell_type": "code",
      "source": [
        "#@title Нормальная реализация вычисления мат. ожидания и дисперсии случайной величины схемы Бернулли\n",
        "def MyXsiBernoulli(n,p,q=None):\n",
        "  if not q: q = 1 - p\n",
        "  return (n*p,n*p*q)"
      ],
      "metadata": {
        "cellView": "form",
        "id": "wUY-dZhH7MA9"
      },
      "execution_count": null,
      "outputs": []
    },
    {
      "cell_type": "code",
      "source": [
        "#@title Локальная теорема Муавра-Лапласа (n,p,A,B)->val\n",
        "def MyLocML(n,p,A,B,r=4):\n",
        "  A,B=min(A,B),max(A,B)\n",
        "  q=1-p\n",
        "  # koef=1/(sqrt(2*pi)*sqrt(n*p*q))\n",
        "  val = round(sum(exp(-(((k-n*p)/(sqrt(n*p*q)))**2)/2) for k in range(A,B+1))*(1/(sqrt(2*pi)*sqrt(n*p*q))),4)\n",
        "  return val"
      ],
      "metadata": {
        "id": "IJBc8zi7vqSc",
        "cellView": "form"
      },
      "execution_count": null,
      "outputs": []
    },
    {
      "cell_type": "code",
      "source": [
        "#@title Теорема Пуассона (n,p,A,B)->(val,(leftErr,rightErr))\n",
        "def MyPoisson(n,p,A,B,r=4):\n",
        "  A,B=min(A,B),max(A,B)\n",
        "  mu=n*p\n",
        "  val = round(sum(((Decimal(Decimal(mu)**k)/Decimal(factorial(k))) * (exp(Decimal(-mu)))) for k in range(A,B+1)),r)\n",
        "  err = Decimal(min(Decimal(str(p)),n*(Decimal(str(p))**2)))\n",
        "  leftErr = val-err if val-err>0 else 0\n",
        "  rightErr = val+err if val+err<1 else 1\n",
        "  return (val,(leftErr,rightErr))"
      ],
      "metadata": {
        "id": "XGwFF18nvaMX",
        "cellView": "form"
      },
      "execution_count": null,
      "outputs": []
    },
    {
      "cell_type": "code",
      "source": [
        "#@title Интегральная теорема Муавра-Лапласа (n,p,A,B)->(val,err)\n",
        "def MyIntML(n,p,A,B,r=4):\n",
        "  A,B=min(A,B),max(A,B)\n",
        "  q=1-p\n",
        "  y=(B-n*p)/sqrt(n*p*q)\n",
        "  z=(A-n*p)/sqrt(n*p*q)\n",
        "  val = round(scipy.stats.norm.cdf(y)-scipy.stats.norm.cdf(z),r)\n",
        "  err = round(1/(p*q*sqrt(n)),r)\n",
        "  return (val,err)"
      ],
      "metadata": {
        "id": "1RAvxD7OwFV_",
        "cellView": "form"
      },
      "execution_count": null,
      "outputs": []
    },
    {
      "cell_type": "code",
      "source": [
        "#@title Пуассон + Локальный М-Л\n",
        "def MyPML(n,p,A,B,r=4):\n",
        "  A,B=min(A,B),max(A,B)\n",
        "  return (MyPoisson(n,p,A,B,r),MyLocML(n,p,A,B,r))"
      ],
      "metadata": {
        "id": "PHt1JpsOxkN5",
        "cellView": "form"
      },
      "execution_count": null,
      "outputs": []
    },
    {
      "cell_type": "code",
      "source": [
        "#@title Бернулли для k между A и B\n",
        "def MyABBernoulli(n,p,A,B,r=4):\n",
        "  A,B=min(A,B),max(A,B)\n",
        "  return round(sum(MyBernoulli(n,k,p) for k in range(A,B+1)),r)"
      ],
      "metadata": {
        "id": "865Z_Axi0bFp",
        "cellView": "form"
      },
      "execution_count": null,
      "outputs": []
    },
    {
      "cell_type": "markdown",
      "source": [
        "---\n",
        "## Code itself"
      ],
      "metadata": {
        "id": "kf4d_ApQt13t"
      }
    },
    {
      "cell_type": "markdown",
      "source": [
        "### First Half"
      ],
      "metadata": {
        "id": "2uM0U0_9yh-2"
      }
    },
    {
      "cell_type": "code",
      "source": [
        "# Количество орлов/решек при трёх подбрасываниях монеты\n",
        "list(map(lambda a: a.count(0), itertools.product([0,1],repeat=3)))\n",
        "list(map(lambda a: a.count(1), itertools.product([0,1],repeat=3)))"
      ],
      "metadata": {
        "id": "k0vGaUYaCu1-",
        "colab": {
          "base_uri": "https://localhost:8080/"
        },
        "outputId": "2f7b9cb2-c409-4dc2-fc5b-4346605c58ff"
      },
      "execution_count": null,
      "outputs": [
        {
          "output_type": "execute_result",
          "data": {
            "text/plain": [
              "[0, 1, 1, 2, 1, 2, 2, 3]"
            ]
          },
          "metadata": {},
          "execution_count": 37
        }
      ]
    },
    {
      "cell_type": "code",
      "source": [
        "# Нахождение подбором одного неизвестного значения случайного распределения по известному математическому ожиданию и остальному распределению\n",
        "for x in range(-1,14):\n",
        "  vals = list(map(Decimal,f'-1 & 1 & 4 & {x} & 13'.split(' & ')))\n",
        "  probs  = list(map(Decimal,'0.1 & 0.15 & 0.4 & 0.2 & 0.15'.split(' & ')))\n",
        "  if myExpectedValue(vals, probs)==Decimal('5.2'): print(x)"
      ],
      "metadata": {
        "colab": {
          "base_uri": "https://localhost:8080/"
        },
        "id": "zQyncweo4Mk8",
        "outputId": "a74535cb-b15d-440c-fb3c-c6a62fd393ef"
      },
      "execution_count": null,
      "outputs": [
        {
          "output_type": "stream",
          "name": "stdout",
          "text": [
            "8\n"
          ]
        }
      ]
    },
    {
      "cell_type": "code",
      "source": [
        "# Автоматическое нахождение уравнения для математического ожидания, хотя можно было просто посмотреть...\n",
        "vals='3 5 7'.split(' ')\n",
        "probs='p1 p2 0.3'.split(' ')\n",
        "expr=sympy.sympify('+'.join([f'{x1}*{x2}' for x1,x2 in zip(vals,probs)]))\n",
        "expr"
      ],
      "metadata": {
        "colab": {
          "base_uri": "https://localhost:8080/"
        },
        "id": "KTRfaIC8YeNY",
        "outputId": "092ee8c4-96a3-482f-a287-163b2e3413f6"
      },
      "execution_count": null,
      "outputs": [
        {
          "output_type": "execute_result",
          "data": {
            "text/plain": [
              "3*p1 + 5*p2 + 2.1"
            ],
            "text/latex": "$\\displaystyle 3 p_{1} + 5 p_{2} + 2.1$"
          },
          "metadata": {},
          "execution_count": 39
        }
      ]
    },
    {
      "cell_type": "code",
      "source": [
        "# Тест парсинга в vals,probs\n",
        "full_tex=r\"\"\"\\begin{array}{  c | c | c | c | c| c | c| c | c  }\n",
        "\\xi & -4 & -2 & 0 & 3 & 4 & 6 & 7 & 9  \\\\ \\hline\n",
        "\\mathsf{P} & 0.1 & 0.15 & 0.05 & 0.15 & 0.1 & 0.05 & 0.25 & 0.15\n",
        "\\end{array}\"\"\"\n",
        "vals,probs=TTDFOVAP(full_tex,dec=0)\n",
        "vals,probs"
      ],
      "metadata": {
        "colab": {
          "base_uri": "https://localhost:8080/"
        },
        "id": "WLDOe0tA8AKg",
        "outputId": "b2bdc642-493d-4819-83c7-673d8b81abfc"
      },
      "execution_count": null,
      "outputs": [
        {
          "output_type": "execute_result",
          "data": {
            "text/plain": [
              "(['-4', '-2', '0', '3', '4', '6', '7', '9'],\n",
              " ['0.1', '0.15', '0.05', '0.15', '0.1', '0.05', '0.25', '0.15'])"
            ]
          },
          "metadata": {},
          "execution_count": 40
        }
      ]
    },
    {
      "cell_type": "code",
      "source": [
        "# Тест парсинга в датафрейм\n",
        "full_tex=r\"\"\"\\begin{array}{  c | c | c | c | c  }\n",
        "\\eta \\backslash \\xi & -4 & -2 & 0 & 3  \\\\ \\hline\n",
        "2 & 0.02 & 0.02 & 0.06 & 0.1 \\\\ \\hline\n",
        "3 & 0.03 & 0.03 & 0.09 & 0.15 \\\\ \\hline\n",
        "5 & 0.02 & 0.02 & 0.06 & 0.1 \\\\ \\hline\n",
        "10 & 0.03 & 0.03 & 0.09 & 0.15\n",
        "\\end{array}\"\"\"\n",
        "df = TTDFOVAP(full_tex)"
      ],
      "metadata": {
        "id": "RCEv3PDens2s"
      },
      "execution_count": null,
      "outputs": []
    },
    {
      "cell_type": "code",
      "source": [
        "df"
      ],
      "metadata": {
        "colab": {
          "base_uri": "https://localhost:8080/"
        },
        "id": "N31yQiX9L4eg",
        "outputId": "ce54af6a-e56c-44cc-95ed-cff52c727398"
      },
      "execution_count": null,
      "outputs": [
        {
          "output_type": "execute_result",
          "data": {
            "text/plain": [
              "       -4     -2      0     3\n",
              "2    1/50   1/50   3/50  1/10\n",
              "3   3/100  3/100  9/100  3/20\n",
              "5    1/50   1/50   3/50  1/10\n",
              "10  3/100  3/100  9/100  3/20"
            ],
            "text/html": [
              "\n",
              "  <div id=\"df-7a7d82ad-caf6-41c8-a54f-207d146080b2\">\n",
              "    <div class=\"colab-df-container\">\n",
              "      <div>\n",
              "<style scoped>\n",
              "    .dataframe tbody tr th:only-of-type {\n",
              "        vertical-align: middle;\n",
              "    }\n",
              "\n",
              "    .dataframe tbody tr th {\n",
              "        vertical-align: top;\n",
              "    }\n",
              "\n",
              "    .dataframe thead th {\n",
              "        text-align: right;\n",
              "    }\n",
              "</style>\n",
              "<table border=\"1\" class=\"dataframe\">\n",
              "  <thead>\n",
              "    <tr style=\"text-align: right;\">\n",
              "      <th></th>\n",
              "      <th>-4</th>\n",
              "      <th>-2</th>\n",
              "      <th>0</th>\n",
              "      <th>3</th>\n",
              "    </tr>\n",
              "  </thead>\n",
              "  <tbody>\n",
              "    <tr>\n",
              "      <th>2</th>\n",
              "      <td>1/50</td>\n",
              "      <td>1/50</td>\n",
              "      <td>3/50</td>\n",
              "      <td>1/10</td>\n",
              "    </tr>\n",
              "    <tr>\n",
              "      <th>3</th>\n",
              "      <td>3/100</td>\n",
              "      <td>3/100</td>\n",
              "      <td>9/100</td>\n",
              "      <td>3/20</td>\n",
              "    </tr>\n",
              "    <tr>\n",
              "      <th>5</th>\n",
              "      <td>1/50</td>\n",
              "      <td>1/50</td>\n",
              "      <td>3/50</td>\n",
              "      <td>1/10</td>\n",
              "    </tr>\n",
              "    <tr>\n",
              "      <th>10</th>\n",
              "      <td>3/100</td>\n",
              "      <td>3/100</td>\n",
              "      <td>9/100</td>\n",
              "      <td>3/20</td>\n",
              "    </tr>\n",
              "  </tbody>\n",
              "</table>\n",
              "</div>\n",
              "      <button class=\"colab-df-convert\" onclick=\"convertToInteractive('df-7a7d82ad-caf6-41c8-a54f-207d146080b2')\"\n",
              "              title=\"Convert this dataframe to an interactive table.\"\n",
              "              style=\"display:none;\">\n",
              "        \n",
              "  <svg xmlns=\"http://www.w3.org/2000/svg\" height=\"24px\"viewBox=\"0 0 24 24\"\n",
              "       width=\"24px\">\n",
              "    <path d=\"M0 0h24v24H0V0z\" fill=\"none\"/>\n",
              "    <path d=\"M18.56 5.44l.94 2.06.94-2.06 2.06-.94-2.06-.94-.94-2.06-.94 2.06-2.06.94zm-11 1L8.5 8.5l.94-2.06 2.06-.94-2.06-.94L8.5 2.5l-.94 2.06-2.06.94zm10 10l.94 2.06.94-2.06 2.06-.94-2.06-.94-.94-2.06-.94 2.06-2.06.94z\"/><path d=\"M17.41 7.96l-1.37-1.37c-.4-.4-.92-.59-1.43-.59-.52 0-1.04.2-1.43.59L10.3 9.45l-7.72 7.72c-.78.78-.78 2.05 0 2.83L4 21.41c.39.39.9.59 1.41.59.51 0 1.02-.2 1.41-.59l7.78-7.78 2.81-2.81c.8-.78.8-2.07 0-2.86zM5.41 20L4 18.59l7.72-7.72 1.47 1.35L5.41 20z\"/>\n",
              "  </svg>\n",
              "      </button>\n",
              "      \n",
              "  <style>\n",
              "    .colab-df-container {\n",
              "      display:flex;\n",
              "      flex-wrap:wrap;\n",
              "      gap: 12px;\n",
              "    }\n",
              "\n",
              "    .colab-df-convert {\n",
              "      background-color: #E8F0FE;\n",
              "      border: none;\n",
              "      border-radius: 50%;\n",
              "      cursor: pointer;\n",
              "      display: none;\n",
              "      fill: #1967D2;\n",
              "      height: 32px;\n",
              "      padding: 0 0 0 0;\n",
              "      width: 32px;\n",
              "    }\n",
              "\n",
              "    .colab-df-convert:hover {\n",
              "      background-color: #E2EBFA;\n",
              "      box-shadow: 0px 1px 2px rgba(60, 64, 67, 0.3), 0px 1px 3px 1px rgba(60, 64, 67, 0.15);\n",
              "      fill: #174EA6;\n",
              "    }\n",
              "\n",
              "    [theme=dark] .colab-df-convert {\n",
              "      background-color: #3B4455;\n",
              "      fill: #D2E3FC;\n",
              "    }\n",
              "\n",
              "    [theme=dark] .colab-df-convert:hover {\n",
              "      background-color: #434B5C;\n",
              "      box-shadow: 0px 1px 3px 1px rgba(0, 0, 0, 0.15);\n",
              "      filter: drop-shadow(0px 1px 2px rgba(0, 0, 0, 0.3));\n",
              "      fill: #FFFFFF;\n",
              "    }\n",
              "  </style>\n",
              "\n",
              "      <script>\n",
              "        const buttonEl =\n",
              "          document.querySelector('#df-7a7d82ad-caf6-41c8-a54f-207d146080b2 button.colab-df-convert');\n",
              "        buttonEl.style.display =\n",
              "          google.colab.kernel.accessAllowed ? 'block' : 'none';\n",
              "\n",
              "        async function convertToInteractive(key) {\n",
              "          const element = document.querySelector('#df-7a7d82ad-caf6-41c8-a54f-207d146080b2');\n",
              "          const dataTable =\n",
              "            await google.colab.kernel.invokeFunction('convertToInteractive',\n",
              "                                                     [key], {});\n",
              "          if (!dataTable) return;\n",
              "\n",
              "          const docLinkHtml = 'Like what you see? Visit the ' +\n",
              "            '<a target=\"_blank\" href=https://colab.research.google.com/notebooks/data_table.ipynb>data table notebook</a>'\n",
              "            + ' to learn more about interactive tables.';\n",
              "          element.innerHTML = '';\n",
              "          dataTable['output_type'] = 'display_data';\n",
              "          await google.colab.output.renderOutput(dataTable, element);\n",
              "          const docLink = document.createElement('div');\n",
              "          docLink.innerHTML = docLinkHtml;\n",
              "          element.appendChild(docLink);\n",
              "        }\n",
              "      </script>\n",
              "    </div>\n",
              "  </div>\n",
              "  "
            ]
          },
          "metadata": {},
          "execution_count": 42
        }
      ]
    },
    {
      "cell_type": "code",
      "source": [
        "# Проверка независимости\n",
        "\n",
        "# arr=np.array([[0.02,0.02,0.06,0.1],[0.03,0.03,0.09,0.15],[0.02,0.02,0.06,0.1],[0.03,0.03,0.09,0.15]])\n",
        "# arr2 = np.vectorize(lambda a: Decimal(str(a)))(arr)\n",
        "# df = pd.DataFrame(arr2,columns=[-4,-2,0,3], index=[2,3,5,10])\n",
        "\n",
        "# full_tex=r\"\"\"\\begin{array}{  c | c | c | c | c  }\n",
        "# \\eta \\backslash \\xi & -4 & -2 & 0 & 3  \\\\ \\hline\n",
        "# 2 & 0.02 & 0.02 & 0.06 & 0.1 \\\\ \\hline\n",
        "# 3 & 0.03 & 0.03 & 0.09 & 0.15 \\\\ \\hline\n",
        "# 5 & 0.02 & 0.02 & 0.06 & 0.1 \\\\ \\hline\n",
        "# 10 & 0.03 & 0.03 & 0.09 & 0.15\n",
        "# \\end{array}\"\"\"\n",
        "# df = TTDFOVAP(full_tex)\n",
        "\n",
        "CheckIndependence(df)"
      ],
      "metadata": {
        "colab": {
          "base_uri": "https://localhost:8080/"
        },
        "id": "LczL8IkEun_8",
        "outputId": "540499c1-6353-4d56-df74-57709d024486"
      },
      "execution_count": null,
      "outputs": [
        {
          "output_type": "execute_result",
          "data": {
            "text/plain": [
              "True"
            ]
          },
          "metadata": {},
          "execution_count": 43
        }
      ]
    },
    {
      "cell_type": "code",
      "source": [
        "# Нахождение ожидания произведения\n",
        "TablToExpectedOfMult(df)"
      ],
      "metadata": {
        "colab": {
          "base_uri": "https://localhost:8080/"
        },
        "id": "-SPRzpmmLiSA",
        "outputId": "ce36d282-19c3-41b8-fa8f-b01b9333129d"
      },
      "execution_count": null,
      "outputs": [
        {
          "output_type": "execute_result",
          "data": {
            "text/plain": [
              "Fraction(477, 100)"
            ]
          },
          "metadata": {},
          "execution_count": 44
        }
      ]
    },
    {
      "cell_type": "code",
      "source": [
        "# проверка работы нахождения дисперсии\n",
        "vals=[0,100]\n",
        "probs=[99/100,1/100]\n",
        "MyVariance(vals,probs) # MyVariance2(vals,probs)"
      ],
      "metadata": {
        "colab": {
          "base_uri": "https://localhost:8080/"
        },
        "id": "vkev86fG1KNc",
        "outputId": "0e04df1f-4a5f-47fa-aa3f-99c6e7cda622"
      },
      "execution_count": null,
      "outputs": [
        {
          "output_type": "execute_result",
          "data": {
            "text/plain": [
              "99.0"
            ]
          },
          "metadata": {},
          "execution_count": 45
        }
      ]
    },
    {
      "cell_type": "code",
      "source": [
        "# проверка работы нахождения СКО\n",
        "xsi,eta = MyJointDistributionToMarginalDistribution(df)\n",
        "xsi_vals = xsi.index\n",
        "xsi_probs = xsi.values\n",
        "eta_vals = eta.index\n",
        "eta_probs = eta.values"
      ],
      "metadata": {
        "id": "MeY1lH6sMQ8I"
      },
      "execution_count": null,
      "outputs": []
    },
    {
      "cell_type": "code",
      "source": [
        "MyStandardDeviation(xsi_vals,xsi_probs)"
      ],
      "metadata": {
        "colab": {
          "base_uri": "https://localhost:8080/"
        },
        "id": "o6g3eXImSe-n",
        "outputId": "b39a73ff-7323-47e8-edc0-ef5d3a147204"
      },
      "execution_count": null,
      "outputs": [
        {
          "output_type": "execute_result",
          "data": {
            "text/plain": [
              "Decimal('2.385372088375312569654571324')"
            ]
          },
          "metadata": {},
          "execution_count": 47
        }
      ]
    },
    {
      "cell_type": "code",
      "source": [
        "MyStandardDeviation(eta_vals,eta_probs)"
      ],
      "metadata": {
        "colab": {
          "base_uri": "https://localhost:8080/"
        },
        "id": "VnnQzzHDSeRe",
        "outputId": "e3d7bdd1-73ea-484e-affc-c384d58869d7"
      },
      "execution_count": null,
      "outputs": [
        {
          "output_type": "execute_result",
          "data": {
            "text/plain": [
              "Decimal('3.226453160980335694543128270')"
            ]
          },
          "metadata": {},
          "execution_count": 48
        }
      ]
    },
    {
      "cell_type": "code",
      "source": [
        "# тест ковариации !\n",
        "MyCovariance(df)"
      ],
      "metadata": {
        "colab": {
          "base_uri": "https://localhost:8080/"
        },
        "id": "GymFMPN68Zrh",
        "outputId": "e349569a-5f9c-4290-f0d6-e10f3bb49c66"
      },
      "execution_count": null,
      "outputs": [
        {
          "output_type": "execute_result",
          "data": {
            "text/plain": [
              "Fraction(0, 1)"
            ]
          },
          "metadata": {},
          "execution_count": 49
        }
      ]
    },
    {
      "cell_type": "code",
      "source": [
        "# тест коэффициента корелляции\n",
        "MyPearsonCorrelationCoefficient(df)"
      ],
      "metadata": {
        "colab": {
          "base_uri": "https://localhost:8080/"
        },
        "id": "SvIQNlGXRbQd",
        "outputId": "75368795-6be2-4f8f-9a12-01d85601ef5a"
      },
      "execution_count": null,
      "outputs": [
        {
          "output_type": "execute_result",
          "data": {
            "text/plain": [
              "Decimal('0')"
            ]
          },
          "metadata": {},
          "execution_count": 50
        }
      ]
    },
    {
      "cell_type": "code",
      "source": [
        "# Моделирование всего-всего-всего на примере двухкратного бросания игрального кубика\n",
        "omega = list(itertools.product(np.arange(1,7),repeat=2))\n",
        "\n",
        "# xsi - количество выпавших единиц\n",
        "# eta - количество выпавших шестёрок\n",
        "\n",
        "# xsi - 0/1/2\n",
        "# eta - 0/1/2\n",
        "omega_xsi_eta = np.array([[x.count(1),x.count(6)] for x in omega])\n",
        "omega_xsi, omega_eta = omega_xsi_eta.T\n",
        "\n",
        "# получаем маргинальное распределение\n",
        "marg_xsi = np.unique(omega_xsi, return_counts=True)\n",
        "marg_eta = np.unique(omega_eta, return_counts=True)\n",
        "\n",
        "# преобразовываем в серию + починим вероятность\n",
        "xsi = Series(list(map(lambda a: Fraction(a,len(omega)),marg_xsi[1])), index=marg_xsi[0])\n",
        "eta = Series(list(map(lambda a: Fraction(a,len(omega)),marg_eta[1])), index=marg_eta[0])\n",
        "\n",
        "# сразу получим совместное распределение\n",
        "possible_vars = list(map(list,list(itertools.product([0,1,2],repeat=2))))\n",
        "numbs = ['']*len(possible_vars)\n",
        "for i,x in enumerate(possible_vars):\n",
        "  numbs[i] = sum([1 for y in omega_xsi_eta if list(y)==x])\n",
        "to_df = [[x[0][0],x[0][1],x[1]] for x in list(zip(possible_vars,numbs))]\n",
        "\n",
        "df = DataFrame(index=[0,1,2],columns=[0,1,2]) \n",
        "for x in to_df:\n",
        "  df[x[0]][x[1]]=Fraction(x[2],len(omega))"
      ],
      "metadata": {
        "id": "KRwUKEZ6UKk2"
      },
      "execution_count": null,
      "outputs": []
    },
    {
      "cell_type": "code",
      "source": [
        "df"
      ],
      "metadata": {
        "colab": {
          "base_uri": "https://localhost:8080/"
        },
        "id": "PPrQJnY7eL5X",
        "outputId": "28a46e5a-39f4-49c3-d53c-61386f8e43ee"
      },
      "execution_count": null,
      "outputs": [
        {
          "output_type": "execute_result",
          "data": {
            "text/plain": [
              "      0     1     2\n",
              "0   4/9   2/9  1/36\n",
              "1   2/9  1/18     0\n",
              "2  1/36     0     0"
            ],
            "text/html": [
              "\n",
              "  <div id=\"df-f36d40d7-4735-4674-ab1e-38897bf9ad4c\">\n",
              "    <div class=\"colab-df-container\">\n",
              "      <div>\n",
              "<style scoped>\n",
              "    .dataframe tbody tr th:only-of-type {\n",
              "        vertical-align: middle;\n",
              "    }\n",
              "\n",
              "    .dataframe tbody tr th {\n",
              "        vertical-align: top;\n",
              "    }\n",
              "\n",
              "    .dataframe thead th {\n",
              "        text-align: right;\n",
              "    }\n",
              "</style>\n",
              "<table border=\"1\" class=\"dataframe\">\n",
              "  <thead>\n",
              "    <tr style=\"text-align: right;\">\n",
              "      <th></th>\n",
              "      <th>0</th>\n",
              "      <th>1</th>\n",
              "      <th>2</th>\n",
              "    </tr>\n",
              "  </thead>\n",
              "  <tbody>\n",
              "    <tr>\n",
              "      <th>0</th>\n",
              "      <td>4/9</td>\n",
              "      <td>2/9</td>\n",
              "      <td>1/36</td>\n",
              "    </tr>\n",
              "    <tr>\n",
              "      <th>1</th>\n",
              "      <td>2/9</td>\n",
              "      <td>1/18</td>\n",
              "      <td>0</td>\n",
              "    </tr>\n",
              "    <tr>\n",
              "      <th>2</th>\n",
              "      <td>1/36</td>\n",
              "      <td>0</td>\n",
              "      <td>0</td>\n",
              "    </tr>\n",
              "  </tbody>\n",
              "</table>\n",
              "</div>\n",
              "      <button class=\"colab-df-convert\" onclick=\"convertToInteractive('df-f36d40d7-4735-4674-ab1e-38897bf9ad4c')\"\n",
              "              title=\"Convert this dataframe to an interactive table.\"\n",
              "              style=\"display:none;\">\n",
              "        \n",
              "  <svg xmlns=\"http://www.w3.org/2000/svg\" height=\"24px\"viewBox=\"0 0 24 24\"\n",
              "       width=\"24px\">\n",
              "    <path d=\"M0 0h24v24H0V0z\" fill=\"none\"/>\n",
              "    <path d=\"M18.56 5.44l.94 2.06.94-2.06 2.06-.94-2.06-.94-.94-2.06-.94 2.06-2.06.94zm-11 1L8.5 8.5l.94-2.06 2.06-.94-2.06-.94L8.5 2.5l-.94 2.06-2.06.94zm10 10l.94 2.06.94-2.06 2.06-.94-2.06-.94-.94-2.06-.94 2.06-2.06.94z\"/><path d=\"M17.41 7.96l-1.37-1.37c-.4-.4-.92-.59-1.43-.59-.52 0-1.04.2-1.43.59L10.3 9.45l-7.72 7.72c-.78.78-.78 2.05 0 2.83L4 21.41c.39.39.9.59 1.41.59.51 0 1.02-.2 1.41-.59l7.78-7.78 2.81-2.81c.8-.78.8-2.07 0-2.86zM5.41 20L4 18.59l7.72-7.72 1.47 1.35L5.41 20z\"/>\n",
              "  </svg>\n",
              "      </button>\n",
              "      \n",
              "  <style>\n",
              "    .colab-df-container {\n",
              "      display:flex;\n",
              "      flex-wrap:wrap;\n",
              "      gap: 12px;\n",
              "    }\n",
              "\n",
              "    .colab-df-convert {\n",
              "      background-color: #E8F0FE;\n",
              "      border: none;\n",
              "      border-radius: 50%;\n",
              "      cursor: pointer;\n",
              "      display: none;\n",
              "      fill: #1967D2;\n",
              "      height: 32px;\n",
              "      padding: 0 0 0 0;\n",
              "      width: 32px;\n",
              "    }\n",
              "\n",
              "    .colab-df-convert:hover {\n",
              "      background-color: #E2EBFA;\n",
              "      box-shadow: 0px 1px 2px rgba(60, 64, 67, 0.3), 0px 1px 3px 1px rgba(60, 64, 67, 0.15);\n",
              "      fill: #174EA6;\n",
              "    }\n",
              "\n",
              "    [theme=dark] .colab-df-convert {\n",
              "      background-color: #3B4455;\n",
              "      fill: #D2E3FC;\n",
              "    }\n",
              "\n",
              "    [theme=dark] .colab-df-convert:hover {\n",
              "      background-color: #434B5C;\n",
              "      box-shadow: 0px 1px 3px 1px rgba(0, 0, 0, 0.15);\n",
              "      filter: drop-shadow(0px 1px 2px rgba(0, 0, 0, 0.3));\n",
              "      fill: #FFFFFF;\n",
              "    }\n",
              "  </style>\n",
              "\n",
              "      <script>\n",
              "        const buttonEl =\n",
              "          document.querySelector('#df-f36d40d7-4735-4674-ab1e-38897bf9ad4c button.colab-df-convert');\n",
              "        buttonEl.style.display =\n",
              "          google.colab.kernel.accessAllowed ? 'block' : 'none';\n",
              "\n",
              "        async function convertToInteractive(key) {\n",
              "          const element = document.querySelector('#df-f36d40d7-4735-4674-ab1e-38897bf9ad4c');\n",
              "          const dataTable =\n",
              "            await google.colab.kernel.invokeFunction('convertToInteractive',\n",
              "                                                     [key], {});\n",
              "          if (!dataTable) return;\n",
              "\n",
              "          const docLinkHtml = 'Like what you see? Visit the ' +\n",
              "            '<a target=\"_blank\" href=https://colab.research.google.com/notebooks/data_table.ipynb>data table notebook</a>'\n",
              "            + ' to learn more about interactive tables.';\n",
              "          element.innerHTML = '';\n",
              "          dataTable['output_type'] = 'display_data';\n",
              "          await google.colab.output.renderOutput(dataTable, element);\n",
              "          const docLink = document.createElement('div');\n",
              "          docLink.innerHTML = docLinkHtml;\n",
              "          element.appendChild(docLink);\n",
              "        }\n",
              "      </script>\n",
              "    </div>\n",
              "  </div>\n",
              "  "
            ]
          },
          "metadata": {},
          "execution_count": 52
        }
      ]
    },
    {
      "cell_type": "code",
      "source": [
        "# Математические ожидания кси/эта\n",
        "MyJointDistributionToExpectedOfBoth(df)"
      ],
      "metadata": {
        "colab": {
          "base_uri": "https://localhost:8080/"
        },
        "id": "JjB3NaoMg2ja",
        "outputId": "f8ac5238-46c9-4451-ccfd-d94af32abc2d"
      },
      "execution_count": null,
      "outputs": [
        {
          "output_type": "execute_result",
          "data": {
            "text/plain": [
              "(Fraction(1, 3), Fraction(1, 3))"
            ]
          },
          "metadata": {},
          "execution_count": 53
        }
      ]
    },
    {
      "cell_type": "code",
      "source": [
        "# Дисперсии кси/эта\n",
        "MyJointDistributionToVarianceOfBoth(df)"
      ],
      "metadata": {
        "colab": {
          "base_uri": "https://localhost:8080/"
        },
        "id": "28LERo07hpfj",
        "outputId": "d1ac6d13-9ea5-4011-bcae-3365d961ed81"
      },
      "execution_count": null,
      "outputs": [
        {
          "output_type": "execute_result",
          "data": {
            "text/plain": [
              "(Fraction(5, 18), Fraction(5, 18))"
            ]
          },
          "metadata": {},
          "execution_count": 54
        }
      ]
    },
    {
      "cell_type": "code",
      "source": [
        "# Маетматическое ожидание произведения кси/эта\n",
        "TablToExpectedOfMult(df)"
      ],
      "metadata": {
        "colab": {
          "base_uri": "https://localhost:8080/"
        },
        "id": "ZwcH-bxEhyJu",
        "outputId": "2eb84fb1-f605-4900-8c1f-8fa4bda8d448"
      },
      "execution_count": null,
      "outputs": [
        {
          "output_type": "execute_result",
          "data": {
            "text/plain": [
              "Fraction(1, 18)"
            ]
          },
          "metadata": {},
          "execution_count": 55
        }
      ]
    },
    {
      "cell_type": "code",
      "source": [
        "# Ковариация\n",
        "MyCovariance(df)"
      ],
      "metadata": {
        "colab": {
          "base_uri": "https://localhost:8080/"
        },
        "id": "JvpW4WW2uCZk",
        "outputId": "07011e94-d9b0-400a-a56b-dcbc8a80c3dd"
      },
      "execution_count": null,
      "outputs": [
        {
          "output_type": "execute_result",
          "data": {
            "text/plain": [
              "Fraction(-1, 18)"
            ]
          },
          "metadata": {},
          "execution_count": 56
        }
      ]
    },
    {
      "cell_type": "code",
      "source": [
        "# Коэффициент корелляции\n",
        "MyPearsonCorrelationCoefficient(df)"
      ],
      "metadata": {
        "colab": {
          "base_uri": "https://localhost:8080/"
        },
        "id": "ljxW6E51ieoL",
        "outputId": "5207f41e-fdc0-4a04-d341-3ac971643898"
      },
      "execution_count": null,
      "outputs": [
        {
          "output_type": "execute_result",
          "data": {
            "text/plain": [
              "Fraction(-1, 5)"
            ]
          },
          "metadata": {},
          "execution_count": 57
        }
      ]
    },
    {
      "cell_type": "code",
      "source": [
        "full_tex=r\"\"\"\\begin{array}{  c | c | c | c | c  }\n",
        "\\xi & -4 & -2 & 0 & 3  \\\\ \\hline\n",
        "\\mathsf{P} & 0.1 & 0.1 & 0.3 & 0.5\n",
        "\\end{array}\"\"\"\n",
        "vals,probs=TTDFOVAP(full_tex)"
      ],
      "metadata": {
        "id": "0SQsoX811bCK"
      },
      "execution_count": null,
      "outputs": []
    },
    {
      "cell_type": "code",
      "source": [
        "MyVariance(vals,probs)"
      ],
      "metadata": {
        "colab": {
          "base_uri": "https://localhost:8080/"
        },
        "id": "1AAkp2Rz1kcu",
        "outputId": "7bf6f214-fcc7-4862-9b86-a3fb38d38d85"
      },
      "execution_count": null,
      "outputs": [
        {
          "output_type": "execute_result",
          "data": {
            "text/plain": [
              "Fraction(569, 100)"
            ]
          },
          "metadata": {},
          "execution_count": 59
        }
      ]
    },
    {
      "cell_type": "code",
      "source": [
        "full_tex=r\"\"\"\\begin{array}{  c | c | c | c  }\n",
        "\\eta \\backslash \\xi & 2 & 3 & 5  \\\\ \\hline\n",
        "-1 & 0.1 & 0.3 & 0.2 \\\\ \\hline\n",
        "1 & 0.1 & 0.05 & 0 \\\\ \\hline\n",
        "4 & 0 & 0.15 & 0.1\n",
        "\\end{array}\"\"\"\n",
        "df=TTDFOVAP(full_tex)"
      ],
      "metadata": {
        "id": "WQOYg6I_2y2y"
      },
      "execution_count": null,
      "outputs": []
    },
    {
      "cell_type": "code",
      "source": [
        "df"
      ],
      "metadata": {
        "colab": {
          "base_uri": "https://localhost:8080/"
        },
        "id": "i288oZki23TT",
        "outputId": "d18e83d0-9042-4b62-a440-84c394fd1310"
      },
      "execution_count": null,
      "outputs": [
        {
          "output_type": "execute_result",
          "data": {
            "text/plain": [
              "       2     3     5\n",
              "-1  1/10  3/10   1/5\n",
              "1   1/10  1/20     0\n",
              "4      0  3/20  1/10"
            ],
            "text/html": [
              "\n",
              "  <div id=\"df-c9b6f1d5-e204-4aa6-a6e8-30183ce3a2c1\">\n",
              "    <div class=\"colab-df-container\">\n",
              "      <div>\n",
              "<style scoped>\n",
              "    .dataframe tbody tr th:only-of-type {\n",
              "        vertical-align: middle;\n",
              "    }\n",
              "\n",
              "    .dataframe tbody tr th {\n",
              "        vertical-align: top;\n",
              "    }\n",
              "\n",
              "    .dataframe thead th {\n",
              "        text-align: right;\n",
              "    }\n",
              "</style>\n",
              "<table border=\"1\" class=\"dataframe\">\n",
              "  <thead>\n",
              "    <tr style=\"text-align: right;\">\n",
              "      <th></th>\n",
              "      <th>2</th>\n",
              "      <th>3</th>\n",
              "      <th>5</th>\n",
              "    </tr>\n",
              "  </thead>\n",
              "  <tbody>\n",
              "    <tr>\n",
              "      <th>-1</th>\n",
              "      <td>1/10</td>\n",
              "      <td>3/10</td>\n",
              "      <td>1/5</td>\n",
              "    </tr>\n",
              "    <tr>\n",
              "      <th>1</th>\n",
              "      <td>1/10</td>\n",
              "      <td>1/20</td>\n",
              "      <td>0</td>\n",
              "    </tr>\n",
              "    <tr>\n",
              "      <th>4</th>\n",
              "      <td>0</td>\n",
              "      <td>3/20</td>\n",
              "      <td>1/10</td>\n",
              "    </tr>\n",
              "  </tbody>\n",
              "</table>\n",
              "</div>\n",
              "      <button class=\"colab-df-convert\" onclick=\"convertToInteractive('df-c9b6f1d5-e204-4aa6-a6e8-30183ce3a2c1')\"\n",
              "              title=\"Convert this dataframe to an interactive table.\"\n",
              "              style=\"display:none;\">\n",
              "        \n",
              "  <svg xmlns=\"http://www.w3.org/2000/svg\" height=\"24px\"viewBox=\"0 0 24 24\"\n",
              "       width=\"24px\">\n",
              "    <path d=\"M0 0h24v24H0V0z\" fill=\"none\"/>\n",
              "    <path d=\"M18.56 5.44l.94 2.06.94-2.06 2.06-.94-2.06-.94-.94-2.06-.94 2.06-2.06.94zm-11 1L8.5 8.5l.94-2.06 2.06-.94-2.06-.94L8.5 2.5l-.94 2.06-2.06.94zm10 10l.94 2.06.94-2.06 2.06-.94-2.06-.94-.94-2.06-.94 2.06-2.06.94z\"/><path d=\"M17.41 7.96l-1.37-1.37c-.4-.4-.92-.59-1.43-.59-.52 0-1.04.2-1.43.59L10.3 9.45l-7.72 7.72c-.78.78-.78 2.05 0 2.83L4 21.41c.39.39.9.59 1.41.59.51 0 1.02-.2 1.41-.59l7.78-7.78 2.81-2.81c.8-.78.8-2.07 0-2.86zM5.41 20L4 18.59l7.72-7.72 1.47 1.35L5.41 20z\"/>\n",
              "  </svg>\n",
              "      </button>\n",
              "      \n",
              "  <style>\n",
              "    .colab-df-container {\n",
              "      display:flex;\n",
              "      flex-wrap:wrap;\n",
              "      gap: 12px;\n",
              "    }\n",
              "\n",
              "    .colab-df-convert {\n",
              "      background-color: #E8F0FE;\n",
              "      border: none;\n",
              "      border-radius: 50%;\n",
              "      cursor: pointer;\n",
              "      display: none;\n",
              "      fill: #1967D2;\n",
              "      height: 32px;\n",
              "      padding: 0 0 0 0;\n",
              "      width: 32px;\n",
              "    }\n",
              "\n",
              "    .colab-df-convert:hover {\n",
              "      background-color: #E2EBFA;\n",
              "      box-shadow: 0px 1px 2px rgba(60, 64, 67, 0.3), 0px 1px 3px 1px rgba(60, 64, 67, 0.15);\n",
              "      fill: #174EA6;\n",
              "    }\n",
              "\n",
              "    [theme=dark] .colab-df-convert {\n",
              "      background-color: #3B4455;\n",
              "      fill: #D2E3FC;\n",
              "    }\n",
              "\n",
              "    [theme=dark] .colab-df-convert:hover {\n",
              "      background-color: #434B5C;\n",
              "      box-shadow: 0px 1px 3px 1px rgba(0, 0, 0, 0.15);\n",
              "      filter: drop-shadow(0px 1px 2px rgba(0, 0, 0, 0.3));\n",
              "      fill: #FFFFFF;\n",
              "    }\n",
              "  </style>\n",
              "\n",
              "      <script>\n",
              "        const buttonEl =\n",
              "          document.querySelector('#df-c9b6f1d5-e204-4aa6-a6e8-30183ce3a2c1 button.colab-df-convert');\n",
              "        buttonEl.style.display =\n",
              "          google.colab.kernel.accessAllowed ? 'block' : 'none';\n",
              "\n",
              "        async function convertToInteractive(key) {\n",
              "          const element = document.querySelector('#df-c9b6f1d5-e204-4aa6-a6e8-30183ce3a2c1');\n",
              "          const dataTable =\n",
              "            await google.colab.kernel.invokeFunction('convertToInteractive',\n",
              "                                                     [key], {});\n",
              "          if (!dataTable) return;\n",
              "\n",
              "          const docLinkHtml = 'Like what you see? Visit the ' +\n",
              "            '<a target=\"_blank\" href=https://colab.research.google.com/notebooks/data_table.ipynb>data table notebook</a>'\n",
              "            + ' to learn more about interactive tables.';\n",
              "          element.innerHTML = '';\n",
              "          dataTable['output_type'] = 'display_data';\n",
              "          await google.colab.output.renderOutput(dataTable, element);\n",
              "          const docLink = document.createElement('div');\n",
              "          docLink.innerHTML = docLinkHtml;\n",
              "          element.appendChild(docLink);\n",
              "        }\n",
              "      </script>\n",
              "    </div>\n",
              "  </div>\n",
              "  "
            ]
          },
          "metadata": {},
          "execution_count": 61
        }
      ]
    },
    {
      "cell_type": "code",
      "source": [
        "MyCovariance(df)"
      ],
      "metadata": {
        "colab": {
          "base_uri": "https://localhost:8080/"
        },
        "id": "Aiul8WP-23-9",
        "outputId": "a9788fe1-10bc-4c0d-91c1-b4987e8ae04d"
      },
      "execution_count": null,
      "outputs": [
        {
          "output_type": "execute_result",
          "data": {
            "text/plain": [
              "Fraction(9, 50)"
            ]
          },
          "metadata": {},
          "execution_count": 62
        }
      ]
    },
    {
      "cell_type": "code",
      "source": [
        "MyPearsonCorrelationCoefficient(df)"
      ],
      "metadata": {
        "colab": {
          "base_uri": "https://localhost:8080/"
        },
        "id": "VhM3k9Vz28N0",
        "outputId": "f56aa198-e90a-4437-b3b0-10926c23e856"
      },
      "execution_count": null,
      "outputs": [
        {
          "output_type": "execute_result",
          "data": {
            "text/plain": [
              "Decimal('0.07664850422701901346493947032')"
            ]
          },
          "metadata": {},
          "execution_count": 63
        }
      ]
    },
    {
      "cell_type": "code",
      "source": [
        "BAD_MyXsiBernoulli(10,0.75)"
      ],
      "metadata": {
        "colab": {
          "base_uri": "https://localhost:8080/"
        },
        "id": "kKGssxNm8tOH",
        "outputId": "63a9a977-a0f9-4e7e-9ffe-598675a0f4e1"
      },
      "execution_count": null,
      "outputs": [
        {
          "output_type": "execute_result",
          "data": {
            "text/plain": [
              "(Decimal('7.50000000000000000000'), Decimal('1.875000000000000000000000000'))"
            ]
          },
          "metadata": {},
          "execution_count": 64
        }
      ]
    },
    {
      "cell_type": "code",
      "source": [
        "MyXsiBernoulli(10,0.75)"
      ],
      "metadata": {
        "colab": {
          "base_uri": "https://localhost:8080/"
        },
        "id": "WFULWUHu80T6",
        "outputId": "6dc046ba-c3a1-40f6-fa1c-2fb4021f1cdd"
      },
      "execution_count": null,
      "outputs": [
        {
          "output_type": "execute_result",
          "data": {
            "text/plain": [
              "(7.5, 1.875)"
            ]
          },
          "metadata": {},
          "execution_count": 65
        }
      ]
    },
    {
      "cell_type": "code",
      "source": [
        "# Просто для красоты, даже без заголовка и перенесения в блок с функциями :)\n",
        "def MyDescribe(full_tex):\n",
        "  df=TTDFOVAP(full_tex)\n",
        "  print('MarginalDistributions: ', MyJointDistributionToMarginalDistribution(df)[0],MyJointDistributionToMarginalDistribution(df)[1],'------',sep='\\n')\n",
        "  print('ExpectedValues: ', MyJointDistributionToExpectedOfBoth(df),'------',sep='\\n')\n",
        "  print('Variances: ', MyJointDistributionToVarianceOfBoth(df),'------',sep='\\n')\n",
        "  print('Covariance: ', MyCovariance(df),'------',sep='\\n')\n",
        "  print('CorrelationCoefficient: ', MyPearsonCorrelationCoefficient(df), sep='\\n')"
      ],
      "metadata": {
        "id": "Vp_X08lRBjZl"
      },
      "execution_count": null,
      "outputs": []
    },
    {
      "cell_type": "code",
      "source": [
        "full_tex=r\"\"\" \\begin{array}{   c | c | c | c | c  } \\eta \\backslash \\xi  & 172 & 173 & 177 & 196  \\\\ \\hline 4 & 0.09 & 0.01 & 0.09 & 0.12 \\\\ \\hline 6 & 0.2 & 0.12 & 0.16 & 0.21 \\end{array}\"\"\"\n",
        "MyDescribe(full_tex)"
      ],
      "metadata": {
        "colab": {
          "base_uri": "https://localhost:8080/"
        },
        "id": "hk3u3wB3HJ19",
        "outputId": "8c56fed8-e7ce-4524-9093-99b36286162e"
      },
      "execution_count": null,
      "outputs": [
        {
          "output_type": "stream",
          "name": "stdout",
          "text": [
            "MarginalDistributions: \n",
            "172    29/100\n",
            "173    13/100\n",
            "177       1/4\n",
            "196    33/100\n",
            "dtype: object\n",
            "4    31/100\n",
            "6    69/100\n",
            "dtype: object\n",
            "------\n",
            "ExpectedValues: \n",
            "(Fraction(1813, 10), Fraction(269, 50))\n",
            "------\n",
            "Variances: \n",
            "(Fraction(10997, 100), Fraction(2139, 2500))\n",
            "------\n",
            "Covariance: \n",
            "-457/500\n",
            "------\n",
            "CorrelationCoefficient: \n",
            "-0.09422663788279210798846515087\n"
          ]
        }
      ]
    },
    {
      "cell_type": "markdown",
      "source": [
        "### Second Half"
      ],
      "metadata": {
        "id": "_pb_RS5oyeEC"
      }
    },
    {
      "cell_type": "code",
      "source": [
        "# по теореме Пуассона + погрешность, по локальной теореме Муавра-Лапласа\n",
        "n=100\n",
        "A=0\n",
        "B=3\n",
        "p=0.02\n",
        "MyPML(n,p,A,B)"
      ],
      "metadata": {
        "colab": {
          "base_uri": "https://localhost:8080/"
        },
        "id": "KaKO7UEXrK3b",
        "outputId": "f77b23a5-bc11-48ff-8438-718f8a52ef01"
      },
      "execution_count": null,
      "outputs": [
        {
          "output_type": "execute_result",
          "data": {
            "text/plain": [
              "((Decimal('0.8571'), (Decimal('0.8371'), Decimal('0.8771'))), 0.8293)"
            ]
          },
          "metadata": {},
          "execution_count": 68
        }
      ]
    },
    {
      "cell_type": "code",
      "source": [
        "# по интегральной теореме Муавра-Лапласа + погрешность\n",
        "p=0.13\n",
        "n=20000\n",
        "A=0\n",
        "B=2650\n",
        "MyIntML(n,p,A,B)"
      ],
      "metadata": {
        "colab": {
          "base_uri": "https://localhost:8080/"
        },
        "id": "1_cDObJ7uVB6",
        "outputId": "0f9c4526-ca4b-4cfb-fc6a-14171ae4841c"
      },
      "execution_count": null,
      "outputs": [
        {
          "output_type": "execute_result",
          "data": {
            "text/plain": [
              "(0.8534, 0.0625)"
            ]
          },
          "metadata": {},
          "execution_count": 69
        }
      ]
    },
    {
      "cell_type": "code",
      "source": [
        "# w2p2t1 - week 2 part 2 task 1\n",
        "n=1600\n",
        "p=0.0026\n",
        "A=5\n",
        "B=1600\n",
        "\n",
        "(MyABBernoulli(n,p,A,B),MyPoisson(n,p,A,B),MyIntML(n,p,A,B))"
      ],
      "metadata": {
        "colab": {
          "base_uri": "https://localhost:8080/"
        },
        "id": "46xMD-Jp0L2e",
        "outputId": "d0d9c9aa-732f-4753-c717-0d68b68ccae5"
      },
      "execution_count": null,
      "outputs": [
        {
          "output_type": "execute_result",
          "data": {
            "text/plain": [
              "(Decimal('0.4024'),\n",
              " (Decimal('0.4024'), (Decimal('0.3998'), Decimal('0.4050'))),\n",
              " (0.34, 9.6404))"
            ]
          },
          "metadata": {},
          "execution_count": 70
        }
      ]
    },
    {
      "cell_type": "code",
      "source": [
        "# w2p2t2\n",
        "n=4300\n",
        "p=0.6\n",
        "A=2535\n",
        "B=2618\n",
        "\n",
        "MyABBernoulli(n,p,A,B)"
      ],
      "metadata": {
        "colab": {
          "base_uri": "https://localhost:8080/"
        },
        "id": "uYUfMo7q4gYy",
        "outputId": "09985468-c76c-4980-b03b-0c7f1d453351"
      },
      "execution_count": null,
      "outputs": [
        {
          "output_type": "execute_result",
          "data": {
            "text/plain": [
              "Decimal('0.8062')"
            ]
          },
          "metadata": {},
          "execution_count": 71
        }
      ]
    },
    {
      "cell_type": "code",
      "source": [
        "MyPoisson(n,p,A,B)"
      ],
      "metadata": {
        "id": "PVrDYsQrh7mU",
        "outputId": "5ea22539-82d6-4ecf-a5a3-bca9c5e0ab0d",
        "colab": {
          "base_uri": "https://localhost:8080/"
        }
      },
      "execution_count": null,
      "outputs": [
        {
          "output_type": "execute_result",
          "data": {
            "text/plain": [
              "(Decimal('0.5908'), (0, 1))"
            ]
          },
          "metadata": {},
          "execution_count": 72
        }
      ]
    },
    {
      "cell_type": "code",
      "source": [
        "MyIntML(n,p,A,B)"
      ],
      "metadata": {
        "id": "k2_KAB7Mh8be",
        "outputId": "85a00fa6-0e21-4ff3-ea0d-6ca30d7a1df8",
        "colab": {
          "base_uri": "https://localhost:8080/"
        }
      },
      "execution_count": null,
      "outputs": [
        {
          "output_type": "execute_result",
          "data": {
            "text/plain": [
              "(0.8009, 0.0635)"
            ]
          },
          "metadata": {},
          "execution_count": 73
        }
      ]
    },
    {
      "cell_type": "markdown",
      "source": [
        "---\n",
        "---\n",
        "# Week 3"
      ],
      "metadata": {
        "id": "FuMt_RlZF4LZ"
      }
    },
    {
      "cell_type": "code",
      "source": [
        "np.random.uniform(0,5)"
      ],
      "metadata": {
        "colab": {
          "base_uri": "https://localhost:8080/"
        },
        "id": "3b8jX6Z4i5iX",
        "outputId": "9ce1f16e-9b7b-49e6-af17-3dfabfa66ed7"
      },
      "execution_count": null,
      "outputs": [
        {
          "output_type": "execute_result",
          "data": {
            "text/plain": [
              "2.411086501148097"
            ]
          },
          "metadata": {},
          "execution_count": 74
        }
      ]
    },
    {
      "cell_type": "code",
      "source": [
        "s = 0\n",
        "n = 1000000\n",
        "for _ in range(n):\n",
        "  A = np.random.uniform(0,5)\n",
        "  B = np.random.uniform(0,5)\n",
        "  otr1 = min(A,B)\n",
        "  otr2 = 5-max(A,B)\n",
        "  otr3 = abs(A-B)\n",
        "  if (otr1+otr2>otr3) and (otr1+otr3>otr2) and (otr2+otr3>otr1): s+=1\n",
        "s/n"
      ],
      "metadata": {
        "id": "mZgQWl80jaQ-",
        "colab": {
          "base_uri": "https://localhost:8080/"
        },
        "outputId": "8e98e567-7908-4ce8-dff8-badc62e539ff"
      },
      "execution_count": null,
      "outputs": [
        {
          "output_type": "execute_result",
          "data": {
            "text/plain": [
              "0.250372"
            ]
          },
          "metadata": {},
          "execution_count": 75
        }
      ]
    },
    {
      "cell_type": "code",
      "source": [
        "ress = []\n",
        "for __ in range(10):\n",
        "  s = 0\n",
        "  n = 100_000\n",
        "  for _ in range(n):\n",
        "    Y = np.random.uniform(0,26)\n",
        "    X = np.random.uniform(0,26)\n",
        "    if X==0: pass\n",
        "    otr1 = Y*X\n",
        "    otr2 = Y/X\n",
        "    if (otr1<=17) and (otr2<=(676/17)): s+=1\n",
        "  ress.append(s/n)"
      ],
      "metadata": {
        "id": "4_2C3fP--hAR"
      },
      "execution_count": null,
      "outputs": []
    },
    {
      "cell_type": "code",
      "source": [
        "np.mean(ress)"
      ],
      "metadata": {
        "colab": {
          "base_uri": "https://localhost:8080/"
        },
        "id": "SLDGcqq-FLe0",
        "outputId": "1ecc1198-746f-45b8-a29a-8db5020a60f1"
      },
      "execution_count": null,
      "outputs": [
        {
          "output_type": "execute_result",
          "data": {
            "text/plain": [
              "0.10582799999999999"
            ]
          },
          "metadata": {},
          "execution_count": 77
        }
      ]
    },
    {
      "cell_type": "code",
      "source": [
        "cnk(3,2)"
      ],
      "metadata": {
        "colab": {
          "base_uri": "https://localhost:8080/"
        },
        "id": "tetw6_XXxBdM",
        "outputId": "13d44610-dff1-49f8-c0f2-4d8b7fe4bbc5"
      },
      "execution_count": null,
      "outputs": [
        {
          "output_type": "execute_result",
          "data": {
            "text/plain": [
              "Decimal('3')"
            ]
          },
          "metadata": {},
          "execution_count": 78
        }
      ]
    },
    {
      "cell_type": "code",
      "source": [
        "float(cnk(5,3))"
      ],
      "metadata": {
        "colab": {
          "base_uri": "https://localhost:8080/"
        },
        "id": "lU46gdcf1X3R",
        "outputId": "926894cc-b297-4d79-cd25-8d0d0a16579b"
      },
      "execution_count": null,
      "outputs": [
        {
          "output_type": "execute_result",
          "data": {
            "text/plain": [
              "10.0"
            ]
          },
          "metadata": {},
          "execution_count": 79
        }
      ]
    },
    {
      "cell_type": "code",
      "source": [
        "0.9*0.9*(4/5)*0.9*(3/5)*float(cnk(5,3))"
      ],
      "metadata": {
        "colab": {
          "base_uri": "https://localhost:8080/"
        },
        "id": "UgiNz1ap1Wug",
        "outputId": "0cf57a1d-8719-4efe-fd0b-a5e4f1b53d6d"
      },
      "execution_count": null,
      "outputs": [
        {
          "output_type": "execute_result",
          "data": {
            "text/plain": [
              "3.4992000000000005"
            ]
          },
          "metadata": {},
          "execution_count": 80
        }
      ]
    },
    {
      "cell_type": "code",
      "source": [
        "0.9*0.9*(4/5)*0.9*(3/5)*float(cnk(5,3))+3*0.9*0.9*(1/5)*0.9*(4/5)*float(cnk(5,2))+float(cnk(3,2))*0.9*0.9*(4/5)*0.1"
      ],
      "metadata": {
        "colab": {
          "base_uri": "https://localhost:8080/"
        },
        "id": "GK3P7jbBy4ze",
        "outputId": "e2bb5b66-7002-43cc-dab7-4edacce91812"
      },
      "execution_count": null,
      "outputs": [
        {
          "output_type": "execute_result",
          "data": {
            "text/plain": [
              "7.192800000000001"
            ]
          },
          "metadata": {},
          "execution_count": 81
        }
      ]
    },
    {
      "cell_type": "code",
      "source": [
        "0.9*0.9+0.9*0.9*0.9"
      ],
      "metadata": {
        "colab": {
          "base_uri": "https://localhost:8080/"
        },
        "id": "8DfRWH_32ioM",
        "outputId": "3b79408f-7a18-43bb-c9ef-90f38694ea15"
      },
      "execution_count": null,
      "outputs": [
        {
          "output_type": "execute_result",
          "data": {
            "text/plain": [
              "1.5390000000000001"
            ]
          },
          "metadata": {},
          "execution_count": 82
        }
      ]
    },
    {
      "cell_type": "markdown",
      "source": [
        "---\n",
        "---\n",
        "# Week 4"
      ],
      "metadata": {
        "id": "nHH0enR9RKdm"
      }
    },
    {
      "cell_type": "markdown",
      "source": [
        "---\n",
        "## Function definitions"
      ],
      "metadata": {
        "id": "9CNwrhMYZupy"
      }
    },
    {
      "cell_type": "code",
      "source": [
        "#@title Генератор случайной величины ~ Пуассону\n",
        "def MyLikePoissonRandomVariable(n, lmbda,round=8):\n",
        "  for i in range(0,n+1):\n",
        "    yield __builtins__.round(((lmbda**i)/factorial(i))*exp(-lmbda), round)"
      ],
      "metadata": {
        "id": "X9g4x8_LUo44",
        "cellView": "form"
      },
      "execution_count": null,
      "outputs": []
    },
    {
      "cell_type": "code",
      "source": [
        "#@title Генератор случайной величины ~ биномиальному\n",
        "def MyLikeBinomRandomVariable(n, p):\n",
        "  for i in range(0,n+1):\n",
        "    yield MyBernoulli(n,i,p)"
      ],
      "metadata": {
        "id": "AkCFaE2Q7J6W",
        "cellView": "form"
      },
      "execution_count": null,
      "outputs": []
    },
    {
      "cell_type": "code",
      "source": [
        "#@title Генератор случайной величины ~ геометрическому\n",
        "def MyLikeGeomRandomVariable(n, p, round=8):\n",
        "  for i in range(1,n+1):\n",
        "    round1 = Decimal(p)*(Decimal(1-p)**Decimal(i-1))\n",
        "    round2 = f\"{round1:.{round}f}\"\n",
        "    round3 = Decimal(round2)\n",
        "    yield round3"
      ],
      "metadata": {
        "id": "jqA_cYkM8Y8e",
        "cellView": "form"
      },
      "execution_count": null,
      "outputs": []
    },
    {
      "cell_type": "code",
      "source": [
        "#@title Генератор функции распределения дискретной случайной величины\n",
        "def GenerateDistributionFunction(xsi,p,round=0):\n",
        "  min_xsi = min(xsi)\n",
        "  pxsi = pairwise(xsi)\n",
        "  val2 = list(enumerate(pxsi))\n",
        "  cs = np.cumsum(p)\n",
        "  def f_diskr_raspr(znach):\n",
        "    # print('-----')\n",
        "    # print(f\"znach={znach}\")\n",
        "    # print(f'list(enumerate(pxsi))={list(enumerate(pxsi))}')\n",
        "    # print(f'val2={val2}')\n",
        "    # print(f'min(xsi)={min(xsi)}')\n",
        "    # print('-----')\n",
        "    if znach<=min_xsi: return 0\n",
        "    for i,v in val2:\n",
        "      if v[0]<znach<=v[1]: return cs[i]\n",
        "    return 1\n",
        "  return f_diskr_raspr"
      ],
      "metadata": {
        "id": "BnScXLVEuhEz",
        "cellView": "form"
      },
      "execution_count": null,
      "outputs": []
    },
    {
      "cell_type": "code",
      "source": [
        "#@title Текстовое представление функции распределения дискретной случайной величины\n",
        "def GenerateDefinitionOfDistributionFunction(vals,probs, round=8):\n",
        "  return [f\"0 if x<={vals[0]}\"]+[f\"{float(v):.{round}f} if {vals[i]}<x<={vals[i+1]}\" for i,v in enumerate(np.cumsum(probs)) if not v == np.cumsum(probs)[-1]]+[f\"1 if x>{vals[-1]}\"]"
      ],
      "metadata": {
        "id": "WP9F-tu9bUwh",
        "cellView": "form"
      },
      "execution_count": null,
      "outputs": []
    },
    {
      "cell_type": "markdown",
      "source": [
        "---\n",
        "## Code itself"
      ],
      "metadata": {
        "id": "ZUeNNPPpUkCZ"
      }
    },
    {
      "cell_type": "code",
      "source": [
        "# Построить график функции распределения дискретной случайной величины, заданной по принципу Пуассона\n",
        "n=100\n",
        "xsi = np.arange(0,n+1)\n",
        "p = [x for x in MyLikePoissonRandomVariable(n,50)]\n",
        "x = np.linspace(0,max(xsi)+1,1000)\n",
        "raspr = GenerateDistributionFunction(xsi,p)\n",
        "y=[raspr(x0) for x0 in x]\n",
        "plt.plot(x,y)"
      ],
      "metadata": {
        "colab": {
          "base_uri": "https://localhost:8080/",
          "height": 282
        },
        "id": "MAmyB3_cXcwK",
        "outputId": "add4d8ec-f271-4a39-c18a-b86df737a9ac"
      },
      "execution_count": null,
      "outputs": [
        {
          "output_type": "execute_result",
          "data": {
            "text/plain": [
              "[<matplotlib.lines.Line2D at 0x7f82677780d0>]"
            ]
          },
          "metadata": {},
          "execution_count": 88
        },
        {
          "output_type": "display_data",
          "data": {
            "text/plain": [
              "<Figure size 432x288 with 1 Axes>"
            ],
            "image/png": "[encoded data removed]"
          },
          "metadata": {
            "needs_background": "light"
          }
        }
      ]
    },
    {
      "cell_type": "code",
      "source": [
        "# Построить график функции распределения дискретной случайной величины, заданной по принципу биномиала\n",
        "n=100\n",
        "xsi = np.arange(0,n+1)\n",
        "p = [x for x in MyLikeBinomRandomVariable(n,0.5)]\n",
        "x = np.linspace(0,max(xsi)+1,1000)\n",
        "raspr = GenerateDistributionFunction(xsi,p)\n",
        "y=[raspr(x0) for x0 in x]\n",
        "plt.plot(x,y)"
      ],
      "metadata": {
        "colab": {
          "base_uri": "https://localhost:8080/",
          "height": 282
        },
        "id": "IceFDony7uFa",
        "outputId": "ad005b99-de46-49e1-e8d7-c5ab983f73f8"
      },
      "execution_count": null,
      "outputs": [
        {
          "output_type": "execute_result",
          "data": {
            "text/plain": [
              "[<matplotlib.lines.Line2D at 0x7f82672cf790>]"
            ]
          },
          "metadata": {},
          "execution_count": 89
        },
        {
          "output_type": "display_data",
          "data": {
            "text/plain": [
              "<Figure size 432x288 with 1 Axes>"
            ],
            "image/png": "[encoded data removed]"
          },
          "metadata": {
            "needs_background": "light"
          }
        }
      ]
    },
    {
      "cell_type": "code",
      "source": [
        "# Построить график функции распределения дискретной случайной величины, заданной по принципу геиметрического распределения\n",
        "n=100\n",
        "xsi = np.arange(0,n+1)\n",
        "p = [x for x in MyLikeGeomRandomVariable(n,0.1)]\n",
        "x = np.linspace(0,max(xsi)+1,1000)\n",
        "raspr = GenerateDistributionFunction(xsi,p)\n",
        "y=[raspr(x0) for x0 in x]\n",
        "plt.plot(x,y)"
      ],
      "metadata": {
        "colab": {
          "base_uri": "https://localhost:8080/",
          "height": 282
        },
        "id": "TkU1cwEX8Vaq",
        "outputId": "7e563020-da0e-44f7-dfae-bb3dfbcdead5"
      },
      "execution_count": null,
      "outputs": [
        {
          "output_type": "execute_result",
          "data": {
            "text/plain": [
              "[<matplotlib.lines.Line2D at 0x7f826723e8d0>]"
            ]
          },
          "metadata": {},
          "execution_count": 90
        },
        {
          "output_type": "display_data",
          "data": {
            "text/plain": [
              "<Figure size 432x288 with 1 Axes>"
            ],
            "image/png": "[encoded data removed]"
          },
          "metadata": {
            "needs_background": "light"
          }
        }
      ]
    },
    {
      "cell_type": "code",
      "source": [
        "tex = r\"\"\"\\begin{array}{  c | c | c | c | c  }\n",
        "\\xi & -2 & -1 & 2 & 4  \\\\ \\hline\n",
        "\\mathsf{P} & 0.2 & 0.1 & 0.3 & 0.4\n",
        "\\end{array}\"\"\"\n",
        "vals,probs = TTDFOVAP(tex)\n",
        "GenerateDefinitionOfDistributionFunction(vals,probs)"
      ],
      "metadata": {
        "colab": {
          "base_uri": "https://localhost:8080/"
        },
        "id": "UnNSjEXTZ0Os",
        "outputId": "1b9a01c6-8208-4007-e66f-40fc67fb423c"
      },
      "execution_count": null,
      "outputs": [
        {
          "output_type": "execute_result",
          "data": {
            "text/plain": [
              "['0 if x<=-2',\n",
              " '0.20000000 if -2<x<=-1',\n",
              " '0.30000000 if -1<x<=2',\n",
              " '0.60000000 if 2<x<=4',\n",
              " '1 if x>4']"
            ]
          },
          "metadata": {},
          "execution_count": 91
        }
      ]
    },
    {
      "cell_type": "code",
      "source": [
        "a = [0.6,0.7,0.8]"
      ],
      "metadata": {
        "id": "s9M2Cj_Wef5Z"
      },
      "execution_count": null,
      "outputs": []
    },
    {
      "cell_type": "code",
      "source": [
        "vals = range(4)\n",
        "probs = [list_product([(1-x) for x in a]), sum([list_product([y if y == x else (1-y) for y in a]) for x in a]), sum([list_product([y if y != x else (1-y) for y in a]) for x in a]), list_product(a)]"
      ],
      "metadata": {
        "id": "bfxHEdH1fjrV"
      },
      "execution_count": null,
      "outputs": []
    },
    {
      "cell_type": "code",
      "source": [
        "GenerateDefinitionOfDistributionFunction(vals,probs)"
      ],
      "metadata": {
        "colab": {
          "base_uri": "https://localhost:8080/"
        },
        "id": "UEZ8GAM6geBc",
        "outputId": "2f733e54-1998-4d33-b26f-a7ed9fd21961"
      },
      "execution_count": null,
      "outputs": [
        {
          "output_type": "execute_result",
          "data": {
            "text/plain": [
              "['0 if x<=0',\n",
              " '0.02400000 if 0<x<=1',\n",
              " '0.21200000 if 1<x<=2',\n",
              " '0.66400000 if 2<x<=3',\n",
              " '1 if x>3']"
            ]
          },
          "metadata": {},
          "execution_count": 94
        }
      ]
    },
    {
      "cell_type": "code",
      "source": [
        "n=5\n",
        "p=0.71\n",
        "probs=list(MyLikeBinomRandomVariable(n,p))\n",
        "vals=range(6)"
      ],
      "metadata": {
        "id": "EdW1nrV7hhiN"
      },
      "execution_count": null,
      "outputs": []
    },
    {
      "cell_type": "code",
      "source": [
        "probs"
      ],
      "metadata": {
        "colab": {
          "base_uri": "https://localhost:8080/"
        },
        "id": "IuQ1CxWslmfw",
        "outputId": "e04014a9-1b30-4a46-801e-f7ab09b32f08"
      },
      "execution_count": null,
      "outputs": [
        {
          "output_type": "execute_result",
          "data": {
            "text/plain": [
              "[Decimal('0.0020511149'),\n",
              " Decimal('0.0251084755'),\n",
              " Decimal('0.1229449490'),\n",
              " Decimal('0.3010031510'),\n",
              " Decimal('0.3684693745'),\n",
              " Decimal('0.1804229351')]"
            ]
          },
          "metadata": {},
          "execution_count": 96
        }
      ]
    },
    {
      "cell_type": "code",
      "source": [
        "GenerateDefinitionOfDistributionFunction(vals,probs,round=3)"
      ],
      "metadata": {
        "colab": {
          "base_uri": "https://localhost:8080/"
        },
        "id": "9FSxFjUrh90B",
        "outputId": "ea04c2ac-2e5a-4af2-eee5-84e2546f7e2f"
      },
      "execution_count": null,
      "outputs": [
        {
          "output_type": "execute_result",
          "data": {
            "text/plain": [
              "['0 if x<=0',\n",
              " '0.002 if 0<x<=1',\n",
              " '0.027 if 1<x<=2',\n",
              " '0.150 if 2<x<=3',\n",
              " '0.451 if 3<x<=4',\n",
              " '0.820 if 4<x<=5',\n",
              " '1 if x>5']"
            ]
          },
          "metadata": {},
          "execution_count": 97
        }
      ]
    },
    {
      "cell_type": "code",
      "source": [
        "plt.plot(vals,probs,'.-')"
      ],
      "metadata": {
        "colab": {
          "base_uri": "https://localhost:8080/",
          "height": 282
        },
        "id": "E16S279tlgOA",
        "outputId": "56c496c7-277a-409d-c17a-3f8b2bc2bdde"
      },
      "execution_count": null,
      "outputs": [
        {
          "output_type": "execute_result",
          "data": {
            "text/plain": [
              "[<matplotlib.lines.Line2D at 0x7f82677e9150>]"
            ]
          },
          "metadata": {},
          "execution_count": 98
        },
        {
          "output_type": "display_data",
          "data": {
            "text/plain": [
              "<Figure size 432x288 with 1 Axes>"
            ],
            "image/png": "[encoded data removed]"
          },
          "metadata": {
            "needs_background": "light"
          }
        }
      ]
    },
    {
      "cell_type": "code",
      "source": [
        "n=9\n",
        "p=0.15\n",
        "probs = [x for x in MyLikeGeomRandomVariable(n,p,round=8)]\n",
        "vals = range(1,n+1)"
      ],
      "metadata": {
        "id": "cevLV5dBlxZz"
      },
      "execution_count": null,
      "outputs": []
    },
    {
      "cell_type": "code",
      "source": [
        "probs"
      ],
      "metadata": {
        "colab": {
          "base_uri": "https://localhost:8080/"
        },
        "id": "p8AgWQOHqp9X",
        "outputId": "a6a1a6b5-f9b2-4271-8b22-89c6bc3a1043"
      },
      "execution_count": null,
      "outputs": [
        {
          "output_type": "execute_result",
          "data": {
            "text/plain": [
              "[Decimal('0.15000000'),\n",
              " Decimal('0.12750000'),\n",
              " Decimal('0.10837500'),\n",
              " Decimal('0.09211875'),\n",
              " Decimal('0.07830094'),\n",
              " Decimal('0.06655580'),\n",
              " Decimal('0.05657243'),\n",
              " Decimal('0.04808656'),\n",
              " Decimal('0.04087358')]"
            ]
          },
          "metadata": {},
          "execution_count": 100
        }
      ]
    },
    {
      "cell_type": "code",
      "source": [
        "sum(probs[:7])"
      ],
      "metadata": {
        "colab": {
          "base_uri": "https://localhost:8080/"
        },
        "id": "FZaY1jx7qIhv",
        "outputId": "a9534235-6598-4d10-82a7-a82f3a94e4ab"
      },
      "execution_count": null,
      "outputs": [
        {
          "output_type": "execute_result",
          "data": {
            "text/plain": [
              "Decimal('0.67942292')"
            ]
          },
          "metadata": {},
          "execution_count": 101
        }
      ]
    },
    {
      "cell_type": "code",
      "source": [
        "plt.plot(vals,probs,'.-')"
      ],
      "metadata": {
        "colab": {
          "base_uri": "https://localhost:8080/",
          "height": 282
        },
        "id": "Ub4bIbluqda0",
        "outputId": "d05728f8-c1d1-4143-e1c9-1cca3e4a11a1"
      },
      "execution_count": null,
      "outputs": [
        {
          "output_type": "execute_result",
          "data": {
            "text/plain": [
              "[<matplotlib.lines.Line2D at 0x7f8267216610>]"
            ]
          },
          "metadata": {},
          "execution_count": 102
        },
        {
          "output_type": "display_data",
          "data": {
            "text/plain": [
              "<Figure size 432x288 with 1 Axes>"
            ],
            "image/png": "[encoded data removed]"
          },
          "metadata": {
            "needs_background": "light"
          }
        }
      ]
    },
    {
      "cell_type": "code",
      "source": [
        "s=0\n",
        "n=15\n",
        "probs = list(MyLikePoissonRandomVariable(n,4.3,round=3))\n",
        "vals = list(range(n+1))"
      ],
      "metadata": {
        "id": "unS4a4SesOGE"
      },
      "execution_count": null,
      "outputs": []
    },
    {
      "cell_type": "code",
      "source": [
        "1-sum(probs[:8])"
      ],
      "metadata": {
        "colab": {
          "base_uri": "https://localhost:8080/"
        },
        "id": "I0jIjjdMtgFv",
        "outputId": "70fe711c-fee4-4092-c4e5-29e33456acad"
      },
      "execution_count": null,
      "outputs": [
        {
          "output_type": "execute_result",
          "data": {
            "text/plain": [
              "0.07199999999999995"
            ]
          },
          "metadata": {},
          "execution_count": 104
        }
      ]
    },
    {
      "cell_type": "code",
      "source": [
        "1-GenerateDistributionFunction(vals,probs)(8)"
      ],
      "metadata": {
        "colab": {
          "base_uri": "https://localhost:8080/"
        },
        "id": "rttWziS0xnN_",
        "outputId": "8b12b743-abbe-4e9b-e948-fad1bb365252"
      },
      "execution_count": null,
      "outputs": [
        {
          "output_type": "execute_result",
          "data": {
            "text/plain": [
              "0.07199999999999995"
            ]
          },
          "metadata": {},
          "execution_count": 105
        }
      ]
    },
    {
      "cell_type": "code",
      "source": [
        "plt.plot(vals,probs,'.-')"
      ],
      "metadata": {
        "id": "9ABTGvELzrqs",
        "outputId": "589d8802-5389-47bc-de06-e4c852277fc4",
        "colab": {
          "base_uri": "https://localhost:8080/",
          "height": 284
        }
      },
      "execution_count": null,
      "outputs": [
        {
          "output_type": "execute_result",
          "data": {
            "text/plain": [
              "[<matplotlib.lines.Line2D at 0x7f826709c790>]"
            ]
          },
          "metadata": {},
          "execution_count": 106
        },
        {
          "output_type": "display_data",
          "data": {
            "text/plain": [
              "<Figure size 432x288 with 1 Axes>"
            ],
            "image/png": "[encoded data removed]"
          },
          "metadata": {
            "needs_background": "light"
          }
        }
      ]
    },
    {
      "cell_type": "code",
      "source": [
        "list(MyLikeBinomRandomVariable(8,0.77))[1]+list(MyLikeBinomRandomVariable(8,0.77))[2]"
      ],
      "metadata": {
        "colab": {
          "base_uri": "https://localhost:8080/"
        },
        "id": "UXU_gmtuRSA2",
        "outputId": "82afe4e4-4451-43bb-cc3c-8c7e359856a0"
      },
      "execution_count": null,
      "outputs": [
        {
          "output_type": "execute_result",
          "data": {
            "text/plain": [
              "Decimal('0.0026673106480020')"
            ]
          },
          "metadata": {},
          "execution_count": 107
        }
      ]
    },
    {
      "cell_type": "code",
      "source": [
        "sum(MyLikeGeomRandomVariable(6,0.56))"
      ],
      "metadata": {
        "colab": {
          "base_uri": "https://localhost:8080/"
        },
        "id": "aNLvAfmARjQt",
        "outputId": "5326abce-fe5e-4601-bc86-2795f5f5cff1"
      },
      "execution_count": null,
      "outputs": [
        {
          "output_type": "execute_result",
          "data": {
            "text/plain": [
              "Decimal('0.99274369')"
            ]
          },
          "metadata": {},
          "execution_count": 108
        }
      ]
    },
    {
      "cell_type": "code",
      "source": [
        "sum(MyLikePoissonRandomVariable(5,5.5))"
      ],
      "metadata": {
        "colab": {
          "base_uri": "https://localhost:8080/"
        },
        "id": "_lQxtgcoSjXn",
        "outputId": "6351d441-4530-4034-9289-4a8f9d021f49"
      },
      "execution_count": null,
      "outputs": [
        {
          "output_type": "execute_result",
          "data": {
            "text/plain": [
              "0.52891868"
            ]
          },
          "metadata": {},
          "execution_count": 109
        }
      ]
    },
    {
      "cell_type": "code",
      "source": [
        "# Для расчёта Ф_0,1(x) можно использовать scipy.stats.norm.cdf(x)\n",
        "# Для расчёта Ф_a,sigma(x) -> scipy.stats.norm.cdf(x,a,sigma)"
      ],
      "metadata": {
        "id": "pBpdWbu5P6uV"
      },
      "execution_count": null,
      "outputs": []
    },
    {
      "cell_type": "code",
      "source": [
        "scipy.stats.norm.cdf(6.59,4.5,sqrt(1.21))-scipy.stats.norm.cdf(2.41,4.5,sqrt(1.21))"
      ],
      "metadata": {
        "colab": {
          "base_uri": "https://localhost:8080/"
        },
        "id": "w7vdRRhCX2aZ",
        "outputId": "f5332ca2-00b4-4013-e816-f6fdf2749160"
      },
      "execution_count": null,
      "outputs": [
        {
          "output_type": "execute_result",
          "data": {
            "text/plain": [
              "0.9425668803679963"
            ]
          },
          "metadata": {},
          "execution_count": 111
        }
      ]
    },
    {
      "cell_type": "markdown",
      "source": [
        "---\n",
        "## Random tests"
      ],
      "metadata": {
        "id": "vSFdqv7aUW3j"
      }
    },
    {
      "cell_type": "code",
      "source": [
        "import numpy as np\n",
        "import matplotlib.pyplot as plt \n",
        "\n",
        "def fun (n, x): \n",
        "    if n <= x <= n + 1:\n",
        "        return float(x) - n \n",
        "    elif n + 1 <= x <= n + 2:\n",
        "        return 2.0 - x + n \n",
        "    return 0.0 \n",
        "\n",
        "vfun = np.vectorize(fun)\n",
        "\n",
        "x = np.linspace(0, 10, 10000)    \n",
        "y = vfun(3, x)\n",
        "\n",
        "plt.plot(x, y, '.')\n",
        "plt.show()"
      ],
      "metadata": {
        "colab": {
          "base_uri": "https://localhost:8080/"
        },
        "id": "cBQI9uUJRLYW",
        "outputId": "a95f02da-0640-4e03-f7d2-e3497c1e843a"
      },
      "execution_count": null,
      "outputs": [
        {
          "output_type": "display_data",
          "data": {
            "text/plain": [
              "<Figure size 432x288 with 1 Axes>"
            ],
            "image/png": "[encoded data removed]"
          },
          "metadata": {
            "needs_background": "light"
          }
        }
      ]
    },
    {
      "cell_type": "code",
      "source": [
        "x = np.arange(0, 5, 0.1)\n",
        "y = np.sin(x)\n",
        "fig, ax = plt.subplots()\n",
        "ax.plot(x, y)"
      ],
      "metadata": {
        "colab": {
          "base_uri": "https://localhost:8080/"
        },
        "id": "6R3g33CBR4dN",
        "outputId": "2d3d06b4-2b90-4566-952d-2b59db1657a2"
      },
      "execution_count": null,
      "outputs": [
        {
          "output_type": "execute_result",
          "data": {
            "text/plain": [
              "[<matplotlib.lines.Line2D at 0x7f8266f909d0>]"
            ]
          },
          "metadata": {},
          "execution_count": 113
        },
        {
          "output_type": "display_data",
          "data": {
            "text/plain": [
              "<Figure size 432x288 with 1 Axes>"
            ],
            "image/png": "[encoded data removed]"
          },
          "metadata": {
            "needs_background": "light"
          }
        }
      ]
    },
    {
      "cell_type": "code",
      "source": [
        "# # \n",
        "\n",
        "# # list(pairwise(xsi))\n",
        "\n",
        "# # [x<=0]   [x>max(xsi)]\n",
        "\n",
        "\n",
        "# cs = np.cumsum(p)\n",
        "# ysl = np.array([np.all([i[0]<x,x<=i[1]],axis=0) for i in pairwise(xsi)]+[x>max(xsi)])\n",
        "\n",
        "# pw = []\n",
        "# for i in ysl.T:\n",
        "#   nz = np.nonzero(i)[0]\n",
        "#   if len(nz)==0: pw.append(0)\n",
        "#   else: pw.append(np.cumsum(p)[nz[0]])\n",
        "# # pw.append \n",
        "\n",
        "# # np.piecewise(y, ysl, cs[:-1])\n",
        "# # len(xsi)\n",
        "\n",
        "# pxsi = pairwise(xsi)\n",
        "\n",
        "\n",
        "\n"
      ],
      "metadata": {
        "id": "npXP3ucLYdAf"
      },
      "execution_count": null,
      "outputs": []
    },
    {
      "cell_type": "code",
      "source": [
        "# zl = list(zip(x,pw))\n",
        "# zl"
      ],
      "metadata": {
        "id": "zLVBrbpPnYv4"
      },
      "execution_count": null,
      "outputs": []
    },
    {
      "cell_type": "code",
      "source": [
        "# x"
      ],
      "metadata": {
        "id": "B73JgyyhpSIl"
      },
      "execution_count": null,
      "outputs": []
    },
    {
      "cell_type": "code",
      "source": [
        "# np.cumsum(p)"
      ],
      "metadata": {
        "id": "aBWOaF0npxKc"
      },
      "execution_count": null,
      "outputs": []
    },
    {
      "cell_type": "code",
      "source": [
        "# plt.plot(x,pw,'.')"
      ],
      "metadata": {
        "id": "-tlp2IwHnJ9h"
      },
      "execution_count": null,
      "outputs": []
    },
    {
      "cell_type": "code",
      "source": [
        "# np.nonzero(ysl.T[2000])[0][0]"
      ],
      "metadata": {
        "id": "raYuI3PMllZE"
      },
      "execution_count": null,
      "outputs": []
    },
    {
      "cell_type": "code",
      "source": [
        "# np.arange(max(xsi)-min(xsi)+1)"
      ],
      "metadata": {
        "id": "5Pv_F2BKkJVH"
      },
      "execution_count": null,
      "outputs": []
    },
    {
      "cell_type": "code",
      "source": [
        "# list(pairwise(xsi))"
      ],
      "metadata": {
        "id": "oTPiuQP4kBvS"
      },
      "execution_count": null,
      "outputs": []
    },
    {
      "cell_type": "code",
      "source": [
        "# ysl"
      ],
      "metadata": {
        "id": "I6TfV8JMjecY"
      },
      "execution_count": null,
      "outputs": []
    },
    {
      "cell_type": "code",
      "source": [
        "# cs[:-1]"
      ],
      "metadata": {
        "id": "eoJWrH5fj28Z"
      },
      "execution_count": null,
      "outputs": []
    },
    {
      "cell_type": "code",
      "source": [
        "list(MyLikeBinomRandomVariable(8,0.71))\n",
        "\n",
        "GenerateDefinitionOfDistributionFunction(range(0,9),list(MyLikeBinomRandomVariable(8,0.71)))"
      ],
      "metadata": {
        "colab": {
          "base_uri": "https://localhost:8080/"
        },
        "id": "fM0LPcjaIe5X",
        "outputId": "acb30b17-f465-43fc-ee0d-a73af5a82453"
      },
      "execution_count": null,
      "outputs": [
        {
          "output_type": "execute_result",
          "data": {
            "text/plain": [
              "['0 if x<=0',\n",
              " '0.00005002 if 0<x<=1',\n",
              " '0.00102982 if 1<x<=2',\n",
              " '0.00942563 if 2<x<=3',\n",
              " '0.05053616 if 3<x<=4',\n",
              " '0.17634855 if 4<x<=5',\n",
              " '0.42276731 if 5<x<=6',\n",
              " '0.72441786 if 6<x<=7',\n",
              " '0.93542465 if 7<x<=8',\n",
              " '1 if x>8']"
            ]
          },
          "metadata": {},
          "execution_count": 124
        }
      ]
    },
    {
      "cell_type": "code",
      "source": [
        "0.42276731 - 0.00942563 "
      ],
      "metadata": {
        "colab": {
          "base_uri": "https://localhost:8080/"
        },
        "id": "71xr63RBN_03",
        "outputId": "fef7befa-eec4-4497-c245-e0334258409e"
      },
      "execution_count": null,
      "outputs": [
        {
          "output_type": "execute_result",
          "data": {
            "text/plain": [
              "0.41334168"
            ]
          },
          "metadata": {},
          "execution_count": 125
        }
      ]
    },
    {
      "cell_type": "markdown",
      "source": [
        "---\n",
        "---\n",
        "# Week 5"
      ],
      "metadata": {
        "id": "j_oHmDnOR8gt"
      }
    },
    {
      "cell_type": "markdown",
      "source": [
        "---\n",
        "---\n",
        "# Рубежка"
      ],
      "metadata": {
        "id": "P4LgApnN53of"
      }
    },
    {
      "cell_type": "markdown",
      "source": [
        "---\n",
        "## Подготовка"
      ],
      "metadata": {
        "id": "e9sLTrxy7YEA"
      }
    },
    {
      "cell_type": "code",
      "source": [
        "for __ in range(10):\n",
        "  arr = np.array([1]*5+[0]*10)\n",
        "  np.random.shuffle(arr)\n",
        "  n=100000\n",
        "  c=0\n",
        "  for _ in range(n):\n",
        "    if sum(np.random.choice(arr,7))==3: c+=1\n",
        "  print(c/n)"
      ],
      "metadata": {
        "colab": {
          "base_uri": "https://localhost:8080/"
        },
        "id": "HTU9YcN057hb",
        "outputId": "a2fe1375-5bd4-45c7-d571-84db65ccccf2"
      },
      "execution_count": null,
      "outputs": [
        {
          "output_type": "stream",
          "name": "stdout",
          "text": [
            "0.25581\n",
            "0.25828\n",
            "0.25579\n",
            "0.25678\n",
            "0.25614\n",
            "0.25444\n",
            "0.25442\n",
            "0.25485\n",
            "0.25509\n",
            "0.25572\n"
          ]
        }
      ]
    },
    {
      "cell_type": "code",
      "source": [
        "choices = [list(map(int,list(x))) for x in itertools.product('01',repeat=7) if sum(list(map(int,list(x))))==3]"
      ],
      "metadata": {
        "id": "1njFxczi_ybl"
      },
      "execution_count": null,
      "outputs": []
    },
    {
      "cell_type": "code",
      "source": [
        "len(choices)"
      ],
      "metadata": {
        "colab": {
          "base_uri": "https://localhost:8080/"
        },
        "id": "iVwg4V1ABxJ0",
        "outputId": "b101b126-2cbb-4b48-d76f-c70bbcd271e0"
      },
      "execution_count": null,
      "outputs": [
        {
          "output_type": "execute_result",
          "data": {
            "text/plain": [
              "35"
            ]
          },
          "metadata": {},
          "execution_count": 129
        }
      ]
    },
    {
      "cell_type": "code",
      "source": [
        "p_s=0\n",
        "for choice in choices:\n",
        "  k = 5\n",
        "  z = 10\n",
        "  p = 1\n",
        "  for a in choice:\n",
        "    if a:\n",
        "      p*=k/(k+z)\n",
        "      k-=1\n",
        "    else:\n",
        "      p*=z/(k+z)\n",
        "      z-=1\n",
        "  print(p)\n",
        "  p_s+=p\n",
        "print(p_s)"
      ],
      "metadata": {
        "colab": {
          "base_uri": "https://localhost:8080/"
        },
        "id": "xYBeEMBT_yU5",
        "outputId": "d47192ee-8680-4820-a49c-bcc5e82ec534"
      },
      "execution_count": null,
      "outputs": [
        {
          "output_type": "stream",
          "name": "stdout",
          "text": [
            "0.009324009324009324\n",
            "0.009324009324009324\n",
            "0.009324009324009324\n",
            "0.009324009324009326\n",
            "0.009324009324009324\n",
            "0.009324009324009324\n",
            "0.009324009324009326\n",
            "0.009324009324009324\n",
            "0.009324009324009326\n",
            "0.009324009324009326\n",
            "0.009324009324009322\n",
            "0.009324009324009322\n",
            "0.009324009324009324\n",
            "0.009324009324009322\n",
            "0.009324009324009324\n",
            "0.009324009324009324\n",
            "0.009324009324009322\n",
            "0.009324009324009324\n",
            "0.009324009324009324\n",
            "0.009324009324009326\n",
            "0.009324009324009322\n",
            "0.009324009324009322\n",
            "0.009324009324009324\n",
            "0.009324009324009322\n",
            "0.009324009324009324\n",
            "0.009324009324009324\n",
            "0.009324009324009322\n",
            "0.009324009324009324\n",
            "0.009324009324009324\n",
            "0.009324009324009326\n",
            "0.009324009324009322\n",
            "0.009324009324009324\n",
            "0.009324009324009324\n",
            "0.009324009324009326\n",
            "0.009324009324009326\n",
            "0.3263403263403264\n"
          ]
        }
      ]
    },
    {
      "cell_type": "code",
      "source": [],
      "metadata": {
        "id": "7Owkqlgv_yPm"
      },
      "execution_count": null,
      "outputs": []
    },
    {
      "cell_type": "code",
      "source": [
        "s = \"\"\"0.25778\n",
        "0.25478\n",
        "0.25771\n",
        "0.25649\n",
        "0.25553\n",
        "0.25475\n",
        "0.25623\n",
        "0.25402\n",
        "0.25592\n",
        "0.25543\"\"\".split()"
      ],
      "metadata": {
        "id": "JpriX2FU6476"
      },
      "execution_count": null,
      "outputs": []
    },
    {
      "cell_type": "code",
      "source": [
        "np.array(s).astype(float).mean()"
      ],
      "metadata": {
        "colab": {
          "base_uri": "https://localhost:8080/"
        },
        "id": "QUIBVa2S68yf",
        "outputId": "c6fbea9e-d95c-4762-aeb6-be755cc2e517"
      },
      "execution_count": null,
      "outputs": [
        {
          "output_type": "execute_result",
          "data": {
            "text/plain": [
              "0.255864"
            ]
          },
          "metadata": {},
          "execution_count": 132
        }
      ]
    },
    {
      "cell_type": "code",
      "source": [],
      "metadata": {
        "id": "Z1joE8GDJOrJ"
      },
      "execution_count": null,
      "outputs": []
    },
    {
      "cell_type": "code",
      "source": [],
      "metadata": {
        "id": "GmSFL38AJOku"
      },
      "execution_count": null,
      "outputs": []
    },
    {
      "cell_type": "code",
      "source": [
        "k1=\"\"\"o_1_1\n",
        "o_1_2\n",
        "a_1_1\n",
        "a_1_2\n",
        "a_1_3\"\"\".split()\n",
        "\n",
        "k2=\"\"\"o_2_1\n",
        "o_2_2\n",
        "o_2_3\n",
        "a_2_1\n",
        "a_2_2\n",
        "a_2_3\n",
        "a_2_4\n",
        "a_2_5\"\"\".split()"
      ],
      "metadata": {
        "id": "K6uZ6A0JJOi_"
      },
      "execution_count": null,
      "outputs": []
    },
    {
      "cell_type": "code",
      "source": [
        "k3 = list(map(list,list(itertools.product(k1,k2))))"
      ],
      "metadata": {
        "id": "wl3eP5BhJOgf"
      },
      "execution_count": null,
      "outputs": []
    },
    {
      "cell_type": "code",
      "source": [
        "omega = []\n",
        "\n",
        "for x in k3:\n",
        "  omega.append(x+[x[0]])\n",
        "  omega.append(x+[x[1]])"
      ],
      "metadata": {
        "id": "l1HNDp_pKh4x"
      },
      "execution_count": null,
      "outputs": []
    },
    {
      "cell_type": "code",
      "source": [
        "omega"
      ],
      "metadata": {
        "colab": {
          "base_uri": "https://localhost:8080/"
        },
        "id": "X9CA_pguLLEC",
        "outputId": "63e15b86-a312-458c-bdb3-be46b9857cfe"
      },
      "execution_count": null,
      "outputs": [
        {
          "output_type": "execute_result",
          "data": {
            "text/plain": [
              "[['o_1_1', 'o_2_1', 'o_1_1'],\n",
              " ['o_1_1', 'o_2_1', 'o_2_1'],\n",
              " ['o_1_1', 'o_2_2', 'o_1_1'],\n",
              " ['o_1_1', 'o_2_2', 'o_2_2'],\n",
              " ['o_1_1', 'o_2_3', 'o_1_1'],\n",
              " ['o_1_1', 'o_2_3', 'o_2_3'],\n",
              " ['o_1_1', 'a_2_1', 'o_1_1'],\n",
              " ['o_1_1', 'a_2_1', 'a_2_1'],\n",
              " ['o_1_1', 'a_2_2', 'o_1_1'],\n",
              " ['o_1_1', 'a_2_2', 'a_2_2'],\n",
              " ['o_1_1', 'a_2_3', 'o_1_1'],\n",
              " ['o_1_1', 'a_2_3', 'a_2_3'],\n",
              " ['o_1_1', 'a_2_4', 'o_1_1'],\n",
              " ['o_1_1', 'a_2_4', 'a_2_4'],\n",
              " ['o_1_1', 'a_2_5', 'o_1_1'],\n",
              " ['o_1_1', 'a_2_5', 'a_2_5'],\n",
              " ['o_1_2', 'o_2_1', 'o_1_2'],\n",
              " ['o_1_2', 'o_2_1', 'o_2_1'],\n",
              " ['o_1_2', 'o_2_2', 'o_1_2'],\n",
              " ['o_1_2', 'o_2_2', 'o_2_2'],\n",
              " ['o_1_2', 'o_2_3', 'o_1_2'],\n",
              " ['o_1_2', 'o_2_3', 'o_2_3'],\n",
              " ['o_1_2', 'a_2_1', 'o_1_2'],\n",
              " ['o_1_2', 'a_2_1', 'a_2_1'],\n",
              " ['o_1_2', 'a_2_2', 'o_1_2'],\n",
              " ['o_1_2', 'a_2_2', 'a_2_2'],\n",
              " ['o_1_2', 'a_2_3', 'o_1_2'],\n",
              " ['o_1_2', 'a_2_3', 'a_2_3'],\n",
              " ['o_1_2', 'a_2_4', 'o_1_2'],\n",
              " ['o_1_2', 'a_2_4', 'a_2_4'],\n",
              " ['o_1_2', 'a_2_5', 'o_1_2'],\n",
              " ['o_1_2', 'a_2_5', 'a_2_5'],\n",
              " ['a_1_1', 'o_2_1', 'a_1_1'],\n",
              " ['a_1_1', 'o_2_1', 'o_2_1'],\n",
              " ['a_1_1', 'o_2_2', 'a_1_1'],\n",
              " ['a_1_1', 'o_2_2', 'o_2_2'],\n",
              " ['a_1_1', 'o_2_3', 'a_1_1'],\n",
              " ['a_1_1', 'o_2_3', 'o_2_3'],\n",
              " ['a_1_1', 'a_2_1', 'a_1_1'],\n",
              " ['a_1_1', 'a_2_1', 'a_2_1'],\n",
              " ['a_1_1', 'a_2_2', 'a_1_1'],\n",
              " ['a_1_1', 'a_2_2', 'a_2_2'],\n",
              " ['a_1_1', 'a_2_3', 'a_1_1'],\n",
              " ['a_1_1', 'a_2_3', 'a_2_3'],\n",
              " ['a_1_1', 'a_2_4', 'a_1_1'],\n",
              " ['a_1_1', 'a_2_4', 'a_2_4'],\n",
              " ['a_1_1', 'a_2_5', 'a_1_1'],\n",
              " ['a_1_1', 'a_2_5', 'a_2_5'],\n",
              " ['a_1_2', 'o_2_1', 'a_1_2'],\n",
              " ['a_1_2', 'o_2_1', 'o_2_1'],\n",
              " ['a_1_2', 'o_2_2', 'a_1_2'],\n",
              " ['a_1_2', 'o_2_2', 'o_2_2'],\n",
              " ['a_1_2', 'o_2_3', 'a_1_2'],\n",
              " ['a_1_2', 'o_2_3', 'o_2_3'],\n",
              " ['a_1_2', 'a_2_1', 'a_1_2'],\n",
              " ['a_1_2', 'a_2_1', 'a_2_1'],\n",
              " ['a_1_2', 'a_2_2', 'a_1_2'],\n",
              " ['a_1_2', 'a_2_2', 'a_2_2'],\n",
              " ['a_1_2', 'a_2_3', 'a_1_2'],\n",
              " ['a_1_2', 'a_2_3', 'a_2_3'],\n",
              " ['a_1_2', 'a_2_4', 'a_1_2'],\n",
              " ['a_1_2', 'a_2_4', 'a_2_4'],\n",
              " ['a_1_2', 'a_2_5', 'a_1_2'],\n",
              " ['a_1_2', 'a_2_5', 'a_2_5'],\n",
              " ['a_1_3', 'o_2_1', 'a_1_3'],\n",
              " ['a_1_3', 'o_2_1', 'o_2_1'],\n",
              " ['a_1_3', 'o_2_2', 'a_1_3'],\n",
              " ['a_1_3', 'o_2_2', 'o_2_2'],\n",
              " ['a_1_3', 'o_2_3', 'a_1_3'],\n",
              " ['a_1_3', 'o_2_3', 'o_2_3'],\n",
              " ['a_1_3', 'a_2_1', 'a_1_3'],\n",
              " ['a_1_3', 'a_2_1', 'a_2_1'],\n",
              " ['a_1_3', 'a_2_2', 'a_1_3'],\n",
              " ['a_1_3', 'a_2_2', 'a_2_2'],\n",
              " ['a_1_3', 'a_2_3', 'a_1_3'],\n",
              " ['a_1_3', 'a_2_3', 'a_2_3'],\n",
              " ['a_1_3', 'a_2_4', 'a_1_3'],\n",
              " ['a_1_3', 'a_2_4', 'a_2_4'],\n",
              " ['a_1_3', 'a_2_5', 'a_1_3'],\n",
              " ['a_1_3', 'a_2_5', 'a_2_5']]"
            ]
          },
          "metadata": {},
          "execution_count": 136
        }
      ]
    },
    {
      "cell_type": "code",
      "source": [
        "appls = 0\n",
        "orngs = 0\n",
        "otv = 0\n",
        "for x in omega:\n",
        "  if x[2][0] == 'a': appls+=1\n",
        "  if x[2][0] == 'o': orngs+=1\n",
        "  if (x[2][0] == 'a') and (x[2][2] == '2'): otv+=1"
      ],
      "metadata": {
        "id": "BO_ergunK3Fp"
      },
      "execution_count": null,
      "outputs": []
    },
    {
      "cell_type": "code",
      "source": [
        "orngs,appls,otv"
      ],
      "metadata": {
        "colab": {
          "base_uri": "https://localhost:8080/"
        },
        "id": "fKx3EWjRLHUj",
        "outputId": "2e21ac64-83f5-4cfb-b55e-47663c7958c7"
      },
      "execution_count": null,
      "outputs": [
        {
          "output_type": "execute_result",
          "data": {
            "text/plain": [
              "(31, 49, 25)"
            ]
          },
          "metadata": {},
          "execution_count": 138
        }
      ]
    },
    {
      "cell_type": "code",
      "source": [
        "appls/80"
      ],
      "metadata": {
        "colab": {
          "base_uri": "https://localhost:8080/"
        },
        "id": "95q6dYv_MBQJ",
        "outputId": "1d41695c-b503-482d-fcb1-63e74bacb114"
      },
      "execution_count": null,
      "outputs": [
        {
          "output_type": "execute_result",
          "data": {
            "text/plain": [
              "0.6125"
            ]
          },
          "metadata": {},
          "execution_count": 139
        }
      ]
    },
    {
      "cell_type": "markdown",
      "source": [
        "– Плейлист с вебинарами: https://youtube.com/playlist?list=PLx5jwZiVE4CXQBeH283cIzXJFChThBLxH\n",
        "\n",
        "– Папка с материалами вебинаров: https://disk.yandex.ru/d/JWWgpaE54pjwFg\n",
        "\n",
        "– Обновляемое расписание встреч: https://disk.yandex.ru/i/0AU1ycok-UHXdA"
      ],
      "metadata": {
        "id": "Yrfrg82OMikK"
      }
    },
    {
      "cell_type": "markdown",
      "source": [
        "---\n",
        "## Рубежка"
      ],
      "metadata": {
        "id": "8G-iNT2m7el9"
      }
    },
    {
      "cell_type": "code",
      "source": [
        "k1=\"\"\"k_1_1\n",
        "k_1_2\n",
        "k_1_3\n",
        "k_1_4\n",
        "k_1_5\n",
        "z_1_1\n",
        "z_1_2\n",
        "z_1_3\n",
        "z_1_4\n",
        "z_1_5\n",
        "z_1_6\n",
        "z_1_7\n",
        "z_1_8\"\"\".split()\n",
        "\n",
        "k2=\"\"\"k_2_1\n",
        "k_2_2\n",
        "k_2_3\n",
        "k_2_4\n",
        "k_2_5\n",
        "z_2_1\n",
        "z_2_2\n",
        "z_2_3\n",
        "z_2_4\n",
        "z_2_5\n",
        "z_2_6\n",
        "z_2_7\n",
        "z_2_8\n",
        "z_2_9\"\"\".split()"
      ],
      "metadata": {
        "id": "iC1QyXfA7ht9"
      },
      "execution_count": null,
      "outputs": []
    },
    {
      "cell_type": "code",
      "source": [
        "# k1=\"\"\"o_1_1\n",
        "# o_1_2\n",
        "# a_1_1\n",
        "# a_1_2\n",
        "# a_1_3\"\"\".split()\n",
        "\n",
        "# k2=\"\"\"o_2_1\n",
        "# o_2_2\n",
        "# o_2_3\n",
        "# a_2_1\n",
        "# a_2_2\n",
        "# a_2_3\n",
        "# a_2_4\n",
        "# a_2_5\n",
        "# \"\"\".split()"
      ],
      "metadata": {
        "id": "VkEib9GjG_Sq"
      },
      "execution_count": null,
      "outputs": []
    },
    {
      "cell_type": "code",
      "source": [
        "k3=list(map(list,list(itertools.product(k1,k2))))"
      ],
      "metadata": {
        "id": "qoh0_WybF4ng"
      },
      "execution_count": null,
      "outputs": []
    },
    {
      "cell_type": "code",
      "source": [
        "omega = []\n",
        "\n",
        "for x in k3:\n",
        "  omega.append(x + [x[0]])\n",
        "  omega.append(x + [x[1]])"
      ],
      "metadata": {
        "id": "3jtasLyUGEvd"
      },
      "execution_count": null,
      "outputs": []
    },
    {
      "cell_type": "code",
      "source": [
        "z_s = 0\n",
        "ds = 0\n",
        "for x in omega:\n",
        "  if x[2][0] == 'z': z_s+=1\n",
        "  if (x[2][0] == 'z') and (x[2][2] == '2'): ds += 1"
      ],
      "metadata": {
        "id": "ta68d97yGYlq"
      },
      "execution_count": null,
      "outputs": []
    },
    {
      "cell_type": "code",
      "source": [
        "z_s/len(omega)"
      ],
      "metadata": {
        "colab": {
          "base_uri": "https://localhost:8080/"
        },
        "id": "g0XTs26PGiOx",
        "outputId": "b4990b47-0dbb-4eef-a1d9-52003ddd4ef9"
      },
      "execution_count": null,
      "outputs": [
        {
          "output_type": "execute_result",
          "data": {
            "text/plain": [
              "0.6291208791208791"
            ]
          },
          "metadata": {},
          "execution_count": 145
        }
      ]
    },
    {
      "cell_type": "code",
      "source": [
        "229/364"
      ],
      "metadata": {
        "colab": {
          "base_uri": "https://localhost:8080/"
        },
        "id": "bwt4E-4pHh2B",
        "outputId": "2c837256-a37e-49b0-fe9d-ce96ab755792"
      },
      "execution_count": null,
      "outputs": [
        {
          "output_type": "execute_result",
          "data": {
            "text/plain": [
              "0.6291208791208791"
            ]
          },
          "metadata": {},
          "execution_count": 146
        }
      ]
    },
    {
      "cell_type": "code",
      "source": [
        "ds/z_s"
      ],
      "metadata": {
        "colab": {
          "base_uri": "https://localhost:8080/"
        },
        "id": "5ageT7SuGNfR",
        "outputId": "967cfbbc-870f-4259-de3f-48d0457ee24d"
      },
      "execution_count": null,
      "outputs": [
        {
          "output_type": "execute_result",
          "data": {
            "text/plain": [
              "0.5109170305676856"
            ]
          },
          "metadata": {},
          "execution_count": 147
        }
      ]
    },
    {
      "cell_type": "code",
      "source": [
        "117/229"
      ],
      "metadata": {
        "colab": {
          "base_uri": "https://localhost:8080/"
        },
        "id": "9VIwE-sGGFis",
        "outputId": "19ff8394-656a-49de-cbed-0b32d0d32233"
      },
      "execution_count": null,
      "outputs": [
        {
          "output_type": "execute_result",
          "data": {
            "text/plain": [
              "0.5109170305676856"
            ]
          },
          "metadata": {},
          "execution_count": 148
        }
      ]
    },
    {
      "cell_type": "markdown",
      "source": [
        "---\n",
        "---\n",
        "# Week 6"
      ],
      "metadata": {
        "id": "sSoeKLRIP5Sj"
      }
    },
    {
      "cell_type": "markdown",
      "source": [
        "---\n",
        "## Function definitions"
      ],
      "metadata": {
        "id": "CPG901lIO3ka"
      }
    },
    {
      "cell_type": "code",
      "source": [
        "#@title Моды случайной величины\n",
        "def myModas(vals, probs,most_likely=False):\n",
        "  vals=list(vals)\n",
        "  probs=list(probs)\n",
        "  mds = []\n",
        "  if probs[0]>probs[1]: mds.append(vals[0])\n",
        "  for i in range(1,len(probs)-1):\n",
        "    if probs[i-1]<=probs[i] and probs[i+1]<=probs[i]: mds.append(vals[i])\n",
        "  if probs[-1]>=probs[-2]: mds.append(vals[-1])\n",
        "  if most_likely:\n",
        "    max_prob = max([probs[vals.index(x)] for x in mds])\n",
        "    mds = [x for x in mds if probs[vals.index(x)]==max_prob]\n",
        "  return mds"
      ],
      "metadata": {
        "cellView": "form",
        "id": "C6Mo7gOW24G2"
      },
      "execution_count": null,
      "outputs": []
    },
    {
      "cell_type": "code",
      "source": [
        "#@title Медиана выборки (вариационного ряда)\n",
        "def myMedianFromSeries(vals):\n",
        "  vals.sort()\n",
        "  if (len(vals) % 2) != 0:\n",
        "    return vals[int((len(probs)+1)/2-1)]\n",
        "  else:\n",
        "    return 0.5*(vals[int((len(vals))/2-1)]+vals[int((len(vals))/2+1-1)])"
      ],
      "metadata": {
        "cellView": "form",
        "id": "68m2sLzHJOLf"
      },
      "execution_count": null,
      "outputs": []
    },
    {
      "cell_type": "code",
      "source": [
        "#@title Математическое ожидание выборки (выборочное среднее)\n",
        "def myExpectedValueFromSeries(vals):\n",
        "  return sum(vals)/len(vals)"
      ],
      "metadata": {
        "cellView": "form",
        "id": "5Qyb6N-dNhIz"
      },
      "execution_count": null,
      "outputs": []
    },
    {
      "cell_type": "code",
      "source": [
        "#@title Дисперсия выборки (выборочная дисперсия)\n",
        "def myVarianceFromSeries(vals):\n",
        "  return 1/len(vals)*sum(map(lambda a: (a - myExpectedValueFromSeries(vals))**2, vals))"
      ],
      "metadata": {
        "cellView": "form",
        "id": "k_UWqdCHM5Qn"
      },
      "execution_count": null,
      "outputs": []
    },
    {
      "cell_type": "code",
      "source": [
        "#@title Выборка из эмпирического распределения\n",
        "def myGenerateSeriesFromValsProbs(vals,probs,znam):\n",
        "  vals2=[]\n",
        "  for v,p in zip(vals,probs):\n",
        "    vals2+=[v]*int(p*znam)\n",
        "  return vals2"
      ],
      "metadata": {
        "id": "spw_HqyhM88U",
        "cellView": "form"
      },
      "execution_count": null,
      "outputs": []
    },
    {
      "cell_type": "code",
      "source": [
        "#@title Эмпирическое распределение из выборки\n",
        "def myGenerateValsProbsFromSeries(vals, raw=False):\n",
        "  vals2, probs = np.unique(vals, return_counts=True)\n",
        "  if not raw: probs = probs/len(vals)\n",
        "  if not raw: return vals2,probs\n",
        "  else: return vals2,probs,len(vals)"
      ],
      "metadata": {
        "id": "NFgELbPaXQ5z"
      },
      "execution_count": null,
      "outputs": []
    },
    {
      "cell_type": "markdown",
      "source": [
        "---\n",
        "## Code itself"
      ],
      "metadata": {
        "id": "A94LZCzwO-Fx"
      }
    },
    {
      "cell_type": "code",
      "source": [
        "vals = [1,2,3,4,5]\n",
        "probs = [1/8,1/4,1/6,1/12,9/24]"
      ],
      "metadata": {
        "id": "czPns0Ii2sLr"
      },
      "execution_count": null,
      "outputs": []
    },
    {
      "cell_type": "code",
      "source": [
        "myModas(vals, probs)"
      ],
      "metadata": {
        "colab": {
          "base_uri": "https://localhost:8080/"
        },
        "id": "3hc3lPKY3qlz",
        "outputId": "27215b3a-b4bc-440c-c962-5da90939dc4e"
      },
      "execution_count": null,
      "outputs": [
        {
          "output_type": "execute_result",
          "data": {
            "text/plain": [
              "[2, 5]"
            ]
          },
          "metadata": {},
          "execution_count": 277
        }
      ]
    },
    {
      "cell_type": "code",
      "source": [
        "np.random.seed(71)\n",
        "sample = np.random.uniform(10, 13, 19) #генерация выборки\n",
        "with np.printoptions(precision=2):\n",
        "  print(sample) #вывод выборки на печать\n",
        "print(sum(sample)/len(sample))"
      ],
      "metadata": {
        "colab": {
          "base_uri": "https://localhost:8080/"
        },
        "id": "MTG6s24C5tfN",
        "outputId": "27528413-4903-4368-987a-8385addc6221"
      },
      "execution_count": null,
      "outputs": [
        {
          "output_type": "stream",
          "name": "stdout",
          "text": [
            "[10.56 11.16 12.5  10.6  12.75 12.36 12.17 12.99 12.54 10.7  10.97 12.15\n",
            " 10.31 11.8  10.41 12.7  10.74 12.86 12.36]\n",
            "11.716385300416185\n"
          ]
        }
      ]
    },
    {
      "cell_type": "code",
      "source": [
        "vals = [4,5,7,9,10,12]\n",
        "probs = [2/10,1/10,1/10,3/10,1/10,2/10]\n",
        "ser = myGenerateSeriesFromValsProbs(vals,probs,10)"
      ],
      "metadata": {
        "id": "s8dy48jGOVvi"
      },
      "execution_count": null,
      "outputs": []
    },
    {
      "cell_type": "code",
      "source": [
        "myVarianceFromSeries(ser)"
      ],
      "metadata": {
        "colab": {
          "base_uri": "https://localhost:8080/"
        },
        "id": "U4o5z12UIJBG",
        "outputId": "c5c5ff99-f246-49a1-fe13-b54d2ddf0944"
      },
      "execution_count": null,
      "outputs": [
        {
          "output_type": "execute_result",
          "data": {
            "text/plain": [
              "8.090000000000002"
            ]
          },
          "metadata": {},
          "execution_count": 271
        }
      ]
    },
    {
      "cell_type": "code",
      "source": [
        "myMedianFromSeries(ser)"
      ],
      "metadata": {
        "colab": {
          "base_uri": "https://localhost:8080/"
        },
        "id": "ggJik0TFKJlL",
        "outputId": "8beec5dc-f973-43c5-ce34-0d3887df158d"
      },
      "execution_count": null,
      "outputs": [
        {
          "output_type": "execute_result",
          "data": {
            "text/plain": [
              "9.0"
            ]
          },
          "metadata": {},
          "execution_count": 273
        }
      ]
    },
    {
      "cell_type": "code",
      "source": [
        "myModas(vals,probs)"
      ],
      "metadata": {
        "colab": {
          "base_uri": "https://localhost:8080/"
        },
        "id": "wcO4sAT3I7qu",
        "outputId": "7d1df5c8-45c7-4201-ac94-7a683e5cdfdb"
      },
      "execution_count": null,
      "outputs": [
        {
          "output_type": "execute_result",
          "data": {
            "text/plain": [
              "[4, 9, 12]"
            ]
          },
          "metadata": {},
          "execution_count": 272
        }
      ]
    },
    {
      "cell_type": "code",
      "source": [
        "vals=[4,6,3,4,4,2,4,4,5,1,2,1]"
      ],
      "metadata": {
        "id": "qOhb5R54X4Kl"
      },
      "execution_count": null,
      "outputs": []
    },
    {
      "cell_type": "code",
      "source": [
        "myGenerateValsProbsFromSeries(vals,True)"
      ],
      "metadata": {
        "colab": {
          "base_uri": "https://localhost:8080/"
        },
        "id": "b2b-uUZfX-vm",
        "outputId": "a7ed8113-edae-4106-a266-2d1bde117f77"
      },
      "execution_count": null,
      "outputs": [
        {
          "output_type": "execute_result",
          "data": {
            "text/plain": [
              "(array([1, 2, 3, 4, 5, 6]), array([2, 2, 1, 5, 1, 1]), 12)"
            ]
          },
          "metadata": {},
          "execution_count": 298
        }
      ]
    },
    {
      "cell_type": "code",
      "source": [
        "myExpectedValueFromSeries(vals)"
      ],
      "metadata": {
        "colab": {
          "base_uri": "https://localhost:8080/"
        },
        "id": "CXNKqNsyYWlO",
        "outputId": "660c8b72-ab7f-441e-c044-ca9c2c57c446"
      },
      "execution_count": null,
      "outputs": [
        {
          "output_type": "execute_result",
          "data": {
            "text/plain": [
              "3.3333333333333335"
            ]
          },
          "metadata": {},
          "execution_count": 290
        }
      ]
    },
    {
      "cell_type": "code",
      "source": [
        "myVarianceFromSeries(vals)"
      ],
      "metadata": {
        "colab": {
          "base_uri": "https://localhost:8080/"
        },
        "id": "oPz8KoyaYa7u",
        "outputId": "7900b84b-5525-468e-a0bc-8e57f5b5bb0e"
      },
      "execution_count": null,
      "outputs": [
        {
          "output_type": "execute_result",
          "data": {
            "text/plain": [
              "2.2222222222222223"
            ]
          },
          "metadata": {},
          "execution_count": 291
        }
      ]
    },
    {
      "cell_type": "code",
      "source": [
        "myMedianFromSeries(vals)"
      ],
      "metadata": {
        "colab": {
          "base_uri": "https://localhost:8080/"
        },
        "id": "LN3q-LZPYjdE",
        "outputId": "181875b1-9b9c-4b64-c58c-404df2702866"
      },
      "execution_count": null,
      "outputs": [
        {
          "output_type": "execute_result",
          "data": {
            "text/plain": [
              "4.0"
            ]
          },
          "metadata": {},
          "execution_count": 292
        }
      ]
    },
    {
      "cell_type": "code",
      "source": [
        "myModas(*myGenerateValsProbsFromSeries(vals,False),True)"
      ],
      "metadata": {
        "colab": {
          "base_uri": "https://localhost:8080/"
        },
        "id": "I3tqYF9VYm2v",
        "outputId": "54dd85ad-59c8-44cb-bcfe-7175e3891565"
      },
      "execution_count": null,
      "outputs": [
        {
          "output_type": "execute_result",
          "data": {
            "text/plain": [
              "[4]"
            ]
          },
          "metadata": {},
          "execution_count": 304
        }
      ]
    },
    {
      "cell_type": "code",
      "source": [
        "import csv"
      ],
      "metadata": {
        "id": "BMwfoFD_Z4RT"
      },
      "execution_count": null,
      "outputs": []
    },
    {
      "cell_type": "code",
      "source": [
        "with open('Binomial_10000_103.csv', newline='') as f:\n",
        "    reader = csv.reader(f)\n",
        "    data = list(reader)"
      ],
      "metadata": {
        "id": "1Gs_UMcub9RV"
      },
      "execution_count": null,
      "outputs": []
    },
    {
      "cell_type": "code",
      "source": [
        "data=list(map(float,list(map(lambda a: a[0], data))))"
      ],
      "metadata": {
        "id": "az_TKnlUcUNc"
      },
      "execution_count": null,
      "outputs": []
    },
    {
      "cell_type": "code",
      "source": [
        "sum(data)/len(data)"
      ],
      "metadata": {
        "colab": {
          "base_uri": "https://localhost:8080/"
        },
        "id": "qhzL9sg8c0BY",
        "outputId": "c175e8e4-b6ef-4149-f215-52198b1dee8b"
      },
      "execution_count": null,
      "outputs": [
        {
          "output_type": "execute_result",
          "data": {
            "text/plain": [
              "14.5464"
            ]
          },
          "metadata": {},
          "execution_count": 322
        }
      ]
    },
    {
      "cell_type": "code",
      "source": [
        "myVarianceFromSeries(data)"
      ],
      "metadata": {
        "colab": {
          "base_uri": "https://localhost:8080/"
        },
        "id": "pj89yfv4cwv-",
        "outputId": "dd1606d0-48fc-4643-c58c-e809bc621c83"
      },
      "execution_count": null,
      "outputs": [
        {
          "output_type": "execute_result",
          "data": {
            "text/plain": [
              "0.43824704000003795"
            ]
          },
          "metadata": {},
          "execution_count": 323
        }
      ]
    },
    {
      "cell_type": "markdown",
      "source": [
        "---\n",
        "---\n",
        "# Week 7"
      ],
      "metadata": {
        "id": "Mi8lIdZDPEZ9"
      }
    },
    {
      "cell_type": "markdown",
      "source": [
        "---\n",
        "## Function Definitions"
      ],
      "metadata": {
        "id": "ts91gFlMmxLB"
      }
    },
    {
      "cell_type": "code",
      "source": [
        "#@title Выборочный момент н-го порядка\n",
        "def MyNthMoment(vals, n=1):\n",
        "  return sum(x**n for x in vals)/len(vals)"
      ],
      "metadata": {
        "id": "2PH80yPaWbUV"
      },
      "execution_count": null,
      "outputs": []
    },
    {
      "cell_type": "code",
      "source": [
        "#@title Смещённая выборочная дисперсия\n",
        "def MyVariance3(vals):\n",
        "  return MyNthMoment(vals,2)-MyNthMoment(vals)**2"
      ],
      "metadata": {
        "id": "ZARpI7dXZDMr"
      },
      "execution_count": null,
      "outputs": []
    },
    {
      "cell_type": "code",
      "source": [
        "#@title Несмещёная выборочная дисперсия\n",
        "def MyNotShiftedVariance(vals):\n",
        "  return len(vals)/(len(vals)-1) * MyVariance3(vals)"
      ],
      "metadata": {
        "id": "OjM0WnXLaa67"
      },
      "execution_count": null,
      "outputs": []
    },
    {
      "cell_type": "code",
      "source": [
        "#@title Квантиль альфа-уровня\n",
        "def MyQuantile(vals, alpha):\n",
        "  vals.sort()\n",
        "  if (len(vals)*alpha) == int(len(vals)*alpha):\n",
        "    return (vals[int(len(vals)*alpha)-1]+vals[int(len(vals)*alpha)-1+1])/2\n",
        "  else:\n",
        "    return vals(round(len(vals)*alpha)+1)"
      ],
      "metadata": {
        "id": "v5bUfbZ5lhtH"
      },
      "execution_count": null,
      "outputs": []
    },
    {
      "cell_type": "markdown",
      "source": [
        "---\n",
        "## Code itself"
      ],
      "metadata": {
        "id": "HTAsEN-bm13-"
      }
    },
    {
      "cell_type": "code",
      "source": [
        "a = [3,1,3,2,2,3,1,3,1,4,1,2,1,4,3,2,3,3,1,0,1,3,3,1,2,2,5,2,2,0]"
      ],
      "metadata": {
        "id": "1QLS4OW3PNGn"
      },
      "execution_count": null,
      "outputs": []
    },
    {
      "cell_type": "code",
      "source": [
        "vals,probs=myGenerateValsProbsFromSeries(a)"
      ],
      "metadata": {
        "id": "Wbsz3Cf_PZ_V"
      },
      "execution_count": null,
      "outputs": []
    },
    {
      "cell_type": "code",
      "source": [
        "vals,probs=myGenerateValsProbsFromSeries(a)"
      ],
      "metadata": {
        "id": "nU_5xyWiR5zH"
      },
      "execution_count": null,
      "outputs": []
    },
    {
      "cell_type": "code",
      "source": [
        "GenerateDefinitionOfDistributionFunction(vals,probs)"
      ],
      "metadata": {
        "colab": {
          "base_uri": "https://localhost:8080/"
        },
        "id": "VDdhdJTxQdrR",
        "outputId": "b06fe1b7-de7d-4302-c328-3866d19cf364"
      },
      "execution_count": null,
      "outputs": [
        {
          "output_type": "execute_result",
          "data": {
            "text/plain": [
              "['0 if x<=0',\n",
              " '0.06666667 if 0<x<=1',\n",
              " '0.33333333 if 1<x<=2',\n",
              " '0.60000000 if 2<x<=3',\n",
              " '0.90000000 if 3<x<=4',\n",
              " '0.96666667 if 4<x<=5',\n",
              " '1 if x>5']"
            ]
          },
          "metadata": {},
          "execution_count": 46
        }
      ]
    },
    {
      "cell_type": "code",
      "source": [
        "vals"
      ],
      "metadata": {
        "colab": {
          "base_uri": "https://localhost:8080/"
        },
        "id": "gdAtdxfBWBiu",
        "outputId": "7c7b1beb-f30e-4dbc-b94c-b596770a7812"
      },
      "execution_count": null,
      "outputs": [
        {
          "output_type": "execute_result",
          "data": {
            "text/plain": [
              "array([0, 1, 2, 3, 4, 5])"
            ]
          },
          "metadata": {},
          "execution_count": 61
        }
      ]
    },
    {
      "cell_type": "code",
      "source": [
        "probs"
      ],
      "metadata": {
        "colab": {
          "base_uri": "https://localhost:8080/"
        },
        "id": "GJSYSfZ1WFXx",
        "outputId": "f457f9b2-e16d-416c-ebf9-e25813b846e4"
      },
      "execution_count": null,
      "outputs": [
        {
          "output_type": "execute_result",
          "data": {
            "text/plain": [
              "array([0.06666667, 0.26666667, 0.26666667, 0.3       , 0.06666667,\n",
              "       0.03333333])"
            ]
          },
          "metadata": {},
          "execution_count": 64
        }
      ]
    },
    {
      "cell_type": "code",
      "source": [
        "plt.bar(vals,probs)"
      ],
      "metadata": {
        "colab": {
          "base_uri": "https://localhost:8080/",
          "height": 283
        },
        "id": "6MP01BQ5SZSR",
        "outputId": "c20621bf-6b91-4f13-e94c-2f97259815cd"
      },
      "execution_count": null,
      "outputs": [
        {
          "output_type": "execute_result",
          "data": {
            "text/plain": [
              "<BarContainer object of 6 artists>"
            ]
          },
          "metadata": {},
          "execution_count": 68
        },
        {
          "output_type": "display_data",
          "data": {
            "text/plain": [
              "<Figure size 432x288 with 1 Axes>"
            ],
            "image/png": "[encoded data removed]"
          },
          "metadata": {
            "needs_background": "light"
          }
        }
      ]
    },
    {
      "cell_type": "code",
      "source": [
        "MyNthMoment(a)"
      ],
      "metadata": {
        "colab": {
          "base_uri": "https://localhost:8080/"
        },
        "id": "P8rbI7g8ayQ-",
        "outputId": "974807e1-d3f6-440f-e1be-09efda16b390"
      },
      "execution_count": null,
      "outputs": [
        {
          "output_type": "execute_result",
          "data": {
            "text/plain": [
              "2.1333333333333333"
            ]
          },
          "metadata": {},
          "execution_count": 101
        }
      ]
    },
    {
      "cell_type": "code",
      "source": [
        "MyVariance3(a)"
      ],
      "metadata": {
        "colab": {
          "base_uri": "https://localhost:8080/"
        },
        "id": "15nRp_b8a6NL",
        "outputId": "2baaee21-dc91-4751-a58e-eb93234c7ea7"
      },
      "execution_count": null,
      "outputs": [
        {
          "output_type": "execute_result",
          "data": {
            "text/plain": [
              "1.3822222222222225"
            ]
          },
          "metadata": {},
          "execution_count": 102
        }
      ]
    },
    {
      "cell_type": "code",
      "source": [
        "MyNotShiftedVariance(a)"
      ],
      "metadata": {
        "colab": {
          "base_uri": "https://localhost:8080/"
        },
        "id": "CbJQS3FWa8iR",
        "outputId": "abadfd46-ba51-453f-9078-fb4a956c49cb"
      },
      "execution_count": null,
      "outputs": [
        {
          "output_type": "execute_result",
          "data": {
            "text/plain": [
              "1.4298850574712647"
            ]
          },
          "metadata": {},
          "execution_count": 103
        }
      ]
    },
    {
      "cell_type": "code",
      "source": [
        "myVarianceFromSeries(a)"
      ],
      "metadata": {
        "colab": {
          "base_uri": "https://localhost:8080/"
        },
        "id": "rGpGKx11bDiF",
        "outputId": "b7f975c9-ebaa-4a9a-fa8f-782e545b8bd7"
      },
      "execution_count": null,
      "outputs": [
        {
          "output_type": "execute_result",
          "data": {
            "text/plain": [
              "1.3822222222222222"
            ]
          },
          "metadata": {},
          "execution_count": 108
        }
      ]
    },
    {
      "cell_type": "code",
      "source": [
        "np.quantile(a,0.75)"
      ],
      "metadata": {
        "colab": {
          "base_uri": "https://localhost:8080/"
        },
        "id": "AoYIsQFXgeZ_",
        "outputId": "40574880-27da-4ac2-a9e3-fb2befbe8eec"
      },
      "execution_count": null,
      "outputs": [
        {
          "output_type": "execute_result",
          "data": {
            "text/plain": [
              "3.0"
            ]
          },
          "metadata": {},
          "execution_count": 113
        }
      ]
    },
    {
      "cell_type": "code",
      "source": [
        "salaries=\"\"\"25960\n",
        "43156\n",
        "47526\n",
        "32166\n",
        "31163\n",
        "27403\n",
        "31647\n",
        "30097\n",
        "36081\n",
        "31286\n",
        "78946\n",
        "58310\n",
        "31008\n",
        "39797\n",
        "40728\n",
        "26053\n",
        "42921\n",
        "25318\n",
        "32473\n",
        "38005\n",
        "71553\n",
        "25699\n",
        "27580\n",
        "27948\n",
        "33258\n",
        "44692\n",
        "27887\n",
        "30125\n",
        "42434\n",
        "30775\n",
        "101662\n",
        "50135\n",
        "56005\n",
        "30820\n",
        "36048\n",
        "32013\n",
        "29892\n",
        "26834\n",
        "30112\n",
        "34809\n",
        "27339\n",
        "27455\n",
        "37764\n",
        "33137\n",
        "37867\n",
        "24550\n",
        "25663\n",
        "25719\n",
        "39755\n",
        "48316\n",
        "28400\n",
        "28232\n",
        "26999\n",
        "65881\n",
        "26108\n",
        "35722\n",
        "35619\n",
        "37949\n",
        "30647\n",
        "31192\n",
        "26555\n",
        "73261\n",
        "37605\n",
        "29566\n",
        "28256\n",
        "26754\n",
        "30764\n",
        "39707\n",
        "33933\n",
        "61937\n",
        "31990\n",
        "27927\n",
        "46583\n",
        "62555\n",
        "34944\n",
        "26108\n",
        "27028\n",
        "96930\n",
        "86560\n",
        "33882\n",
        "\"\"\".split()"
      ],
      "metadata": {
        "id": "rkEoDZKViNcx"
      },
      "execution_count": null,
      "outputs": []
    },
    {
      "cell_type": "code",
      "source": [
        "salaries=list(map(float,salaries))"
      ],
      "metadata": {
        "id": "FTPwGEGmiY9N"
      },
      "execution_count": null,
      "outputs": []
    },
    {
      "cell_type": "code",
      "source": [
        "salaries.sort()"
      ],
      "metadata": {
        "id": "-DR37b5uigYz"
      },
      "execution_count": null,
      "outputs": []
    },
    {
      "cell_type": "code",
      "source": [
        "salaries[62-1]"
      ],
      "metadata": {
        "colab": {
          "base_uri": "https://localhost:8080/"
        },
        "id": "toJho_PqiiWZ",
        "outputId": "4b6ad92f-e4c8-4f91-ce6a-441650681d2e"
      },
      "execution_count": null,
      "outputs": [
        {
          "output_type": "execute_result",
          "data": {
            "text/plain": [
              "42434.0"
            ]
          },
          "metadata": {},
          "execution_count": 126
        }
      ]
    },
    {
      "cell_type": "code",
      "source": [],
      "metadata": {
        "id": "GdqXCZIgjN4k"
      },
      "execution_count": null,
      "outputs": []
    },
    {
      "cell_type": "code",
      "source": [
        "np.histogram(salaries,10)"
      ],
      "metadata": {
        "colab": {
          "base_uri": "https://localhost:8080/"
        },
        "id": "mLv7EaFkij13",
        "outputId": "cce6c31c-7391-4a28-da7a-c512725d560e"
      },
      "execution_count": null,
      "outputs": [
        {
          "output_type": "execute_result",
          "data": {
            "text/plain": [
              "(array([41, 19,  7,  2,  4,  1,  2,  1,  1,  2]),\n",
              " array([ 24550. ,  32261.2,  39972.4,  47683.6,  55394.8,  63106. ,\n",
              "         70817.2,  78528.4,  86239.6,  93950.8, 101662. ]))"
            ]
          },
          "metadata": {},
          "execution_count": 127
        }
      ]
    },
    {
      "cell_type": "code",
      "source": [
        "MyNthMoment(salaries)"
      ],
      "metadata": {
        "colab": {
          "base_uri": "https://localhost:8080/"
        },
        "id": "uh0Z-aufjSlO",
        "outputId": "8bc75166-aa2e-4e48-fc04-1e45ab6da8f2"
      },
      "execution_count": null,
      "outputs": [
        {
          "output_type": "execute_result",
          "data": {
            "text/plain": [
              "38468.55"
            ]
          },
          "metadata": {},
          "execution_count": 128
        }
      ]
    },
    {
      "cell_type": "code",
      "source": [
        "MyVariance3(salaries)"
      ],
      "metadata": {
        "colab": {
          "base_uri": "https://localhost:8080/"
        },
        "id": "WS2v7_1HjWxg",
        "outputId": "ec677934-917d-4101-fa81-d8e2d5489ca7"
      },
      "execution_count": null,
      "outputs": [
        {
          "output_type": "execute_result",
          "data": {
            "text/plain": [
              "264880095.44749975"
            ]
          },
          "metadata": {},
          "execution_count": 129
        }
      ]
    },
    {
      "cell_type": "code",
      "source": [
        "MyNotShiftedVariance(salaries)"
      ],
      "metadata": {
        "colab": {
          "base_uri": "https://localhost:8080/"
        },
        "id": "UyBkSv5rjajm",
        "outputId": "a462c971-adef-4449-8df9-8ad3d0bc9dfb"
      },
      "execution_count": null,
      "outputs": [
        {
          "output_type": "execute_result",
          "data": {
            "text/plain": [
              "268233008.04810104"
            ]
          },
          "metadata": {},
          "execution_count": 130
        }
      ]
    },
    {
      "cell_type": "code",
      "source": [
        "np.quantile(salaries,0.25)"
      ],
      "metadata": {
        "colab": {
          "base_uri": "https://localhost:8080/"
        },
        "id": "OB4PpLShjfED",
        "outputId": "c9c500f3-956a-4a79-c5da-f09c2a471bd1"
      },
      "execution_count": null,
      "outputs": [
        {
          "output_type": "execute_result",
          "data": {
            "text/plain": [
              "27942.75"
            ]
          },
          "metadata": {},
          "execution_count": 134
        }
      ]
    },
    {
      "cell_type": "code",
      "source": [
        "len(salaries)*0.75"
      ],
      "metadata": {
        "colab": {
          "base_uri": "https://localhost:8080/"
        },
        "id": "9dfHsfXCjxfk",
        "outputId": "79e8b040-f2a6-4ed4-ce19-7f4bbef9413a"
      },
      "execution_count": null,
      "outputs": [
        {
          "output_type": "execute_result",
          "data": {
            "text/plain": [
              "60.0"
            ]
          },
          "metadata": {},
          "execution_count": 141
        }
      ]
    },
    {
      "cell_type": "code",
      "source": [
        "(salaries[60-1]+salaries[60-1+1])/2"
      ],
      "metadata": {
        "colab": {
          "base_uri": "https://localhost:8080/"
        },
        "id": "Aw2D6o3dj9Vb",
        "outputId": "34a99f6f-0470-4769-b3ec-6e7f9b73c8e7"
      },
      "execution_count": null,
      "outputs": [
        {
          "output_type": "execute_result",
          "data": {
            "text/plain": [
              "40262.5"
            ]
          },
          "metadata": {},
          "execution_count": 142
        }
      ]
    },
    {
      "cell_type": "code",
      "source": [
        "MyQuantile(salaries, 0.5)"
      ],
      "metadata": {
        "colab": {
          "base_uri": "https://localhost:8080/"
        },
        "id": "lx9qs9JpmcBx",
        "outputId": "3f8d0117-8570-4f31-9e9e-67e487e56392"
      },
      "execution_count": null,
      "outputs": [
        {
          "output_type": "execute_result",
          "data": {
            "text/plain": [
              "32089.5"
            ]
          },
          "metadata": {},
          "execution_count": 153
        }
      ]
    },
    {
      "cell_type": "markdown",
      "source": [
        "---\n",
        "---\n",
        "#Week 8"
      ],
      "metadata": {
        "id": "fxHV6YMQRCBc"
      }
    },
    {
      "cell_type": "code",
      "source": [
        "with open('Geometric_5.csv', newline='') as f:\n",
        "    reader = csv.reader(f)\n",
        "    data = list(reader)\n",
        "data=list(map(float,list(map(lambda a: a[0], data))))"
      ],
      "metadata": {
        "id": "lCmR3pgrRG8w"
      },
      "execution_count": null,
      "outputs": []
    },
    {
      "cell_type": "code",
      "source": [
        "sum(data)/len(data)"
      ],
      "metadata": {
        "colab": {
          "base_uri": "https://localhost:8080/"
        },
        "id": "c3G5biJGRcia",
        "outputId": "58c48441-9660-44f2-b064-d1bcdfe10d90"
      },
      "execution_count": null,
      "outputs": [
        {
          "output_type": "execute_result",
          "data": {
            "text/plain": [
              "3.4511"
            ]
          },
          "metadata": {},
          "execution_count": 18
        }
      ]
    },
    {
      "cell_type": "code",
      "source": [
        "MyNthMoment(data,2)"
      ],
      "metadata": {
        "colab": {
          "base_uri": "https://localhost:8080/"
        },
        "id": "0N81Xs_xRsGg",
        "outputId": "ec5c5139-74a8-4c7a-c770-885fd08b730e"
      },
      "execution_count": null,
      "outputs": [
        {
          "output_type": "execute_result",
          "data": {
            "text/plain": [
              "20.1383"
            ]
          },
          "metadata": {},
          "execution_count": 16
        }
      ]
    },
    {
      "cell_type": "code",
      "source": [
        "(-1+sqrt(1+8*MyNthMoment(data,2)))/(2*MyNthMoment(data,2))"
      ],
      "metadata": {
        "colab": {
          "base_uri": "https://localhost:8080/"
        },
        "id": "EFi8pQCnR5IB",
        "outputId": "633448eb-4b3f-441f-a63f-fc055a01d2c6"
      },
      "execution_count": null,
      "outputs": [
        {
          "output_type": "execute_result",
          "data": {
            "text/plain": [
              "0.2912882706589805"
            ]
          },
          "metadata": {},
          "execution_count": 17
        }
      ]
    },
    {
      "cell_type": "code",
      "source": [
        "theta=1/MyNthMoment(data)"
      ],
      "metadata": {
        "id": "2DpUgiGlSqWA"
      },
      "execution_count": null,
      "outputs": []
    },
    {
      "cell_type": "code",
      "source": [
        "(1-theta)**6*theta"
      ],
      "metadata": {
        "colab": {
          "base_uri": "https://localhost:8080/"
        },
        "id": "HVtF73FFSm1P",
        "outputId": "23699d64-31df-44cb-b672-08bc930082d5"
      },
      "execution_count": null,
      "outputs": [
        {
          "output_type": "execute_result",
          "data": {
            "text/plain": [
              "0.03719318530147477"
            ]
          },
          "metadata": {},
          "execution_count": 22
        }
      ]
    },
    {
      "cell_type": "code",
      "source": [],
      "metadata": {
        "id": "gKmJAy5fTWsR"
      },
      "execution_count": null,
      "outputs": []
    },
    {
      "cell_type": "markdown",
      "source": [
        "---\n",
        "---\n",
        "# Week 9"
      ],
      "metadata": {
        "id": "WsxxkMxxO9Zo"
      }
    },
    {
      "cell_type": "code",
      "source": [
        "with open('Geometric_380.csv', newline='') as f:\n",
        "    reader = csv.reader(f)\n",
        "    data = list(reader)\n",
        "data=list(map(float,list(map(lambda a: a[0], data))))"
      ],
      "metadata": {
        "id": "jQ4h0C7xPBOM"
      },
      "execution_count": null,
      "outputs": []
    },
    {
      "cell_type": "code",
      "source": [
        "avg=sum(data)/len(data)"
      ],
      "metadata": {
        "id": "n60ekT1tPUa3"
      },
      "execution_count": null,
      "outputs": []
    },
    {
      "cell_type": "code",
      "source": [
        "stats.norm.ppf(1-(1-0.95)/2)"
      ],
      "metadata": {
        "colab": {
          "base_uri": "https://localhost:8080/"
        },
        "id": "293foWU9PeYh",
        "outputId": "fce904ff-01b8-4f85-b143-196257f370e0"
      },
      "execution_count": null,
      "outputs": [
        {
          "output_type": "execute_result",
          "data": {
            "text/plain": [
              "1.959963984540054"
            ]
          },
          "metadata": {},
          "execution_count": 65
        }
      ]
    },
    {
      "cell_type": "code",
      "source": [
        "(1/avg) - stats.norm.ppf(1-(1-0.95)/2) * (sqrt(1-(1/avg))) / (sqrt(len(data)*avg))"
      ],
      "metadata": {
        "colab": {
          "base_uri": "https://localhost:8080/"
        },
        "id": "l5qqTYT8P31h",
        "outputId": "d1044672-aab5-4c80-ebc9-6e0ae6c1504a"
      },
      "execution_count": null,
      "outputs": [
        {
          "output_type": "execute_result",
          "data": {
            "text/plain": [
              "0.36912339480221174"
            ]
          },
          "metadata": {},
          "execution_count": 70
        }
      ]
    },
    {
      "cell_type": "code",
      "source": [
        "(1/avg) + stats.norm.ppf(1-(1-0.95)/2) * (sqrt(1-(1/avg))) / (sqrt(len(data)*avg))"
      ],
      "metadata": {
        "colab": {
          "base_uri": "https://localhost:8080/"
        },
        "id": "fzFJ0-LpQL2h",
        "outputId": "95a295c0-2196-4282-b841-535322713f28"
      },
      "execution_count": null,
      "outputs": [
        {
          "output_type": "execute_result",
          "data": {
            "text/plain": [
              "0.38813683767667967"
            ]
          },
          "metadata": {},
          "execution_count": 71
        }
      ]
    },
    {
      "cell_type": "code",
      "source": [],
      "metadata": {
        "id": "FgMnLAeWRMO2"
      },
      "execution_count": null,
      "outputs": []
    },
    {
      "cell_type": "markdown",
      "source": [
        "---\n",
        "---\n",
        "# Week 10"
      ],
      "metadata": {
        "id": "7gJE110tF4lO"
      }
    },
    {
      "cell_type": "markdown",
      "source": [
        "---\n",
        "## Function Definitions"
      ],
      "metadata": {
        "id": "DdPvFisVxDtx"
      }
    },
    {
      "cell_type": "code",
      "source": [
        "#@title Генератор непрерывной эмпирической функции распределения\n",
        "def MyGenerateEmpiricDisctibutionFunction(vals):\n",
        "  mlen = len(vals)\n",
        "  def EmpDistFunc(t,mr=8):\n",
        "    loclen = mlen\n",
        "    locvals = vals\n",
        "    return round(sum(1 for x in locvals if x<t)/loclen, mr)\n",
        "  return EmpDistFunc"
      ],
      "metadata": {
        "cellView": "form",
        "id": "4drC_kkXF7yd"
      },
      "execution_count": null,
      "outputs": []
    },
    {
      "cell_type": "code",
      "source": [
        "#@title Получить файл по ссылке\n",
        "def retrieveFile(murl):\n",
        "  fileName = os.path.basename(murl)\n",
        "  urllib.request.urlretrieve(murl,fileName)\n",
        "  return fileName"
      ],
      "metadata": {
        "cellView": "form",
        "id": "gIwoOyy6g5oF"
      },
      "execution_count": null,
      "outputs": []
    },
    {
      "cell_type": "code",
      "source": [
        "#@title csv -> list of floats\n",
        "def RetrievedCsvFileToList(filename: str):\n",
        "  if filename.endswith('.csv'): filename = filename[:-4]\n",
        "  with open(f'{filename}.csv', newline='', encoding='utf-8-sig') as f:\n",
        "    reader = csv.reader(f)\n",
        "    data = list(reader)\n",
        "  data=list(map(float,list(map(lambda a: a[0], data))))\n",
        "  return data"
      ],
      "metadata": {
        "cellView": "form",
        "id": "xh4lJQVMjY0P"
      },
      "execution_count": null,
      "outputs": []
    },
    {
      "cell_type": "code",
      "source": [
        "#@title Генератор функции равномерного распределения\n",
        "def genUnDistF(vals):\n",
        "  la = min(data)\n",
        "  lb = max(data)\n",
        "  def fff(t,r=8):\n",
        "    a = la\n",
        "    b = lb\n",
        "    if (t<a): return 0\n",
        "    if t>=b: return 1\n",
        "    return round((t-a)/(b-a), r)\n",
        "  return fff"
      ],
      "metadata": {
        "id": "C1SuUoV8MrLU",
        "cellView": "form"
      },
      "execution_count": null,
      "outputs": []
    },
    {
      "cell_type": "markdown",
      "source": [
        "---\n",
        "## Code Itself"
      ],
      "metadata": {
        "id": "IIjVrYCGxDDF"
      }
    },
    {
      "cell_type": "code",
      "source": [
        "with open('hypothesis_2.csv', newline='') as f:\n",
        "    reader = csv.reader(f)\n",
        "    data = list(reader)\n",
        "data=data[1:]\n",
        "data=list(map(float,list(map(lambda a: a[0], data))))"
      ],
      "metadata": {
        "id": "RxpUzMnsK_mR"
      },
      "execution_count": null,
      "outputs": []
    },
    {
      "cell_type": "code",
      "source": [
        "a=min(data)\n",
        "b=max(data)"
      ],
      "metadata": {
        "id": "4nSHcHWiLWI7"
      },
      "execution_count": null,
      "outputs": []
    },
    {
      "cell_type": "code",
      "source": [
        "f=MyGenerateEmpiricDisctibutionFunction(data)"
      ],
      "metadata": {
        "id": "4ax2JKeaLcjm"
      },
      "execution_count": null,
      "outputs": []
    },
    {
      "cell_type": "code",
      "source": [
        "f_U=genUnDistF(data)"
      ],
      "metadata": {
        "id": "4s9-Cdh9M3Cg"
      },
      "execution_count": null,
      "outputs": []
    },
    {
      "cell_type": "code",
      "source": [
        "# неправильно!\n",
        "for n in range(int(a),int(b-1)):\n",
        "  print(abs(f_U(n-1,2)-f(n,2)))"
      ],
      "metadata": {
        "colab": {
          "base_uri": "https://localhost:8080/"
        },
        "id": "HiPR8fYKRlmd",
        "outputId": "878e640f-9c77-44c7-b24a-d687d3cb1d0d"
      },
      "execution_count": null,
      "outputs": [
        {
          "output_type": "stream",
          "name": "stdout",
          "text": [
            "0.0\n",
            "0.07\n",
            "0.10999999999999999\n",
            "0.18\n",
            "0.3\n",
            "0.35\n",
            "0.37\n",
            "0.36\n",
            "0.29000000000000004\n"
          ]
        }
      ]
    },
    {
      "cell_type": "code",
      "source": [
        "GenerateDefinitionOfDistributionFunction(*myGenerateValsProbsFromSeries(data),round=2)"
      ],
      "metadata": {
        "colab": {
          "base_uri": "https://localhost:8080/"
        },
        "id": "3ULzgmPPTXuy",
        "outputId": "d6593b52-1717-46e8-899b-6f2d2934afb5"
      },
      "execution_count": null,
      "outputs": [
        {
          "output_type": "execute_result",
          "data": {
            "text/plain": [
              "['0 if x<=0.0',\n",
              " '0.07 if 0.0<x<=1.0',\n",
              " '0.21 if 1.0<x<=2.0',\n",
              " '0.38 if 2.0<x<=3.0',\n",
              " '0.60 if 3.0<x<=4.0',\n",
              " '0.75 if 4.0<x<=5.0',\n",
              " '0.87 if 5.0<x<=6.0',\n",
              " '0.96 if 6.0<x<=7.0',\n",
              " '0.99 if 7.0<x<=10.0',\n",
              " '1 if x>10.0']"
            ]
          },
          "metadata": {},
          "execution_count": 169
        }
      ]
    },
    {
      "cell_type": "code",
      "source": [],
      "metadata": {
        "id": "HklIL11PW2A8"
      },
      "execution_count": null,
      "outputs": []
    },
    {
      "cell_type": "code",
      "source": [
        "with open('Hyp_2_1_X.csv', newline='') as f:\n",
        "    reader = csv.reader(f)\n",
        "    dataX = list(reader)\n",
        "# dataX=dataX[1:]\n",
        "dataX=list(map(float,list(map(lambda a: a[0], dataX))))"
      ],
      "metadata": {
        "id": "0Hxjq7snW2Oq"
      },
      "execution_count": null,
      "outputs": []
    },
    {
      "cell_type": "code",
      "source": [
        "dataX"
      ],
      "metadata": {
        "id": "x7-zsdogbplz"
      },
      "execution_count": null,
      "outputs": []
    },
    {
      "cell_type": "code",
      "source": [
        "with open('Hyp_2_1_Y.csv', newline='') as f:\n",
        "    reader = csv.reader(f)\n",
        "    dataY = list(reader)\n",
        "# dataY=dataY[1:]\n",
        "dataY=list(map(float,list(map(lambda a: a[0], dataY))))"
      ],
      "metadata": {
        "id": "--7cNc5rW2rM"
      },
      "execution_count": null,
      "outputs": []
    },
    {
      "cell_type": "code",
      "source": [
        "GenerateDefinitionOfDistributionFunction(*myGenerateValsProbsFromSeries(dataX),round=1)"
      ],
      "metadata": {
        "colab": {
          "base_uri": "https://localhost:8080/"
        },
        "id": "C0mPkgI_XbXw",
        "outputId": "8365c2f1-b243-42bd-eaa3-ee38e4c42237"
      },
      "execution_count": null,
      "outputs": [
        {
          "output_type": "execute_result",
          "data": {
            "text/plain": [
              "['0 if x<=98.7',\n",
              " '0.1 if 98.7<x<=101.4',\n",
              " '0.2 if 101.4<x<=102.7',\n",
              " '0.3 if 102.7<x<=103.6',\n",
              " '0.4 if 103.6<x<=104.2',\n",
              " '0.5 if 104.2<x<=105.7',\n",
              " '0.6 if 105.7<x<=105.9',\n",
              " '0.7 if 105.9<x<=112.6',\n",
              " '0.8 if 112.6<x<=121.5',\n",
              " '0.9 if 121.5<x<=123.5',\n",
              " '1 if x>123.5']"
            ]
          },
          "metadata": {},
          "execution_count": 259
        }
      ]
    },
    {
      "cell_type": "code",
      "source": [
        "GenerateDefinitionOfDistributionFunction(*myGenerateValsProbsFromSeries(dataY),round=1)"
      ],
      "metadata": {
        "colab": {
          "base_uri": "https://localhost:8080/"
        },
        "id": "Xy-FrADvXexk",
        "outputId": "5989a90f-af3f-4a07-d670-7d688dd7cbe9"
      },
      "execution_count": null,
      "outputs": [
        {
          "output_type": "execute_result",
          "data": {
            "text/plain": [
              "['0 if x<=108.9',\n",
              " '0.2 if 108.9<x<=110.3',\n",
              " '0.4 if 110.3<x<=110.9',\n",
              " '0.6 if 110.9<x<=113.6',\n",
              " '0.8 if 113.6<x<=116.7',\n",
              " '1 if x>116.7']"
            ]
          },
          "metadata": {},
          "execution_count": 260
        }
      ]
    },
    {
      "cell_type": "code",
      "source": [
        "myGenerateValsProbsFromSeries(dataX)"
      ],
      "metadata": {
        "colab": {
          "base_uri": "https://localhost:8080/"
        },
        "id": "Srv-Qo6AXjyt",
        "outputId": "a57f8f62-9b65-4b7c-b7e6-2cf710d35dc0"
      },
      "execution_count": null,
      "outputs": [
        {
          "output_type": "execute_result",
          "data": {
            "text/plain": [
              "(array([ 98.7, 101.4, 102.7, 103.6, 105.7, 105.9, 112.6, 121.5, 123.5]),\n",
              " array([0.11111111, 0.11111111, 0.11111111, 0.11111111, 0.11111111,\n",
              "        0.11111111, 0.11111111, 0.11111111, 0.11111111]))"
            ]
          },
          "metadata": {},
          "execution_count": 228
        }
      ]
    },
    {
      "cell_type": "code",
      "source": [
        "g_x=GenerateDistributionFunction(*myGenerateValsProbsFromSeries(dataX))\n",
        "g_y=GenerateDistributionFunction(*myGenerateValsProbsFromSeries(dataY))"
      ],
      "metadata": {
        "id": "gI4NtpUAYJy3"
      },
      "execution_count": null,
      "outputs": []
    },
    {
      "cell_type": "code",
      "source": [
        "max([abs(g_x(x)-g_y(x)) for x in np.arange(98.7,123.7,0.1)])*sqrt((len(dataX)*len(dataY))/(len(dataX)+len(dataY)))"
      ],
      "metadata": {
        "colab": {
          "base_uri": "https://localhost:8080/"
        },
        "id": "lWwAOrmoX8J5",
        "outputId": "44609f77-d682-4b52-df3e-ebfdaa11a6af"
      },
      "execution_count": null,
      "outputs": [
        {
          "output_type": "execute_result",
          "data": {
            "text/plain": [
              "1.2171612389003694"
            ]
          },
          "metadata": {},
          "execution_count": 262
        }
      ]
    },
    {
      "cell_type": "code",
      "source": [
        "max([abs(g_x(x)-g_y(x)) for x in np.arange(98.7,123.7,0.1)])"
      ],
      "metadata": {
        "colab": {
          "base_uri": "https://localhost:8080/"
        },
        "id": "I8zU9XI-cMSJ",
        "outputId": "7c1df12d-8e91-4ff9-f9da-ad2b01d08f89"
      },
      "execution_count": null,
      "outputs": [
        {
          "output_type": "execute_result",
          "data": {
            "text/plain": [
              "0.6666666666666667"
            ]
          },
          "metadata": {},
          "execution_count": 261
        }
      ]
    },
    {
      "cell_type": "code",
      "source": [
        "0.7*sqrt((len(dataX)*len(dataY))/(len(dataX)+len(dataY)))"
      ],
      "metadata": {
        "colab": {
          "base_uri": "https://localhost:8080/"
        },
        "id": "vKUEK-2cZzx6",
        "outputId": "dd852ef4-24df-4716-cdb2-38da8382a4b6"
      },
      "execution_count": null,
      "outputs": [
        {
          "output_type": "execute_result",
          "data": {
            "text/plain": [
              "1.2780193008453875"
            ]
          },
          "metadata": {},
          "execution_count": 263
        }
      ]
    },
    {
      "cell_type": "code",
      "source": [
        "len(dataX)"
      ],
      "metadata": {
        "colab": {
          "base_uri": "https://localhost:8080/"
        },
        "id": "NMeLJH10bfW8",
        "outputId": "9a2d5c68-f07b-45ee-bd3d-b356f81756be"
      },
      "execution_count": null,
      "outputs": [
        {
          "output_type": "execute_result",
          "data": {
            "text/plain": [
              "9"
            ]
          },
          "metadata": {},
          "execution_count": 254
        }
      ]
    },
    {
      "cell_type": "code",
      "source": [
        "MyVariance2(*myGenerateValsProbsFromSeries(dataX))"
      ],
      "metadata": {
        "colab": {
          "base_uri": "https://localhost:8080/"
        },
        "id": "07qCTVdddPNV",
        "outputId": "2c9ea819-b50d-4b08-fe13-92353d398f97"
      },
      "execution_count": null,
      "outputs": [
        {
          "output_type": "execute_result",
          "data": {
            "text/plain": [
              "64.52959999999621"
            ]
          },
          "metadata": {},
          "execution_count": 267
        }
      ]
    },
    {
      "cell_type": "code",
      "source": [
        "MyVariance3(dataX)"
      ],
      "metadata": {
        "colab": {
          "base_uri": "https://localhost:8080/"
        },
        "id": "UNk7JQMTdWRO",
        "outputId": "43230f24-ab32-4e72-e131-446edaab8972"
      },
      "execution_count": null,
      "outputs": [
        {
          "output_type": "execute_result",
          "data": {
            "text/plain": [
              "64.52959999999985"
            ]
          },
          "metadata": {},
          "execution_count": 268
        }
      ]
    },
    {
      "cell_type": "code",
      "source": [],
      "metadata": {
        "id": "dFOn76GrebDU"
      },
      "execution_count": null,
      "outputs": []
    },
    {
      "cell_type": "code",
      "source": [
        "with open('hypothesis_5_X.csv', newline='') as f:\n",
        "    reader = csv.reader(f)\n",
        "    dataX = list(reader)\n",
        "# dataY=dataY[1:]\n",
        "dataX=list(map(float,list(map(lambda a: a[0], dataX))))"
      ],
      "metadata": {
        "id": "9s7pYdPmecaf"
      },
      "execution_count": null,
      "outputs": []
    },
    {
      "cell_type": "code",
      "source": [
        "with open('hypothesis_5_Y.csv', newline='', encoding='utf-8-sig') as f:\n",
        "    reader = csv.reader(f)\n",
        "    dataY = list(reader)\n",
        "# dataY=dataY[1:]\n",
        "dataY=list(map(float,list(map(lambda a: a[0], dataY))))"
      ],
      "metadata": {
        "id": "lqNAXhBieg2q"
      },
      "execution_count": null,
      "outputs": []
    },
    {
      "cell_type": "code",
      "source": [
        "sqrt((len(dataX)*len(dataY))/(len(dataX)+len(dataY)))*(MyNthMoment(dataX)-MyNthMoment(dataY))/sqrt(((len(dataX)-1)*MyNotShiftedVariance(dataX)+(len(dataY)-1)*MyNotShiftedVariance(dataY))/(len(dataX)+len(dataY)-2))"
      ],
      "metadata": {
        "colab": {
          "base_uri": "https://localhost:8080/"
        },
        "id": "UsLEqmkJejhq",
        "outputId": "9e7ae490-e8a9-4d14-d7c9-e19bf6a2df13"
      },
      "execution_count": null,
      "outputs": [
        {
          "output_type": "execute_result",
          "data": {
            "text/plain": [
              "-2.753039845218708"
            ]
          },
          "metadata": {},
          "execution_count": 272
        }
      ]
    },
    {
      "cell_type": "code",
      "source": [],
      "metadata": {
        "id": "JPkTiFxqgljl"
      },
      "execution_count": null,
      "outputs": []
    },
    {
      "cell_type": "code",
      "source": [
        "print(os.path.basename('https://courses.openedu.ru/assets/courseware/v1/9324986324003388812cd9988a00d9a9/asset-v1:ITMOUniversity+APPSTAT+fall_2022_ITMO+type@asset+block/hypothesis_6_X.csv'))"
      ],
      "metadata": {
        "colab": {
          "base_uri": "https://localhost:8080/"
        },
        "id": "MUbbM8n_g2xo",
        "outputId": "abb11d44-91f7-4f33-e26f-164376db5d0f"
      },
      "execution_count": null,
      "outputs": [
        {
          "output_type": "stream",
          "name": "stdout",
          "text": [
            "hypothesis_6_X.csv\n"
          ]
        }
      ]
    },
    {
      "cell_type": "code",
      "source": [
        "retrieveFile('https://courses.openedu.ru/assets/courseware/v1/9324986324003388812cd9988a00d9a9/asset-v1:ITMOUniversity+APPSTAT+fall_2022_ITMO+type@asset+block/hypothesis_6_X.csv')"
      ],
      "metadata": {
        "colab": {
          "base_uri": "https://localhost:8080/",
          "height": 35
        },
        "id": "JLOuBUhbglyn",
        "outputId": "c9d1cbd5-6a4f-4a79-f366-4455cb1ad340"
      },
      "execution_count": null,
      "outputs": [
        {
          "output_type": "execute_result",
          "data": {
            "text/plain": [
              "'hypothesis_6_X.csv'"
            ],
            "application/vnd.google.colaboratory.intrinsic+json": {
              "type": "string"
            }
          },
          "metadata": {},
          "execution_count": 283
        }
      ]
    },
    {
      "cell_type": "code",
      "source": [
        "with open('hypothesis_6_X.csv', newline='', encoding='utf-8-sig') as f:\n",
        "    reader = csv.reader(f)\n",
        "    dataX = list(reader)\n",
        "# dataY=dataY[1:]\n",
        "dataX=list(map(float,list(map(lambda a: a[0], dataX))))"
      ],
      "metadata": {
        "id": "MeisZ3GHhL9W"
      },
      "execution_count": null,
      "outputs": []
    },
    {
      "cell_type": "code",
      "source": [
        "retrieveFile('https://courses.openedu.ru/assets/courseware/v1/a6ad1483049b98dc8a179c10d00a0b16/asset-v1:ITMOUniversity+APPSTAT+fall_2022_ITMO+type@asset+block/hypothesis_6_Y.csv')"
      ],
      "metadata": {
        "colab": {
          "base_uri": "https://localhost:8080/",
          "height": 35
        },
        "id": "Oq84sEM9iH_S",
        "outputId": "93da86ca-6e97-41d9-dc97-a7b1b5143a35"
      },
      "execution_count": null,
      "outputs": [
        {
          "output_type": "execute_result",
          "data": {
            "text/plain": [
              "'hypothesis_6_Y.csv'"
            ],
            "application/vnd.google.colaboratory.intrinsic+json": {
              "type": "string"
            }
          },
          "metadata": {},
          "execution_count": 286
        }
      ]
    },
    {
      "cell_type": "code",
      "source": [
        "with open('hypothesis_6_Y.csv', newline='', encoding='utf-8-sig') as f:\n",
        "    reader = csv.reader(f)\n",
        "    dataY = list(reader)\n",
        "# dataY=dataY[1:]\n",
        "dataY=list(map(float,list(map(lambda a: a[0], dataY))))"
      ],
      "metadata": {
        "id": "8L4L5HF3iNB2"
      },
      "execution_count": null,
      "outputs": []
    },
    {
      "cell_type": "code",
      "source": [
        "scipy.stats.f(len(dataX)-1,len(dataY)-1).ppf(0.05/2)"
      ],
      "metadata": {
        "colab": {
          "base_uri": "https://localhost:8080/"
        },
        "id": "VEIF9JQBiQUP",
        "outputId": "fd82c1fa-6864-44b0-8cb1-935ea093cf4f"
      },
      "execution_count": null,
      "outputs": [
        {
          "output_type": "execute_result",
          "data": {
            "text/plain": [
              "0.24838585469445493"
            ]
          },
          "metadata": {},
          "execution_count": 291
        }
      ]
    },
    {
      "cell_type": "code",
      "source": [
        "scipy.stats.f(len(dataX)-1,len(dataY)-1).ppf(1-0.05/2)"
      ],
      "metadata": {
        "colab": {
          "base_uri": "https://localhost:8080/"
        },
        "id": "0rv_Qg_0i5GR",
        "outputId": "73d56efd-7829-45ba-d1a1-4a44522a9152"
      },
      "execution_count": null,
      "outputs": [
        {
          "output_type": "execute_result",
          "data": {
            "text/plain": [
              "4.025994158282978"
            ]
          },
          "metadata": {},
          "execution_count": 292
        }
      ]
    },
    {
      "cell_type": "code",
      "source": [
        "MyNotShiftedVariance(dataX)/MyNotShiftedVariance(dataY)"
      ],
      "metadata": {
        "colab": {
          "base_uri": "https://localhost:8080/"
        },
        "id": "vuGdrOH7iQQe",
        "outputId": "c804a2d3-fe6e-4d24-a9b2-3542148a5934"
      },
      "execution_count": null,
      "outputs": [
        {
          "output_type": "execute_result",
          "data": {
            "text/plain": [
              "0.5184280719624661"
            ]
          },
          "metadata": {},
          "execution_count": 289
        }
      ]
    },
    {
      "cell_type": "code",
      "source": [
        "retrieveFile('https://courses.openedu.ru/assets/courseware/v1/1aabe33c4ff62f1c3aab3e833ab17152/asset-v1:ITMOUniversity+APPSTAT+fall_2022_ITMO+type@asset+block/hypothesis_4.csv')"
      ],
      "metadata": {
        "colab": {
          "base_uri": "https://localhost:8080/",
          "height": 35
        },
        "id": "IVJ8nbeYjWbo",
        "outputId": "8ce138ec-a0b2-4e35-ad9a-9c46e7e56b14"
      },
      "execution_count": null,
      "outputs": [
        {
          "output_type": "execute_result",
          "data": {
            "text/plain": [
              "'hypothesis_4.csv'"
            ],
            "application/vnd.google.colaboratory.intrinsic+json": {
              "type": "string"
            }
          },
          "metadata": {},
          "execution_count": 293
        }
      ]
    },
    {
      "cell_type": "code",
      "source": [
        "data = RetrievedCsvFileToList('hypothesis_4.csv')"
      ],
      "metadata": {
        "id": "3y4PhOWEkAn9"
      },
      "execution_count": null,
      "outputs": []
    },
    {
      "cell_type": "code",
      "source": [
        "MyNthMoment(data)"
      ],
      "metadata": {
        "colab": {
          "base_uri": "https://localhost:8080/"
        },
        "id": "bkKUBgVZkG44",
        "outputId": "80478c51-ce61-42a3-b78e-856adac8fe0a"
      },
      "execution_count": null,
      "outputs": [
        {
          "output_type": "execute_result",
          "data": {
            "text/plain": [
              "29.32146746207217"
            ]
          },
          "metadata": {},
          "execution_count": 301
        }
      ]
    },
    {
      "cell_type": "code",
      "source": [
        "sqrt(len(data))*(MyNthMoment(data)-26)/(sqrt(6))"
      ],
      "metadata": {
        "colab": {
          "base_uri": "https://localhost:8080/"
        },
        "id": "_IFI_F7ykPgh",
        "outputId": "fbe8668b-d16b-4eb0-9ea0-a845119ef0a9"
      },
      "execution_count": null,
      "outputs": [
        {
          "output_type": "execute_result",
          "data": {
            "text/plain": [
              "4.287996055191778"
            ]
          },
          "metadata": {},
          "execution_count": 308
        }
      ]
    },
    {
      "cell_type": "code",
      "source": [
        "filename=retrieveFile('https://courses.openedu.ru/assets/courseware/v1/e438443bb95ef4ade6ca5322e54200df/asset-v1:ITMOUniversity+APPSTAT+fall_2022_ITMO+type@asset+block/hypothesis_3.csv')"
      ],
      "metadata": {
        "id": "cEWqqQ43lj2V"
      },
      "execution_count": null,
      "outputs": []
    },
    {
      "cell_type": "code",
      "source": [
        "data=RetrievedCsvFileToList(filename)"
      ],
      "metadata": {
        "id": "NKHJb4wxloC0"
      },
      "execution_count": null,
      "outputs": []
    },
    {
      "cell_type": "code",
      "source": [
        "MyNthMoment(data)"
      ],
      "metadata": {
        "colab": {
          "base_uri": "https://localhost:8080/"
        },
        "id": "Vx6l1drflr4d",
        "outputId": "41e48704-56d5-403e-acc3-ac33a163db28"
      },
      "execution_count": null,
      "outputs": [
        {
          "output_type": "execute_result",
          "data": {
            "text/plain": [
              "999.7842287484671"
            ]
          },
          "metadata": {},
          "execution_count": 311
        }
      ]
    },
    {
      "cell_type": "code",
      "source": [
        "sqrt(MyNotShiftedVariance(data))"
      ],
      "metadata": {
        "colab": {
          "base_uri": "https://localhost:8080/"
        },
        "id": "7S09VXYml1Do",
        "outputId": "48caa592-e87e-4be7-d937-dfb942be68b3"
      },
      "execution_count": null,
      "outputs": [
        {
          "output_type": "execute_result",
          "data": {
            "text/plain": [
              "1.777534829255125"
            ]
          },
          "metadata": {},
          "execution_count": 312
        }
      ]
    },
    {
      "cell_type": "code",
      "source": [
        "sqrt(len(data))*(MyNthMoment(data)-1000)/(sqrt(MyNotShiftedVariance(data)))"
      ],
      "metadata": {
        "colab": {
          "base_uri": "https://localhost:8080/"
        },
        "id": "Cb547XPXlumq",
        "outputId": "f519ede6-932f-4a62-e4d0-73358c60b53e"
      },
      "execution_count": null,
      "outputs": [
        {
          "output_type": "execute_result",
          "data": {
            "text/plain": [
              "-0.542863271174323"
            ]
          },
          "metadata": {},
          "execution_count": 313
        }
      ]
    },
    {
      "cell_type": "code",
      "source": [
        "scipy.stats.t(len(data)-1).ppf(1-0.05/2)"
      ],
      "metadata": {
        "colab": {
          "base_uri": "https://localhost:8080/"
        },
        "id": "XZwF3zWsl9wC",
        "outputId": "0d125578-a921-4830-ee05-f343fc1ec6cf"
      },
      "execution_count": null,
      "outputs": [
        {
          "output_type": "execute_result",
          "data": {
            "text/plain": [
              "2.093024054408263"
            ]
          },
          "metadata": {},
          "execution_count": 314
        }
      ]
    },
    {
      "cell_type": "code",
      "source": [],
      "metadata": {
        "id": "tZVqHDmpmerU"
      },
      "execution_count": null,
      "outputs": []
    },
    {
      "cell_type": "code",
      "source": [
        "filename=retrieveFile('https://courses.openedu.ru/assets/courseware/v1/c52c156071d6c9b533a59faf69f93749/asset-v1:ITMOUniversity+APPSTAT+fall_2022_ITMO+type@asset+block/Hypothesis_1_21.csv')\n",
        "data=RetrievedCsvFileToList(filename)"
      ],
      "metadata": {
        "id": "FEtDiuNeme_b"
      },
      "execution_count": null,
      "outputs": []
    },
    {
      "cell_type": "code",
      "source": [
        "MyNthMoment(data)"
      ],
      "metadata": {
        "colab": {
          "base_uri": "https://localhost:8080/"
        },
        "id": "p0KkEWSknPro",
        "outputId": "45860781-2f52-458f-998f-31cedcea402c"
      },
      "execution_count": null,
      "outputs": [
        {
          "output_type": "execute_result",
          "data": {
            "text/plain": [
              "87.94416666666666"
            ]
          },
          "metadata": {},
          "execution_count": 318
        }
      ]
    },
    {
      "cell_type": "code",
      "source": [
        "sqrt(MyNotShiftedVariance(data))"
      ],
      "metadata": {
        "colab": {
          "base_uri": "https://localhost:8080/"
        },
        "id": "qEUSJdGSnTdf",
        "outputId": "d80f4003-d192-4475-fa2b-30bebb59467e"
      },
      "execution_count": null,
      "outputs": [
        {
          "output_type": "execute_result",
          "data": {
            "text/plain": [
              "8.489295881677604"
            ]
          },
          "metadata": {},
          "execution_count": 319
        }
      ]
    },
    {
      "cell_type": "code",
      "source": [
        "a0=91"
      ],
      "metadata": {
        "id": "FAvkxqaSv33B"
      },
      "execution_count": null,
      "outputs": []
    },
    {
      "cell_type": "code",
      "source": [
        "sqrt(len(data))*(MyNthMoment(data)-a0)/(sqrt(MyNotShiftedVariance(data)))"
      ],
      "metadata": {
        "colab": {
          "base_uri": "https://localhost:8080/"
        },
        "id": "ugksZVPmtc4j",
        "outputId": "bc09161f-6e8d-48bf-c07a-3bbe97c30cde"
      },
      "execution_count": null,
      "outputs": [
        {
          "output_type": "execute_result",
          "data": {
            "text/plain": [
              "-0.8817259417015108"
            ]
          },
          "metadata": {},
          "execution_count": 350
        }
      ]
    },
    {
      "cell_type": "code",
      "source": [
        "scipy.stats.t(len(data)-1).ppf(1-0.01/2)"
      ],
      "metadata": {
        "colab": {
          "base_uri": "https://localhost:8080/"
        },
        "id": "hjVnzNchvRsM",
        "outputId": "03792787-e11f-409b-8ee9-e1f7e481539e"
      },
      "execution_count": null,
      "outputs": [
        {
          "output_type": "execute_result",
          "data": {
            "text/plain": [
              "4.032142983557536"
            ]
          },
          "metadata": {},
          "execution_count": 351
        }
      ]
    }
  ]
}