{
  "nbformat": 4,
  "nbformat_minor": 0,
  "metadata": {
    "colab": {
      "provenance": [],
      "collapsed_sections": [
        "cf6utbDaDZCc"
      ],
      "toc_visible": true,
      "authorship_tag": "ABX9TyOK7OFYVFDCL9ehrSS9u9i5",
      "include_colab_link": true
    },
    "kernelspec": {
      "name": "python3",
      "display_name": "Python 3"
    },
    "language_info": {
      "name": "python"
    }
  },
  "cells": [
    {
      "cell_type": "markdown",
      "metadata": {
        "id": "view-in-github",
        "colab_type": "text"
      },
      "source": [
        "<a href=\"https://colab.research.google.com/github/Zaqzxcswsde/itmo-applied-statistics/blob/main/stat_tests.ipynb\" target=\"_parent\"><img src=\"https://colab.research.google.com/assets/colab-badge.svg\" alt=\"Open In Colab\"/></a>"
      ]
    },
    {
      "cell_type": "code",
      "execution_count": 31,
      "metadata": {
        "id": "-LBrSgvnnh7X"
      },
      "outputs": [],
      "source": [
        "from pandas import Series, DataFrame\n",
        "import pandas as pd\n",
        "import numpy as np\n",
        "from os import listdir\n",
        "# from google.colab import drive\n",
        "#drive.mount('/content/drive')\n",
        "# import matplotlib.pyplot as plt\n",
        "# %matplotlib inline\n",
        "import itertools\n",
        "from itertools import product\n",
        "from scipy import special\n",
        "# как можно скачать файл напрямую из гуглдиска сюда в директорию /content\n",
        "# !gdown 1Xtw5-jqrDJmh318t1jtKHvOJXxMrB9XF\n",
        "from math import factorial\n",
        "from decimal import *\n",
        "import sympy\n",
        "from itertools import product\n",
        "from math import fsum"
      ]
    },
    {
      "cell_type": "markdown",
      "source": [
        "# Неделя 1"
      ],
      "metadata": {
        "id": "cf6utbDaDZCc"
      }
    },
    {
      "cell_type": "code",
      "source": [
        "# сколько из всех вариантов пар произведений чисел от 1 до 4 целочисленно делятся на три \n",
        "list(map(lambda a: a % 3, map(lambda a: a[0]*a[1], itertools.product(np.arange(1,5),np.arange(1,5))))).count(0)"
      ],
      "metadata": {
        "colab": {
          "base_uri": "https://localhost:8080/"
        },
        "id": "_3Oz4Sj_p7Bd",
        "outputId": "0d50600a-9a50-4b93-c684-e1c52438df2b"
      },
      "execution_count": null,
      "outputs": [
        {
          "output_type": "execute_result",
          "data": {
            "text/plain": [
              "7"
            ]
          },
          "metadata": {},
          "execution_count": 345
        }
      ]
    },
    {
      "cell_type": "code",
      "source": [
        "# получить произведение всех чисел в листе\n",
        "def list_product(array):\n",
        "  s = 1\n",
        "  for i in array:\n",
        "    s *= i\n",
        "  return s"
      ],
      "metadata": {
        "id": "fgIOVbqipir9"
      },
      "execution_count": null,
      "outputs": []
    },
    {
      "cell_type": "code",
      "source": [
        "# у скольки из всех вариантов пар произведений чисел от 1 до 4 сумма превышает произведение \n",
        "len([1 for a in itertools.product(np.arange(1,5),np.arange(1,5)) if a[0]+a[1]>a[0]*a[1]])"
      ],
      "metadata": {
        "colab": {
          "base_uri": "https://localhost:8080/"
        },
        "id": "amJ-cQNBpSYF",
        "outputId": "7861a7f9-9154-4a06-ea72-d62afd08b838"
      },
      "execution_count": null,
      "outputs": [
        {
          "output_type": "execute_result",
          "data": {
            "text/plain": [
              "7"
            ]
          },
          "metadata": {},
          "execution_count": 346
        }
      ]
    },
    {
      "cell_type": "code",
      "source": [
        "# формула C из комбинаторики с повторениями и без\n",
        "def comb(n,k, *, repetition=0):\n",
        "  if repetition: return comb(n+k-1,k)\n",
        "  else: return factorial(n)/(factorial(k)*factorial(n-k))\n",
        "\n",
        "# 4 основные функции комбинаторики объединены в одну, повторения есть? порядок важен? n? k?\n",
        "def prob(n,k,o,r):\n",
        "  if not o: return comb(n,k,repetition=r)\n",
        "  elif r: return n**k\n",
        "  else: return special.perm(n,k)\n",
        "\n",
        "# упрощённый доступ напрямую к C из n по k\n",
        "def cnk(n,k):\n",
        "  return prob(n,k,0,0)"
      ],
      "metadata": {
        "id": "Umr3xT9XNqnv"
      },
      "execution_count": null,
      "outputs": []
    },
    {
      "cell_type": "code",
      "source": [
        "cnk(6,5)"
      ],
      "metadata": {
        "colab": {
          "base_uri": "https://localhost:8080/"
        },
        "id": "ai2wc4HKllyi",
        "outputId": "25df9543-ee0f-4971-9db7-6d2f745cf4ba"
      },
      "execution_count": null,
      "outputs": [
        {
          "output_type": "execute_result",
          "data": {
            "text/plain": [
              "6.0"
            ]
          },
          "metadata": {},
          "execution_count": 6
        }
      ]
    },
    {
      "cell_type": "code",
      "source": [
        "# n = int(input('n? '))\n",
        "# k = int(input('k? '))\n",
        "# o = int(input('Порядок важен? 1/0 y/n ').translate(str.maketrans('yn','10')))\n",
        "# r = int(input('Повторения есть? 1/0 y/n ').translate(str.maketrans('yn','10')))\n",
        "n,k,o,r=[10,10,0,0]\n",
        "print(prob(n,k,o,r))"
      ],
      "metadata": {
        "colab": {
          "base_uri": "https://localhost:8080/"
        },
        "id": "AXXD-t1eHwLA",
        "outputId": "6c579c61-b146-4061-975e-93fb2dd88fe3"
      },
      "execution_count": null,
      "outputs": [
        {
          "output_type": "stream",
          "name": "stdout",
          "text": [
            "1.0\n"
          ]
        }
      ]
    },
    {
      "cell_type": "code",
      "source": [
        "# коккатенация листа в строчку\n",
        "def conc(lst):\n",
        "  c = ''\n",
        "  for i in lst:\n",
        "    c+=str(i)\n",
        "  return c"
      ],
      "metadata": {
        "id": "71RQqSFG0b97"
      },
      "execution_count": null,
      "outputs": []
    },
    {
      "cell_type": "code",
      "source": [
        "# сколькими способами можно выбрать из n пар детей двих так, чтобы они были из разных пар?\n",
        "pair_count=3\n",
        "4*sum(range(1,pair_count))"
      ],
      "metadata": {
        "colab": {
          "base_uri": "https://localhost:8080/"
        },
        "id": "DACENz3h3FAw",
        "outputId": "10025f31-ff07-4930-f760-1db0da7f7986"
      },
      "execution_count": null,
      "outputs": [
        {
          "output_type": "execute_result",
          "data": {
            "text/plain": [
              "12"
            ]
          },
          "metadata": {},
          "execution_count": 318
        }
      ]
    },
    {
      "cell_type": "code",
      "source": [
        "# или так\n",
        "all_possible_combinations=list(map(list,list(product(range(6),repeat=2))))\n",
        "all_possible_pair_variations=[[x[0]//2,x[1]//2] for x in all_possible_combinations]\n",
        "apc_with_rep_1=list(map(set,all_possible_combinations))\n",
        "apc_with_rep_2=[x for x in apc_with_rep_1 if len(x)>1]\n",
        "apc_without_rep=list(map(list,(set(map(tuple,apc_with_rep_2)))))\n",
        "apc_with_rep_pairs_1=[[x[0]//2,x[1]//2] for x in list(map(list,apc_without_rep))]\n",
        "apc_with_rep_pairs_2=list(map(set,apc_with_rep_pairs_1))\n",
        "apc_without_rep_pairs=[x for x in apc_with_rep_pairs_2 if len(x)==2]\n",
        "len(apc_without_rep_pairs)"
      ],
      "metadata": {
        "colab": {
          "base_uri": "https://localhost:8080/"
        },
        "id": "N2_4olPV6y-F",
        "outputId": "d86c9b52-8c37-45df-e811-2b303f19c128"
      },
      "execution_count": null,
      "outputs": [
        {
          "output_type": "execute_result",
          "data": {
            "text/plain": [
              "12"
            ]
          },
          "metadata": {},
          "execution_count": 320
        }
      ]
    },
    {
      "cell_type": "code",
      "source": [
        "# является ли число факториалом другого?\n",
        "def isfactorial(x):\n",
        "  if not isinstance(x,int) or x<1: return -1\n",
        "  i=0\n",
        "  while factorial(i)<x:\n",
        "    i+=1\n",
        "  if factorial(i)==x: return i\n",
        "  else: return -1\n",
        "\n",
        "# перевод числа в 6-ти-ричную систему\n",
        "def tosix(n):\n",
        "    if n == 0:\n",
        "        return ['0']\n",
        "    digits = []\n",
        "    while n:\n",
        "        digits.append(str(int(n % 6)))\n",
        "        n //= 6\n",
        "    return digits[::-1]\n",
        "\n",
        "# является ли лист уникальным? Не работает, если там хранятся другие листы (и прочие нехешитруемые типы)\n",
        "def isunique(lst):\n",
        "  return len(list(lst)) == len(list(set(list(lst))))"
      ],
      "metadata": {
        "id": "mFdm5n7_fj_d"
      },
      "execution_count": null,
      "outputs": []
    },
    {
      "cell_type": "code",
      "source": [
        "# из цифр от 0 до 5 составили декартово проиведение длиной 4, в скольких вариантах нет повторений цифр?\n",
        "# способ 1\n",
        "len([x for x in map(set,product(range(0,6),repeat=4)) if len(x)==4])"
      ],
      "metadata": {
        "colab": {
          "base_uri": "https://localhost:8080/"
        },
        "id": "W4ze-TX2-zAZ",
        "outputId": "8f70d066-17c1-4ebe-b81b-b9ad63fe0944"
      },
      "execution_count": null,
      "outputs": [
        {
          "output_type": "execute_result",
          "data": {
            "text/plain": [
              "360"
            ]
          },
          "metadata": {},
          "execution_count": 323
        }
      ]
    },
    {
      "cell_type": "code",
      "source": [
        "# способ 2\n",
        "sum(list(map(isunique,[''.join(tosix(x)).zfill(4) for x in range(0,6**4)])))"
      ],
      "metadata": {
        "colab": {
          "base_uri": "https://localhost:8080/"
        },
        "id": "CWAW86KMi2nt",
        "outputId": "07c88518-59bd-4697-e7fb-2ba44a19f2ae"
      },
      "execution_count": null,
      "outputs": [
        {
          "output_type": "execute_result",
          "data": {
            "text/plain": [
              "360"
            ]
          },
          "metadata": {},
          "execution_count": 325
        }
      ]
    },
    {
      "cell_type": "code",
      "source": [
        "# или так! 6 вариантов на первую, 5 на вторую и тд до четвёртой\n",
        "6*5*4*3"
      ],
      "metadata": {
        "colab": {
          "base_uri": "https://localhost:8080/"
        },
        "id": "cYibsnj0BxYL",
        "outputId": "8e7c442d-9888-4333-bce2-a26a43a77273"
      },
      "execution_count": null,
      "outputs": [
        {
          "output_type": "execute_result",
          "data": {
            "text/plain": [
              "360"
            ]
          },
          "metadata": {},
          "execution_count": 327
        }
      ]
    },
    {
      "cell_type": "markdown",
      "source": [
        "# Неделя 2"
      ],
      "metadata": {
        "id": "__MpbYyLK7Rn"
      }
    },
    {
      "cell_type": "markdown",
      "source": [
        "TODO: переделать парсинг, чтобы работал с дробями и переменными"
      ],
      "metadata": {
        "id": "ky-Bk0T4GDyZ"
      }
    },
    {
      "cell_type": "code",
      "source": [
        "# Проверка величин на независимость, !!!!!внутри DataFrame'а нужны Decimal'ы!!!!!\n",
        "def CheckIndependence(df):\n",
        "  xsi=df.sum(axis=0) # this produces series of decimals, as expected\n",
        "  eta=Series({k:v.sum() for k,v in df.iterrows()}) # this instead produces series of floats, not decimals - presumably pandas bug\n",
        "  # xsi=xsi.apply(lambda a: Decimal(str(a)))\n",
        "  # eta=eta.apply(lambda a: Decimal(str(a)))\n",
        "  df2 = pd.DataFrame(columns=df.columns, index=df.index)\n",
        "  for i in df.columns:\n",
        "    for j in df.index:\n",
        "      df2[i][j]=xsi[i]*eta[j]\n",
        "  return df.equals(df2)"
      ],
      "metadata": {
        "id": "_d2tnVU_IOfG"
      },
      "execution_count": 97,
      "outputs": []
    },
    {
      "cell_type": "code",
      "source": [
        "# Медиана распределния случайной величины\n",
        "def myMedian(vals, probs):\n",
        "  m_1 = [i for i,_ in enumerate(probs) if ((sum(probs[:i+1])>0.5) and (sum(probs[i:])>0.5))]\n",
        "  m_1_e = [vals[v] for v in m_1]\n",
        "  m_2 = m_1_e[0] if len(m_1_e)==1 else (max(m_1_e)+min(m_1_e))/2\n",
        "  return m_2"
      ],
      "metadata": {
        "id": "h_ZWY8RpVf-B"
      },
      "execution_count": 8,
      "outputs": []
    },
    {
      "cell_type": "code",
      "source": [
        "# Математическое ожидание распределения случайной величины\n",
        "def myExpectedValue(vals, probs):\n",
        "  vals = np.asarray(vals)\n",
        "  probs = np.asarray(probs)\n",
        "  return (vals * probs).sum()"
      ],
      "metadata": {
        "id": "lYTwRFZ4WG7_"
      },
      "execution_count": 9,
      "outputs": []
    },
    {
      "cell_type": "code",
      "source": [
        "# Дана таблица совместного распределения случайных величин -> получаем мат.ожидание произведения случайных величин\n",
        "def TablToExpectedOfMult(df):\n",
        "  df2=DataFrame(columns=df.columns,index=df.index)\n",
        "  for i in df2.columns:\n",
        "    for j in df2.index:\n",
        "      df2[i][j]=i*j\n",
        "  ss={}\n",
        "  for i in df2.columns:\n",
        "    for j in df2.index:\n",
        "      if df2[i][j] in ss.keys():\n",
        "        ss[df2[i][j]]+=df[i][j]\n",
        "      else:\n",
        "        ss[df2[i][j]]=df[i][j]\n",
        "  return sum(np.asarray(list(ss.keys()))*np.asarray(list(ss.values())))"
      ],
      "metadata": {
        "id": "ytdUohWwzyN6"
      },
      "execution_count": 10,
      "outputs": []
    },
    {
      "cell_type": "code",
      "source": [
        "# Дано распределение случайной величины -> вернуть дисперсию\n",
        "def MyVariance(vals,probs):\n",
        "  ev = myExpectedValue(vals,probs)\n",
        "  vals2=[(x-ev)**2 for x in vals]\n",
        "  disp = myExpectedValue(vals2,probs)\n",
        "  return disp"
      ],
      "metadata": {
        "id": "Cdb68o_O3Bv0"
      },
      "execution_count": 11,
      "outputs": []
    },
    {
      "cell_type": "code",
      "source": [
        "def MyVariance2(vals,probs):\n",
        "  ev = myExpectedValue(vals,probs)\n",
        "  vals2=[x**2 for x in vals]\n",
        "  disp = myExpectedValue(vals2,probs)\n",
        "  return disp-(ev)**2"
      ],
      "metadata": {
        "id": "aixmsqUgYsr3"
      },
      "execution_count": 21,
      "outputs": []
    },
    {
      "cell_type": "code",
      "source": [
        "# Парсинг таблиц из опенеду в датафрейм/серию/лист\n",
        "# Работает только с числовыми значениями, не работает с переменными или дробями\n",
        "def OpenEduTexToArrayOfArrays(full_tex,dec=True):\n",
        "  def is_float(element):\n",
        "    try:\n",
        "        float(element)\n",
        "        return True\n",
        "    except ValueError:\n",
        "        return False\n",
        "  full_tex=list(map(lambda a: a.split(),full_tex.split('\\n')))\n",
        "  for i,x in enumerate(full_tex):\n",
        "    full_tex[i]=[y for y in x if is_float(y)]\n",
        "  full_tex = [x for x in full_tex if len(x)>0]\n",
        "  if dec:\n",
        "    for i,x in enumerate(full_tex):\n",
        "      full_tex[i]=list(map(lambda a: Decimal(a),x))\n",
        "  return full_tex\n",
        "def ArrayOfArraysWithIndexsAndColumnsToDataFrame(arrofarr):\n",
        "  if len(arrofarr)<=2: raise RuntimeError('don\\'t use this function for series!')\n",
        "  if len(arrofarr[0])<len(arrofarr[1]): arrofarr[0] = [''] + arrofarr[0]\n",
        "  npaoa = np.array(arrofarr)\n",
        "  return DataFrame(npaoa[1:,1:],columns=npaoa[0,:][1:],index=npaoa[:,0][1:],dtype=\"object\")\n",
        "def TTDFOVAP(full_tex,dec=True): # TexToDataFrameOrValsAndProbs\n",
        "  arrofarr=OpenEduTexToArrayOfArrays(full_tex,dec=dec)\n",
        "  if len(arrofarr)==1: return arrofarr[0]\n",
        "  elif len(arrofarr)==2: return (arrofarr[0],arrofarr[1])\n",
        "  else: return ArrayOfArraysWithIndexsAndColumnsToDataFrame(arrofarr)"
      ],
      "metadata": {
        "id": "3ek-o2WADLn_"
      },
      "execution_count": 45,
      "outputs": []
    },
    {
      "cell_type": "markdown",
      "source": [
        "---"
      ],
      "metadata": {
        "id": "kf4d_ApQt13t"
      }
    },
    {
      "cell_type": "code",
      "source": [
        "# Количество орлов/решек при трёх подбрасываниях монеты\n",
        "list(map(lambda a: a.count(0), itertools.product([0,1],repeat=3)))\n",
        "list(map(lambda a: a.count(1), itertools.product([0,1],repeat=3)))"
      ],
      "metadata": {
        "id": "k0vGaUYaCu1-"
      },
      "execution_count": null,
      "outputs": []
    },
    {
      "cell_type": "code",
      "source": [
        "# Проверка независимости\n",
        "# arr=np.array([[0.02,0.02,0.06,0.1],[0.03,0.03,0.09,0.15],[0.02,0.02,0.06,0.1],[0.03,0.03,0.09,0.15]])\n",
        "# arr2 = np.vectorize(lambda a: Decimal(str(a)))(arr)\n",
        "# df = pd.DataFrame(arr2,columns=[-4,-2,0,3], index=[2,3,5,10])\n",
        "\n",
        "\n",
        "full_tex=r\"\"\"\\begin{array}{  c | c | c | c | c  }\n",
        "\\eta \\backslash \\xi & -4 & -2 & 0 & 3  \\\\ \\hline\n",
        "2 & 0.02 & 0.02 & 0.06 & 0.1 \\\\ \\hline\n",
        "3 & 0.03 & 0.03 & 0.09 & 0.15 \\\\ \\hline\n",
        "5 & 0.02 & 0.02 & 0.06 & 0.1 \\\\ \\hline\n",
        "10 & 0.03 & 0.03 & 0.09 & 0.15\n",
        "\\end{array}\"\"\"\n",
        "df = TTDFOVAP(full_tex)\n",
        "\n",
        "CheckIndependence(df)"
      ],
      "metadata": {
        "colab": {
          "base_uri": "https://localhost:8080/"
        },
        "id": "LczL8IkEun_8",
        "outputId": "3e1c5443-a206-4890-a11d-374a4ecc2567"
      },
      "execution_count": 98,
      "outputs": [
        {
          "output_type": "execute_result",
          "data": {
            "text/plain": [
              "True"
            ]
          },
          "metadata": {},
          "execution_count": 98
        }
      ]
    },
    {
      "cell_type": "code",
      "source": [
        "# Нахождение подбором одного неизвестного значения случайного распределения по известному математическому ожиданию и остальному распределению\n",
        "for x in range(-1,14):\n",
        "  vals = list(map(Decimal,f'-1 & 1 & 4 & {x} & 13'.split(' & ')))\n",
        "  probs  = list(map(Decimal,'0.1 & 0.15 & 0.4 & 0.2 & 0.15'.split(' & ')))\n",
        "  if myExpectedValue(vals, probs)==Decimal('5.2'): print(x)"
      ],
      "metadata": {
        "colab": {
          "base_uri": "https://localhost:8080/"
        },
        "id": "zQyncweo4Mk8",
        "outputId": "348233f9-758a-4760-cc8a-83512b5fac85"
      },
      "execution_count": null,
      "outputs": [
        {
          "output_type": "stream",
          "name": "stdout",
          "text": [
            "8\n"
          ]
        }
      ]
    },
    {
      "cell_type": "code",
      "source": [
        "# Автоматическое нахождение уравнения для математического ожидания, хотя можно было просто посмотреть...\n",
        "vals='3 5 7'.split(' ')\n",
        "probs='p1 p2 0.3'.split(' ')\n",
        "expr=sympy.sympify('+'.join([f'{x1}*{x2}' for x1,x2 in zip(vals,probs)]))\n",
        "expr"
      ],
      "metadata": {
        "colab": {
          "base_uri": "https://localhost:8080/",
          "height": 38
        },
        "id": "KTRfaIC8YeNY",
        "outputId": "c7d5b33d-0478-49bd-c0f8-a77ce6bf69bd"
      },
      "execution_count": null,
      "outputs": [
        {
          "output_type": "execute_result",
          "data": {
            "text/plain": [
              "3*p1 + 5*p2 + 2.1"
            ],
            "text/latex": "$\\displaystyle 3 p_{1} + 5 p_{2} + 2.1$"
          },
          "metadata": {},
          "execution_count": 460
        }
      ]
    },
    {
      "cell_type": "code",
      "source": [
        "# Тест парсинга в датафрейм + нахождение ожидания произведения \n",
        "full_tex=r\"\"\"\\begin{array}{  c | c | c | c | c  }\n",
        "\\eta \\backslash \\xi & -4 & -2 & 0 & 3  \\\\ \\hline\n",
        "2 & 0.02 & 0.02 & 0.06 & 0.1 \\\\ \\hline\n",
        "3 & 0.03 & 0.03 & 0.09 & 0.15 \\\\ \\hline\n",
        "5 & 0.02 & 0.02 & 0.06 & 0.1 \\\\ \\hline\n",
        "10 & 0.03 & 0.03 & 0.09 & 0.15\n",
        "\\end{array}\"\"\"\n",
        "df = TTDFOVAP(full_tex)\n",
        "TablToExpectedOfMult(df)"
      ],
      "metadata": {
        "colab": {
          "base_uri": "https://localhost:8080/"
        },
        "id": "RCEv3PDens2s",
        "outputId": "cab9f053-8417-44b3-a1b9-3e7d8c9434b9"
      },
      "execution_count": 36,
      "outputs": [
        {
          "output_type": "execute_result",
          "data": {
            "text/plain": [
              "Decimal('4.77')"
            ]
          },
          "metadata": {},
          "execution_count": 36
        }
      ]
    },
    {
      "cell_type": "code",
      "source": [
        "df = TTDFOVAP(full_tex)"
      ],
      "metadata": {
        "id": "evBcF3iVhWSa"
      },
      "execution_count": 37,
      "outputs": []
    },
    {
      "cell_type": "code",
      "source": [
        "# Совметное распределение в маргинальное распределение "
      ],
      "metadata": {
        "id": "9n1bGQaHhak4"
      },
      "execution_count": null,
      "outputs": []
    },
    {
      "cell_type": "code",
      "source": [
        "def MyStandardDeviation(vals,probs,dev=None):\n",
        "  if not dev: return MyVariance(vals,probs)**(1/2)\n",
        "  else: return dev**(1/2)"
      ],
      "metadata": {
        "id": "XFfdMqmaXslK"
      },
      "execution_count": 16,
      "outputs": []
    },
    {
      "cell_type": "code",
      "source": [
        "# проверка работы нахождения дисперсии, СКО, \n",
        "vals=[0,100]\n",
        "probs=[99/100,1/100]\n",
        "MyVariance(vals,probs)"
      ],
      "metadata": {
        "colab": {
          "base_uri": "https://localhost:8080/"
        },
        "id": "vkev86fG1KNc",
        "outputId": "b0ee1fab-ffa6-41f1-a942-db85535e2af6"
      },
      "execution_count": 30,
      "outputs": [
        {
          "output_type": "execute_result",
          "data": {
            "text/plain": [
              "99.0"
            ]
          },
          "metadata": {},
          "execution_count": 30
        }
      ]
    },
    {
      "cell_type": "code",
      "source": [
        "MyVariance2(vals,probs)"
      ],
      "metadata": {
        "colab": {
          "base_uri": "https://localhost:8080/"
        },
        "id": "PweifgxvY6UY",
        "outputId": "81b5dad6-064e-45d0-c5b8-a3108070685a"
      },
      "execution_count": 29,
      "outputs": [
        {
          "output_type": "execute_result",
          "data": {
            "text/plain": [
              "99.0"
            ]
          },
          "metadata": {},
          "execution_count": 29
        }
      ]
    },
    {
      "cell_type": "code",
      "source": [
        "MyStandardDeviation(vals,probs)"
      ],
      "metadata": {
        "colab": {
          "base_uri": "https://localhost:8080/"
        },
        "id": "wNrk0osqY4eL",
        "outputId": "f36842fc-8d76-4e42-d8af-99797e345cc3"
      },
      "execution_count": 22,
      "outputs": [
        {
          "output_type": "execute_result",
          "data": {
            "text/plain": [
              "9.9498743710662"
            ]
          },
          "metadata": {},
          "execution_count": 22
        }
      ]
    },
    {
      "cell_type": "code",
      "source": [
        "# Тест парсинга в vals,probs\n",
        "full_tex=r\"\"\"\\begin{array}{  c | c | c | c | c| c | c| c | c  }\n",
        "\\xi & -4 & -2 & 0 & 3 & 4 & 6 & 7 & 9  \\\\ \\hline\n",
        "\\mathsf{P} & 0.1 & 0.15 & 0.05 & 0.15 & 0.1 & 0.05 & 0.25 & 0.15\n",
        "\\end{array}\"\"\"\n",
        "vals,probs=TTDFOVAP(full_tex,dec=0)\n",
        "vals,probs"
      ],
      "metadata": {
        "colab": {
          "base_uri": "https://localhost:8080/"
        },
        "id": "WLDOe0tA8AKg",
        "outputId": "90e8c3b2-0ae7-4504-bff4-58d393db4abc"
      },
      "execution_count": 35,
      "outputs": [
        {
          "output_type": "execute_result",
          "data": {
            "text/plain": [
              "(['-4', '-2', '0', '3', '4', '6', '7', '9'],\n",
              " ['0.1', '0.15', '0.05', '0.15', '0.1', '0.05', '0.25', '0.15'])"
            ]
          },
          "metadata": {},
          "execution_count": 35
        }
      ]
    },
    {
      "cell_type": "code",
      "source": [
        "np.arange(15)"
      ],
      "metadata": {
        "colab": {
          "base_uri": "https://localhost:8080/"
        },
        "id": "XQc-rtXhgObk",
        "outputId": "e59e50b6-d6e7-41d6-fe87-9d961b68e979"
      },
      "execution_count": 34,
      "outputs": [
        {
          "output_type": "execute_result",
          "data": {
            "text/plain": [
              "array([ 0,  1,  2,  3,  4,  5,  6,  7,  8,  9, 10, 11, 12, 13, 14])"
            ]
          },
          "metadata": {},
          "execution_count": 34
        }
      ]
    },
    {
      "cell_type": "code",
      "source": [],
      "metadata": {
        "id": "Q3J1A3ZigVOd"
      },
      "execution_count": null,
      "outputs": []
    }
  ]
}