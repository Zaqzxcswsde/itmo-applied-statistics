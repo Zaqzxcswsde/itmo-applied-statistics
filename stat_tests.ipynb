{
  "nbformat": 4,
  "nbformat_minor": 0,
  "metadata": {
    "colab": {
      "provenance": [],
      "collapsed_sections": [
        "cf6utbDaDZCc",
        "0aSuegg55SBw",
        "7QU2hHMM5ahl",
        "__MpbYyLK7Rn",
        "lLnB8BJ7HLCF",
        "kf4d_ApQt13t",
        "2uM0U0_9yh-2",
        "_pb_RS5oyeEC",
        "FuMt_RlZF4LZ",
        "9CNwrhMYZupy",
        "vSFdqv7aUW3j"
      ],
      "authorship_tag": "ABX9TyNsEahdm/SlPkszM1y7ybQE",
      "include_colab_link": true
    },
    "kernelspec": {
      "name": "python3",
      "display_name": "Python 3"
    },
    "language_info": {
      "name": "python"
    }
  },
  "cells": [
    {
      "cell_type": "markdown",
      "metadata": {
        "id": "view-in-github",
        "colab_type": "text"
      },
      "source": [
        "<a href=\"https://colab.research.google.com/github/Zaqzxcswsde/itmo-applied-statistics/blob/main/stat_tests.ipynb\" target=\"_parent\"><img src=\"https://colab.research.google.com/assets/colab-badge.svg\" alt=\"Open In Colab\"/></a>"
      ]
    },
    {
      "cell_type": "markdown",
      "source": [
        "TODO: переделать парсинг, чтобы работал с дробями и переменными"
      ],
      "metadata": {
        "id": "ky-Bk0T4GDyZ"
      }
    },
    {
      "cell_type": "code",
      "execution_count": null,
      "metadata": {
        "id": "-LBrSgvnnh7X"
      },
      "outputs": [],
      "source": [
        "#@title Imports { display-mode: \"form\" }\n",
        "from pandas import Series, DataFrame\n",
        "import pandas as pd\n",
        "import numpy as np\n",
        "from os import listdir\n",
        "# from google.colab import drive\n",
        "#drive.mount('/content/drive')\n",
        "import matplotlib.pyplot as plt\n",
        "%matplotlib inline\n",
        "import itertools\n",
        "from itertools import product\n",
        "from scipy import special\n",
        "# как можно скачать файл напрямую из гуглдиска сюда в директорию /content\n",
        "# !gdown 1Xtw5-jqrDJmh318t1jtKHvOJXxMrB9XF\n",
        "from math import factorial\n",
        "from decimal import *\n",
        "import sympy\n",
        "from math import fsum\n",
        "from fractions import Fraction\n",
        "import scipy\n",
        "from scipy import stats\n",
        "from sympy import integrate, Symbol\n",
        "from math import pi,sqrt\n",
        "from numpy import exp\n",
        "from more_itertools import pairwise"
      ]
    },
    {
      "cell_type": "markdown",
      "source": [
        "---\n",
        "---\n",
        "---"
      ],
      "metadata": {
        "id": "7odY3x8zIuBy"
      }
    },
    {
      "cell_type": "markdown",
      "source": [
        "# Неделя 1"
      ],
      "metadata": {
        "id": "cf6utbDaDZCc"
      }
    },
    {
      "cell_type": "markdown",
      "source": [
        "---\n",
        "## Function Definitions"
      ],
      "metadata": {
        "id": "0aSuegg55SBw"
      }
    },
    {
      "cell_type": "code",
      "source": [
        "#@title Получить произведение всех чисел в листе\n",
        "def list_product(array):\n",
        "  s = 1\n",
        "  for i in array:\n",
        "    s *= i\n",
        "  return s"
      ],
      "metadata": {
        "id": "fgIOVbqipir9",
        "cellView": "form"
      },
      "execution_count": null,
      "outputs": []
    },
    {
      "cell_type": "code",
      "source": [
        "#@title Функции комбинаторики\n",
        "\n",
        "# формула C из комбинаторики с повторениями и без\n",
        "def comb(n,k, *, repetition=0):\n",
        "  if repetition: return comb(n+k-1,k)\n",
        "  else: return Decimal(factorial(n))/Decimal(Decimal(factorial(k))*Decimal(factorial(n-k)))\n",
        "\n",
        "# 4 основные функции комбинаторики объединены в одну, повторения есть? порядок важен? n? k?\n",
        "def prob(n,k,o,r):\n",
        "  if not o: return Decimal(comb(n,k,repetition=r))\n",
        "  elif r: return Decimal(n)**Decimal(k)\n",
        "  else: return Decimal(special.perm(n,k))\n",
        "\n",
        "# упрощённый доступ напрямую к C из n по k\n",
        "def cnk(n,k):\n",
        "  return Decimal(prob(n,k,0,0))"
      ],
      "metadata": {
        "id": "Umr3xT9XNqnv",
        "cellView": "form"
      },
      "execution_count": null,
      "outputs": []
    },
    {
      "cell_type": "code",
      "source": [
        "#@title Конкатенация листа в строчку\n",
        "def conc(lst):\n",
        "  c = ''\n",
        "  for i in lst:\n",
        "    c+=str(i)\n",
        "  return c"
      ],
      "metadata": {
        "id": "71RQqSFG0b97",
        "cellView": "form"
      },
      "execution_count": null,
      "outputs": []
    },
    {
      "cell_type": "code",
      "source": [
        "#@title Является ли число факториалом другого?\n",
        "def isfactorial(x):\n",
        "  if not isinstance(x,int) or x<1: return -1\n",
        "  i=0\n",
        "  while factorial(i)<x:\n",
        "    i+=1\n",
        "  if factorial(i)==x: return i\n",
        "  else: return -1"
      ],
      "metadata": {
        "id": "mFdm5n7_fj_d",
        "cellView": "form"
      },
      "execution_count": null,
      "outputs": []
    },
    {
      "cell_type": "code",
      "source": [
        "#@title Перевод числа в 6-ти-ричную систему\n",
        "def tosix(n):\n",
        "    if n == 0:\n",
        "        return ['0']\n",
        "    digits = []\n",
        "    while n:\n",
        "        digits.append(str(int(n % 6)))\n",
        "        n //= 6\n",
        "    return digits[::-1]"
      ],
      "metadata": {
        "cellView": "form",
        "id": "te_VPf2fIbKi"
      },
      "execution_count": null,
      "outputs": []
    },
    {
      "cell_type": "code",
      "source": [
        "#@title Является ли лист уникальным? Не работает, если там хранятся другие листы (и прочие нехешитруемые типы)\n",
        "def isunique(lst):\n",
        "  return len(list(lst)) == len(list(set(list(lst))))"
      ],
      "metadata": {
        "cellView": "form",
        "id": "J6CkkBpHIabG"
      },
      "execution_count": null,
      "outputs": []
    },
    {
      "cell_type": "markdown",
      "source": [
        "---\n",
        "## Code itself"
      ],
      "metadata": {
        "id": "7QU2hHMM5ahl"
      }
    },
    {
      "cell_type": "code",
      "source": [
        "# сколько из всех вариантов пар произведений чисел от 1 до 4 целочисленно делятся на три \n",
        "list(map(lambda a: a % 3, map(lambda a: a[0]*a[1], itertools.product(np.arange(1,5),np.arange(1,5))))).count(0)"
      ],
      "metadata": {
        "colab": {
          "base_uri": "https://localhost:8080/"
        },
        "id": "_3Oz4Sj_p7Bd",
        "outputId": "c0aa7dbf-6807-4252-8edb-573373305ebf"
      },
      "execution_count": null,
      "outputs": [
        {
          "output_type": "execute_result",
          "data": {
            "text/plain": [
              "7"
            ]
          },
          "metadata": {},
          "execution_count": 44
        }
      ]
    },
    {
      "cell_type": "code",
      "source": [
        "# у скольки из всех вариантов пар произведений чисел от 1 до 4 сумма превышает произведение \n",
        "len([1 for a in itertools.product(np.arange(1,5),np.arange(1,5)) if a[0]+a[1]>a[0]*a[1]])"
      ],
      "metadata": {
        "colab": {
          "base_uri": "https://localhost:8080/"
        },
        "id": "amJ-cQNBpSYF",
        "outputId": "03010c82-62da-437d-d4ea-6ac7eaef1cfb"
      },
      "execution_count": null,
      "outputs": [
        {
          "output_type": "execute_result",
          "data": {
            "text/plain": [
              "7"
            ]
          },
          "metadata": {},
          "execution_count": 45
        }
      ]
    },
    {
      "cell_type": "code",
      "source": [
        "# сколькими способами можно выбрать из n пар детей двих так, чтобы они были из разных пар?\n",
        "pair_count=3\n",
        "4*sum(range(1,pair_count))"
      ],
      "metadata": {
        "colab": {
          "base_uri": "https://localhost:8080/"
        },
        "id": "DACENz3h3FAw",
        "outputId": "e85a08d3-d3b0-4749-ef00-1c2927b1f911"
      },
      "execution_count": null,
      "outputs": [
        {
          "output_type": "execute_result",
          "data": {
            "text/plain": [
              "12"
            ]
          },
          "metadata": {},
          "execution_count": 46
        }
      ]
    },
    {
      "cell_type": "code",
      "source": [
        "# или так\n",
        "all_possible_combinations=list(map(list,list(product(range(6),repeat=2))))\n",
        "all_possible_pair_variations=[[x[0]//2,x[1]//2] for x in all_possible_combinations]\n",
        "apc_with_rep_1=list(map(set,all_possible_combinations))\n",
        "apc_with_rep_2=[x for x in apc_with_rep_1 if len(x)>1]\n",
        "apc_without_rep=list(map(list,(set(map(tuple,apc_with_rep_2)))))\n",
        "apc_with_rep_pairs_1=[[x[0]//2,x[1]//2] for x in list(map(list,apc_without_rep))]\n",
        "apc_with_rep_pairs_2=list(map(set,apc_with_rep_pairs_1))\n",
        "apc_without_rep_pairs=[x for x in apc_with_rep_pairs_2 if len(x)==2]\n",
        "len(apc_without_rep_pairs)"
      ],
      "metadata": {
        "colab": {
          "base_uri": "https://localhost:8080/"
        },
        "id": "N2_4olPV6y-F",
        "outputId": "533c3526-7a27-40ae-af2b-ae5d000788b4"
      },
      "execution_count": null,
      "outputs": [
        {
          "output_type": "execute_result",
          "data": {
            "text/plain": [
              "12"
            ]
          },
          "metadata": {},
          "execution_count": 47
        }
      ]
    },
    {
      "cell_type": "code",
      "source": [
        "# из цифр от 0 до 5 составили декартово проиведение длиной 4, в скольких вариантах нет повторений цифр?\n",
        "# способ 1\n",
        "len([x for x in map(set,product(range(0,6),repeat=4)) if len(x)==4])"
      ],
      "metadata": {
        "colab": {
          "base_uri": "https://localhost:8080/"
        },
        "id": "W4ze-TX2-zAZ",
        "outputId": "adfb90d8-f11c-463f-a0f8-8c2fd01a148f"
      },
      "execution_count": null,
      "outputs": [
        {
          "output_type": "execute_result",
          "data": {
            "text/plain": [
              "360"
            ]
          },
          "metadata": {},
          "execution_count": 48
        }
      ]
    },
    {
      "cell_type": "code",
      "source": [
        "# способ 2\n",
        "sum(list(map(isunique,[''.join(tosix(x)).zfill(4) for x in range(0,6**4)])))"
      ],
      "metadata": {
        "colab": {
          "base_uri": "https://localhost:8080/"
        },
        "id": "CWAW86KMi2nt",
        "outputId": "dff40921-8a34-4139-c598-3d19e8a7f0ca"
      },
      "execution_count": null,
      "outputs": [
        {
          "output_type": "execute_result",
          "data": {
            "text/plain": [
              "360"
            ]
          },
          "metadata": {},
          "execution_count": 49
        }
      ]
    },
    {
      "cell_type": "code",
      "source": [
        "# или так! 6 вариантов на первую, 5 на вторую и тд до четвёртой\n",
        "6*5*4*3"
      ],
      "metadata": {
        "colab": {
          "base_uri": "https://localhost:8080/"
        },
        "id": "cYibsnj0BxYL",
        "outputId": "d08e0ca1-5327-4335-d0a1-a144b3447f43"
      },
      "execution_count": null,
      "outputs": [
        {
          "output_type": "execute_result",
          "data": {
            "text/plain": [
              "360"
            ]
          },
          "metadata": {},
          "execution_count": 50
        }
      ]
    },
    {
      "cell_type": "markdown",
      "source": [
        "---\n",
        "---\n",
        "# Неделя 2\n"
      ],
      "metadata": {
        "id": "__MpbYyLK7Rn"
      }
    },
    {
      "cell_type": "markdown",
      "source": [
        "---\n",
        "## Function definitions"
      ],
      "metadata": {
        "id": "lLnB8BJ7HLCF"
      }
    },
    {
      "cell_type": "code",
      "source": [
        "#@title Парсинг таблиц из опенеду в датафрейм/серию/лист\n",
        "# Работает только с числовыми значениями, не работает с переменными или дробями - TODO\n",
        "def OpenEduTexToArrayOfArrays(full_tex,dec=True):\n",
        "  def is_float(element):\n",
        "    try:\n",
        "        float(element)\n",
        "        return True\n",
        "    except ValueError:\n",
        "        return False\n",
        "  full_tex=full_tex.replace(r'\\hline','\\n')      \n",
        "  full_tex=list(map(lambda a: a.split(),full_tex.split('\\n')))\n",
        "  for i,x in enumerate(full_tex):\n",
        "    full_tex[i]=[y for y in x if is_float(y)]\n",
        "  full_tex = [x for x in full_tex if len(x)>0]\n",
        "  if dec:\n",
        "    for i,x in enumerate(full_tex):\n",
        "      full_tex[i]=list(map(lambda a: Fraction(str(a)),x))\n",
        "  return full_tex\n",
        "def ArrayOfArraysWithIndexsAndColumnsToDataFrame(arrofarr):\n",
        "  if len(arrofarr)<=2: raise RuntimeError('don\\'t use this function for series!')\n",
        "  if len(arrofarr[0])<len(arrofarr[1]): arrofarr[0] = [''] + arrofarr[0]\n",
        "  npaoa = np.array(arrofarr)\n",
        "  return DataFrame(npaoa[1:,1:],columns=npaoa[0,:][1:],index=npaoa[:,0][1:],dtype=\"object\")\n",
        "def TTDFOVAP(full_tex,dec=True): # TexToDataFrameOrValsAndProbs\n",
        "  arrofarr=OpenEduTexToArrayOfArrays(full_tex,dec=dec)\n",
        "  if len(arrofarr)==1: return arrofarr[0]\n",
        "  elif len(arrofarr)==2: return (arrofarr[0],arrofarr[1])\n",
        "  else: return ArrayOfArraysWithIndexsAndColumnsToDataFrame(arrofarr)"
      ],
      "metadata": {
        "id": "3ek-o2WADLn_",
        "cellView": "form"
      },
      "execution_count": null,
      "outputs": []
    },
    {
      "cell_type": "code",
      "source": [
        "#@title Медиана распределения случайной величины\n",
        "def myMedian(vals, probs):\n",
        "  m_1 = [i for i,_ in enumerate(probs) if ((sum(probs[:i+1])>0.5) and (sum(probs[i:])>0.5))]\n",
        "  m_1_e = [vals[v] for v in m_1]\n",
        "  m_2 = m_1_e[0] if len(m_1_e)==1 else (max(m_1_e)+min(m_1_e))/2\n",
        "  return m_2"
      ],
      "metadata": {
        "id": "h_ZWY8RpVf-B",
        "cellView": "form"
      },
      "execution_count": null,
      "outputs": []
    },
    {
      "cell_type": "code",
      "source": [
        "#@title Проверка величин на независимость, !!!!!внутри DataFrame'а нужны Decimal'ы/Fractions'ы!!!!!\n",
        "def CheckIndependence(df):\n",
        "  xsi=df.sum(axis=0) # this produces series of decimals, as expected\n",
        "  # eta=df.sum(axis=1) # this instead produces series of floats, not decimals - presumably pandas bug\n",
        "  eta=Series({k:v.sum() for k,v in df.iterrows()})\n",
        "  # xsi=xsi.apply(lambda a: Decimal(str(a)))\n",
        "  # eta=eta.apply(lambda a: Decimal(str(a)))\n",
        "  df2 = pd.DataFrame(columns=df.columns, index=df.index)\n",
        "  for i in df.columns:\n",
        "    for j in df.index:\n",
        "      df2[i][j]=xsi[i]*eta[j]\n",
        "  return df.equals(df2)"
      ],
      "metadata": {
        "id": "_d2tnVU_IOfG",
        "cellView": "form"
      },
      "execution_count": null,
      "outputs": []
    },
    {
      "cell_type": "code",
      "source": [
        "#@title Математическое ожидание распределения случайной величины\n",
        "def myExpectedValue(vals, probs):\n",
        "  vals = np.asarray(vals)\n",
        "  probs = np.asarray(probs)\n",
        "  return (vals * probs).sum()"
      ],
      "metadata": {
        "id": "lYTwRFZ4WG7_",
        "cellView": "form"
      },
      "execution_count": null,
      "outputs": []
    },
    {
      "cell_type": "code",
      "source": [
        "#@title Совместное распределение -> мат.ожидание их произведения\n",
        "def TablToExpectedOfMult(df):\n",
        "  df2=DataFrame(columns=df.columns,index=df.index)\n",
        "  for i in df2.columns:\n",
        "    for j in df2.index:\n",
        "      df2[i][j]=i*j\n",
        "  ss={}\n",
        "  for i in df2.columns:\n",
        "    for j in df2.index:\n",
        "      if df2[i][j] in ss.keys():\n",
        "        ss[df2[i][j]]+=df[i][j]\n",
        "      else:\n",
        "        ss[df2[i][j]]=df[i][j]\n",
        "  print(ss)\n",
        "  return sum(np.asarray(list(ss.keys()))*np.asarray(list(ss.values())))"
      ],
      "metadata": {
        "id": "ytdUohWwzyN6"
      },
      "execution_count": null,
      "outputs": []
    },
    {
      "cell_type": "code",
      "source": [
        "#@title Распределение случайной величины -> дисперсия\n",
        "def MyVariance(vals,probs):\n",
        "  ev = myExpectedValue(vals,probs)\n",
        "  vals2=[(x-ev)**2 for x in vals]\n",
        "  disp = myExpectedValue(vals2,probs)\n",
        "  return disp"
      ],
      "metadata": {
        "id": "Cdb68o_O3Bv0",
        "cellView": "form"
      },
      "execution_count": null,
      "outputs": []
    },
    {
      "cell_type": "code",
      "source": [
        "#@title Распределение случайной величины -> дисперсия 2\n",
        "def MyVariance2(vals,probs):\n",
        "  ev = myExpectedValue(vals,probs)\n",
        "  vals2=[x**2 for x in vals]\n",
        "  disp = myExpectedValue(vals2,probs)\n",
        "  return disp-ev**2"
      ],
      "metadata": {
        "id": "aixmsqUgYsr3",
        "cellView": "form"
      },
      "execution_count": null,
      "outputs": []
    },
    {
      "cell_type": "code",
      "source": [
        "#@title Совместное распределение -> мат.ожидание обеих - сначала по столбцам, потом по строкам\n",
        "def MyJointDistributionToExpectedOfBoth(df):\n",
        "  xsi,eta=MyJointDistributionToMarginalDistribution(df)\n",
        "  xsi_ev=myExpectedValue(xsi.index,xsi.values)\n",
        "  eta_ev=myExpectedValue(eta.index,eta.values)\n",
        "  return (xsi_ev,eta_ev)"
      ],
      "metadata": {
        "id": "3aCdY9db06GR",
        "cellView": "form"
      },
      "execution_count": null,
      "outputs": []
    },
    {
      "cell_type": "code",
      "source": [
        "#@title Совметное распределение -> маргинальное распределение\n",
        "def MyJointDistributionToMarginalDistribution(df):\n",
        "  xsi=df.sum(axis=0)\n",
        "  eta=Series({k:v.sum() for k,v in df.iterrows()})\n",
        "  return (xsi,eta)"
      ],
      "metadata": {
        "id": "9n1bGQaHhak4",
        "cellView": "form"
      },
      "execution_count": null,
      "outputs": []
    },
    {
      "cell_type": "code",
      "source": [
        "#@title Маргинальное распределение / дисперсия -> СКО\n",
        "def MyStandardDeviation(vals=None,probs=None,var=None):\n",
        "  if not var: return decimal_from_fraction(MyVariance(vals,probs))**Decimal(0.5)\n",
        "  else: return decimal_from_fraction(var)**Decimal(0.5)"
      ],
      "metadata": {
        "id": "XFfdMqmaXslK",
        "cellView": "form"
      },
      "execution_count": null,
      "outputs": []
    },
    {
      "cell_type": "code",
      "source": [
        "#@title Совметное распределение -> ковариация\n",
        "def MyCovariance(df):\n",
        "  ksi_ev, eta_ev = MyJointDistributionToExpectedOfBoth(df)\n",
        "  return TablToExpectedOfMult(df) - ksi_ev*eta_ev"
      ],
      "metadata": {
        "id": "LmmXV6JXJqoy",
        "cellView": "form"
      },
      "execution_count": null,
      "outputs": []
    },
    {
      "cell_type": "code",
      "source": [
        "#@title Совметное распределение -> дисперсия обеих\n",
        "def MyJointDistributionToVarianceOfBoth(df):\n",
        "  xsi, eta = MyJointDistributionToMarginalDistribution(df)\n",
        "  xsi_var = MyVariance(xsi.index,xsi.values)\n",
        "  eta_var = MyVariance(eta.index,eta.values)\n",
        "  return (xsi_var,eta_var)"
      ],
      "metadata": {
        "cellView": "form",
        "id": "1JmUixxUPBTz"
      },
      "execution_count": null,
      "outputs": []
    },
    {
      "cell_type": "code",
      "source": [
        "#@title Совметное распределение -> коэффицент корелляции (Пирсона)\n",
        "def MyPearsonCorrelationCoefficient(df):\n",
        "  cov = MyCovariance(df)\n",
        "  if cov == Decimal('0'): return Decimal('0')\n",
        "  xsi_var, eta_var = MyJointDistributionToVarianceOfBoth(df)\n",
        "  if xsi_var == eta_var: return cov/xsi_var\n",
        "  xsi_dev = MyStandardDeviation(var=xsi_var)\n",
        "  eta_dev = MyStandardDeviation(var=eta_var)\n",
        "  return decimal_from_fraction(cov)/(xsi_dev*eta_dev)"
      ],
      "metadata": {
        "cellView": "form",
        "id": "nBcmsb5VMj7w"
      },
      "execution_count": null,
      "outputs": []
    },
    {
      "cell_type": "code",
      "source": [
        "#@title Decimal -> Fraction\n",
        "def decimal_from_fraction(frac):\n",
        "  if isinstance(frac,Decimal): return frac\n",
        "  return frac.numerator / Decimal(frac.denominator)"
      ],
      "metadata": {
        "cellView": "form",
        "id": "q8euccvMwJ01"
      },
      "execution_count": null,
      "outputs": []
    },
    {
      "cell_type": "code",
      "source": [
        "#@title Схема бернули в нунжном мне виде\n",
        "def MyBernoulli(n,k,p,q=None): # n - всего, k - нужно удач, p - вероятность удачи, q - вероятность неудачи\n",
        "  n = Decimal(n)\n",
        "  k = Decimal(k)\n",
        "  p = Decimal(str(p))\n",
        "  if not q: q = Decimal(1-p)\n",
        "  return Decimal(cnk(n,k))*(Decimal(p)**Decimal(k))*(Decimal(q)**(n-k))"
      ],
      "metadata": {
        "id": "Rxi-KM-I4tXn"
      },
      "execution_count": null,
      "outputs": []
    },
    {
      "cell_type": "code",
      "source": [
        "#@title НЕ ИСПОЛЬЗОВАТЬ! Лобовая реализация вычисления мат. ожидания и дисперсии случайной величины схемы Бернулли\n",
        "def BAD_MyXsiBernoulli(n,p,q=None):\n",
        "  if not q: q = 1-p\n",
        "  vals = range(0,n+1)\n",
        "  probs = [MyBernoulli(n,x,Decimal(str(p)),Decimal(str(q))) for x in range(0,n+1)]\n",
        "  ev=myExpectedValue(vals,probs)\n",
        "  var=MyVariance(vals,probs)\n",
        "  return (ev,var)"
      ],
      "metadata": {
        "id": "3P3Pvag46Tfj",
        "cellView": "form"
      },
      "execution_count": null,
      "outputs": []
    },
    {
      "cell_type": "code",
      "source": [
        "#@title Нормальная реализация вычисления мат. ожидания и дисперсии случайной величины схемы Бернулли\n",
        "def MyXsiBernoulli(n,p,q=None):\n",
        "  if not q: q = 1 - p\n",
        "  return (n*p,n*p*q)"
      ],
      "metadata": {
        "cellView": "form",
        "id": "wUY-dZhH7MA9"
      },
      "execution_count": null,
      "outputs": []
    },
    {
      "cell_type": "code",
      "source": [
        "#@title Локальная теорема Муавра-Лапласа (n,p,A,B)->val\n",
        "def MyLocML(n,p,A,B,r=4):\n",
        "  A,B=min(A,B),max(A,B)\n",
        "  q=1-p\n",
        "  # koef=1/(sqrt(2*pi)*sqrt(n*p*q))\n",
        "  val = round(sum(exp(-(((k-n*p)/(sqrt(n*p*q)))**2)/2) for k in range(A,B+1))*(1/(sqrt(2*pi)*sqrt(n*p*q))),4)\n",
        "  return val"
      ],
      "metadata": {
        "id": "IJBc8zi7vqSc",
        "cellView": "form"
      },
      "execution_count": null,
      "outputs": []
    },
    {
      "cell_type": "code",
      "source": [
        "#@title Теорема Пуассона (n,p,A,B)->(val,(leftErr,rightErr))\n",
        "def MyPoisson(n,p,A,B,r=4):\n",
        "  A,B=min(A,B),max(A,B)\n",
        "  mu=n*p\n",
        "  val = round(sum(((Decimal(Decimal(mu)**k)/Decimal(factorial(k))) * (exp(Decimal(-mu)))) for k in range(A,B+1)),r)\n",
        "  err = Decimal(min(Decimal(str(p)),n*(Decimal(str(p))**2)))\n",
        "  leftErr = val-err if val-err>0 else 0\n",
        "  rightErr = val+err if val+err<1 else 1\n",
        "  return (val,(leftErr,rightErr))"
      ],
      "metadata": {
        "id": "XGwFF18nvaMX",
        "cellView": "form"
      },
      "execution_count": null,
      "outputs": []
    },
    {
      "cell_type": "code",
      "source": [
        "#@title Интегральная теорема Муавра-Лапласа (n,p,A,B)->(val,err)\n",
        "def MyIntML(n,p,A,B,r=4):\n",
        "  A,B=min(A,B),max(A,B)\n",
        "  q=1-p\n",
        "  y=(B-n*p)/sqrt(n*p*q)\n",
        "  z=(A-n*p)/sqrt(n*p*q)\n",
        "  val = round(scipy.stats.norm.cdf(y)-scipy.stats.norm.cdf(z),r)\n",
        "  err = round(1/(p*q*sqrt(n)),r)\n",
        "  return (val,err)"
      ],
      "metadata": {
        "id": "1RAvxD7OwFV_"
      },
      "execution_count": null,
      "outputs": []
    },
    {
      "cell_type": "code",
      "source": [
        "#@title Пуассон + Локальный М-Л\n",
        "def MyPML(n,p,A,B,r=4):\n",
        "  A,B=min(A,B),max(A,B)\n",
        "  return (MyPoisson(n,p,A,B,r),MyLocML(n,p,A,B,r))"
      ],
      "metadata": {
        "id": "PHt1JpsOxkN5",
        "cellView": "form"
      },
      "execution_count": null,
      "outputs": []
    },
    {
      "cell_type": "code",
      "source": [
        "#@title Бернулли для k между A и B\n",
        "def MyABBernoulli(n,p,A,B,r=4):\n",
        "  A,B=min(A,B),max(A,B)\n",
        "  return round(sum(MyBernoulli(n,k,p) for k in range(A,B+1)),r)"
      ],
      "metadata": {
        "id": "865Z_Axi0bFp",
        "cellView": "form"
      },
      "execution_count": null,
      "outputs": []
    },
    {
      "cell_type": "markdown",
      "source": [
        "---\n",
        "## Code itself"
      ],
      "metadata": {
        "id": "kf4d_ApQt13t"
      }
    },
    {
      "cell_type": "markdown",
      "source": [
        "### First Half"
      ],
      "metadata": {
        "id": "2uM0U0_9yh-2"
      }
    },
    {
      "cell_type": "code",
      "source": [
        "# Количество орлов/решек при трёх подбрасываниях монеты\n",
        "list(map(lambda a: a.count(0), itertools.product([0,1],repeat=3)))\n",
        "list(map(lambda a: a.count(1), itertools.product([0,1],repeat=3)))"
      ],
      "metadata": {
        "id": "k0vGaUYaCu1-",
        "colab": {
          "base_uri": "https://localhost:8080/"
        },
        "outputId": "ed223287-4e27-48e3-fdcb-eb7e393bc1ee"
      },
      "execution_count": null,
      "outputs": [
        {
          "output_type": "execute_result",
          "data": {
            "text/plain": [
              "[0, 1, 1, 2, 1, 2, 2, 3]"
            ]
          },
          "metadata": {},
          "execution_count": 73
        }
      ]
    },
    {
      "cell_type": "code",
      "source": [
        "# Нахождение подбором одного неизвестного значения случайного распределения по известному математическому ожиданию и остальному распределению\n",
        "for x in range(-1,14):\n",
        "  vals = list(map(Decimal,f'-1 & 1 & 4 & {x} & 13'.split(' & ')))\n",
        "  probs  = list(map(Decimal,'0.1 & 0.15 & 0.4 & 0.2 & 0.15'.split(' & ')))\n",
        "  if myExpectedValue(vals, probs)==Decimal('5.2'): print(x)"
      ],
      "metadata": {
        "colab": {
          "base_uri": "https://localhost:8080/"
        },
        "id": "zQyncweo4Mk8",
        "outputId": "642fa5c5-7bae-4852-9de1-c3ec937365ef"
      },
      "execution_count": null,
      "outputs": [
        {
          "output_type": "stream",
          "name": "stdout",
          "text": [
            "8\n"
          ]
        }
      ]
    },
    {
      "cell_type": "code",
      "source": [
        "# Автоматическое нахождение уравнения для математического ожидания, хотя можно было просто посмотреть...\n",
        "vals='3 5 7'.split(' ')\n",
        "probs='p1 p2 0.3'.split(' ')\n",
        "expr=sympy.sympify('+'.join([f'{x1}*{x2}' for x1,x2 in zip(vals,probs)]))\n",
        "expr"
      ],
      "metadata": {
        "colab": {
          "base_uri": "https://localhost:8080/"
        },
        "id": "KTRfaIC8YeNY",
        "outputId": "0e847ca3-7d02-4f16-e14c-b0887e339cea"
      },
      "execution_count": null,
      "outputs": [
        {
          "output_type": "execute_result",
          "data": {
            "text/plain": [
              "3*p1 + 5*p2 + 2.1"
            ],
            "text/latex": "$\\displaystyle 3 p_{1} + 5 p_{2} + 2.1$"
          },
          "metadata": {},
          "execution_count": 75
        }
      ]
    },
    {
      "cell_type": "code",
      "source": [
        "# Тест парсинга в vals,probs\n",
        "full_tex=r\"\"\"\\begin{array}{  c | c | c | c | c| c | c| c | c  }\n",
        "\\xi & -4 & -2 & 0 & 3 & 4 & 6 & 7 & 9  \\\\ \\hline\n",
        "\\mathsf{P} & 0.1 & 0.15 & 0.05 & 0.15 & 0.1 & 0.05 & 0.25 & 0.15\n",
        "\\end{array}\"\"\"\n",
        "vals,probs=TTDFOVAP(full_tex,dec=0)\n",
        "vals,probs"
      ],
      "metadata": {
        "colab": {
          "base_uri": "https://localhost:8080/"
        },
        "id": "WLDOe0tA8AKg",
        "outputId": "726cd520-ab18-41e5-d171-d05835c34487"
      },
      "execution_count": null,
      "outputs": [
        {
          "output_type": "execute_result",
          "data": {
            "text/plain": [
              "(['-4', '-2', '0', '3', '4', '6', '7', '9'],\n",
              " ['0.1', '0.15', '0.05', '0.15', '0.1', '0.05', '0.25', '0.15'])"
            ]
          },
          "metadata": {},
          "execution_count": 76
        }
      ]
    },
    {
      "cell_type": "code",
      "source": [
        "# Тест парсинга в датафрейм\n",
        "full_tex=r\"\"\"\\begin{array}{  c | c | c | c | c  }\n",
        "\\eta \\backslash \\xi & -4 & -2 & 0 & 3  \\\\ \\hline\n",
        "2 & 0.02 & 0.02 & 0.06 & 0.1 \\\\ \\hline\n",
        "3 & 0.03 & 0.03 & 0.09 & 0.15 \\\\ \\hline\n",
        "5 & 0.02 & 0.02 & 0.06 & 0.1 \\\\ \\hline\n",
        "10 & 0.03 & 0.03 & 0.09 & 0.15\n",
        "\\end{array}\"\"\"\n",
        "df = TTDFOVAP(full_tex)"
      ],
      "metadata": {
        "id": "RCEv3PDens2s"
      },
      "execution_count": null,
      "outputs": []
    },
    {
      "cell_type": "code",
      "source": [
        "df"
      ],
      "metadata": {
        "colab": {
          "base_uri": "https://localhost:8080/"
        },
        "id": "N31yQiX9L4eg",
        "outputId": "b8baa78f-1fe1-4337-ee34-70bbbb838a2b"
      },
      "execution_count": null,
      "outputs": [
        {
          "output_type": "execute_result",
          "data": {
            "text/plain": [
              "       -4     -2      0     3\n",
              "2    1/50   1/50   3/50  1/10\n",
              "3   3/100  3/100  9/100  3/20\n",
              "5    1/50   1/50   3/50  1/10\n",
              "10  3/100  3/100  9/100  3/20"
            ],
            "text/html": [
              "\n",
              "  <div id=\"df-e88de17a-917a-40ac-bbc6-63ca7b8e56c7\">\n",
              "    <div class=\"colab-df-container\">\n",
              "      <div>\n",
              "<style scoped>\n",
              "    .dataframe tbody tr th:only-of-type {\n",
              "        vertical-align: middle;\n",
              "    }\n",
              "\n",
              "    .dataframe tbody tr th {\n",
              "        vertical-align: top;\n",
              "    }\n",
              "\n",
              "    .dataframe thead th {\n",
              "        text-align: right;\n",
              "    }\n",
              "</style>\n",
              "<table border=\"1\" class=\"dataframe\">\n",
              "  <thead>\n",
              "    <tr style=\"text-align: right;\">\n",
              "      <th></th>\n",
              "      <th>-4</th>\n",
              "      <th>-2</th>\n",
              "      <th>0</th>\n",
              "      <th>3</th>\n",
              "    </tr>\n",
              "  </thead>\n",
              "  <tbody>\n",
              "    <tr>\n",
              "      <th>2</th>\n",
              "      <td>1/50</td>\n",
              "      <td>1/50</td>\n",
              "      <td>3/50</td>\n",
              "      <td>1/10</td>\n",
              "    </tr>\n",
              "    <tr>\n",
              "      <th>3</th>\n",
              "      <td>3/100</td>\n",
              "      <td>3/100</td>\n",
              "      <td>9/100</td>\n",
              "      <td>3/20</td>\n",
              "    </tr>\n",
              "    <tr>\n",
              "      <th>5</th>\n",
              "      <td>1/50</td>\n",
              "      <td>1/50</td>\n",
              "      <td>3/50</td>\n",
              "      <td>1/10</td>\n",
              "    </tr>\n",
              "    <tr>\n",
              "      <th>10</th>\n",
              "      <td>3/100</td>\n",
              "      <td>3/100</td>\n",
              "      <td>9/100</td>\n",
              "      <td>3/20</td>\n",
              "    </tr>\n",
              "  </tbody>\n",
              "</table>\n",
              "</div>\n",
              "      <button class=\"colab-df-convert\" onclick=\"convertToInteractive('df-e88de17a-917a-40ac-bbc6-63ca7b8e56c7')\"\n",
              "              title=\"Convert this dataframe to an interactive table.\"\n",
              "              style=\"display:none;\">\n",
              "        \n",
              "  <svg xmlns=\"http://www.w3.org/2000/svg\" height=\"24px\"viewBox=\"0 0 24 24\"\n",
              "       width=\"24px\">\n",
              "    <path d=\"M0 0h24v24H0V0z\" fill=\"none\"/>\n",
              "    <path d=\"M18.56 5.44l.94 2.06.94-2.06 2.06-.94-2.06-.94-.94-2.06-.94 2.06-2.06.94zm-11 1L8.5 8.5l.94-2.06 2.06-.94-2.06-.94L8.5 2.5l-.94 2.06-2.06.94zm10 10l.94 2.06.94-2.06 2.06-.94-2.06-.94-.94-2.06-.94 2.06-2.06.94z\"/><path d=\"M17.41 7.96l-1.37-1.37c-.4-.4-.92-.59-1.43-.59-.52 0-1.04.2-1.43.59L10.3 9.45l-7.72 7.72c-.78.78-.78 2.05 0 2.83L4 21.41c.39.39.9.59 1.41.59.51 0 1.02-.2 1.41-.59l7.78-7.78 2.81-2.81c.8-.78.8-2.07 0-2.86zM5.41 20L4 18.59l7.72-7.72 1.47 1.35L5.41 20z\"/>\n",
              "  </svg>\n",
              "      </button>\n",
              "      \n",
              "  <style>\n",
              "    .colab-df-container {\n",
              "      display:flex;\n",
              "      flex-wrap:wrap;\n",
              "      gap: 12px;\n",
              "    }\n",
              "\n",
              "    .colab-df-convert {\n",
              "      background-color: #E8F0FE;\n",
              "      border: none;\n",
              "      border-radius: 50%;\n",
              "      cursor: pointer;\n",
              "      display: none;\n",
              "      fill: #1967D2;\n",
              "      height: 32px;\n",
              "      padding: 0 0 0 0;\n",
              "      width: 32px;\n",
              "    }\n",
              "\n",
              "    .colab-df-convert:hover {\n",
              "      background-color: #E2EBFA;\n",
              "      box-shadow: 0px 1px 2px rgba(60, 64, 67, 0.3), 0px 1px 3px 1px rgba(60, 64, 67, 0.15);\n",
              "      fill: #174EA6;\n",
              "    }\n",
              "\n",
              "    [theme=dark] .colab-df-convert {\n",
              "      background-color: #3B4455;\n",
              "      fill: #D2E3FC;\n",
              "    }\n",
              "\n",
              "    [theme=dark] .colab-df-convert:hover {\n",
              "      background-color: #434B5C;\n",
              "      box-shadow: 0px 1px 3px 1px rgba(0, 0, 0, 0.15);\n",
              "      filter: drop-shadow(0px 1px 2px rgba(0, 0, 0, 0.3));\n",
              "      fill: #FFFFFF;\n",
              "    }\n",
              "  </style>\n",
              "\n",
              "      <script>\n",
              "        const buttonEl =\n",
              "          document.querySelector('#df-e88de17a-917a-40ac-bbc6-63ca7b8e56c7 button.colab-df-convert');\n",
              "        buttonEl.style.display =\n",
              "          google.colab.kernel.accessAllowed ? 'block' : 'none';\n",
              "\n",
              "        async function convertToInteractive(key) {\n",
              "          const element = document.querySelector('#df-e88de17a-917a-40ac-bbc6-63ca7b8e56c7');\n",
              "          const dataTable =\n",
              "            await google.colab.kernel.invokeFunction('convertToInteractive',\n",
              "                                                     [key], {});\n",
              "          if (!dataTable) return;\n",
              "\n",
              "          const docLinkHtml = 'Like what you see? Visit the ' +\n",
              "            '<a target=\"_blank\" href=https://colab.research.google.com/notebooks/data_table.ipynb>data table notebook</a>'\n",
              "            + ' to learn more about interactive tables.';\n",
              "          element.innerHTML = '';\n",
              "          dataTable['output_type'] = 'display_data';\n",
              "          await google.colab.output.renderOutput(dataTable, element);\n",
              "          const docLink = document.createElement('div');\n",
              "          docLink.innerHTML = docLinkHtml;\n",
              "          element.appendChild(docLink);\n",
              "        }\n",
              "      </script>\n",
              "    </div>\n",
              "  </div>\n",
              "  "
            ]
          },
          "metadata": {},
          "execution_count": 78
        }
      ]
    },
    {
      "cell_type": "code",
      "source": [
        "# Проверка независимости\n",
        "\n",
        "# arr=np.array([[0.02,0.02,0.06,0.1],[0.03,0.03,0.09,0.15],[0.02,0.02,0.06,0.1],[0.03,0.03,0.09,0.15]])\n",
        "# arr2 = np.vectorize(lambda a: Decimal(str(a)))(arr)\n",
        "# df = pd.DataFrame(arr2,columns=[-4,-2,0,3], index=[2,3,5,10])\n",
        "\n",
        "# full_tex=r\"\"\"\\begin{array}{  c | c | c | c | c  }\n",
        "# \\eta \\backslash \\xi & -4 & -2 & 0 & 3  \\\\ \\hline\n",
        "# 2 & 0.02 & 0.02 & 0.06 & 0.1 \\\\ \\hline\n",
        "# 3 & 0.03 & 0.03 & 0.09 & 0.15 \\\\ \\hline\n",
        "# 5 & 0.02 & 0.02 & 0.06 & 0.1 \\\\ \\hline\n",
        "# 10 & 0.03 & 0.03 & 0.09 & 0.15\n",
        "# \\end{array}\"\"\"\n",
        "# df = TTDFOVAP(full_tex)\n",
        "\n",
        "CheckIndependence(df)"
      ],
      "metadata": {
        "colab": {
          "base_uri": "https://localhost:8080/"
        },
        "id": "LczL8IkEun_8",
        "outputId": "a1e6844a-6e1d-4dce-ae40-6927280469f7"
      },
      "execution_count": null,
      "outputs": [
        {
          "output_type": "execute_result",
          "data": {
            "text/plain": [
              "True"
            ]
          },
          "metadata": {},
          "execution_count": 79
        }
      ]
    },
    {
      "cell_type": "code",
      "source": [
        "# Нахождение ожидания произведения\n",
        "TablToExpectedOfMult(df)"
      ],
      "metadata": {
        "colab": {
          "base_uri": "https://localhost:8080/"
        },
        "id": "-SPRzpmmLiSA",
        "outputId": "642e4079-d47a-42ad-fdbb-a7529f490aa3"
      },
      "execution_count": null,
      "outputs": [
        {
          "output_type": "execute_result",
          "data": {
            "text/plain": [
              "Fraction(477, 100)"
            ]
          },
          "metadata": {},
          "execution_count": 80
        }
      ]
    },
    {
      "cell_type": "code",
      "source": [
        "# проверка работы нахождения дисперсии\n",
        "vals=[0,100]\n",
        "probs=[99/100,1/100]\n",
        "MyVariance(vals,probs) # MyVariance2(vals,probs)"
      ],
      "metadata": {
        "colab": {
          "base_uri": "https://localhost:8080/"
        },
        "id": "vkev86fG1KNc",
        "outputId": "18112fba-16ee-44dd-a8ba-1542e9c76ea5"
      },
      "execution_count": null,
      "outputs": [
        {
          "output_type": "execute_result",
          "data": {
            "text/plain": [
              "99.0"
            ]
          },
          "metadata": {},
          "execution_count": 81
        }
      ]
    },
    {
      "cell_type": "code",
      "source": [
        "# проверка работы нахождения СКО\n",
        "xsi,eta = MyJointDistributionToMarginalDistribution(df)\n",
        "xsi_vals = xsi.index\n",
        "xsi_probs = xsi.values\n",
        "eta_vals = eta.index\n",
        "eta_probs = eta.values"
      ],
      "metadata": {
        "id": "MeY1lH6sMQ8I"
      },
      "execution_count": null,
      "outputs": []
    },
    {
      "cell_type": "code",
      "source": [
        "MyStandardDeviation(xsi_vals,xsi_probs)"
      ],
      "metadata": {
        "colab": {
          "base_uri": "https://localhost:8080/"
        },
        "id": "o6g3eXImSe-n",
        "outputId": "60d4d715-64cb-48a7-ee24-79e77e713467"
      },
      "execution_count": null,
      "outputs": [
        {
          "output_type": "execute_result",
          "data": {
            "text/plain": [
              "Decimal('2.385372088375312569654571324')"
            ]
          },
          "metadata": {},
          "execution_count": 83
        }
      ]
    },
    {
      "cell_type": "code",
      "source": [
        "MyStandardDeviation(eta_vals,eta_probs)"
      ],
      "metadata": {
        "colab": {
          "base_uri": "https://localhost:8080/"
        },
        "id": "VnnQzzHDSeRe",
        "outputId": "94f2ee27-9442-4b43-9495-0acd0320f6d1"
      },
      "execution_count": null,
      "outputs": [
        {
          "output_type": "execute_result",
          "data": {
            "text/plain": [
              "Decimal('3.226453160980335694543128270')"
            ]
          },
          "metadata": {},
          "execution_count": 84
        }
      ]
    },
    {
      "cell_type": "code",
      "source": [
        "# тест ковариации !\n",
        "MyCovariance(df)"
      ],
      "metadata": {
        "colab": {
          "base_uri": "https://localhost:8080/"
        },
        "id": "GymFMPN68Zrh",
        "outputId": "ca782085-1e36-4ef7-9083-f9309a25fad1"
      },
      "execution_count": null,
      "outputs": [
        {
          "output_type": "execute_result",
          "data": {
            "text/plain": [
              "Fraction(0, 1)"
            ]
          },
          "metadata": {},
          "execution_count": 85
        }
      ]
    },
    {
      "cell_type": "code",
      "source": [
        "# тест коэффициента корелляции\n",
        "MyPearsonCorrelationCoefficient(df)"
      ],
      "metadata": {
        "colab": {
          "base_uri": "https://localhost:8080/"
        },
        "id": "SvIQNlGXRbQd",
        "outputId": "31550478-5f07-4d25-df23-185df6720b2f"
      },
      "execution_count": null,
      "outputs": [
        {
          "output_type": "execute_result",
          "data": {
            "text/plain": [
              "Decimal('0')"
            ]
          },
          "metadata": {},
          "execution_count": 86
        }
      ]
    },
    {
      "cell_type": "code",
      "source": [
        "# Моделирование всего-всего-всего на примере двухкратного бросания игрального кубика\n",
        "omega = list(itertools.product(np.arange(1,7),repeat=2))\n",
        "\n",
        "# xsi - количество выпавших единиц\n",
        "# eta - количество выпавших шестёрок\n",
        "\n",
        "# xsi - 0/1/2\n",
        "# eta - 0/1/2\n",
        "omega_xsi_eta = np.array([[x.count(1),x.count(6)] for x in omega])\n",
        "omega_xsi, omega_eta = omega_xsi_eta.T\n",
        "\n",
        "# получаем маргинальное распределение\n",
        "marg_xsi = np.unique(omega_xsi, return_counts=True)\n",
        "marg_eta = np.unique(omega_eta, return_counts=True)\n",
        "\n",
        "# преобразовываем в серию + починим вероятность\n",
        "xsi = Series(list(map(lambda a: Fraction(a,len(omega)),marg_xsi[1])), index=marg_xsi[0])\n",
        "eta = Series(list(map(lambda a: Fraction(a,len(omega)),marg_eta[1])), index=marg_eta[0])\n",
        "\n",
        "# сразу получим совместное распределение\n",
        "possible_vars = list(map(list,list(itertools.product([0,1,2],repeat=2))))\n",
        "numbs = ['']*len(possible_vars)\n",
        "for i,x in enumerate(possible_vars):\n",
        "  numbs[i] = sum([1 for y in omega_xsi_eta if list(y)==x])\n",
        "to_df = [[x[0][0],x[0][1],x[1]] for x in list(zip(possible_vars,numbs))]\n",
        "\n",
        "df = DataFrame(index=[0,1,2],columns=[0,1,2]) \n",
        "for x in to_df:\n",
        "  df[x[0]][x[1]]=Fraction(x[2],len(omega))"
      ],
      "metadata": {
        "id": "KRwUKEZ6UKk2"
      },
      "execution_count": null,
      "outputs": []
    },
    {
      "cell_type": "code",
      "source": [
        "df"
      ],
      "metadata": {
        "colab": {
          "base_uri": "https://localhost:8080/"
        },
        "id": "PPrQJnY7eL5X",
        "outputId": "fd8029a0-6bc1-45fc-b789-cc63a7916744"
      },
      "execution_count": null,
      "outputs": [
        {
          "output_type": "execute_result",
          "data": {
            "text/plain": [
              "      0     1     2\n",
              "0   4/9   2/9  1/36\n",
              "1   2/9  1/18     0\n",
              "2  1/36     0     0"
            ],
            "text/html": [
              "\n",
              "  <div id=\"df-96946293-e06f-48b6-844d-5b364ff79f57\">\n",
              "    <div class=\"colab-df-container\">\n",
              "      <div>\n",
              "<style scoped>\n",
              "    .dataframe tbody tr th:only-of-type {\n",
              "        vertical-align: middle;\n",
              "    }\n",
              "\n",
              "    .dataframe tbody tr th {\n",
              "        vertical-align: top;\n",
              "    }\n",
              "\n",
              "    .dataframe thead th {\n",
              "        text-align: right;\n",
              "    }\n",
              "</style>\n",
              "<table border=\"1\" class=\"dataframe\">\n",
              "  <thead>\n",
              "    <tr style=\"text-align: right;\">\n",
              "      <th></th>\n",
              "      <th>0</th>\n",
              "      <th>1</th>\n",
              "      <th>2</th>\n",
              "    </tr>\n",
              "  </thead>\n",
              "  <tbody>\n",
              "    <tr>\n",
              "      <th>0</th>\n",
              "      <td>4/9</td>\n",
              "      <td>2/9</td>\n",
              "      <td>1/36</td>\n",
              "    </tr>\n",
              "    <tr>\n",
              "      <th>1</th>\n",
              "      <td>2/9</td>\n",
              "      <td>1/18</td>\n",
              "      <td>0</td>\n",
              "    </tr>\n",
              "    <tr>\n",
              "      <th>2</th>\n",
              "      <td>1/36</td>\n",
              "      <td>0</td>\n",
              "      <td>0</td>\n",
              "    </tr>\n",
              "  </tbody>\n",
              "</table>\n",
              "</div>\n",
              "      <button class=\"colab-df-convert\" onclick=\"convertToInteractive('df-96946293-e06f-48b6-844d-5b364ff79f57')\"\n",
              "              title=\"Convert this dataframe to an interactive table.\"\n",
              "              style=\"display:none;\">\n",
              "        \n",
              "  <svg xmlns=\"http://www.w3.org/2000/svg\" height=\"24px\"viewBox=\"0 0 24 24\"\n",
              "       width=\"24px\">\n",
              "    <path d=\"M0 0h24v24H0V0z\" fill=\"none\"/>\n",
              "    <path d=\"M18.56 5.44l.94 2.06.94-2.06 2.06-.94-2.06-.94-.94-2.06-.94 2.06-2.06.94zm-11 1L8.5 8.5l.94-2.06 2.06-.94-2.06-.94L8.5 2.5l-.94 2.06-2.06.94zm10 10l.94 2.06.94-2.06 2.06-.94-2.06-.94-.94-2.06-.94 2.06-2.06.94z\"/><path d=\"M17.41 7.96l-1.37-1.37c-.4-.4-.92-.59-1.43-.59-.52 0-1.04.2-1.43.59L10.3 9.45l-7.72 7.72c-.78.78-.78 2.05 0 2.83L4 21.41c.39.39.9.59 1.41.59.51 0 1.02-.2 1.41-.59l7.78-7.78 2.81-2.81c.8-.78.8-2.07 0-2.86zM5.41 20L4 18.59l7.72-7.72 1.47 1.35L5.41 20z\"/>\n",
              "  </svg>\n",
              "      </button>\n",
              "      \n",
              "  <style>\n",
              "    .colab-df-container {\n",
              "      display:flex;\n",
              "      flex-wrap:wrap;\n",
              "      gap: 12px;\n",
              "    }\n",
              "\n",
              "    .colab-df-convert {\n",
              "      background-color: #E8F0FE;\n",
              "      border: none;\n",
              "      border-radius: 50%;\n",
              "      cursor: pointer;\n",
              "      display: none;\n",
              "      fill: #1967D2;\n",
              "      height: 32px;\n",
              "      padding: 0 0 0 0;\n",
              "      width: 32px;\n",
              "    }\n",
              "\n",
              "    .colab-df-convert:hover {\n",
              "      background-color: #E2EBFA;\n",
              "      box-shadow: 0px 1px 2px rgba(60, 64, 67, 0.3), 0px 1px 3px 1px rgba(60, 64, 67, 0.15);\n",
              "      fill: #174EA6;\n",
              "    }\n",
              "\n",
              "    [theme=dark] .colab-df-convert {\n",
              "      background-color: #3B4455;\n",
              "      fill: #D2E3FC;\n",
              "    }\n",
              "\n",
              "    [theme=dark] .colab-df-convert:hover {\n",
              "      background-color: #434B5C;\n",
              "      box-shadow: 0px 1px 3px 1px rgba(0, 0, 0, 0.15);\n",
              "      filter: drop-shadow(0px 1px 2px rgba(0, 0, 0, 0.3));\n",
              "      fill: #FFFFFF;\n",
              "    }\n",
              "  </style>\n",
              "\n",
              "      <script>\n",
              "        const buttonEl =\n",
              "          document.querySelector('#df-96946293-e06f-48b6-844d-5b364ff79f57 button.colab-df-convert');\n",
              "        buttonEl.style.display =\n",
              "          google.colab.kernel.accessAllowed ? 'block' : 'none';\n",
              "\n",
              "        async function convertToInteractive(key) {\n",
              "          const element = document.querySelector('#df-96946293-e06f-48b6-844d-5b364ff79f57');\n",
              "          const dataTable =\n",
              "            await google.colab.kernel.invokeFunction('convertToInteractive',\n",
              "                                                     [key], {});\n",
              "          if (!dataTable) return;\n",
              "\n",
              "          const docLinkHtml = 'Like what you see? Visit the ' +\n",
              "            '<a target=\"_blank\" href=https://colab.research.google.com/notebooks/data_table.ipynb>data table notebook</a>'\n",
              "            + ' to learn more about interactive tables.';\n",
              "          element.innerHTML = '';\n",
              "          dataTable['output_type'] = 'display_data';\n",
              "          await google.colab.output.renderOutput(dataTable, element);\n",
              "          const docLink = document.createElement('div');\n",
              "          docLink.innerHTML = docLinkHtml;\n",
              "          element.appendChild(docLink);\n",
              "        }\n",
              "      </script>\n",
              "    </div>\n",
              "  </div>\n",
              "  "
            ]
          },
          "metadata": {},
          "execution_count": 88
        }
      ]
    },
    {
      "cell_type": "code",
      "source": [
        "# Математические ожидания кси/эта\n",
        "MyJointDistributionToExpectedOfBoth(df)"
      ],
      "metadata": {
        "colab": {
          "base_uri": "https://localhost:8080/"
        },
        "id": "JjB3NaoMg2ja",
        "outputId": "11aeca23-5d20-4201-80fb-954cac38f2d6"
      },
      "execution_count": null,
      "outputs": [
        {
          "output_type": "execute_result",
          "data": {
            "text/plain": [
              "(Fraction(1, 3), Fraction(1, 3))"
            ]
          },
          "metadata": {},
          "execution_count": 89
        }
      ]
    },
    {
      "cell_type": "code",
      "source": [
        "# Дисперсии кси/эта\n",
        "MyJointDistributionToVarianceOfBoth(df)"
      ],
      "metadata": {
        "colab": {
          "base_uri": "https://localhost:8080/"
        },
        "id": "28LERo07hpfj",
        "outputId": "3dbf9ba5-5510-4591-b2e5-70624e9c170f"
      },
      "execution_count": null,
      "outputs": [
        {
          "output_type": "execute_result",
          "data": {
            "text/plain": [
              "(Fraction(5, 18), Fraction(5, 18))"
            ]
          },
          "metadata": {},
          "execution_count": 90
        }
      ]
    },
    {
      "cell_type": "code",
      "source": [
        "# Маетматическое ожидание произведения кси/эта\n",
        "TablToExpectedOfMult(df)"
      ],
      "metadata": {
        "colab": {
          "base_uri": "https://localhost:8080/"
        },
        "id": "ZwcH-bxEhyJu",
        "outputId": "0068ed9c-34b5-41c7-8dfb-0414114627d0"
      },
      "execution_count": null,
      "outputs": [
        {
          "output_type": "execute_result",
          "data": {
            "text/plain": [
              "Fraction(1, 18)"
            ]
          },
          "metadata": {},
          "execution_count": 91
        }
      ]
    },
    {
      "cell_type": "code",
      "source": [
        "# Ковариация\n",
        "MyCovariance(df)"
      ],
      "metadata": {
        "colab": {
          "base_uri": "https://localhost:8080/"
        },
        "id": "JvpW4WW2uCZk",
        "outputId": "e011de5d-1847-41ff-eb29-4bb6fadc97ce"
      },
      "execution_count": null,
      "outputs": [
        {
          "output_type": "execute_result",
          "data": {
            "text/plain": [
              "Fraction(-1, 18)"
            ]
          },
          "metadata": {},
          "execution_count": 92
        }
      ]
    },
    {
      "cell_type": "code",
      "source": [
        "# Коэффициент корелляции\n",
        "MyPearsonCorrelationCoefficient(df)"
      ],
      "metadata": {
        "colab": {
          "base_uri": "https://localhost:8080/"
        },
        "id": "ljxW6E51ieoL",
        "outputId": "e44ac840-81ce-41bd-9efd-c12019ebcc46"
      },
      "execution_count": null,
      "outputs": [
        {
          "output_type": "execute_result",
          "data": {
            "text/plain": [
              "Fraction(-1, 5)"
            ]
          },
          "metadata": {},
          "execution_count": 93
        }
      ]
    },
    {
      "cell_type": "code",
      "source": [
        "full_tex=r\"\"\"\\begin{array}{  c | c | c | c | c  }\n",
        "\\xi & -4 & -2 & 0 & 3  \\\\ \\hline\n",
        "\\mathsf{P} & 0.1 & 0.1 & 0.3 & 0.5\n",
        "\\end{array}\"\"\"\n",
        "vals,probs=TTDFOVAP(full_tex)"
      ],
      "metadata": {
        "id": "0SQsoX811bCK"
      },
      "execution_count": null,
      "outputs": []
    },
    {
      "cell_type": "code",
      "source": [
        "MyVariance(vals,probs)"
      ],
      "metadata": {
        "colab": {
          "base_uri": "https://localhost:8080/"
        },
        "id": "1AAkp2Rz1kcu",
        "outputId": "3eec8caa-f6c5-4da3-c1f8-98b1dcade0dc"
      },
      "execution_count": null,
      "outputs": [
        {
          "output_type": "execute_result",
          "data": {
            "text/plain": [
              "Fraction(569, 100)"
            ]
          },
          "metadata": {},
          "execution_count": 33
        }
      ]
    },
    {
      "cell_type": "code",
      "source": [
        "full_tex=r\"\"\"\\begin{array}{  c | c | c | c  }\n",
        "\\eta \\backslash \\xi & 2 & 3 & 5  \\\\ \\hline\n",
        "-1 & 0.1 & 0.3 & 0.2 \\\\ \\hline\n",
        "1 & 0.1 & 0.05 & 0 \\\\ \\hline\n",
        "4 & 0 & 0.15 & 0.1\n",
        "\\end{array}\"\"\"\n",
        "df=TTDFOVAP(full_tex)"
      ],
      "metadata": {
        "id": "WQOYg6I_2y2y"
      },
      "execution_count": null,
      "outputs": []
    },
    {
      "cell_type": "code",
      "source": [
        "df"
      ],
      "metadata": {
        "colab": {
          "base_uri": "https://localhost:8080/",
          "height": 143
        },
        "id": "i288oZki23TT",
        "outputId": "69f5dfa1-f493-456b-b3ff-ae29e443a767"
      },
      "execution_count": null,
      "outputs": [
        {
          "output_type": "execute_result",
          "data": {
            "text/plain": [
              "       2     3     5\n",
              "-1  1/10  3/10   1/5\n",
              "1   1/10  1/20     0\n",
              "4      0  3/20  1/10"
            ],
            "text/html": [
              "\n",
              "  <div id=\"df-7d12f9dc-42b9-40d9-a34b-03006885fe0c\">\n",
              "    <div class=\"colab-df-container\">\n",
              "      <div>\n",
              "<style scoped>\n",
              "    .dataframe tbody tr th:only-of-type {\n",
              "        vertical-align: middle;\n",
              "    }\n",
              "\n",
              "    .dataframe tbody tr th {\n",
              "        vertical-align: top;\n",
              "    }\n",
              "\n",
              "    .dataframe thead th {\n",
              "        text-align: right;\n",
              "    }\n",
              "</style>\n",
              "<table border=\"1\" class=\"dataframe\">\n",
              "  <thead>\n",
              "    <tr style=\"text-align: right;\">\n",
              "      <th></th>\n",
              "      <th>2</th>\n",
              "      <th>3</th>\n",
              "      <th>5</th>\n",
              "    </tr>\n",
              "  </thead>\n",
              "  <tbody>\n",
              "    <tr>\n",
              "      <th>-1</th>\n",
              "      <td>1/10</td>\n",
              "      <td>3/10</td>\n",
              "      <td>1/5</td>\n",
              "    </tr>\n",
              "    <tr>\n",
              "      <th>1</th>\n",
              "      <td>1/10</td>\n",
              "      <td>1/20</td>\n",
              "      <td>0</td>\n",
              "    </tr>\n",
              "    <tr>\n",
              "      <th>4</th>\n",
              "      <td>0</td>\n",
              "      <td>3/20</td>\n",
              "      <td>1/10</td>\n",
              "    </tr>\n",
              "  </tbody>\n",
              "</table>\n",
              "</div>\n",
              "      <button class=\"colab-df-convert\" onclick=\"convertToInteractive('df-7d12f9dc-42b9-40d9-a34b-03006885fe0c')\"\n",
              "              title=\"Convert this dataframe to an interactive table.\"\n",
              "              style=\"display:none;\">\n",
              "        \n",
              "  <svg xmlns=\"http://www.w3.org/2000/svg\" height=\"24px\"viewBox=\"0 0 24 24\"\n",
              "       width=\"24px\">\n",
              "    <path d=\"M0 0h24v24H0V0z\" fill=\"none\"/>\n",
              "    <path d=\"M18.56 5.44l.94 2.06.94-2.06 2.06-.94-2.06-.94-.94-2.06-.94 2.06-2.06.94zm-11 1L8.5 8.5l.94-2.06 2.06-.94-2.06-.94L8.5 2.5l-.94 2.06-2.06.94zm10 10l.94 2.06.94-2.06 2.06-.94-2.06-.94-.94-2.06-.94 2.06-2.06.94z\"/><path d=\"M17.41 7.96l-1.37-1.37c-.4-.4-.92-.59-1.43-.59-.52 0-1.04.2-1.43.59L10.3 9.45l-7.72 7.72c-.78.78-.78 2.05 0 2.83L4 21.41c.39.39.9.59 1.41.59.51 0 1.02-.2 1.41-.59l7.78-7.78 2.81-2.81c.8-.78.8-2.07 0-2.86zM5.41 20L4 18.59l7.72-7.72 1.47 1.35L5.41 20z\"/>\n",
              "  </svg>\n",
              "      </button>\n",
              "      \n",
              "  <style>\n",
              "    .colab-df-container {\n",
              "      display:flex;\n",
              "      flex-wrap:wrap;\n",
              "      gap: 12px;\n",
              "    }\n",
              "\n",
              "    .colab-df-convert {\n",
              "      background-color: #E8F0FE;\n",
              "      border: none;\n",
              "      border-radius: 50%;\n",
              "      cursor: pointer;\n",
              "      display: none;\n",
              "      fill: #1967D2;\n",
              "      height: 32px;\n",
              "      padding: 0 0 0 0;\n",
              "      width: 32px;\n",
              "    }\n",
              "\n",
              "    .colab-df-convert:hover {\n",
              "      background-color: #E2EBFA;\n",
              "      box-shadow: 0px 1px 2px rgba(60, 64, 67, 0.3), 0px 1px 3px 1px rgba(60, 64, 67, 0.15);\n",
              "      fill: #174EA6;\n",
              "    }\n",
              "\n",
              "    [theme=dark] .colab-df-convert {\n",
              "      background-color: #3B4455;\n",
              "      fill: #D2E3FC;\n",
              "    }\n",
              "\n",
              "    [theme=dark] .colab-df-convert:hover {\n",
              "      background-color: #434B5C;\n",
              "      box-shadow: 0px 1px 3px 1px rgba(0, 0, 0, 0.15);\n",
              "      filter: drop-shadow(0px 1px 2px rgba(0, 0, 0, 0.3));\n",
              "      fill: #FFFFFF;\n",
              "    }\n",
              "  </style>\n",
              "\n",
              "      <script>\n",
              "        const buttonEl =\n",
              "          document.querySelector('#df-7d12f9dc-42b9-40d9-a34b-03006885fe0c button.colab-df-convert');\n",
              "        buttonEl.style.display =\n",
              "          google.colab.kernel.accessAllowed ? 'block' : 'none';\n",
              "\n",
              "        async function convertToInteractive(key) {\n",
              "          const element = document.querySelector('#df-7d12f9dc-42b9-40d9-a34b-03006885fe0c');\n",
              "          const dataTable =\n",
              "            await google.colab.kernel.invokeFunction('convertToInteractive',\n",
              "                                                     [key], {});\n",
              "          if (!dataTable) return;\n",
              "\n",
              "          const docLinkHtml = 'Like what you see? Visit the ' +\n",
              "            '<a target=\"_blank\" href=https://colab.research.google.com/notebooks/data_table.ipynb>data table notebook</a>'\n",
              "            + ' to learn more about interactive tables.';\n",
              "          element.innerHTML = '';\n",
              "          dataTable['output_type'] = 'display_data';\n",
              "          await google.colab.output.renderOutput(dataTable, element);\n",
              "          const docLink = document.createElement('div');\n",
              "          docLink.innerHTML = docLinkHtml;\n",
              "          element.appendChild(docLink);\n",
              "        }\n",
              "      </script>\n",
              "    </div>\n",
              "  </div>\n",
              "  "
            ]
          },
          "metadata": {},
          "execution_count": 35
        }
      ]
    },
    {
      "cell_type": "code",
      "source": [
        "MyCovariance(df)"
      ],
      "metadata": {
        "colab": {
          "base_uri": "https://localhost:8080/"
        },
        "id": "Aiul8WP-23-9",
        "outputId": "ac947492-0a5f-4f04-ab6f-4f29ad977562"
      },
      "execution_count": null,
      "outputs": [
        {
          "output_type": "execute_result",
          "data": {
            "text/plain": [
              "Fraction(9, 50)"
            ]
          },
          "metadata": {},
          "execution_count": 36
        }
      ]
    },
    {
      "cell_type": "code",
      "source": [
        "MyPearsonCorrelationCoefficient(df)"
      ],
      "metadata": {
        "colab": {
          "base_uri": "https://localhost:8080/"
        },
        "id": "VhM3k9Vz28N0",
        "outputId": "352c5354-d8c9-471f-d550-054071ee5c9d"
      },
      "execution_count": null,
      "outputs": [
        {
          "output_type": "execute_result",
          "data": {
            "text/plain": [
              "Decimal('0.07664850422701901346493947032')"
            ]
          },
          "metadata": {},
          "execution_count": 37
        }
      ]
    },
    {
      "cell_type": "code",
      "source": [
        "BAD_MyXsiBernoulli(10,0.75)"
      ],
      "metadata": {
        "colab": {
          "base_uri": "https://localhost:8080/"
        },
        "id": "kKGssxNm8tOH",
        "outputId": "183bdf17-2766-481d-c363-76eaedc0a04d"
      },
      "execution_count": null,
      "outputs": [
        {
          "output_type": "execute_result",
          "data": {
            "text/plain": [
              "(Decimal('7.50000000000000000000'), Decimal('1.875000000000000000000000000'))"
            ]
          },
          "metadata": {},
          "execution_count": 38
        }
      ]
    },
    {
      "cell_type": "code",
      "source": [
        "MyXsiBernoulli(10,0.75)"
      ],
      "metadata": {
        "colab": {
          "base_uri": "https://localhost:8080/"
        },
        "id": "WFULWUHu80T6",
        "outputId": "b0a35422-6bc6-4ffa-d975-34d8686f599e"
      },
      "execution_count": null,
      "outputs": [
        {
          "output_type": "execute_result",
          "data": {
            "text/plain": [
              "(7.5, 1.875)"
            ]
          },
          "metadata": {},
          "execution_count": 39
        }
      ]
    },
    {
      "cell_type": "code",
      "source": [
        "# Просто для красоты, даже без заголовка и перенесения в блок с функциями :)\n",
        "def MyDescribe(full_tex):\n",
        "  df=TTDFOVAP(full_tex)\n",
        "  print('MarginalDistributions: ', MyJointDistributionToMarginalDistribution(df)[0],MyJointDistributionToMarginalDistribution(df)[1],'------',sep='\\n')\n",
        "  print('ExpectedValues: ', MyJointDistributionToExpectedOfBoth(df),'------',sep='\\n')\n",
        "  print('Variances: ', MyJointDistributionToVarianceOfBoth(df),'------',sep='\\n')\n",
        "  print('Covariance: ', MyCovariance(df),'------',sep='\\n')\n",
        "  print('CorrelationCoefficient: ', MyPearsonCorrelationCoefficient(df), sep='\\n')"
      ],
      "metadata": {
        "id": "Vp_X08lRBjZl"
      },
      "execution_count": null,
      "outputs": []
    },
    {
      "cell_type": "code",
      "source": [
        "full_tex=r\"\"\" \"\"\"\n",
        "MyDescribe(full_tex)"
      ],
      "metadata": {
        "colab": {
          "base_uri": "https://localhost:8080/"
        },
        "id": "z9ZJAehA_vqb",
        "outputId": "43289423-d5c7-4608-f6e0-7a000e7ce01d"
      },
      "execution_count": null,
      "outputs": [
        {
          "output_type": "stream",
          "name": "stdout",
          "text": [
            "MarginalDistributions: \n",
            "156     3/25\n",
            "168     3/25\n",
            "173    12/25\n",
            "193     7/25\n",
            "dtype: object\n",
            "2    11/20\n",
            "4     9/20\n",
            "dtype: object\n",
            "------\n",
            "ExpectedValues: \n",
            "(Fraction(4399, 25), Fraction(29, 10))\n",
            "------\n",
            "Variances: \n",
            "(Fraction(88074, 625), Fraction(99, 100))\n",
            "------\n",
            "Covariance: \n",
            "-361/250\n",
            "------\n",
            "CorrelationCoefficient: \n",
            "-0.1222547506417396250214209794\n"
          ]
        }
      ]
    },
    {
      "cell_type": "markdown",
      "source": [
        "### Second Half"
      ],
      "metadata": {
        "id": "_pb_RS5oyeEC"
      }
    },
    {
      "cell_type": "code",
      "source": [
        "# по теореме Пуассона + погрешность, по локальной теореме Муавра-Лапласа\n",
        "n=100\n",
        "A=0\n",
        "B=3\n",
        "p=0.02\n",
        "MyPML(n,p,A,B)"
      ],
      "metadata": {
        "colab": {
          "base_uri": "https://localhost:8080/"
        },
        "id": "KaKO7UEXrK3b",
        "outputId": "1631df31-3377-41ad-ca55-44d9d495db0b"
      },
      "execution_count": null,
      "outputs": [
        {
          "output_type": "execute_result",
          "data": {
            "text/plain": [
              "((Decimal('0.8571'), (Decimal('0.8371'), Decimal('0.8771'))), 0.8293)"
            ]
          },
          "metadata": {},
          "execution_count": 104
        }
      ]
    },
    {
      "cell_type": "code",
      "source": [
        "# по интегральной теореме Муавра-Лапласа + погрешность\n",
        "p=0.13\n",
        "n=20000\n",
        "A=0\n",
        "B=2650\n",
        "MyIntML(n,p,A,B)"
      ],
      "metadata": {
        "colab": {
          "base_uri": "https://localhost:8080/"
        },
        "id": "1_cDObJ7uVB6",
        "outputId": "b9edf481-c395-43ab-b50e-d1ea59d0ae68"
      },
      "execution_count": null,
      "outputs": [
        {
          "output_type": "execute_result",
          "data": {
            "text/plain": [
              "(0.8534, 0.0625)"
            ]
          },
          "metadata": {},
          "execution_count": 105
        }
      ]
    },
    {
      "cell_type": "code",
      "source": [
        "# w2p2t1 - week 2 part 2 task 1\n",
        "n=1600\n",
        "p=0.0026\n",
        "A=5\n",
        "B=1600\n",
        "\n",
        "(MyABBernoulli(n,p,A,B),MyPoisson(n,p,A,B),MyIntML(n,p,A,B))"
      ],
      "metadata": {
        "colab": {
          "base_uri": "https://localhost:8080/"
        },
        "id": "46xMD-Jp0L2e",
        "outputId": "b4fc8531-f3b3-43db-96b6-b1ad3d6a0183"
      },
      "execution_count": null,
      "outputs": [
        {
          "output_type": "execute_result",
          "data": {
            "text/plain": [
              "(Decimal('0.4024'),\n",
              " (Decimal('0.4024'), (Decimal('0.3998'), Decimal('0.4050'))),\n",
              " (0.34, 9.6404))"
            ]
          },
          "metadata": {},
          "execution_count": 59
        }
      ]
    },
    {
      "cell_type": "code",
      "source": [
        "# w2p2t2\n",
        "n=4300\n",
        "p=0.6\n",
        "A=2535\n",
        "B=2618\n",
        "\n",
        "MyABBernoulli(n,p,A,B)"
      ],
      "metadata": {
        "colab": {
          "base_uri": "https://localhost:8080/"
        },
        "id": "uYUfMo7q4gYy",
        "outputId": "ff3efe35-b0ae-459f-c9c5-182fddf70a54"
      },
      "execution_count": null,
      "outputs": [
        {
          "output_type": "execute_result",
          "data": {
            "text/plain": [
              "Decimal('0.8062')"
            ]
          },
          "metadata": {},
          "execution_count": 60
        }
      ]
    },
    {
      "cell_type": "code",
      "source": [
        "MyPoisson(n,p,A,B)"
      ],
      "metadata": {
        "id": "PVrDYsQrh7mU",
        "outputId": "ea0487b6-cc2e-4401-f98e-95af9a3d824c",
        "colab": {
          "base_uri": "https://localhost:8080/"
        }
      },
      "execution_count": null,
      "outputs": [
        {
          "output_type": "execute_result",
          "data": {
            "text/plain": [
              "(Decimal('0.5908'), (0, 1))"
            ]
          },
          "metadata": {},
          "execution_count": 61
        }
      ]
    },
    {
      "cell_type": "code",
      "source": [
        "MyIntML(n,p,A,B)"
      ],
      "metadata": {
        "id": "k2_KAB7Mh8be",
        "outputId": "04f950ce-c080-45c7-8db9-8d37a15b2631",
        "colab": {
          "base_uri": "https://localhost:8080/"
        }
      },
      "execution_count": null,
      "outputs": [
        {
          "output_type": "execute_result",
          "data": {
            "text/plain": [
              "(0.8009, 0.0635)"
            ]
          },
          "metadata": {},
          "execution_count": 62
        }
      ]
    },
    {
      "cell_type": "markdown",
      "source": [
        "---\n",
        "---\n",
        "# Неделя 3"
      ],
      "metadata": {
        "id": "FuMt_RlZF4LZ"
      }
    },
    {
      "cell_type": "code",
      "source": [
        "np.random.uniform(0,5)"
      ],
      "metadata": {
        "colab": {
          "base_uri": "https://localhost:8080/"
        },
        "id": "3b8jX6Z4i5iX",
        "outputId": "64ab6014-0718-454b-fd35-663e4d615e1f"
      },
      "execution_count": null,
      "outputs": [
        {
          "output_type": "execute_result",
          "data": {
            "text/plain": [
              "2.117585236938492"
            ]
          },
          "metadata": {},
          "execution_count": 5
        }
      ]
    },
    {
      "cell_type": "code",
      "source": [
        "s = 0\n",
        "n = 1000000\n",
        "for _ in range(n):\n",
        "  A = np.random.uniform(0,5)\n",
        "  B = np.random.uniform(0,5)\n",
        "  otr1 = min(A,B)\n",
        "  otr2 = 5-max(A,B)\n",
        "  otr3 = abs(A-B)\n",
        "  if (otr1+otr2>otr3) and (otr1+otr3>otr2) and (otr2+otr3>otr1): s+=1\n",
        "s/n"
      ],
      "metadata": {
        "id": "mZgQWl80jaQ-",
        "colab": {
          "base_uri": "https://localhost:8080/"
        },
        "outputId": "c6307b42-8c30-498b-f157-e7a6b147cc03"
      },
      "execution_count": null,
      "outputs": [
        {
          "output_type": "execute_result",
          "data": {
            "text/plain": [
              "0.25023"
            ]
          },
          "metadata": {},
          "execution_count": 21
        }
      ]
    },
    {
      "cell_type": "code",
      "source": [
        "ress = []\n",
        "for __ in range(10):\n",
        "  s = 0\n",
        "  n = 100_000\n",
        "  for _ in range(n):\n",
        "    Y = np.random.uniform(0,26)\n",
        "    X = np.random.uniform(0,26)\n",
        "    if X==0: pass\n",
        "    otr1 = Y*X\n",
        "    otr2 = Y/X\n",
        "    if (otr1<=17) and (otr2<=(676/17)): s+=1\n",
        "  ress.append(s/n)"
      ],
      "metadata": {
        "id": "4_2C3fP--hAR"
      },
      "execution_count": null,
      "outputs": []
    },
    {
      "cell_type": "code",
      "source": [
        "np.mean(ress)"
      ],
      "metadata": {
        "colab": {
          "base_uri": "https://localhost:8080/"
        },
        "id": "SLDGcqq-FLe0",
        "outputId": "5bacf2bf-dd05-422b-ed80-2d6b5cb5aca2"
      },
      "execution_count": null,
      "outputs": [
        {
          "output_type": "execute_result",
          "data": {
            "text/plain": [
              "0.10534099999999999"
            ]
          },
          "metadata": {},
          "execution_count": 15
        }
      ]
    },
    {
      "cell_type": "code",
      "source": [
        "cnk(3,2)"
      ],
      "metadata": {
        "colab": {
          "base_uri": "https://localhost:8080/"
        },
        "id": "tetw6_XXxBdM",
        "outputId": "fbcd6bf1-2473-4cb5-e63f-93022e7e003e"
      },
      "execution_count": null,
      "outputs": [
        {
          "output_type": "execute_result",
          "data": {
            "text/plain": [
              "Decimal('3')"
            ]
          },
          "metadata": {},
          "execution_count": 30
        }
      ]
    },
    {
      "cell_type": "code",
      "source": [
        "float(cnk(5,3))"
      ],
      "metadata": {
        "colab": {
          "base_uri": "https://localhost:8080/"
        },
        "id": "lU46gdcf1X3R",
        "outputId": "c81f8926-344e-43d1-a6d4-56a22a9f5d60"
      },
      "execution_count": null,
      "outputs": [
        {
          "output_type": "execute_result",
          "data": {
            "text/plain": [
              "10.0"
            ]
          },
          "metadata": {},
          "execution_count": 35
        }
      ]
    },
    {
      "cell_type": "code",
      "source": [
        "0.9*0.9*(4/5)*0.9*(3/5)*float(cnk(5,3))"
      ],
      "metadata": {
        "colab": {
          "base_uri": "https://localhost:8080/"
        },
        "id": "UgiNz1ap1Wug",
        "outputId": "00704a1a-4a18-416a-f81f-0de652de414c"
      },
      "execution_count": null,
      "outputs": [
        {
          "output_type": "execute_result",
          "data": {
            "text/plain": [
              "3.4992000000000005"
            ]
          },
          "metadata": {},
          "execution_count": 34
        }
      ]
    },
    {
      "cell_type": "code",
      "source": [
        "0.9*0.9*(4/5)*0.9*(3/5)*float(cnk(5,3))+3*0.9*0.9*(1/5)*0.9*(4/5)*float(cnk(5,2))+float(cnk(3,2))*0.9*0.9*(4/5)*0.1"
      ],
      "metadata": {
        "colab": {
          "base_uri": "https://localhost:8080/"
        },
        "id": "GK3P7jbBy4ze",
        "outputId": "01a74463-3b47-4707-836e-35087d6c84e9"
      },
      "execution_count": null,
      "outputs": [
        {
          "output_type": "execute_result",
          "data": {
            "text/plain": [
              "7.192800000000001"
            ]
          },
          "metadata": {},
          "execution_count": 33
        }
      ]
    },
    {
      "cell_type": "code",
      "source": [
        "0.9*0.9+0.9*0.9*0.9"
      ],
      "metadata": {
        "colab": {
          "base_uri": "https://localhost:8080/"
        },
        "id": "8DfRWH_32ioM",
        "outputId": "a0bed592-45b2-43cb-bf7b-e68e422e6260"
      },
      "execution_count": null,
      "outputs": [
        {
          "output_type": "execute_result",
          "data": {
            "text/plain": [
              "1.5390000000000001"
            ]
          },
          "metadata": {},
          "execution_count": 39
        }
      ]
    },
    {
      "cell_type": "markdown",
      "source": [
        "---\n",
        "---\n",
        "# Неделя 4"
      ],
      "metadata": {
        "id": "nHH0enR9RKdm"
      }
    },
    {
      "cell_type": "markdown",
      "source": [
        "---\n",
        "## Function definitions"
      ],
      "metadata": {
        "id": "9CNwrhMYZupy"
      }
    },
    {
      "cell_type": "code",
      "source": [
        "#@title Генератор случайной величины ~ Пуассону\n",
        "def MyLikePoissonRandomVariable(n, lmbda):\n",
        "  for i in range(0,n+1):\n",
        "    yield ((lmbda**i)/factorial(i))*exp(-lmbda)"
      ],
      "metadata": {
        "id": "X9g4x8_LUo44",
        "cellView": "form"
      },
      "execution_count": null,
      "outputs": []
    },
    {
      "cell_type": "code",
      "source": [
        "#@title Генератор случайной величины ~ биномиальному\n",
        "def MyLikeBinomRandomVariable(n, p):\n",
        "  for i in range(0,n+1):\n",
        "    yield MyBernoulli(n,i,p)"
      ],
      "metadata": {
        "id": "AkCFaE2Q7J6W",
        "cellView": "form"
      },
      "execution_count": null,
      "outputs": []
    },
    {
      "cell_type": "code",
      "source": [
        "#@title Генератор случайной величины ~ геометрическому\n",
        "def MyLikeGeomRandomVariable(n, p):\n",
        "  for i in range(1,n+1):\n",
        "    yield p*((1-p)**(i-1))"
      ],
      "metadata": {
        "id": "jqA_cYkM8Y8e",
        "cellView": "form"
      },
      "execution_count": null,
      "outputs": []
    },
    {
      "cell_type": "code",
      "source": [
        "#@title Генератор функции распределения дискретной случайной величины\n",
        "def GenerateDistributionFunction(xsi,p):\n",
        "  min_xsi = min(xsi)\n",
        "  pxsi = pairwise(xsi)\n",
        "  val2 = list(enumerate(pxsi))\n",
        "  cs = np.cumsum(p)\n",
        "  def f_diskr_raspr(znach):\n",
        "    # print('-----')\n",
        "    # print(f\"znach={znach}\")\n",
        "    # print(f'list(enumerate(pxsi))={list(enumerate(pxsi))}')\n",
        "    # print(f'val2={val2}')\n",
        "    # print(f'min(xsi)={min(xsi)}')\n",
        "    # print('-----')\n",
        "    if znach<=min_xsi: return 0\n",
        "    for i,v in val2:\n",
        "      if v[0]<znach<=v[1]: return cs[i]\n",
        "    return 1\n",
        "  return f_diskr_raspr"
      ],
      "metadata": {
        "id": "BnScXLVEuhEz",
        "cellView": "form"
      },
      "execution_count": null,
      "outputs": []
    },
    {
      "cell_type": "markdown",
      "source": [
        "---\n",
        "## Code itself"
      ],
      "metadata": {
        "id": "ZUeNNPPpUkCZ"
      }
    },
    {
      "cell_type": "code",
      "source": [
        "# Построить график функции распределения дискретной случайной величины, заданной по принципу Пуассона\n",
        "n=100\n",
        "xsi = np.arange(0,n+1)\n",
        "p = [x for x in MyLikePoissonRandomVariable(n,50)]\n",
        "x = np.linspace(0,max(xsi)+1,1000)\n",
        "raspr = GenerateDistributionFunction(xsi,p)\n",
        "y=[raspr(x0) for x0 in x]\n",
        "plt.plot(x,y)"
      ],
      "metadata": {
        "colab": {
          "base_uri": "https://localhost:8080/",
          "height": 283
        },
        "id": "MAmyB3_cXcwK",
        "outputId": "e3152a5a-23e7-4709-e9be-6bfda1965303"
      },
      "execution_count": null,
      "outputs": [
        {
          "output_type": "execute_result",
          "data": {
            "text/plain": [
              "[<matplotlib.lines.Line2D at 0x7f33800fe310>]"
            ]
          },
          "metadata": {},
          "execution_count": 172
        },
        {
          "output_type": "display_data",
          "data": {
            "text/plain": [
              "<Figure size 432x288 with 1 Axes>"
            ],
            "image/png": "[encoded data removed]"
          },
          "metadata": {
            "needs_background": "light"
          }
        }
      ]
    },
    {
      "cell_type": "code",
      "source": [
        "# Построить график функции распределения дискретной случайной величины, заданной по принципу биномиала\n",
        "n=100\n",
        "xsi = np.arange(0,n+1)\n",
        "p = [x for x in MyLikeBinomRandomVariable(n,0.5)]\n",
        "x = np.linspace(0,max(xsi)+1,1000)\n",
        "raspr = GenerateDistributionFunction(xsi,p)\n",
        "y=[raspr(x0) for x0 in x]\n",
        "plt.plot(x,y)"
      ],
      "metadata": {
        "colab": {
          "base_uri": "https://localhost:8080/",
          "height": 283
        },
        "id": "IceFDony7uFa",
        "outputId": "8a66bb6c-32d0-448d-9fcf-336e1bfbd150"
      },
      "execution_count": null,
      "outputs": [
        {
          "output_type": "execute_result",
          "data": {
            "text/plain": [
              "[<matplotlib.lines.Line2D at 0x7f337fd15410>]"
            ]
          },
          "metadata": {},
          "execution_count": 183
        },
        {
          "output_type": "display_data",
          "data": {
            "text/plain": [
              "<Figure size 432x288 with 1 Axes>"
            ],
            "image/png": "[encoded data removed]"
          },
          "metadata": {
            "needs_background": "light"
          }
        }
      ]
    },
    {
      "cell_type": "code",
      "source": [
        "# Построить график функции распределения дискретной случайной величины, заданной по принципу геиметрического распределения\n",
        "n=100\n",
        "xsi = np.arange(0,n+1)\n",
        "p = [x for x in MyLikeGeomRandomVariable(n,0.1)]\n",
        "x = np.linspace(0,max(xsi)+1,1000)\n",
        "raspr = GenerateDistributionFunction(xsi,p)\n",
        "y=[raspr(x0) for x0 in x]\n",
        "plt.plot(x,y)"
      ],
      "metadata": {
        "colab": {
          "base_uri": "https://localhost:8080/",
          "height": 283
        },
        "id": "TkU1cwEX8Vaq",
        "outputId": "9eae6ca7-9a13-4585-f4bc-d03dffda0f74"
      },
      "execution_count": null,
      "outputs": [
        {
          "output_type": "execute_result",
          "data": {
            "text/plain": [
              "[<matplotlib.lines.Line2D at 0x7f337f519850>]"
            ]
          },
          "metadata": {},
          "execution_count": 198
        },
        {
          "output_type": "display_data",
          "data": {
            "text/plain": [
              "<Figure size 432x288 with 1 Axes>"
            ],
            "image/png": "[encoded data removed]"
          },
          "metadata": {
            "needs_background": "light"
          }
        }
      ]
    },
    {
      "cell_type": "markdown",
      "source": [
        "---\n",
        "## Random tests"
      ],
      "metadata": {
        "id": "vSFdqv7aUW3j"
      }
    },
    {
      "cell_type": "code",
      "source": [
        "import numpy as np\n",
        "import matplotlib.pyplot as plt \n",
        "\n",
        "def fun (n, x): \n",
        "    if n <= x <= n + 1:\n",
        "        return float(x) - n \n",
        "    elif n + 1 <= x <= n + 2:\n",
        "        return 2.0 - x + n \n",
        "    return 0.0 \n",
        "\n",
        "vfun = np.vectorize(fun)\n",
        "\n",
        "x = np.linspace(0, 10, 10000)    \n",
        "y = vfun(3, x)\n",
        "\n",
        "plt.plot(x, y, '.')\n",
        "plt.show()"
      ],
      "metadata": {
        "colab": {
          "base_uri": "https://localhost:8080/",
          "height": 265
        },
        "id": "cBQI9uUJRLYW",
        "outputId": "6447414c-ac36-4fa2-efeb-7c6d6309919a"
      },
      "execution_count": null,
      "outputs": [
        {
          "output_type": "display_data",
          "data": {
            "text/plain": [
              "<Figure size 432x288 with 1 Axes>"
            ],
            "image/png": "[encoded data removed]"
          },
          "metadata": {
            "needs_background": "light"
          }
        }
      ]
    },
    {
      "cell_type": "code",
      "source": [
        "x = np.arange(0, 5, 0.1)\n",
        "y = np.sin(x)\n",
        "fig, ax = plt.subplots()\n",
        "ax.plot(x, y)"
      ],
      "metadata": {
        "colab": {
          "base_uri": "https://localhost:8080/",
          "height": 283
        },
        "id": "6R3g33CBR4dN",
        "outputId": "0e8c58cb-311f-4e16-a2cb-d96afc688b32"
      },
      "execution_count": null,
      "outputs": [
        {
          "output_type": "execute_result",
          "data": {
            "text/plain": [
              "[<matplotlib.lines.Line2D at 0x7fd070c28e90>]"
            ]
          },
          "metadata": {},
          "execution_count": 19
        },
        {
          "output_type": "display_data",
          "data": {
            "text/plain": [
              "<Figure size 432x288 with 1 Axes>"
            ],
            "image/png": "[encoded data removed]"
          },
          "metadata": {
            "needs_background": "light"
          }
        }
      ]
    },
    {
      "cell_type": "code",
      "source": [
        "# # \n",
        "\n",
        "# # list(pairwise(xsi))\n",
        "\n",
        "# # [x<=0]   [x>max(xsi)]\n",
        "\n",
        "\n",
        "# cs = np.cumsum(p)\n",
        "# ysl = np.array([np.all([i[0]<x,x<=i[1]],axis=0) for i in pairwise(xsi)]+[x>max(xsi)])\n",
        "\n",
        "# pw = []\n",
        "# for i in ysl.T:\n",
        "#   nz = np.nonzero(i)[0]\n",
        "#   if len(nz)==0: pw.append(0)\n",
        "#   else: pw.append(np.cumsum(p)[nz[0]])\n",
        "# # pw.append \n",
        "\n",
        "# # np.piecewise(y, ysl, cs[:-1])\n",
        "# # len(xsi)\n",
        "\n",
        "# pxsi = pairwise(xsi)\n",
        "\n",
        "\n",
        "\n"
      ],
      "metadata": {
        "id": "npXP3ucLYdAf"
      },
      "execution_count": null,
      "outputs": []
    },
    {
      "cell_type": "code",
      "source": [
        "# zl = list(zip(x,pw))\n",
        "# zl"
      ],
      "metadata": {
        "colab": {
          "base_uri": "https://localhost:8080/"
        },
        "id": "zLVBrbpPnYv4",
        "outputId": "3cfc64de-79c0-44b0-c7ad-39558997621a"
      },
      "execution_count": null,
      "outputs": [
        {
          "output_type": "execute_result",
          "data": {
            "text/plain": [
              "[(0, 0), (1, 0), (2, 0), (3, 0.85), (4, 0.95), (5, 0.99), (6, 1.0)]"
            ]
          },
          "metadata": {},
          "execution_count": 335
        }
      ]
    },
    {
      "cell_type": "code",
      "source": [
        "# x"
      ],
      "metadata": {
        "colab": {
          "base_uri": "https://localhost:8080/"
        },
        "id": "B73JgyyhpSIl",
        "outputId": "8a4f24a3-0b95-4833-c432-0087d843ba39"
      },
      "execution_count": null,
      "outputs": [
        {
          "output_type": "execute_result",
          "data": {
            "text/plain": [
              "array([0, 1, 2, 3, 4])"
            ]
          },
          "metadata": {},
          "execution_count": 325
        }
      ]
    },
    {
      "cell_type": "code",
      "source": [
        "# np.cumsum(p)"
      ],
      "metadata": {
        "colab": {
          "base_uri": "https://localhost:8080/"
        },
        "id": "aBWOaF0npxKc",
        "outputId": "954b9a69-9411-4e69-aa5a-124e3884d97b"
      },
      "execution_count": null,
      "outputs": [
        {
          "output_type": "execute_result",
          "data": {
            "text/plain": [
              "array([0.85, 0.95, 0.99, 1.  ])"
            ]
          },
          "metadata": {},
          "execution_count": 326
        }
      ]
    },
    {
      "cell_type": "code",
      "source": [
        "# plt.plot(x,pw,'.')"
      ],
      "metadata": {
        "colab": {
          "base_uri": "https://localhost:8080/",
          "height": 283
        },
        "id": "-tlp2IwHnJ9h",
        "outputId": "71ce1d6d-8db7-4375-b9ce-1f87c304116d"
      },
      "execution_count": null,
      "outputs": [
        {
          "output_type": "execute_result",
          "data": {
            "text/plain": [
              "[<matplotlib.lines.Line2D at 0x7fd06faf6510>]"
            ]
          },
          "metadata": {},
          "execution_count": 339
        },
        {
          "output_type": "display_data",
          "data": {
            "text/plain": [
              "<Figure size 432x288 with 1 Axes>"
            ],
            "image/png": "[encoded data removed]"
          },
          "metadata": {
            "needs_background": "light"
          }
        }
      ]
    },
    {
      "cell_type": "code",
      "source": [
        "# np.nonzero(ysl.T[2000])[0][0]"
      ],
      "metadata": {
        "colab": {
          "base_uri": "https://localhost:8080/"
        },
        "id": "raYuI3PMllZE",
        "outputId": "48ec9ac6-2a6e-4db0-8f1a-b4446d307dd4"
      },
      "execution_count": null,
      "outputs": [
        {
          "output_type": "execute_result",
          "data": {
            "text/plain": [
              "2"
            ]
          },
          "metadata": {},
          "execution_count": 239
        }
      ]
    },
    {
      "cell_type": "code",
      "source": [
        "# np.arange(max(xsi)-min(xsi)+1)"
      ],
      "metadata": {
        "colab": {
          "base_uri": "https://localhost:8080/"
        },
        "id": "5Pv_F2BKkJVH",
        "outputId": "ec0fe87e-e0bb-4fa3-ea4a-f828ebbc8165"
      },
      "execution_count": null,
      "outputs": [
        {
          "output_type": "execute_result",
          "data": {
            "text/plain": [
              "array([0, 1])"
            ]
          },
          "metadata": {},
          "execution_count": 209
        }
      ]
    },
    {
      "cell_type": "code",
      "source": [
        "# list(pairwise(xsi))"
      ],
      "metadata": {
        "colab": {
          "base_uri": "https://localhost:8080/"
        },
        "id": "oTPiuQP4kBvS",
        "outputId": "6d4b7c4d-fa61-4a2c-d611-cbab2d979d6e"
      },
      "execution_count": null,
      "outputs": [
        {
          "output_type": "execute_result",
          "data": {
            "text/plain": [
              "[(0, 1)]"
            ]
          },
          "metadata": {},
          "execution_count": 210
        }
      ]
    },
    {
      "cell_type": "code",
      "source": [
        "# ysl"
      ],
      "metadata": {
        "colab": {
          "base_uri": "https://localhost:8080/"
        },
        "id": "I6TfV8JMjecY",
        "outputId": "4d9eb958-736c-4cbc-f70d-3bed726db43c"
      },
      "execution_count": null,
      "outputs": [
        {
          "output_type": "execute_result",
          "data": {
            "text/plain": [
              "array([[False,  True]])"
            ]
          },
          "metadata": {},
          "execution_count": 211
        }
      ]
    },
    {
      "cell_type": "code",
      "source": [
        "# cs[:-1]"
      ],
      "metadata": {
        "colab": {
          "base_uri": "https://localhost:8080/"
        },
        "id": "eoJWrH5fj28Z",
        "outputId": "0fb110f1-5a2c-4336-e854-7c91f37ee46d"
      },
      "execution_count": null,
      "outputs": [
        {
          "output_type": "execute_result",
          "data": {
            "text/plain": [
              "array([0.85])"
            ]
          },
          "metadata": {},
          "execution_count": 212
        }
      ]
    }
  ]
}