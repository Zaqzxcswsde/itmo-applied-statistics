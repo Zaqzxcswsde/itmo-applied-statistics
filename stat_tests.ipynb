{
  "nbformat": 4,
  "nbformat_minor": 0,
  "metadata": {
    "colab": {
      "provenance": [],
      "collapsed_sections": [
        "7QU2hHMM5ahl",
        "lLnB8BJ7HLCF"
      ],
      "history_visible": true,
      "authorship_tag": "ABX9TyMnYqB/FMnd6EJwAUvkQ28G",
      "include_colab_link": true
    },
    "kernelspec": {
      "name": "python3",
      "display_name": "Python 3"
    },
    "language_info": {
      "name": "python"
    }
  },
  "cells": [
    {
      "cell_type": "markdown",
      "metadata": {
        "id": "view-in-github",
        "colab_type": "text"
      },
      "source": [
        "<a href=\"https://colab.research.google.com/github/Zaqzxcswsde/itmo-applied-statistics/blob/main/stat_tests.ipynb\" target=\"_parent\"><img src=\"https://colab.research.google.com/assets/colab-badge.svg\" alt=\"Open In Colab\"/></a>"
      ]
    },
    {
      "cell_type": "code",
      "execution_count": 357,
      "metadata": {
        "id": "-LBrSgvnnh7X"
      },
      "outputs": [],
      "source": [
        "#@title Imports { display-mode: \"form\" }\n",
        "\n",
        "from pandas import Series, DataFrame\n",
        "import pandas as pd\n",
        "import numpy as np\n",
        "from os import listdir\n",
        "# from google.colab import drive\n",
        "#drive.mount('/content/drive')\n",
        "# import matplotlib.pyplot as plt\n",
        "# %matplotlib inline\n",
        "import itertools\n",
        "from itertools import product\n",
        "from scipy import special\n",
        "# как можно скачать файл напрямую из гуглдиска сюда в директорию /content\n",
        "# !gdown 1Xtw5-jqrDJmh318t1jtKHvOJXxMrB9XF\n",
        "from math import factorial\n",
        "from decimal import *\n",
        "import sympy\n",
        "from itertools import product\n",
        "from math import fsum\n",
        "from fractions import Fraction"
      ]
    },
    {
      "cell_type": "markdown",
      "source": [
        "---\n",
        "---\n",
        "---"
      ],
      "metadata": {
        "id": "7odY3x8zIuBy"
      }
    },
    {
      "cell_type": "markdown",
      "source": [
        "# Неделя 1"
      ],
      "metadata": {
        "id": "cf6utbDaDZCc"
      }
    },
    {
      "cell_type": "markdown",
      "source": [
        "---\n",
        "## Function Definitions"
      ],
      "metadata": {
        "id": "0aSuegg55SBw"
      }
    },
    {
      "cell_type": "code",
      "source": [
        "# получить произведение всех чисел в листе\n",
        "def list_product(array):\n",
        "  s = 1\n",
        "  for i in array:\n",
        "    s *= i\n",
        "  return s"
      ],
      "metadata": {
        "id": "fgIOVbqipir9"
      },
      "execution_count": 374,
      "outputs": []
    },
    {
      "cell_type": "code",
      "source": [
        "# формула C из комбинаторики с повторениями и без\n",
        "def comb(n,k, *, repetition=0):\n",
        "  if repetition: return comb(n+k-1,k)\n",
        "  else: return Decimal(factorial(n))/Decimal(Decimal(factorial(k))*Decimal(factorial(n-k)))\n",
        "\n",
        "# 4 основные функции комбинаторики объединены в одну, повторения есть? порядок важен? n? k?\n",
        "def prob(n,k,o,r):\n",
        "  if not o: return Decimal(comb(n,k,repetition=r))\n",
        "  elif r: return Decimal(n)**Decimal(k)\n",
        "  else: return Decimal(special.perm(n,k))\n",
        "\n",
        "# упрощённый доступ напрямую к C из n по k\n",
        "def cnk(n,k):\n",
        "  return Decimal(prob(n,k,0,0))"
      ],
      "metadata": {
        "id": "Umr3xT9XNqnv"
      },
      "execution_count": 394,
      "outputs": []
    },
    {
      "cell_type": "code",
      "source": [
        "# коккатенация листа в строчку\n",
        "def conc(lst):\n",
        "  c = ''\n",
        "  for i in lst:\n",
        "    c+=str(i)\n",
        "  return c"
      ],
      "metadata": {
        "id": "71RQqSFG0b97"
      },
      "execution_count": 376,
      "outputs": []
    },
    {
      "cell_type": "code",
      "source": [
        "# является ли число факториалом другого?\n",
        "def isfactorial(x):\n",
        "  if not isinstance(x,int) or x<1: return -1\n",
        "  i=0\n",
        "  while factorial(i)<x:\n",
        "    i+=1\n",
        "  if factorial(i)==x: return i\n",
        "  else: return -1\n",
        "\n",
        "# перевод числа в 6-ти-ричную систему\n",
        "def tosix(n):\n",
        "    if n == 0:\n",
        "        return ['0']\n",
        "    digits = []\n",
        "    while n:\n",
        "        digits.append(str(int(n % 6)))\n",
        "        n //= 6\n",
        "    return digits[::-1]\n",
        "\n",
        "# является ли лист уникальным? Не работает, если там хранятся другие листы (и прочие нехешитруемые типы)\n",
        "def isunique(lst):\n",
        "  return len(list(lst)) == len(list(set(list(lst))))"
      ],
      "metadata": {
        "id": "mFdm5n7_fj_d"
      },
      "execution_count": 377,
      "outputs": []
    },
    {
      "cell_type": "markdown",
      "source": [
        "---\n",
        "## Code itself"
      ],
      "metadata": {
        "id": "7QU2hHMM5ahl"
      }
    },
    {
      "cell_type": "code",
      "source": [
        "# сколько из всех вариантов пар произведений чисел от 1 до 4 целочисленно делятся на три \n",
        "list(map(lambda a: a % 3, map(lambda a: a[0]*a[1], itertools.product(np.arange(1,5),np.arange(1,5))))).count(0)"
      ],
      "metadata": {
        "colab": {
          "base_uri": "https://localhost:8080/"
        },
        "id": "_3Oz4Sj_p7Bd",
        "outputId": "580f700d-1f51-48cb-e3f1-1b9c801e6b5f"
      },
      "execution_count": null,
      "outputs": [
        {
          "output_type": "execute_result",
          "data": {
            "text/plain": [
              "7"
            ]
          },
          "metadata": {},
          "execution_count": 133
        }
      ]
    },
    {
      "cell_type": "code",
      "source": [
        "# у скольки из всех вариантов пар произведений чисел от 1 до 4 сумма превышает произведение \n",
        "len([1 for a in itertools.product(np.arange(1,5),np.arange(1,5)) if a[0]+a[1]>a[0]*a[1]])"
      ],
      "metadata": {
        "colab": {
          "base_uri": "https://localhost:8080/"
        },
        "id": "amJ-cQNBpSYF",
        "outputId": "7d350737-b7cc-455e-8b93-58e489e94e8e"
      },
      "execution_count": null,
      "outputs": [
        {
          "output_type": "execute_result",
          "data": {
            "text/plain": [
              "7"
            ]
          },
          "metadata": {},
          "execution_count": 135
        }
      ]
    },
    {
      "cell_type": "code",
      "source": [
        "cnk(6,5)"
      ],
      "metadata": {
        "colab": {
          "base_uri": "https://localhost:8080/"
        },
        "id": "ai2wc4HKllyi",
        "outputId": "c33d801e-fbec-4f72-8fdc-badeaff4d0ed"
      },
      "execution_count": null,
      "outputs": [
        {
          "output_type": "execute_result",
          "data": {
            "text/plain": [
              "6.0"
            ]
          },
          "metadata": {},
          "execution_count": 137
        }
      ]
    },
    {
      "cell_type": "code",
      "source": [
        "# n = int(input('n? '))\n",
        "# k = int(input('k? '))\n",
        "# o = int(input('Порядок важен? 1/0 y/n ').translate(str.maketrans('yn','10')))\n",
        "# r = int(input('Повторения есть? 1/0 y/n ').translate(str.maketrans('yn','10')))\n",
        "n,k,o,r=[10,10,0,0]\n",
        "print(prob(n,k,o,r))"
      ],
      "metadata": {
        "colab": {
          "base_uri": "https://localhost:8080/"
        },
        "id": "AXXD-t1eHwLA",
        "outputId": "4058aaeb-0d1a-4347-9597-ab6692775876"
      },
      "execution_count": null,
      "outputs": [
        {
          "output_type": "stream",
          "name": "stdout",
          "text": [
            "1.0\n"
          ]
        }
      ]
    },
    {
      "cell_type": "code",
      "source": [
        "# сколькими способами можно выбрать из n пар детей двих так, чтобы они были из разных пар?\n",
        "pair_count=3\n",
        "4*sum(range(1,pair_count))"
      ],
      "metadata": {
        "colab": {
          "base_uri": "https://localhost:8080/"
        },
        "id": "DACENz3h3FAw",
        "outputId": "ecc7fe2d-8a7c-4ac9-91f7-87a8d7f03204"
      },
      "execution_count": null,
      "outputs": [
        {
          "output_type": "execute_result",
          "data": {
            "text/plain": [
              "12"
            ]
          },
          "metadata": {},
          "execution_count": 140
        }
      ]
    },
    {
      "cell_type": "code",
      "source": [
        "# или так\n",
        "all_possible_combinations=list(map(list,list(product(range(6),repeat=2))))\n",
        "all_possible_pair_variations=[[x[0]//2,x[1]//2] for x in all_possible_combinations]\n",
        "apc_with_rep_1=list(map(set,all_possible_combinations))\n",
        "apc_with_rep_2=[x for x in apc_with_rep_1 if len(x)>1]\n",
        "apc_without_rep=list(map(list,(set(map(tuple,apc_with_rep_2)))))\n",
        "apc_with_rep_pairs_1=[[x[0]//2,x[1]//2] for x in list(map(list,apc_without_rep))]\n",
        "apc_with_rep_pairs_2=list(map(set,apc_with_rep_pairs_1))\n",
        "apc_without_rep_pairs=[x for x in apc_with_rep_pairs_2 if len(x)==2]\n",
        "len(apc_without_rep_pairs)"
      ],
      "metadata": {
        "colab": {
          "base_uri": "https://localhost:8080/"
        },
        "id": "N2_4olPV6y-F",
        "outputId": "957a8a05-8884-4d39-9a32-642e63e345ff"
      },
      "execution_count": null,
      "outputs": [
        {
          "output_type": "execute_result",
          "data": {
            "text/plain": [
              "12"
            ]
          },
          "metadata": {},
          "execution_count": 141
        }
      ]
    },
    {
      "cell_type": "code",
      "source": [
        "# из цифр от 0 до 5 составили декартово проиведение длиной 4, в скольких вариантах нет повторений цифр?\n",
        "# способ 1\n",
        "len([x for x in map(set,product(range(0,6),repeat=4)) if len(x)==4])"
      ],
      "metadata": {
        "colab": {
          "base_uri": "https://localhost:8080/"
        },
        "id": "W4ze-TX2-zAZ",
        "outputId": "6f0d71df-0181-4164-d3ed-ac3e6637c23c"
      },
      "execution_count": null,
      "outputs": [
        {
          "output_type": "execute_result",
          "data": {
            "text/plain": [
              "360"
            ]
          },
          "metadata": {},
          "execution_count": 143
        }
      ]
    },
    {
      "cell_type": "code",
      "source": [
        "# способ 2\n",
        "sum(list(map(isunique,[''.join(tosix(x)).zfill(4) for x in range(0,6**4)])))"
      ],
      "metadata": {
        "colab": {
          "base_uri": "https://localhost:8080/"
        },
        "id": "CWAW86KMi2nt",
        "outputId": "bf08dbfd-87b8-4359-987c-8337893a7a8f"
      },
      "execution_count": null,
      "outputs": [
        {
          "output_type": "execute_result",
          "data": {
            "text/plain": [
              "360"
            ]
          },
          "metadata": {},
          "execution_count": 144
        }
      ]
    },
    {
      "cell_type": "code",
      "source": [
        "# или так! 6 вариантов на первую, 5 на вторую и тд до четвёртой\n",
        "6*5*4*3"
      ],
      "metadata": {
        "colab": {
          "base_uri": "https://localhost:8080/"
        },
        "id": "cYibsnj0BxYL",
        "outputId": "037605b5-b513-4428-a7b0-1b80d9a675c0"
      },
      "execution_count": null,
      "outputs": [
        {
          "output_type": "execute_result",
          "data": {
            "text/plain": [
              "360"
            ]
          },
          "metadata": {},
          "execution_count": 145
        }
      ]
    },
    {
      "cell_type": "markdown",
      "source": [
        "---\n",
        "---\n",
        "# Неделя 2\n"
      ],
      "metadata": {
        "id": "__MpbYyLK7Rn"
      }
    },
    {
      "cell_type": "markdown",
      "source": [
        "TODO: переделать парсинг, чтобы работал с дробями и переменными"
      ],
      "metadata": {
        "id": "ky-Bk0T4GDyZ"
      }
    },
    {
      "cell_type": "markdown",
      "source": [
        "---\n",
        "## Function definitions"
      ],
      "metadata": {
        "id": "lLnB8BJ7HLCF"
      }
    },
    {
      "cell_type": "code",
      "source": [
        "#@title Парсинг таблиц из опенеду в датафрейм/серию/лист\n",
        "# Работает только с числовыми значениями, не работает с переменными или дробями - TODO\n",
        "def OpenEduTexToArrayOfArrays(full_tex,dec=True):\n",
        "  def is_float(element):\n",
        "    try:\n",
        "        float(element)\n",
        "        return True\n",
        "    except ValueError:\n",
        "        return False\n",
        "  full_tex=full_tex.replace(r'\\hline','\\n')      \n",
        "  full_tex=list(map(lambda a: a.split(),full_tex.split('\\n')))\n",
        "  for i,x in enumerate(full_tex):\n",
        "    full_tex[i]=[y for y in x if is_float(y)]\n",
        "  full_tex = [x for x in full_tex if len(x)>0]\n",
        "  if dec:\n",
        "    for i,x in enumerate(full_tex):\n",
        "      full_tex[i]=list(map(lambda a: Fraction(str(a)),x))\n",
        "  return full_tex\n",
        "def ArrayOfArraysWithIndexsAndColumnsToDataFrame(arrofarr):\n",
        "  if len(arrofarr)<=2: raise RuntimeError('don\\'t use this function for series!')\n",
        "  if len(arrofarr[0])<len(arrofarr[1]): arrofarr[0] = [''] + arrofarr[0]\n",
        "  npaoa = np.array(arrofarr)\n",
        "  return DataFrame(npaoa[1:,1:],columns=npaoa[0,:][1:],index=npaoa[:,0][1:],dtype=\"object\")\n",
        "def TTDFOVAP(full_tex,dec=True): # TexToDataFrameOrValsAndProbs\n",
        "  arrofarr=OpenEduTexToArrayOfArrays(full_tex,dec=dec)\n",
        "  if len(arrofarr)==1: return arrofarr[0]\n",
        "  elif len(arrofarr)==2: return (arrofarr[0],arrofarr[1])\n",
        "  else: return ArrayOfArraysWithIndexsAndColumnsToDataFrame(arrofarr)"
      ],
      "metadata": {
        "id": "3ek-o2WADLn_",
        "cellView": "form"
      },
      "execution_count": 457,
      "outputs": []
    },
    {
      "cell_type": "code",
      "source": [
        "#@title Медиана распределения случайной величины\n",
        "def myMedian(vals, probs):\n",
        "  m_1 = [i for i,_ in enumerate(probs) if ((sum(probs[:i+1])>0.5) and (sum(probs[i:])>0.5))]\n",
        "  m_1_e = [vals[v] for v in m_1]\n",
        "  m_2 = m_1_e[0] if len(m_1_e)==1 else (max(m_1_e)+min(m_1_e))/2\n",
        "  return m_2"
      ],
      "metadata": {
        "id": "h_ZWY8RpVf-B",
        "cellView": "form"
      },
      "execution_count": 359,
      "outputs": []
    },
    {
      "cell_type": "code",
      "source": [
        "#@title Проверка величин на независимость, !!!!!внутри DataFrame'а нужны Decimal'ы/Fractions'ы!!!!!\n",
        "def CheckIndependence(df):\n",
        "  xsi=df.sum(axis=0) # this produces series of decimals, as expected\n",
        "  # eta=df.sum(axis=1) # this instead produces series of floats, not decimals - presumably pandas bug\n",
        "  eta=Series({k:v.sum() for k,v in df.iterrows()})\n",
        "  # xsi=xsi.apply(lambda a: Decimal(str(a)))\n",
        "  # eta=eta.apply(lambda a: Decimal(str(a)))\n",
        "  df2 = pd.DataFrame(columns=df.columns, index=df.index)\n",
        "  for i in df.columns:\n",
        "    for j in df.index:\n",
        "      df2[i][j]=xsi[i]*eta[j]\n",
        "  return df.equals(df2)"
      ],
      "metadata": {
        "id": "_d2tnVU_IOfG",
        "cellView": "form"
      },
      "execution_count": 360,
      "outputs": []
    },
    {
      "cell_type": "code",
      "source": [
        "#@title Математическое ожидание распределения случайной величины\n",
        "def myExpectedValue(vals, probs):\n",
        "  vals = np.asarray(vals)\n",
        "  probs = np.asarray(probs)\n",
        "  return (vals * probs).sum()"
      ],
      "metadata": {
        "id": "lYTwRFZ4WG7_",
        "cellView": "form"
      },
      "execution_count": 361,
      "outputs": []
    },
    {
      "cell_type": "code",
      "source": [
        "#@title Совместное распределение -> мат.ожидание их произведения\n",
        "def TablToExpectedOfMult(df):\n",
        "  df2=DataFrame(columns=df.columns,index=df.index)\n",
        "  for i in df2.columns:\n",
        "    for j in df2.index:\n",
        "      df2[i][j]=i*j\n",
        "  ss={}\n",
        "  for i in df2.columns:\n",
        "    for j in df2.index:\n",
        "      if df2[i][j] in ss.keys():\n",
        "        ss[df2[i][j]]+=df[i][j]\n",
        "      else:\n",
        "        ss[df2[i][j]]=df[i][j]\n",
        "  return sum(np.asarray(list(ss.keys()))*np.asarray(list(ss.values())))"
      ],
      "metadata": {
        "id": "ytdUohWwzyN6",
        "cellView": "form"
      },
      "execution_count": 362,
      "outputs": []
    },
    {
      "cell_type": "code",
      "source": [
        "#@title Распределение случайной величины -> дисперсия\n",
        "def MyVariance(vals,probs):\n",
        "  ev = myExpectedValue(vals,probs)\n",
        "  vals2=[(x-ev)**2 for x in vals]\n",
        "  disp = myExpectedValue(vals2,probs)\n",
        "  return disp"
      ],
      "metadata": {
        "id": "Cdb68o_O3Bv0",
        "cellView": "form"
      },
      "execution_count": 363,
      "outputs": []
    },
    {
      "cell_type": "code",
      "source": [
        "#@title Распределение случайной величины -> дисперсия 2\n",
        "def MyVariance2(vals,probs):\n",
        "  ev = myExpectedValue(vals,probs)\n",
        "  vals2=[x**2 for x in vals]\n",
        "  disp = myExpectedValue(vals2,probs)\n",
        "  return disp-ev**2"
      ],
      "metadata": {
        "id": "aixmsqUgYsr3",
        "cellView": "form"
      },
      "execution_count": 364,
      "outputs": []
    },
    {
      "cell_type": "code",
      "source": [
        "#@title Совместное распределение -> мат.ожидание обеих - сначала по столбцам, потом по строкам\n",
        "def MyJointDistributionToExpectedOfBoth(df):\n",
        "  xsi,eta=MyJointDistributionToMarginalDistribution(df)\n",
        "  xsi_ev=myExpectedValue(xsi.index,xsi.values)\n",
        "  eta_ev=myExpectedValue(eta.index,eta.values)\n",
        "  return (xsi_ev,eta_ev)"
      ],
      "metadata": {
        "id": "3aCdY9db06GR",
        "cellView": "form"
      },
      "execution_count": 365,
      "outputs": []
    },
    {
      "cell_type": "code",
      "source": [
        "#@title Совметное распределение -> маргинальное распределение\n",
        "def MyJointDistributionToMarginalDistribution(df):\n",
        "  xsi=df.sum(axis=0)\n",
        "  eta=Series({k:v.sum() for k,v in df.iterrows()})\n",
        "  return (xsi,eta)"
      ],
      "metadata": {
        "id": "9n1bGQaHhak4",
        "cellView": "form"
      },
      "execution_count": 366,
      "outputs": []
    },
    {
      "cell_type": "code",
      "source": [
        "#@title Маргинальное распределение / дисперсия -> СКО\n",
        "def MyStandardDeviation(vals=None,probs=None,var=None):\n",
        "  if not var: return decimal_from_fraction(MyVariance(vals,probs))**Decimal(0.5)\n",
        "  else: return decimal_from_fraction(var)**Decimal(0.5)"
      ],
      "metadata": {
        "id": "XFfdMqmaXslK",
        "cellView": "form"
      },
      "execution_count": 367,
      "outputs": []
    },
    {
      "cell_type": "code",
      "source": [
        "#@title Совметное распределение -> ковариация\n",
        "def MyCovariance(df):\n",
        "  ksi_ev, eta_ev = MyJointDistributionToExpectedOfBoth(df)\n",
        "  return TablToExpectedOfMult(df) - ksi_ev*eta_ev"
      ],
      "metadata": {
        "id": "LmmXV6JXJqoy",
        "cellView": "form"
      },
      "execution_count": 368,
      "outputs": []
    },
    {
      "cell_type": "code",
      "source": [
        "#@title Совметное распределение -> дисперсия обеих\n",
        "def MyJointDistributionToVarianceOfBoth(df):\n",
        "  xsi, eta = MyJointDistributionToMarginalDistribution(df)\n",
        "  xsi_var = MyVariance(xsi.index,xsi.values)\n",
        "  eta_var = MyVariance(eta.index,eta.values)\n",
        "  return (xsi_var,eta_var)"
      ],
      "metadata": {
        "cellView": "form",
        "id": "1JmUixxUPBTz"
      },
      "execution_count": 369,
      "outputs": []
    },
    {
      "cell_type": "code",
      "source": [
        "#@title Совметное распределение -> коэффицент корелляции (Пирсона)\n",
        "def MyPearsonCorrelationCoefficient(df):\n",
        "  cov = MyCovariance(df)\n",
        "  if cov == Decimal('0'): return Decimal('0')\n",
        "  xsi_var, eta_var = MyJointDistributionToVarianceOfBoth(df)\n",
        "  if xsi_var == eta_var: return cov/xsi_var\n",
        "  xsi_dev = MyStandardDeviation(var=xsi_var)\n",
        "  eta_dev = MyStandardDeviation(var=eta_var)\n",
        "  return decimal_from_fraction(cov)/(xsi_dev*eta_dev)"
      ],
      "metadata": {
        "cellView": "form",
        "id": "nBcmsb5VMj7w"
      },
      "execution_count": 370,
      "outputs": []
    },
    {
      "cell_type": "code",
      "source": [
        "#@title Decimal -> Fraction\n",
        "def decimal_from_fraction(frac):\n",
        "  if isinstance(frac,Decimal): return frac\n",
        "  return frac.numerator / Decimal(frac.denominator)"
      ],
      "metadata": {
        "cellView": "form",
        "id": "q8euccvMwJ01"
      },
      "execution_count": 371,
      "outputs": []
    },
    {
      "cell_type": "code",
      "source": [
        "#@title Схема бернули в нунжном мне виде\n",
        "def MyBernoulli(n,k,p,q=None): # n - всего, k - нужно удач, p - вероятность удачи, q - вероятность неудачи\n",
        "  n = Decimal(n)\n",
        "  k = Decimal(k)\n",
        "  p = Decimal(str(p))\n",
        "  if not q: q = Decimal(1-p)\n",
        "  return Decimal(cnk(n,k))*(Decimal(p)**Decimal(k))*(Decimal(q)**(n-k))"
      ],
      "metadata": {
        "cellView": "form",
        "id": "Rxi-KM-I4tXn"
      },
      "execution_count": 422,
      "outputs": []
    },
    {
      "cell_type": "code",
      "source": [
        "#@title НЕ ИСПОЛЬЗОВАТЬ! Лобовая реализация вычисления мат. ожидания и дисперсии случайной величины схемы Бернулли\n",
        "def BAD_MyXsiBernoulli(n,p,q=None):\n",
        "  if not q: q = 1-p\n",
        "  vals = range(0,n+1)\n",
        "  probs = [MyBernoulli(n,x,Decimal(str(p)),Decimal(str(q))) for x in range(0,n+1)]\n",
        "  ev=myExpectedValue(vals,probs)\n",
        "  var=MyVariance(vals,probs)\n",
        "  return (ev,var)"
      ],
      "metadata": {
        "cellView": "form",
        "id": "3P3Pvag46Tfj"
      },
      "execution_count": 427,
      "outputs": []
    },
    {
      "cell_type": "code",
      "source": [
        "#@title Нормальная реализация вычисления мат. ожидания и дисперсии случайной величины схемы Бернулли\n",
        "def MyXsiBernoulli(n,p,q=None):\n",
        "  if not q: q = 1 - p\n",
        "  return (n*p,n*p*q)"
      ],
      "metadata": {
        "cellView": "form",
        "id": "wUY-dZhH7MA9"
      },
      "execution_count": 426,
      "outputs": []
    },
    {
      "cell_type": "markdown",
      "source": [
        "---\n",
        "## Code itself"
      ],
      "metadata": {
        "id": "kf4d_ApQt13t"
      }
    },
    {
      "cell_type": "code",
      "source": [
        "# Количество орлов/решек при трёх подбрасываниях монеты\n",
        "list(map(lambda a: a.count(0), itertools.product([0,1],repeat=3)))\n",
        "list(map(lambda a: a.count(1), itertools.product([0,1],repeat=3)))"
      ],
      "metadata": {
        "id": "k0vGaUYaCu1-",
        "colab": {
          "base_uri": "https://localhost:8080/"
        },
        "outputId": "f0fdc047-4a19-4013-f349-8b0b1df411ca"
      },
      "execution_count": null,
      "outputs": [
        {
          "output_type": "execute_result",
          "data": {
            "text/plain": [
              "[0, 1, 1, 2, 1, 2, 2, 3]"
            ]
          },
          "metadata": {},
          "execution_count": 321
        }
      ]
    },
    {
      "cell_type": "code",
      "source": [
        "# Нахождение подбором одного неизвестного значения случайного распределения по известному математическому ожиданию и остальному распределению\n",
        "for x in range(-1,14):\n",
        "  vals = list(map(Decimal,f'-1 & 1 & 4 & {x} & 13'.split(' & ')))\n",
        "  probs  = list(map(Decimal,'0.1 & 0.15 & 0.4 & 0.2 & 0.15'.split(' & ')))\n",
        "  if myExpectedValue(vals, probs)==Decimal('5.2'): print(x)"
      ],
      "metadata": {
        "colab": {
          "base_uri": "https://localhost:8080/"
        },
        "id": "zQyncweo4Mk8",
        "outputId": "4bb2da6b-eb9e-472a-8588-4c4d7480f82e"
      },
      "execution_count": null,
      "outputs": [
        {
          "output_type": "stream",
          "name": "stdout",
          "text": [
            "8\n"
          ]
        }
      ]
    },
    {
      "cell_type": "code",
      "source": [
        "# Автоматическое нахождение уравнения для математического ожидания, хотя можно было просто посмотреть...\n",
        "vals='3 5 7'.split(' ')\n",
        "probs='p1 p2 0.3'.split(' ')\n",
        "expr=sympy.sympify('+'.join([f'{x1}*{x2}' for x1,x2 in zip(vals,probs)]))\n",
        "expr"
      ],
      "metadata": {
        "colab": {
          "base_uri": "https://localhost:8080/",
          "height": 38
        },
        "id": "KTRfaIC8YeNY",
        "outputId": "af2bc827-c33e-4bd2-dd5f-a9632a4f6bac"
      },
      "execution_count": null,
      "outputs": [
        {
          "output_type": "execute_result",
          "data": {
            "text/plain": [
              "3*p1 + 5*p2 + 2.1"
            ],
            "text/latex": "$\\displaystyle 3 p_{1} + 5 p_{2} + 2.1$"
          },
          "metadata": {},
          "execution_count": 326
        }
      ]
    },
    {
      "cell_type": "code",
      "source": [
        "# Тест парсинга в vals,probs\n",
        "full_tex=r\"\"\"\\begin{array}{  c | c | c | c | c| c | c| c | c  }\n",
        "\\xi & -4 & -2 & 0 & 3 & 4 & 6 & 7 & 9  \\\\ \\hline\n",
        "\\mathsf{P} & 0.1 & 0.15 & 0.05 & 0.15 & 0.1 & 0.05 & 0.25 & 0.15\n",
        "\\end{array}\"\"\"\n",
        "vals,probs=TTDFOVAP(full_tex,dec=0)\n",
        "vals,probs"
      ],
      "metadata": {
        "colab": {
          "base_uri": "https://localhost:8080/"
        },
        "id": "WLDOe0tA8AKg",
        "outputId": "2861a329-fb8c-4c0b-c7bd-e8816ffa8553"
      },
      "execution_count": null,
      "outputs": [
        {
          "output_type": "execute_result",
          "data": {
            "text/plain": [
              "(['-4', '-2', '0', '3', '4', '6', '7', '9'],\n",
              " ['0.1', '0.15', '0.05', '0.15', '0.1', '0.05', '0.25', '0.15'])"
            ]
          },
          "metadata": {},
          "execution_count": 322
        }
      ]
    },
    {
      "cell_type": "code",
      "source": [
        "# Тест парсинга в датафрейм\n",
        "full_tex=r\"\"\"\\begin{array}{  c | c | c | c | c  }\n",
        "\\eta \\backslash \\xi & -4 & -2 & 0 & 3  \\\\ \\hline\n",
        "2 & 0.02 & 0.02 & 0.06 & 0.1 \\\\ \\hline\n",
        "3 & 0.03 & 0.03 & 0.09 & 0.15 \\\\ \\hline\n",
        "5 & 0.02 & 0.02 & 0.06 & 0.1 \\\\ \\hline\n",
        "10 & 0.03 & 0.03 & 0.09 & 0.15\n",
        "\\end{array}\"\"\"\n",
        "df = TTDFOVAP(full_tex)"
      ],
      "metadata": {
        "id": "RCEv3PDens2s"
      },
      "execution_count": null,
      "outputs": []
    },
    {
      "cell_type": "code",
      "source": [
        "df"
      ],
      "metadata": {
        "colab": {
          "base_uri": "https://localhost:8080/",
          "height": 143
        },
        "id": "N31yQiX9L4eg",
        "outputId": "7c709e11-c60a-4b7e-f404-ddf864eed665"
      },
      "execution_count": null,
      "outputs": [
        {
          "output_type": "execute_result",
          "data": {
            "text/plain": [
              "      0     1     2\n",
              "0   4/9   2/9  1/36\n",
              "1   2/9  1/18     0\n",
              "2  1/36     0     0"
            ],
            "text/html": [
              "\n",
              "  <div id=\"df-70a25fe1-d8eb-4d05-a207-af214347b55d\">\n",
              "    <div class=\"colab-df-container\">\n",
              "      <div>\n",
              "<style scoped>\n",
              "    .dataframe tbody tr th:only-of-type {\n",
              "        vertical-align: middle;\n",
              "    }\n",
              "\n",
              "    .dataframe tbody tr th {\n",
              "        vertical-align: top;\n",
              "    }\n",
              "\n",
              "    .dataframe thead th {\n",
              "        text-align: right;\n",
              "    }\n",
              "</style>\n",
              "<table border=\"1\" class=\"dataframe\">\n",
              "  <thead>\n",
              "    <tr style=\"text-align: right;\">\n",
              "      <th></th>\n",
              "      <th>0</th>\n",
              "      <th>1</th>\n",
              "      <th>2</th>\n",
              "    </tr>\n",
              "  </thead>\n",
              "  <tbody>\n",
              "    <tr>\n",
              "      <th>0</th>\n",
              "      <td>4/9</td>\n",
              "      <td>2/9</td>\n",
              "      <td>1/36</td>\n",
              "    </tr>\n",
              "    <tr>\n",
              "      <th>1</th>\n",
              "      <td>2/9</td>\n",
              "      <td>1/18</td>\n",
              "      <td>0</td>\n",
              "    </tr>\n",
              "    <tr>\n",
              "      <th>2</th>\n",
              "      <td>1/36</td>\n",
              "      <td>0</td>\n",
              "      <td>0</td>\n",
              "    </tr>\n",
              "  </tbody>\n",
              "</table>\n",
              "</div>\n",
              "      <button class=\"colab-df-convert\" onclick=\"convertToInteractive('df-70a25fe1-d8eb-4d05-a207-af214347b55d')\"\n",
              "              title=\"Convert this dataframe to an interactive table.\"\n",
              "              style=\"display:none;\">\n",
              "        \n",
              "  <svg xmlns=\"http://www.w3.org/2000/svg\" height=\"24px\"viewBox=\"0 0 24 24\"\n",
              "       width=\"24px\">\n",
              "    <path d=\"M0 0h24v24H0V0z\" fill=\"none\"/>\n",
              "    <path d=\"M18.56 5.44l.94 2.06.94-2.06 2.06-.94-2.06-.94-.94-2.06-.94 2.06-2.06.94zm-11 1L8.5 8.5l.94-2.06 2.06-.94-2.06-.94L8.5 2.5l-.94 2.06-2.06.94zm10 10l.94 2.06.94-2.06 2.06-.94-2.06-.94-.94-2.06-.94 2.06-2.06.94z\"/><path d=\"M17.41 7.96l-1.37-1.37c-.4-.4-.92-.59-1.43-.59-.52 0-1.04.2-1.43.59L10.3 9.45l-7.72 7.72c-.78.78-.78 2.05 0 2.83L4 21.41c.39.39.9.59 1.41.59.51 0 1.02-.2 1.41-.59l7.78-7.78 2.81-2.81c.8-.78.8-2.07 0-2.86zM5.41 20L4 18.59l7.72-7.72 1.47 1.35L5.41 20z\"/>\n",
              "  </svg>\n",
              "      </button>\n",
              "      \n",
              "  <style>\n",
              "    .colab-df-container {\n",
              "      display:flex;\n",
              "      flex-wrap:wrap;\n",
              "      gap: 12px;\n",
              "    }\n",
              "\n",
              "    .colab-df-convert {\n",
              "      background-color: #E8F0FE;\n",
              "      border: none;\n",
              "      border-radius: 50%;\n",
              "      cursor: pointer;\n",
              "      display: none;\n",
              "      fill: #1967D2;\n",
              "      height: 32px;\n",
              "      padding: 0 0 0 0;\n",
              "      width: 32px;\n",
              "    }\n",
              "\n",
              "    .colab-df-convert:hover {\n",
              "      background-color: #E2EBFA;\n",
              "      box-shadow: 0px 1px 2px rgba(60, 64, 67, 0.3), 0px 1px 3px 1px rgba(60, 64, 67, 0.15);\n",
              "      fill: #174EA6;\n",
              "    }\n",
              "\n",
              "    [theme=dark] .colab-df-convert {\n",
              "      background-color: #3B4455;\n",
              "      fill: #D2E3FC;\n",
              "    }\n",
              "\n",
              "    [theme=dark] .colab-df-convert:hover {\n",
              "      background-color: #434B5C;\n",
              "      box-shadow: 0px 1px 3px 1px rgba(0, 0, 0, 0.15);\n",
              "      filter: drop-shadow(0px 1px 2px rgba(0, 0, 0, 0.3));\n",
              "      fill: #FFFFFF;\n",
              "    }\n",
              "  </style>\n",
              "\n",
              "      <script>\n",
              "        const buttonEl =\n",
              "          document.querySelector('#df-70a25fe1-d8eb-4d05-a207-af214347b55d button.colab-df-convert');\n",
              "        buttonEl.style.display =\n",
              "          google.colab.kernel.accessAllowed ? 'block' : 'none';\n",
              "\n",
              "        async function convertToInteractive(key) {\n",
              "          const element = document.querySelector('#df-70a25fe1-d8eb-4d05-a207-af214347b55d');\n",
              "          const dataTable =\n",
              "            await google.colab.kernel.invokeFunction('convertToInteractive',\n",
              "                                                     [key], {});\n",
              "          if (!dataTable) return;\n",
              "\n",
              "          const docLinkHtml = 'Like what you see? Visit the ' +\n",
              "            '<a target=\"_blank\" href=https://colab.research.google.com/notebooks/data_table.ipynb>data table notebook</a>'\n",
              "            + ' to learn more about interactive tables.';\n",
              "          element.innerHTML = '';\n",
              "          dataTable['output_type'] = 'display_data';\n",
              "          await google.colab.output.renderOutput(dataTable, element);\n",
              "          const docLink = document.createElement('div');\n",
              "          docLink.innerHTML = docLinkHtml;\n",
              "          element.appendChild(docLink);\n",
              "        }\n",
              "      </script>\n",
              "    </div>\n",
              "  </div>\n",
              "  "
            ]
          },
          "metadata": {},
          "execution_count": 320
        }
      ]
    },
    {
      "cell_type": "code",
      "source": [
        "# Проверка независимости\n",
        "\n",
        "# arr=np.array([[0.02,0.02,0.06,0.1],[0.03,0.03,0.09,0.15],[0.02,0.02,0.06,0.1],[0.03,0.03,0.09,0.15]])\n",
        "# arr2 = np.vectorize(lambda a: Decimal(str(a)))(arr)\n",
        "# df = pd.DataFrame(arr2,columns=[-4,-2,0,3], index=[2,3,5,10])\n",
        "\n",
        "# full_tex=r\"\"\"\\begin{array}{  c | c | c | c | c  }\n",
        "# \\eta \\backslash \\xi & -4 & -2 & 0 & 3  \\\\ \\hline\n",
        "# 2 & 0.02 & 0.02 & 0.06 & 0.1 \\\\ \\hline\n",
        "# 3 & 0.03 & 0.03 & 0.09 & 0.15 \\\\ \\hline\n",
        "# 5 & 0.02 & 0.02 & 0.06 & 0.1 \\\\ \\hline\n",
        "# 10 & 0.03 & 0.03 & 0.09 & 0.15\n",
        "# \\end{array}\"\"\"\n",
        "# df = TTDFOVAP(full_tex)\n",
        "\n",
        "CheckIndependence(df)"
      ],
      "metadata": {
        "colab": {
          "base_uri": "https://localhost:8080/"
        },
        "id": "LczL8IkEun_8",
        "outputId": "97cd9dae-bf29-4b80-9fd6-8ed020c8bbe3"
      },
      "execution_count": null,
      "outputs": [
        {
          "output_type": "execute_result",
          "data": {
            "text/plain": [
              "True"
            ]
          },
          "metadata": {},
          "execution_count": 324
        }
      ]
    },
    {
      "cell_type": "code",
      "source": [
        "# Нахождение ожидания произведения\n",
        "TablToExpectedOfMult(df)"
      ],
      "metadata": {
        "colab": {
          "base_uri": "https://localhost:8080/"
        },
        "id": "-SPRzpmmLiSA",
        "outputId": "96a7d7ac-e131-42d6-b644-41ff066fef65"
      },
      "execution_count": null,
      "outputs": [
        {
          "output_type": "execute_result",
          "data": {
            "text/plain": [
              "Fraction(477, 100)"
            ]
          },
          "metadata": {},
          "execution_count": 328
        }
      ]
    },
    {
      "cell_type": "code",
      "source": [
        "# проверка работы нахождения дисперсии\n",
        "vals=[0,100]\n",
        "probs=[99/100,1/100]\n",
        "MyVariance(vals,probs) # MyVariance2(vals,probs)"
      ],
      "metadata": {
        "colab": {
          "base_uri": "https://localhost:8080/"
        },
        "id": "vkev86fG1KNc",
        "outputId": "14781db6-89eb-4f3d-8b7a-8ee55d6147d0"
      },
      "execution_count": null,
      "outputs": [
        {
          "output_type": "execute_result",
          "data": {
            "text/plain": [
              "99.0"
            ]
          },
          "metadata": {},
          "execution_count": 331
        }
      ]
    },
    {
      "cell_type": "code",
      "source": [
        "# проверка работы нахождения СКО\n",
        "xsi,eta = MyJointDistributionToMarginalDistribution(df)\n",
        "xsi_vals = xsi.index\n",
        "xsi_probs = xsi.values\n",
        "eta_vals = eta.index\n",
        "eta_probs = eta.values"
      ],
      "metadata": {
        "id": "MeY1lH6sMQ8I"
      },
      "execution_count": null,
      "outputs": []
    },
    {
      "cell_type": "code",
      "source": [
        "MyStandardDeviation(xsi_vals,xsi_probs)"
      ],
      "metadata": {
        "colab": {
          "base_uri": "https://localhost:8080/"
        },
        "id": "o6g3eXImSe-n",
        "outputId": "1b4afbbc-0a59-4eb5-c045-7118edf482e0"
      },
      "execution_count": null,
      "outputs": [
        {
          "output_type": "execute_result",
          "data": {
            "text/plain": [
              "Decimal('2.385372088375312569654571324')"
            ]
          },
          "metadata": {},
          "execution_count": 333
        }
      ]
    },
    {
      "cell_type": "code",
      "source": [
        "MyStandardDeviation(eta_vals,eta_probs)"
      ],
      "metadata": {
        "colab": {
          "base_uri": "https://localhost:8080/"
        },
        "id": "VnnQzzHDSeRe",
        "outputId": "e3fc456b-8359-4c01-bb63-5831ef111693"
      },
      "execution_count": null,
      "outputs": [
        {
          "output_type": "execute_result",
          "data": {
            "text/plain": [
              "Decimal('3.226453160980335694543128270')"
            ]
          },
          "metadata": {},
          "execution_count": 334
        }
      ]
    },
    {
      "cell_type": "code",
      "source": [
        "# тест ковариации !\n",
        "MyCovariance(df)"
      ],
      "metadata": {
        "colab": {
          "base_uri": "https://localhost:8080/"
        },
        "id": "GymFMPN68Zrh",
        "outputId": "0cfc4204-bbab-4066-e541-5a39ad6feefd"
      },
      "execution_count": null,
      "outputs": [
        {
          "output_type": "execute_result",
          "data": {
            "text/plain": [
              "Fraction(0, 1)"
            ]
          },
          "metadata": {},
          "execution_count": 335
        }
      ]
    },
    {
      "cell_type": "code",
      "source": [
        "# тест коэффициента корелляции\n",
        "MyPearsonCorrelationCoefficient(df)"
      ],
      "metadata": {
        "colab": {
          "base_uri": "https://localhost:8080/"
        },
        "id": "SvIQNlGXRbQd",
        "outputId": "eeab4818-b161-4326-82c3-0d290333f9ce"
      },
      "execution_count": null,
      "outputs": [
        {
          "output_type": "execute_result",
          "data": {
            "text/plain": [
              "Decimal('0')"
            ]
          },
          "metadata": {},
          "execution_count": 336
        }
      ]
    },
    {
      "cell_type": "code",
      "source": [
        "# Моделирование всего-всего-всего на примере двухкратного бросания игрального кубика\n",
        "omega = list(itertools.product(np.arange(1,7),repeat=2))\n",
        "\n",
        "# xsi - количество выпавших единиц\n",
        "# eta - количество выпавших шестёрок\n",
        "\n",
        "# xsi - 0/1/2\n",
        "# eta - 0/1/2\n",
        "omega_xsi_eta = np.array([[x.count(1),x.count(6)] for x in omega])\n",
        "omega_xsi, omega_eta = omega_xsi_eta.T\n",
        "\n",
        "# получаем маргинальное распределение\n",
        "marg_xsi = np.unique(omega_xsi, return_counts=True)\n",
        "marg_eta = np.unique(omega_eta, return_counts=True)\n",
        "\n",
        "# преобразовываем в серию + починим вероятность\n",
        "xsi = Series(list(map(lambda a: Fraction(a,len(omega)),marg_xsi[1])), index=marg_xsi[0])\n",
        "eta = Series(list(map(lambda a: Fraction(a,len(omega)),marg_eta[1])), index=marg_eta[0])\n",
        "\n",
        "# сразу получим совместное распределение\n",
        "possible_vars = list(map(list,list(itertools.product([0,1,2],repeat=2))))\n",
        "numbs = ['']*len(possible_vars)\n",
        "for i,x in enumerate(possible_vars):\n",
        "  numbs[i] = sum([1 for y in omega_xsi_eta if list(y)==x])\n",
        "to_df = [[x[0][0],x[0][1],x[1]] for x in list(zip(possible_vars,numbs))]\n",
        "\n",
        "df = DataFrame(index=[0,1,2],columns=[0,1,2]) \n",
        "for x in to_df:\n",
        "  df[x[0]][x[1]]=Fraction(x[2],len(omega))"
      ],
      "metadata": {
        "id": "KRwUKEZ6UKk2"
      },
      "execution_count": null,
      "outputs": []
    },
    {
      "cell_type": "code",
      "source": [
        "df"
      ],
      "metadata": {
        "colab": {
          "base_uri": "https://localhost:8080/",
          "height": 143
        },
        "id": "PPrQJnY7eL5X",
        "outputId": "f26ea0dd-9c40-47e0-b191-5440c8c764b1"
      },
      "execution_count": null,
      "outputs": [
        {
          "output_type": "execute_result",
          "data": {
            "text/plain": [
              "      0     1     2\n",
              "0   4/9   2/9  1/36\n",
              "1   2/9  1/18     0\n",
              "2  1/36     0     0"
            ],
            "text/html": [
              "\n",
              "  <div id=\"df-b70c3518-ac7f-4898-bf00-8c1d76a85e67\">\n",
              "    <div class=\"colab-df-container\">\n",
              "      <div>\n",
              "<style scoped>\n",
              "    .dataframe tbody tr th:only-of-type {\n",
              "        vertical-align: middle;\n",
              "    }\n",
              "\n",
              "    .dataframe tbody tr th {\n",
              "        vertical-align: top;\n",
              "    }\n",
              "\n",
              "    .dataframe thead th {\n",
              "        text-align: right;\n",
              "    }\n",
              "</style>\n",
              "<table border=\"1\" class=\"dataframe\">\n",
              "  <thead>\n",
              "    <tr style=\"text-align: right;\">\n",
              "      <th></th>\n",
              "      <th>0</th>\n",
              "      <th>1</th>\n",
              "      <th>2</th>\n",
              "    </tr>\n",
              "  </thead>\n",
              "  <tbody>\n",
              "    <tr>\n",
              "      <th>0</th>\n",
              "      <td>4/9</td>\n",
              "      <td>2/9</td>\n",
              "      <td>1/36</td>\n",
              "    </tr>\n",
              "    <tr>\n",
              "      <th>1</th>\n",
              "      <td>2/9</td>\n",
              "      <td>1/18</td>\n",
              "      <td>0</td>\n",
              "    </tr>\n",
              "    <tr>\n",
              "      <th>2</th>\n",
              "      <td>1/36</td>\n",
              "      <td>0</td>\n",
              "      <td>0</td>\n",
              "    </tr>\n",
              "  </tbody>\n",
              "</table>\n",
              "</div>\n",
              "      <button class=\"colab-df-convert\" onclick=\"convertToInteractive('df-b70c3518-ac7f-4898-bf00-8c1d76a85e67')\"\n",
              "              title=\"Convert this dataframe to an interactive table.\"\n",
              "              style=\"display:none;\">\n",
              "        \n",
              "  <svg xmlns=\"http://www.w3.org/2000/svg\" height=\"24px\"viewBox=\"0 0 24 24\"\n",
              "       width=\"24px\">\n",
              "    <path d=\"M0 0h24v24H0V0z\" fill=\"none\"/>\n",
              "    <path d=\"M18.56 5.44l.94 2.06.94-2.06 2.06-.94-2.06-.94-.94-2.06-.94 2.06-2.06.94zm-11 1L8.5 8.5l.94-2.06 2.06-.94-2.06-.94L8.5 2.5l-.94 2.06-2.06.94zm10 10l.94 2.06.94-2.06 2.06-.94-2.06-.94-.94-2.06-.94 2.06-2.06.94z\"/><path d=\"M17.41 7.96l-1.37-1.37c-.4-.4-.92-.59-1.43-.59-.52 0-1.04.2-1.43.59L10.3 9.45l-7.72 7.72c-.78.78-.78 2.05 0 2.83L4 21.41c.39.39.9.59 1.41.59.51 0 1.02-.2 1.41-.59l7.78-7.78 2.81-2.81c.8-.78.8-2.07 0-2.86zM5.41 20L4 18.59l7.72-7.72 1.47 1.35L5.41 20z\"/>\n",
              "  </svg>\n",
              "      </button>\n",
              "      \n",
              "  <style>\n",
              "    .colab-df-container {\n",
              "      display:flex;\n",
              "      flex-wrap:wrap;\n",
              "      gap: 12px;\n",
              "    }\n",
              "\n",
              "    .colab-df-convert {\n",
              "      background-color: #E8F0FE;\n",
              "      border: none;\n",
              "      border-radius: 50%;\n",
              "      cursor: pointer;\n",
              "      display: none;\n",
              "      fill: #1967D2;\n",
              "      height: 32px;\n",
              "      padding: 0 0 0 0;\n",
              "      width: 32px;\n",
              "    }\n",
              "\n",
              "    .colab-df-convert:hover {\n",
              "      background-color: #E2EBFA;\n",
              "      box-shadow: 0px 1px 2px rgba(60, 64, 67, 0.3), 0px 1px 3px 1px rgba(60, 64, 67, 0.15);\n",
              "      fill: #174EA6;\n",
              "    }\n",
              "\n",
              "    [theme=dark] .colab-df-convert {\n",
              "      background-color: #3B4455;\n",
              "      fill: #D2E3FC;\n",
              "    }\n",
              "\n",
              "    [theme=dark] .colab-df-convert:hover {\n",
              "      background-color: #434B5C;\n",
              "      box-shadow: 0px 1px 3px 1px rgba(0, 0, 0, 0.15);\n",
              "      filter: drop-shadow(0px 1px 2px rgba(0, 0, 0, 0.3));\n",
              "      fill: #FFFFFF;\n",
              "    }\n",
              "  </style>\n",
              "\n",
              "      <script>\n",
              "        const buttonEl =\n",
              "          document.querySelector('#df-b70c3518-ac7f-4898-bf00-8c1d76a85e67 button.colab-df-convert');\n",
              "        buttonEl.style.display =\n",
              "          google.colab.kernel.accessAllowed ? 'block' : 'none';\n",
              "\n",
              "        async function convertToInteractive(key) {\n",
              "          const element = document.querySelector('#df-b70c3518-ac7f-4898-bf00-8c1d76a85e67');\n",
              "          const dataTable =\n",
              "            await google.colab.kernel.invokeFunction('convertToInteractive',\n",
              "                                                     [key], {});\n",
              "          if (!dataTable) return;\n",
              "\n",
              "          const docLinkHtml = 'Like what you see? Visit the ' +\n",
              "            '<a target=\"_blank\" href=https://colab.research.google.com/notebooks/data_table.ipynb>data table notebook</a>'\n",
              "            + ' to learn more about interactive tables.';\n",
              "          element.innerHTML = '';\n",
              "          dataTable['output_type'] = 'display_data';\n",
              "          await google.colab.output.renderOutput(dataTable, element);\n",
              "          const docLink = document.createElement('div');\n",
              "          docLink.innerHTML = docLinkHtml;\n",
              "          element.appendChild(docLink);\n",
              "        }\n",
              "      </script>\n",
              "    </div>\n",
              "  </div>\n",
              "  "
            ]
          },
          "metadata": {},
          "execution_count": 338
        }
      ]
    },
    {
      "cell_type": "code",
      "source": [
        "# Математические ожидания кси/эта\n",
        "MyJointDistributionToExpectedOfBoth(df)"
      ],
      "metadata": {
        "colab": {
          "base_uri": "https://localhost:8080/"
        },
        "id": "JjB3NaoMg2ja",
        "outputId": "d5ee0065-c58d-4e46-b97f-60289d52c0f3"
      },
      "execution_count": null,
      "outputs": [
        {
          "output_type": "execute_result",
          "data": {
            "text/plain": [
              "(Fraction(1, 3), Fraction(1, 3))"
            ]
          },
          "metadata": {},
          "execution_count": 339
        }
      ]
    },
    {
      "cell_type": "code",
      "source": [
        "# Дисперсии кси/эта\n",
        "MyJointDistributionToVarianceOfBoth(df)"
      ],
      "metadata": {
        "colab": {
          "base_uri": "https://localhost:8080/"
        },
        "id": "28LERo07hpfj",
        "outputId": "03ff8579-e7fe-4fe7-88ed-6067c5c3a64a"
      },
      "execution_count": null,
      "outputs": [
        {
          "output_type": "execute_result",
          "data": {
            "text/plain": [
              "(Fraction(5, 18), Fraction(5, 18))"
            ]
          },
          "metadata": {},
          "execution_count": 340
        }
      ]
    },
    {
      "cell_type": "code",
      "source": [
        "# Маетматическое ожидание произведения кси/эта\n",
        "TablToExpectedOfMult(df)"
      ],
      "metadata": {
        "colab": {
          "base_uri": "https://localhost:8080/"
        },
        "id": "ZwcH-bxEhyJu",
        "outputId": "be85ade5-8008-4835-96f7-e8fbc1c34b47"
      },
      "execution_count": null,
      "outputs": [
        {
          "output_type": "execute_result",
          "data": {
            "text/plain": [
              "Fraction(1, 18)"
            ]
          },
          "metadata": {},
          "execution_count": 341
        }
      ]
    },
    {
      "cell_type": "code",
      "source": [
        "# Ковариация\n",
        "MyCovariance(df)"
      ],
      "metadata": {
        "colab": {
          "base_uri": "https://localhost:8080/"
        },
        "id": "JvpW4WW2uCZk",
        "outputId": "18bc3c05-7500-43e8-e0f5-47e440919a46"
      },
      "execution_count": null,
      "outputs": [
        {
          "output_type": "execute_result",
          "data": {
            "text/plain": [
              "Fraction(-1, 18)"
            ]
          },
          "metadata": {},
          "execution_count": 342
        }
      ]
    },
    {
      "cell_type": "code",
      "source": [
        "# Коэффициент корелляции\n",
        "MyPearsonCorrelationCoefficient(df)"
      ],
      "metadata": {
        "colab": {
          "base_uri": "https://localhost:8080/"
        },
        "id": "ljxW6E51ieoL",
        "outputId": "bced071f-bc61-40f9-9791-926e875672c1"
      },
      "execution_count": null,
      "outputs": [
        {
          "output_type": "execute_result",
          "data": {
            "text/plain": [
              "Fraction(-1, 5)"
            ]
          },
          "metadata": {},
          "execution_count": 343
        }
      ]
    },
    {
      "cell_type": "code",
      "source": [
        "full_tex=r\"\"\"\\begin{array}{  c | c | c | c | c  }\n",
        "\\xi & -4 & -2 & 0 & 3  \\\\ \\hline\n",
        "\\mathsf{P} & 0.1 & 0.1 & 0.3 & 0.5\n",
        "\\end{array}\"\"\"\n",
        "vals,probs=TTDFOVAP(full_tex)"
      ],
      "metadata": {
        "id": "0SQsoX811bCK"
      },
      "execution_count": null,
      "outputs": []
    },
    {
      "cell_type": "code",
      "source": [
        "MyVariance(vals,probs)"
      ],
      "metadata": {
        "colab": {
          "base_uri": "https://localhost:8080/"
        },
        "id": "1AAkp2Rz1kcu",
        "outputId": "4c36b848-808b-483c-c686-d9ef11dc99b0"
      },
      "execution_count": null,
      "outputs": [
        {
          "output_type": "execute_result",
          "data": {
            "text/plain": [
              "Fraction(569, 100)"
            ]
          },
          "metadata": {},
          "execution_count": 351
        }
      ]
    },
    {
      "cell_type": "code",
      "source": [
        "full_tex=r\"\"\"\\begin{array}{  c | c | c | c  }\n",
        "\\eta \\backslash \\xi & 2 & 3 & 5  \\\\ \\hline\n",
        "-1 & 0.1 & 0.3 & 0.2 \\\\ \\hline\n",
        "1 & 0.1 & 0.05 & 0 \\\\ \\hline\n",
        "4 & 0 & 0.15 & 0.1\n",
        "\\end{array}\"\"\"\n",
        "df=TTDFOVAP(full_tex)"
      ],
      "metadata": {
        "id": "WQOYg6I_2y2y"
      },
      "execution_count": null,
      "outputs": []
    },
    {
      "cell_type": "code",
      "source": [
        "df"
      ],
      "metadata": {
        "colab": {
          "base_uri": "https://localhost:8080/",
          "height": 143
        },
        "id": "i288oZki23TT",
        "outputId": "8f4d4745-d52e-4429-f059-2f487eef61d9"
      },
      "execution_count": null,
      "outputs": [
        {
          "output_type": "execute_result",
          "data": {
            "text/plain": [
              "       2     3     5\n",
              "-1  1/10  3/10   1/5\n",
              "1   1/10  1/20     0\n",
              "4      0  3/20  1/10"
            ],
            "text/html": [
              "\n",
              "  <div id=\"df-fa4ff867-7021-4d94-a6c6-caf887e13945\">\n",
              "    <div class=\"colab-df-container\">\n",
              "      <div>\n",
              "<style scoped>\n",
              "    .dataframe tbody tr th:only-of-type {\n",
              "        vertical-align: middle;\n",
              "    }\n",
              "\n",
              "    .dataframe tbody tr th {\n",
              "        vertical-align: top;\n",
              "    }\n",
              "\n",
              "    .dataframe thead th {\n",
              "        text-align: right;\n",
              "    }\n",
              "</style>\n",
              "<table border=\"1\" class=\"dataframe\">\n",
              "  <thead>\n",
              "    <tr style=\"text-align: right;\">\n",
              "      <th></th>\n",
              "      <th>2</th>\n",
              "      <th>3</th>\n",
              "      <th>5</th>\n",
              "    </tr>\n",
              "  </thead>\n",
              "  <tbody>\n",
              "    <tr>\n",
              "      <th>-1</th>\n",
              "      <td>1/10</td>\n",
              "      <td>3/10</td>\n",
              "      <td>1/5</td>\n",
              "    </tr>\n",
              "    <tr>\n",
              "      <th>1</th>\n",
              "      <td>1/10</td>\n",
              "      <td>1/20</td>\n",
              "      <td>0</td>\n",
              "    </tr>\n",
              "    <tr>\n",
              "      <th>4</th>\n",
              "      <td>0</td>\n",
              "      <td>3/20</td>\n",
              "      <td>1/10</td>\n",
              "    </tr>\n",
              "  </tbody>\n",
              "</table>\n",
              "</div>\n",
              "      <button class=\"colab-df-convert\" onclick=\"convertToInteractive('df-fa4ff867-7021-4d94-a6c6-caf887e13945')\"\n",
              "              title=\"Convert this dataframe to an interactive table.\"\n",
              "              style=\"display:none;\">\n",
              "        \n",
              "  <svg xmlns=\"http://www.w3.org/2000/svg\" height=\"24px\"viewBox=\"0 0 24 24\"\n",
              "       width=\"24px\">\n",
              "    <path d=\"M0 0h24v24H0V0z\" fill=\"none\"/>\n",
              "    <path d=\"M18.56 5.44l.94 2.06.94-2.06 2.06-.94-2.06-.94-.94-2.06-.94 2.06-2.06.94zm-11 1L8.5 8.5l.94-2.06 2.06-.94-2.06-.94L8.5 2.5l-.94 2.06-2.06.94zm10 10l.94 2.06.94-2.06 2.06-.94-2.06-.94-.94-2.06-.94 2.06-2.06.94z\"/><path d=\"M17.41 7.96l-1.37-1.37c-.4-.4-.92-.59-1.43-.59-.52 0-1.04.2-1.43.59L10.3 9.45l-7.72 7.72c-.78.78-.78 2.05 0 2.83L4 21.41c.39.39.9.59 1.41.59.51 0 1.02-.2 1.41-.59l7.78-7.78 2.81-2.81c.8-.78.8-2.07 0-2.86zM5.41 20L4 18.59l7.72-7.72 1.47 1.35L5.41 20z\"/>\n",
              "  </svg>\n",
              "      </button>\n",
              "      \n",
              "  <style>\n",
              "    .colab-df-container {\n",
              "      display:flex;\n",
              "      flex-wrap:wrap;\n",
              "      gap: 12px;\n",
              "    }\n",
              "\n",
              "    .colab-df-convert {\n",
              "      background-color: #E8F0FE;\n",
              "      border: none;\n",
              "      border-radius: 50%;\n",
              "      cursor: pointer;\n",
              "      display: none;\n",
              "      fill: #1967D2;\n",
              "      height: 32px;\n",
              "      padding: 0 0 0 0;\n",
              "      width: 32px;\n",
              "    }\n",
              "\n",
              "    .colab-df-convert:hover {\n",
              "      background-color: #E2EBFA;\n",
              "      box-shadow: 0px 1px 2px rgba(60, 64, 67, 0.3), 0px 1px 3px 1px rgba(60, 64, 67, 0.15);\n",
              "      fill: #174EA6;\n",
              "    }\n",
              "\n",
              "    [theme=dark] .colab-df-convert {\n",
              "      background-color: #3B4455;\n",
              "      fill: #D2E3FC;\n",
              "    }\n",
              "\n",
              "    [theme=dark] .colab-df-convert:hover {\n",
              "      background-color: #434B5C;\n",
              "      box-shadow: 0px 1px 3px 1px rgba(0, 0, 0, 0.15);\n",
              "      filter: drop-shadow(0px 1px 2px rgba(0, 0, 0, 0.3));\n",
              "      fill: #FFFFFF;\n",
              "    }\n",
              "  </style>\n",
              "\n",
              "      <script>\n",
              "        const buttonEl =\n",
              "          document.querySelector('#df-fa4ff867-7021-4d94-a6c6-caf887e13945 button.colab-df-convert');\n",
              "        buttonEl.style.display =\n",
              "          google.colab.kernel.accessAllowed ? 'block' : 'none';\n",
              "\n",
              "        async function convertToInteractive(key) {\n",
              "          const element = document.querySelector('#df-fa4ff867-7021-4d94-a6c6-caf887e13945');\n",
              "          const dataTable =\n",
              "            await google.colab.kernel.invokeFunction('convertToInteractive',\n",
              "                                                     [key], {});\n",
              "          if (!dataTable) return;\n",
              "\n",
              "          const docLinkHtml = 'Like what you see? Visit the ' +\n",
              "            '<a target=\"_blank\" href=https://colab.research.google.com/notebooks/data_table.ipynb>data table notebook</a>'\n",
              "            + ' to learn more about interactive tables.';\n",
              "          element.innerHTML = '';\n",
              "          dataTable['output_type'] = 'display_data';\n",
              "          await google.colab.output.renderOutput(dataTable, element);\n",
              "          const docLink = document.createElement('div');\n",
              "          docLink.innerHTML = docLinkHtml;\n",
              "          element.appendChild(docLink);\n",
              "        }\n",
              "      </script>\n",
              "    </div>\n",
              "  </div>\n",
              "  "
            ]
          },
          "metadata": {},
          "execution_count": 353
        }
      ]
    },
    {
      "cell_type": "code",
      "source": [
        "MyCovariance(df)"
      ],
      "metadata": {
        "colab": {
          "base_uri": "https://localhost:8080/"
        },
        "id": "Aiul8WP-23-9",
        "outputId": "816aa281-75a7-4903-9871-10e08523154c"
      },
      "execution_count": null,
      "outputs": [
        {
          "output_type": "execute_result",
          "data": {
            "text/plain": [
              "Fraction(9, 50)"
            ]
          },
          "metadata": {},
          "execution_count": 354
        }
      ]
    },
    {
      "cell_type": "code",
      "source": [
        "MyPearsonCorrelationCoefficient(df)"
      ],
      "metadata": {
        "colab": {
          "base_uri": "https://localhost:8080/"
        },
        "id": "VhM3k9Vz28N0",
        "outputId": "c57bfaae-747f-4140-e93b-ad7437b63a09"
      },
      "execution_count": null,
      "outputs": [
        {
          "output_type": "execute_result",
          "data": {
            "text/plain": [
              "Decimal('0.07664850422701901346493947032')"
            ]
          },
          "metadata": {},
          "execution_count": 355
        }
      ]
    },
    {
      "cell_type": "code",
      "source": [
        "BAD_MyXsiBernoulli(10,0.75)"
      ],
      "metadata": {
        "colab": {
          "base_uri": "https://localhost:8080/"
        },
        "id": "kKGssxNm8tOH",
        "outputId": "3a546168-b1af-4638-898d-f5d4e08ce0a6"
      },
      "execution_count": 429,
      "outputs": [
        {
          "output_type": "execute_result",
          "data": {
            "text/plain": [
              "(Decimal('7.50000000000000000000'), Decimal('1.875000000000000000000000000'))"
            ]
          },
          "metadata": {},
          "execution_count": 429
        }
      ]
    },
    {
      "cell_type": "code",
      "source": [
        "MyXsiBernoulli(10,0.75)"
      ],
      "metadata": {
        "colab": {
          "base_uri": "https://localhost:8080/"
        },
        "id": "WFULWUHu80T6",
        "outputId": "af3e6300-732e-4682-9858-e61054121442"
      },
      "execution_count": 428,
      "outputs": [
        {
          "output_type": "execute_result",
          "data": {
            "text/plain": [
              "(7.5, 1.875)"
            ]
          },
          "metadata": {},
          "execution_count": 428
        }
      ]
    },
    {
      "cell_type": "code",
      "source": [
        "# Просто для красоты, даже без заголовка и перенесения в блок с функциями :)\n",
        "def MyDescribe(full_tex):\n",
        "  df=TTDFOVAP(full_tex)\n",
        "  print('MarginalDistributions: ', MyJointDistributionToMarginalDistribution(df)[0],MyJointDistributionToMarginalDistribution(df)[1],'------',sep='\\n')\n",
        "  print('ExpectedValues: ', MyJointDistributionToExpectedOfBoth(df),'------',sep='\\n')\n",
        "  print('Variances: ', MyJointDistributionToVarianceOfBoth(df),'------',sep='\\n')\n",
        "  print('Covariance: ', MyCovariance(df),'------',sep='\\n')\n",
        "  print('CorrelationCoefficient: ', MyPearsonCorrelationCoefficient(df), sep='\\n')"
      ],
      "metadata": {
        "id": "Vp_X08lRBjZl"
      },
      "execution_count": 458,
      "outputs": []
    },
    {
      "cell_type": "code",
      "source": [
        "full_tex=r\"\"\"\\begin{array}{   c | c | c | c | c  } \\eta \\backslash \\xi  & 156 & 168 & 173 & 193  \\\\ \\hline 2 & 0.05 & 0.04 & 0.29 & 0.17 \\\\ \\hline 4 & 0.07 & 0.08 & 0.19 & 0.11 \\end{array}\"\"\"\n",
        "MyDescribe(full_tex)"
      ],
      "metadata": {
        "colab": {
          "base_uri": "https://localhost:8080/"
        },
        "id": "z9ZJAehA_vqb",
        "outputId": "f81d151e-258b-4cee-8d7d-44eab1100343"
      },
      "execution_count": 460,
      "outputs": [
        {
          "output_type": "stream",
          "name": "stdout",
          "text": [
            "MarginalDistributions: \n",
            "156     3/25\n",
            "168     3/25\n",
            "173    12/25\n",
            "193     7/25\n",
            "dtype: object\n",
            "2    11/20\n",
            "4     9/20\n",
            "dtype: object\n",
            "------\n",
            "ExpectedValues: \n",
            "(Fraction(4399, 25), Fraction(29, 10))\n",
            "------\n",
            "Variances: \n",
            "(Fraction(88074, 625), Fraction(99, 100))\n",
            "------\n",
            "Covariance: \n",
            "-361/250\n",
            "------\n",
            "CorrelationCoefficient: \n",
            "-0.1222547506417396250214209794\n"
          ]
        }
      ]
    }
  ]
}