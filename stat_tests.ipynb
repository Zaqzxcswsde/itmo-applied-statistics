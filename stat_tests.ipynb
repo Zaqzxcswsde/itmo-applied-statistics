{
  "nbformat": 4,
  "nbformat_minor": 0,
  "metadata": {
    "colab": {
      "provenance": [],
      "collapsed_sections": [
        "cf6utbDaDZCc"
      ],
      "toc_visible": true,
      "authorship_tag": "ABX9TyNrrBFFNiq3RCswDmQlXhva",
      "include_colab_link": true
    },
    "kernelspec": {
      "name": "python3",
      "display_name": "Python 3"
    },
    "language_info": {
      "name": "python"
    }
  },
  "cells": [
    {
      "cell_type": "markdown",
      "metadata": {
        "id": "view-in-github",
        "colab_type": "text"
      },
      "source": [
        "<a href=\"https://colab.research.google.com/github/Zaqzxcswsde/itmo-applied-statistics/blob/main/stat_tests.ipynb\" target=\"_parent\"><img src=\"https://colab.research.google.com/assets/colab-badge.svg\" alt=\"Open In Colab\"/></a>"
      ]
    },
    {
      "cell_type": "code",
      "execution_count": null,
      "metadata": {
        "id": "-LBrSgvnnh7X"
      },
      "outputs": [],
      "source": [
        "#@title Imports { display-mode: \"form\" }\n",
        "\n",
        "from pandas import Series, DataFrame\n",
        "import pandas as pd\n",
        "import numpy as np\n",
        "from os import listdir\n",
        "# from google.colab import drive\n",
        "#drive.mount('/content/drive')\n",
        "# import matplotlib.pyplot as plt\n",
        "# %matplotlib inline\n",
        "import itertools\n",
        "from itertools import product\n",
        "from scipy import special\n",
        "# как можно скачать файл напрямую из гуглдиска сюда в директорию /content\n",
        "# !gdown 1Xtw5-jqrDJmh318t1jtKHvOJXxMrB9XF\n",
        "from math import factorial\n",
        "from decimal import *\n",
        "import sympy\n",
        "from itertools import product\n",
        "from math import fsum"
      ]
    },
    {
      "cell_type": "markdown",
      "source": [
        "# Неделя 1"
      ],
      "metadata": {
        "id": "cf6utbDaDZCc"
      }
    },
    {
      "cell_type": "code",
      "source": [
        "# сколько из всех вариантов пар произведений чисел от 1 до 4 целочисленно делятся на три \n",
        "list(map(lambda a: a % 3, map(lambda a: a[0]*a[1], itertools.product(np.arange(1,5),np.arange(1,5))))).count(0)"
      ],
      "metadata": {
        "colab": {
          "base_uri": "https://localhost:8080/"
        },
        "id": "_3Oz4Sj_p7Bd",
        "outputId": "580f700d-1f51-48cb-e3f1-1b9c801e6b5f"
      },
      "execution_count": 133,
      "outputs": [
        {
          "output_type": "execute_result",
          "data": {
            "text/plain": [
              "7"
            ]
          },
          "metadata": {},
          "execution_count": 133
        }
      ]
    },
    {
      "cell_type": "code",
      "source": [
        "# получить произведение всех чисел в листе\n",
        "def list_product(array):\n",
        "  s = 1\n",
        "  for i in array:\n",
        "    s *= i\n",
        "  return s"
      ],
      "metadata": {
        "id": "fgIOVbqipir9"
      },
      "execution_count": 134,
      "outputs": []
    },
    {
      "cell_type": "code",
      "source": [
        "# у скольки из всех вариантов пар произведений чисел от 1 до 4 сумма превышает произведение \n",
        "len([1 for a in itertools.product(np.arange(1,5),np.arange(1,5)) if a[0]+a[1]>a[0]*a[1]])"
      ],
      "metadata": {
        "colab": {
          "base_uri": "https://localhost:8080/"
        },
        "id": "amJ-cQNBpSYF",
        "outputId": "7d350737-b7cc-455e-8b93-58e489e94e8e"
      },
      "execution_count": 135,
      "outputs": [
        {
          "output_type": "execute_result",
          "data": {
            "text/plain": [
              "7"
            ]
          },
          "metadata": {},
          "execution_count": 135
        }
      ]
    },
    {
      "cell_type": "code",
      "source": [
        "# формула C из комбинаторики с повторениями и без\n",
        "def comb(n,k, *, repetition=0):\n",
        "  if repetition: return comb(n+k-1,k)\n",
        "  else: return factorial(n)/(factorial(k)*factorial(n-k))\n",
        "\n",
        "# 4 основные функции комбинаторики объединены в одну, повторения есть? порядок важен? n? k?\n",
        "def prob(n,k,o,r):\n",
        "  if not o: return comb(n,k,repetition=r)\n",
        "  elif r: return n**k\n",
        "  else: return special.perm(n,k)\n",
        "\n",
        "# упрощённый доступ напрямую к C из n по k\n",
        "def cnk(n,k):\n",
        "  return prob(n,k,0,0)"
      ],
      "metadata": {
        "id": "Umr3xT9XNqnv"
      },
      "execution_count": 136,
      "outputs": []
    },
    {
      "cell_type": "code",
      "source": [
        "cnk(6,5)"
      ],
      "metadata": {
        "colab": {
          "base_uri": "https://localhost:8080/"
        },
        "id": "ai2wc4HKllyi",
        "outputId": "c33d801e-fbec-4f72-8fdc-badeaff4d0ed"
      },
      "execution_count": 137,
      "outputs": [
        {
          "output_type": "execute_result",
          "data": {
            "text/plain": [
              "6.0"
            ]
          },
          "metadata": {},
          "execution_count": 137
        }
      ]
    },
    {
      "cell_type": "code",
      "source": [
        "# n = int(input('n? '))\n",
        "# k = int(input('k? '))\n",
        "# o = int(input('Порядок важен? 1/0 y/n ').translate(str.maketrans('yn','10')))\n",
        "# r = int(input('Повторения есть? 1/0 y/n ').translate(str.maketrans('yn','10')))\n",
        "n,k,o,r=[10,10,0,0]\n",
        "print(prob(n,k,o,r))"
      ],
      "metadata": {
        "colab": {
          "base_uri": "https://localhost:8080/"
        },
        "id": "AXXD-t1eHwLA",
        "outputId": "4058aaeb-0d1a-4347-9597-ab6692775876"
      },
      "execution_count": 138,
      "outputs": [
        {
          "output_type": "stream",
          "name": "stdout",
          "text": [
            "1.0\n"
          ]
        }
      ]
    },
    {
      "cell_type": "code",
      "source": [
        "# коккатенация листа в строчку\n",
        "def conc(lst):\n",
        "  c = ''\n",
        "  for i in lst:\n",
        "    c+=str(i)\n",
        "  return c"
      ],
      "metadata": {
        "id": "71RQqSFG0b97"
      },
      "execution_count": 139,
      "outputs": []
    },
    {
      "cell_type": "code",
      "source": [
        "# сколькими способами можно выбрать из n пар детей двих так, чтобы они были из разных пар?\n",
        "pair_count=3\n",
        "4*sum(range(1,pair_count))"
      ],
      "metadata": {
        "colab": {
          "base_uri": "https://localhost:8080/"
        },
        "id": "DACENz3h3FAw",
        "outputId": "ecc7fe2d-8a7c-4ac9-91f7-87a8d7f03204"
      },
      "execution_count": 140,
      "outputs": [
        {
          "output_type": "execute_result",
          "data": {
            "text/plain": [
              "12"
            ]
          },
          "metadata": {},
          "execution_count": 140
        }
      ]
    },
    {
      "cell_type": "code",
      "source": [
        "# или так\n",
        "all_possible_combinations=list(map(list,list(product(range(6),repeat=2))))\n",
        "all_possible_pair_variations=[[x[0]//2,x[1]//2] for x in all_possible_combinations]\n",
        "apc_with_rep_1=list(map(set,all_possible_combinations))\n",
        "apc_with_rep_2=[x for x in apc_with_rep_1 if len(x)>1]\n",
        "apc_without_rep=list(map(list,(set(map(tuple,apc_with_rep_2)))))\n",
        "apc_with_rep_pairs_1=[[x[0]//2,x[1]//2] for x in list(map(list,apc_without_rep))]\n",
        "apc_with_rep_pairs_2=list(map(set,apc_with_rep_pairs_1))\n",
        "apc_without_rep_pairs=[x for x in apc_with_rep_pairs_2 if len(x)==2]\n",
        "len(apc_without_rep_pairs)"
      ],
      "metadata": {
        "colab": {
          "base_uri": "https://localhost:8080/"
        },
        "id": "N2_4olPV6y-F",
        "outputId": "957a8a05-8884-4d39-9a32-642e63e345ff"
      },
      "execution_count": 141,
      "outputs": [
        {
          "output_type": "execute_result",
          "data": {
            "text/plain": [
              "12"
            ]
          },
          "metadata": {},
          "execution_count": 141
        }
      ]
    },
    {
      "cell_type": "code",
      "source": [
        "# является ли число факториалом другого?\n",
        "def isfactorial(x):\n",
        "  if not isinstance(x,int) or x<1: return -1\n",
        "  i=0\n",
        "  while factorial(i)<x:\n",
        "    i+=1\n",
        "  if factorial(i)==x: return i\n",
        "  else: return -1\n",
        "\n",
        "# перевод числа в 6-ти-ричную систему\n",
        "def tosix(n):\n",
        "    if n == 0:\n",
        "        return ['0']\n",
        "    digits = []\n",
        "    while n:\n",
        "        digits.append(str(int(n % 6)))\n",
        "        n //= 6\n",
        "    return digits[::-1]\n",
        "\n",
        "# является ли лист уникальным? Не работает, если там хранятся другие листы (и прочие нехешитруемые типы)\n",
        "def isunique(lst):\n",
        "  return len(list(lst)) == len(list(set(list(lst))))"
      ],
      "metadata": {
        "id": "mFdm5n7_fj_d"
      },
      "execution_count": 142,
      "outputs": []
    },
    {
      "cell_type": "code",
      "source": [
        "# из цифр от 0 до 5 составили декартово проиведение длиной 4, в скольких вариантах нет повторений цифр?\n",
        "# способ 1\n",
        "len([x for x in map(set,product(range(0,6),repeat=4)) if len(x)==4])"
      ],
      "metadata": {
        "colab": {
          "base_uri": "https://localhost:8080/"
        },
        "id": "W4ze-TX2-zAZ",
        "outputId": "6f0d71df-0181-4164-d3ed-ac3e6637c23c"
      },
      "execution_count": 143,
      "outputs": [
        {
          "output_type": "execute_result",
          "data": {
            "text/plain": [
              "360"
            ]
          },
          "metadata": {},
          "execution_count": 143
        }
      ]
    },
    {
      "cell_type": "code",
      "source": [
        "# способ 2\n",
        "sum(list(map(isunique,[''.join(tosix(x)).zfill(4) for x in range(0,6**4)])))"
      ],
      "metadata": {
        "colab": {
          "base_uri": "https://localhost:8080/"
        },
        "id": "CWAW86KMi2nt",
        "outputId": "bf08dbfd-87b8-4359-987c-8337893a7a8f"
      },
      "execution_count": 144,
      "outputs": [
        {
          "output_type": "execute_result",
          "data": {
            "text/plain": [
              "360"
            ]
          },
          "metadata": {},
          "execution_count": 144
        }
      ]
    },
    {
      "cell_type": "code",
      "source": [
        "# или так! 6 вариантов на первую, 5 на вторую и тд до четвёртой\n",
        "6*5*4*3"
      ],
      "metadata": {
        "colab": {
          "base_uri": "https://localhost:8080/"
        },
        "id": "cYibsnj0BxYL",
        "outputId": "037605b5-b513-4428-a7b0-1b80d9a675c0"
      },
      "execution_count": 145,
      "outputs": [
        {
          "output_type": "execute_result",
          "data": {
            "text/plain": [
              "360"
            ]
          },
          "metadata": {},
          "execution_count": 145
        }
      ]
    },
    {
      "cell_type": "markdown",
      "source": [
        "# Неделя 2"
      ],
      "metadata": {
        "id": "__MpbYyLK7Rn"
      }
    },
    {
      "cell_type": "markdown",
      "source": [
        "TODO: переделать парсинг, чтобы работал с дробями и переменными"
      ],
      "metadata": {
        "id": "ky-Bk0T4GDyZ"
      }
    },
    {
      "cell_type": "markdown",
      "source": [
        "## Function definitions"
      ],
      "metadata": {
        "id": "lLnB8BJ7HLCF"
      }
    },
    {
      "cell_type": "code",
      "source": [
        "#@title Парсинг таблиц из опенеду в датафрейм/серию/лист { display-mode: \"form\" }\n",
        "# Работает только с числовыми значениями, не работает с переменными или дробями - TODO\n",
        "def OpenEduTexToArrayOfArrays(full_tex,dec=True):\n",
        "  def is_float(element):\n",
        "    try:\n",
        "        float(element)\n",
        "        return True\n",
        "    except ValueError:\n",
        "        return False\n",
        "  full_tex=list(map(lambda a: a.split(),full_tex.split('\\n')))\n",
        "  for i,x in enumerate(full_tex):\n",
        "    full_tex[i]=[y for y in x if is_float(y)]\n",
        "  full_tex = [x for x in full_tex if len(x)>0]\n",
        "  if dec:\n",
        "    for i,x in enumerate(full_tex):\n",
        "      full_tex[i]=list(map(lambda a: Decimal(a),x))\n",
        "  return full_tex\n",
        "def ArrayOfArraysWithIndexsAndColumnsToDataFrame(arrofarr):\n",
        "  if len(arrofarr)<=2: raise RuntimeError('don\\'t use this function for series!')\n",
        "  if len(arrofarr[0])<len(arrofarr[1]): arrofarr[0] = [''] + arrofarr[0]\n",
        "  npaoa = np.array(arrofarr)\n",
        "  return DataFrame(npaoa[1:,1:],columns=npaoa[0,:][1:],index=npaoa[:,0][1:],dtype=\"object\")\n",
        "def TTDFOVAP(full_tex,dec=True): # TexToDataFrameOrValsAndProbs\n",
        "  arrofarr=OpenEduTexToArrayOfArrays(full_tex,dec=dec)\n",
        "  if len(arrofarr)==1: return arrofarr[0]\n",
        "  elif len(arrofarr)==2: return (arrofarr[0],arrofarr[1])\n",
        "  else: return ArrayOfArraysWithIndexsAndColumnsToDataFrame(arrofarr)"
      ],
      "metadata": {
        "id": "3ek-o2WADLn_"
      },
      "execution_count": 122,
      "outputs": []
    },
    {
      "cell_type": "code",
      "source": [
        "#@title Медиана распределения случайной величины { display-mode: \"form\" }\n",
        "def myMedian(vals, probs):\n",
        "  m_1 = [i for i,_ in enumerate(probs) if ((sum(probs[:i+1])>0.5) and (sum(probs[i:])>0.5))]\n",
        "  m_1_e = [vals[v] for v in m_1]\n",
        "  m_2 = m_1_e[0] if len(m_1_e)==1 else (max(m_1_e)+min(m_1_e))/2\n",
        "  return m_2"
      ],
      "metadata": {
        "id": "h_ZWY8RpVf-B"
      },
      "execution_count": 114,
      "outputs": []
    },
    {
      "cell_type": "code",
      "source": [
        "#@title Проверка величин на независимость, !!!!!внутри DataFrame'а нужны Decimal'ы!!!!! { display-mode: \"form\" }\n",
        "def CheckIndependence(df):\n",
        "  xsi=df.sum(axis=0) # this produces series of decimals, as expected\n",
        "  # eta=df.sum(axis=1) # this instead produces series of floats, not decimals - presumably pandas bug\n",
        "  eta=Series({k:v.sum() for k,v in df.iterrows()})\n",
        "  # xsi=xsi.apply(lambda a: Decimal(str(a)))\n",
        "  # eta=eta.apply(lambda a: Decimal(str(a)))\n",
        "  df2 = pd.DataFrame(columns=df.columns, index=df.index)\n",
        "  for i in df.columns:\n",
        "    for j in df.index:\n",
        "      df2[i][j]=xsi[i]*eta[j]\n",
        "  return df.equals(df2)"
      ],
      "metadata": {
        "id": "_d2tnVU_IOfG"
      },
      "execution_count": 146,
      "outputs": []
    },
    {
      "cell_type": "code",
      "source": [
        "#@title Математическое ожидание распределения случайной величины { display-mode: \"form\" }\n",
        "def myExpectedValue(vals, probs):\n",
        "  vals = np.asarray(vals)\n",
        "  probs = np.asarray(probs)\n",
        "  return (vals * probs).sum()"
      ],
      "metadata": {
        "id": "lYTwRFZ4WG7_"
      },
      "execution_count": 115,
      "outputs": []
    },
    {
      "cell_type": "code",
      "source": [
        "#@title Дана таблица совместного распределения случайных величин -> получаем мат.ожидание произведения случайных величин { display-mode: \"form\" }\n",
        "def TablToExpectedOfMult(df):\n",
        "  df2=DataFrame(columns=df.columns,index=df.index)\n",
        "  for i in df2.columns:\n",
        "    for j in df2.index:\n",
        "      df2[i][j]=i*j\n",
        "  ss={}\n",
        "  for i in df2.columns:\n",
        "    for j in df2.index:\n",
        "      if df2[i][j] in ss.keys():\n",
        "        ss[df2[i][j]]+=df[i][j]\n",
        "      else:\n",
        "        ss[df2[i][j]]=df[i][j]\n",
        "  return sum(np.asarray(list(ss.keys()))*np.asarray(list(ss.values())))"
      ],
      "metadata": {
        "id": "ytdUohWwzyN6"
      },
      "execution_count": 116,
      "outputs": []
    },
    {
      "cell_type": "code",
      "source": [
        "#@title Дано распределение случайной величины -> вернуть дисперсию { display-mode: \"form\" }\n",
        "def MyVariance(vals,probs):\n",
        "  ev = myExpectedValue(vals,probs)\n",
        "  vals2=[(x-ev)**2 for x in vals]\n",
        "  disp = myExpectedValue(vals2,probs)\n",
        "  return disp"
      ],
      "metadata": {
        "id": "Cdb68o_O3Bv0"
      },
      "execution_count": 118,
      "outputs": []
    },
    {
      "cell_type": "code",
      "source": [
        "#@title Дано распределение случайной величины -> вернуть дисперсию 2 { display-mode: \"form\" }\n",
        "def MyVariance2(vals,probs):\n",
        "  ev = myExpectedValue(vals,probs)\n",
        "  vals2=[x**2 for x in vals]\n",
        "  disp = myExpectedValue(vals2,probs)\n",
        "  return disp-(ev)**2"
      ],
      "metadata": {
        "id": "aixmsqUgYsr3"
      },
      "execution_count": 119,
      "outputs": []
    },
    {
      "cell_type": "code",
      "source": [
        "#@title Дана таблица совместного распределения случайных величин -> получаем мат.ожидание обеих случайных величин - сначала по столбцам, потом по строкам { display-mode: \"form\" }\n",
        "def TablToExpectedOfBoth(df):\n",
        "  xsi,eta=MyJointDistributionToMarginalDistribution(df)\n",
        "  xsi_var=myExpectedValue(xsi.index,xsi.values)\n",
        "  eta_var=myExpectedValue(eta.index,eta.values)\n",
        "  return (xsi_var,eta_var)"
      ],
      "metadata": {
        "id": "3aCdY9db06GR"
      },
      "execution_count": 155,
      "outputs": []
    },
    {
      "cell_type": "code",
      "source": [
        "#@title Совметное распределение в маргинальное распределение { display-mode: \"form\" }\n",
        "def MyJointDistributionToMarginalDistribution(df):\n",
        "  xsi=df.sum(axis=0)\n",
        "  eta=Series({k:v.sum() for k,v in df.iterrows()})\n",
        "  return (xsi,eta)"
      ],
      "metadata": {
        "id": "9n1bGQaHhak4"
      },
      "execution_count": 120,
      "outputs": []
    },
    {
      "cell_type": "code",
      "source": [
        "#@title Получить СКО из маргинального распределения или из дисперсии { display-mode: \"form\" }\n",
        "def MyStandardDeviation(vals,probs,dev=None):\n",
        "  if not dev: return MyVariance(vals,probs)**(1/2)\n",
        "  else: return dev**(1/2)"
      ],
      "metadata": {
        "id": "XFfdMqmaXslK"
      },
      "execution_count": 121,
      "outputs": []
    },
    {
      "cell_type": "markdown",
      "source": [
        "---"
      ],
      "metadata": {
        "id": "WUTZAgBSIC74"
      }
    },
    {
      "cell_type": "markdown",
      "source": [
        "\n",
        "## Code itself"
      ],
      "metadata": {
        "id": "kf4d_ApQt13t"
      }
    },
    {
      "cell_type": "code",
      "source": [
        "# Количество орлов/решек при трёх подбрасываниях монеты\n",
        "list(map(lambda a: a.count(0), itertools.product([0,1],repeat=3)))\n",
        "list(map(lambda a: a.count(1), itertools.product([0,1],repeat=3)))"
      ],
      "metadata": {
        "id": "k0vGaUYaCu1-",
        "colab": {
          "base_uri": "https://localhost:8080/"
        },
        "outputId": "0dcb86d6-2b0f-40d7-af2c-cb413e57b1c2"
      },
      "execution_count": 123,
      "outputs": [
        {
          "output_type": "execute_result",
          "data": {
            "text/plain": [
              "[0, 1, 1, 2, 1, 2, 2, 3]"
            ]
          },
          "metadata": {},
          "execution_count": 123
        }
      ]
    },
    {
      "cell_type": "code",
      "source": [
        "# Проверка независимости\n",
        "# arr=np.array([[0.02,0.02,0.06,0.1],[0.03,0.03,0.09,0.15],[0.02,0.02,0.06,0.1],[0.03,0.03,0.09,0.15]])\n",
        "# arr2 = np.vectorize(lambda a: Decimal(str(a)))(arr)\n",
        "# df = pd.DataFrame(arr2,columns=[-4,-2,0,3], index=[2,3,5,10])\n",
        "\n",
        "\n",
        "full_tex=r\"\"\"\\begin{array}{  c | c | c | c | c  }\n",
        "\\eta \\backslash \\xi & -4 & -2 & 0 & 3  \\\\ \\hline\n",
        "2 & 0.02 & 0.02 & 0.06 & 0.1 \\\\ \\hline\n",
        "3 & 0.03 & 0.03 & 0.09 & 0.15 \\\\ \\hline\n",
        "5 & 0.02 & 0.02 & 0.06 & 0.1 \\\\ \\hline\n",
        "10 & 0.03 & 0.03 & 0.09 & 0.15\n",
        "\\end{array}\"\"\"\n",
        "df = TTDFOVAP(full_tex)\n",
        "\n",
        "CheckIndependence(df)"
      ],
      "metadata": {
        "colab": {
          "base_uri": "https://localhost:8080/"
        },
        "id": "LczL8IkEun_8",
        "outputId": "a19f45b8-bfe2-4efa-e090-ce83a3a78f9c"
      },
      "execution_count": 124,
      "outputs": [
        {
          "output_type": "execute_result",
          "data": {
            "text/plain": [
              "True"
            ]
          },
          "metadata": {},
          "execution_count": 124
        }
      ]
    },
    {
      "cell_type": "code",
      "source": [
        "# Нахождение подбором одного неизвестного значения случайного распределения по известному математическому ожиданию и остальному распределению\n",
        "for x in range(-1,14):\n",
        "  vals = list(map(Decimal,f'-1 & 1 & 4 & {x} & 13'.split(' & ')))\n",
        "  probs  = list(map(Decimal,'0.1 & 0.15 & 0.4 & 0.2 & 0.15'.split(' & ')))\n",
        "  if myExpectedValue(vals, probs)==Decimal('5.2'): print(x)"
      ],
      "metadata": {
        "colab": {
          "base_uri": "https://localhost:8080/"
        },
        "id": "zQyncweo4Mk8",
        "outputId": "dd703c3c-5add-4c38-cbc5-eee4f475eacc"
      },
      "execution_count": 125,
      "outputs": [
        {
          "output_type": "stream",
          "name": "stdout",
          "text": [
            "8\n"
          ]
        }
      ]
    },
    {
      "cell_type": "code",
      "source": [
        "# Автоматическое нахождение уравнения для математического ожидания, хотя можно было просто посмотреть...\n",
        "vals='3 5 7'.split(' ')\n",
        "probs='p1 p2 0.3'.split(' ')\n",
        "expr=sympy.sympify('+'.join([f'{x1}*{x2}' for x1,x2 in zip(vals,probs)]))\n",
        "expr"
      ],
      "metadata": {
        "colab": {
          "base_uri": "https://localhost:8080/",
          "height": 38
        },
        "id": "KTRfaIC8YeNY",
        "outputId": "22fd7cab-6ede-4de6-e33c-82999c8d7e87"
      },
      "execution_count": 126,
      "outputs": [
        {
          "output_type": "execute_result",
          "data": {
            "text/plain": [
              "3*p1 + 5*p2 + 2.1"
            ],
            "text/latex": "$\\displaystyle 3 p_{1} + 5 p_{2} + 2.1$"
          },
          "metadata": {},
          "execution_count": 126
        }
      ]
    },
    {
      "cell_type": "code",
      "source": [
        "# Тест парсинга в датафрейм + нахождение ожидания произведения \n",
        "full_tex=r\"\"\"\\begin{array}{  c | c | c | c | c  }\n",
        "\\eta \\backslash \\xi & -4 & -2 & 0 & 3  \\\\ \\hline\n",
        "2 & 0.02 & 0.02 & 0.06 & 0.1 \\\\ \\hline\n",
        "3 & 0.03 & 0.03 & 0.09 & 0.15 \\\\ \\hline\n",
        "5 & 0.02 & 0.02 & 0.06 & 0.1 \\\\ \\hline\n",
        "10 & 0.03 & 0.03 & 0.09 & 0.15\n",
        "\\end{array}\"\"\"\n",
        "df = TTDFOVAP(full_tex)\n",
        "TablToExpectedOfMult(df)"
      ],
      "metadata": {
        "colab": {
          "base_uri": "https://localhost:8080/"
        },
        "id": "RCEv3PDens2s",
        "outputId": "fa60ef5d-feea-469a-9e13-323379d70b1f"
      },
      "execution_count": 127,
      "outputs": [
        {
          "output_type": "execute_result",
          "data": {
            "text/plain": [
              "Decimal('4.77')"
            ]
          },
          "metadata": {},
          "execution_count": 127
        }
      ]
    },
    {
      "cell_type": "code",
      "source": [
        "# проверка работы нахождения дисперсии, СКО, \n",
        "vals=[0,100]\n",
        "probs=[99/100,1/100]\n",
        "MyVariance(vals,probs)"
      ],
      "metadata": {
        "colab": {
          "base_uri": "https://localhost:8080/"
        },
        "id": "vkev86fG1KNc",
        "outputId": "541d5c19-b864-447f-f312-9e080dd201f4"
      },
      "execution_count": 128,
      "outputs": [
        {
          "output_type": "execute_result",
          "data": {
            "text/plain": [
              "99.0"
            ]
          },
          "metadata": {},
          "execution_count": 128
        }
      ]
    },
    {
      "cell_type": "code",
      "source": [
        "MyVariance2(vals,probs)"
      ],
      "metadata": {
        "colab": {
          "base_uri": "https://localhost:8080/"
        },
        "id": "PweifgxvY6UY",
        "outputId": "a36ca3b9-618b-4a0b-cd4e-b3ea25a6cd48"
      },
      "execution_count": 129,
      "outputs": [
        {
          "output_type": "execute_result",
          "data": {
            "text/plain": [
              "99.0"
            ]
          },
          "metadata": {},
          "execution_count": 129
        }
      ]
    },
    {
      "cell_type": "code",
      "source": [
        "MyStandardDeviation(vals,probs)"
      ],
      "metadata": {
        "colab": {
          "base_uri": "https://localhost:8080/"
        },
        "id": "wNrk0osqY4eL",
        "outputId": "baf49668-b9bc-4f34-df34-cb626e5d1782"
      },
      "execution_count": 130,
      "outputs": [
        {
          "output_type": "execute_result",
          "data": {
            "text/plain": [
              "9.9498743710662"
            ]
          },
          "metadata": {},
          "execution_count": 130
        }
      ]
    },
    {
      "cell_type": "code",
      "source": [
        "# Тест парсинга в vals,probs\n",
        "full_tex=r\"\"\"\\begin{array}{  c | c | c | c | c| c | c| c | c  }\n",
        "\\xi & -4 & -2 & 0 & 3 & 4 & 6 & 7 & 9  \\\\ \\hline\n",
        "\\mathsf{P} & 0.1 & 0.15 & 0.05 & 0.15 & 0.1 & 0.05 & 0.25 & 0.15\n",
        "\\end{array}\"\"\"\n",
        "vals,probs=TTDFOVAP(full_tex,dec=0)\n",
        "vals,probs"
      ],
      "metadata": {
        "colab": {
          "base_uri": "https://localhost:8080/"
        },
        "id": "WLDOe0tA8AKg",
        "outputId": "09cdd22b-af17-4bf2-ba26-b873d0736528"
      },
      "execution_count": 131,
      "outputs": [
        {
          "output_type": "execute_result",
          "data": {
            "text/plain": [
              "(['-4', '-2', '0', '3', '4', '6', '7', '9'],\n",
              " ['0.1', '0.15', '0.05', '0.15', '0.1', '0.05', '0.25', '0.15'])"
            ]
          },
          "metadata": {},
          "execution_count": 131
        }
      ]
    },
    {
      "cell_type": "code",
      "source": [
        "df"
      ],
      "metadata": {
        "colab": {
          "base_uri": "https://localhost:8080/",
          "height": 175
        },
        "id": "oydHkldq8aee",
        "outputId": "ae32fe76-96ef-4b58-b827-6da457fd2dd5"
      },
      "execution_count": 148,
      "outputs": [
        {
          "output_type": "execute_result",
          "data": {
            "text/plain": [
              "      -4    -2     0     3\n",
              "2   0.02  0.02  0.06   0.1\n",
              "3   0.03  0.03  0.09  0.15\n",
              "5   0.02  0.02  0.06   0.1\n",
              "10  0.03  0.03  0.09  0.15"
            ],
            "text/html": [
              "\n",
              "  <div id=\"df-54ee611f-f4dd-4d6f-aae6-bed81175aeea\">\n",
              "    <div class=\"colab-df-container\">\n",
              "      <div>\n",
              "<style scoped>\n",
              "    .dataframe tbody tr th:only-of-type {\n",
              "        vertical-align: middle;\n",
              "    }\n",
              "\n",
              "    .dataframe tbody tr th {\n",
              "        vertical-align: top;\n",
              "    }\n",
              "\n",
              "    .dataframe thead th {\n",
              "        text-align: right;\n",
              "    }\n",
              "</style>\n",
              "<table border=\"1\" class=\"dataframe\">\n",
              "  <thead>\n",
              "    <tr style=\"text-align: right;\">\n",
              "      <th></th>\n",
              "      <th>-4</th>\n",
              "      <th>-2</th>\n",
              "      <th>0</th>\n",
              "      <th>3</th>\n",
              "    </tr>\n",
              "  </thead>\n",
              "  <tbody>\n",
              "    <tr>\n",
              "      <th>2</th>\n",
              "      <td>0.02</td>\n",
              "      <td>0.02</td>\n",
              "      <td>0.06</td>\n",
              "      <td>0.1</td>\n",
              "    </tr>\n",
              "    <tr>\n",
              "      <th>3</th>\n",
              "      <td>0.03</td>\n",
              "      <td>0.03</td>\n",
              "      <td>0.09</td>\n",
              "      <td>0.15</td>\n",
              "    </tr>\n",
              "    <tr>\n",
              "      <th>5</th>\n",
              "      <td>0.02</td>\n",
              "      <td>0.02</td>\n",
              "      <td>0.06</td>\n",
              "      <td>0.1</td>\n",
              "    </tr>\n",
              "    <tr>\n",
              "      <th>10</th>\n",
              "      <td>0.03</td>\n",
              "      <td>0.03</td>\n",
              "      <td>0.09</td>\n",
              "      <td>0.15</td>\n",
              "    </tr>\n",
              "  </tbody>\n",
              "</table>\n",
              "</div>\n",
              "      <button class=\"colab-df-convert\" onclick=\"convertToInteractive('df-54ee611f-f4dd-4d6f-aae6-bed81175aeea')\"\n",
              "              title=\"Convert this dataframe to an interactive table.\"\n",
              "              style=\"display:none;\">\n",
              "        \n",
              "  <svg xmlns=\"http://www.w3.org/2000/svg\" height=\"24px\"viewBox=\"0 0 24 24\"\n",
              "       width=\"24px\">\n",
              "    <path d=\"M0 0h24v24H0V0z\" fill=\"none\"/>\n",
              "    <path d=\"M18.56 5.44l.94 2.06.94-2.06 2.06-.94-2.06-.94-.94-2.06-.94 2.06-2.06.94zm-11 1L8.5 8.5l.94-2.06 2.06-.94-2.06-.94L8.5 2.5l-.94 2.06-2.06.94zm10 10l.94 2.06.94-2.06 2.06-.94-2.06-.94-.94-2.06-.94 2.06-2.06.94z\"/><path d=\"M17.41 7.96l-1.37-1.37c-.4-.4-.92-.59-1.43-.59-.52 0-1.04.2-1.43.59L10.3 9.45l-7.72 7.72c-.78.78-.78 2.05 0 2.83L4 21.41c.39.39.9.59 1.41.59.51 0 1.02-.2 1.41-.59l7.78-7.78 2.81-2.81c.8-.78.8-2.07 0-2.86zM5.41 20L4 18.59l7.72-7.72 1.47 1.35L5.41 20z\"/>\n",
              "  </svg>\n",
              "      </button>\n",
              "      \n",
              "  <style>\n",
              "    .colab-df-container {\n",
              "      display:flex;\n",
              "      flex-wrap:wrap;\n",
              "      gap: 12px;\n",
              "    }\n",
              "\n",
              "    .colab-df-convert {\n",
              "      background-color: #E8F0FE;\n",
              "      border: none;\n",
              "      border-radius: 50%;\n",
              "      cursor: pointer;\n",
              "      display: none;\n",
              "      fill: #1967D2;\n",
              "      height: 32px;\n",
              "      padding: 0 0 0 0;\n",
              "      width: 32px;\n",
              "    }\n",
              "\n",
              "    .colab-df-convert:hover {\n",
              "      background-color: #E2EBFA;\n",
              "      box-shadow: 0px 1px 2px rgba(60, 64, 67, 0.3), 0px 1px 3px 1px rgba(60, 64, 67, 0.15);\n",
              "      fill: #174EA6;\n",
              "    }\n",
              "\n",
              "    [theme=dark] .colab-df-convert {\n",
              "      background-color: #3B4455;\n",
              "      fill: #D2E3FC;\n",
              "    }\n",
              "\n",
              "    [theme=dark] .colab-df-convert:hover {\n",
              "      background-color: #434B5C;\n",
              "      box-shadow: 0px 1px 3px 1px rgba(0, 0, 0, 0.15);\n",
              "      filter: drop-shadow(0px 1px 2px rgba(0, 0, 0, 0.3));\n",
              "      fill: #FFFFFF;\n",
              "    }\n",
              "  </style>\n",
              "\n",
              "      <script>\n",
              "        const buttonEl =\n",
              "          document.querySelector('#df-54ee611f-f4dd-4d6f-aae6-bed81175aeea button.colab-df-convert');\n",
              "        buttonEl.style.display =\n",
              "          google.colab.kernel.accessAllowed ? 'block' : 'none';\n",
              "\n",
              "        async function convertToInteractive(key) {\n",
              "          const element = document.querySelector('#df-54ee611f-f4dd-4d6f-aae6-bed81175aeea');\n",
              "          const dataTable =\n",
              "            await google.colab.kernel.invokeFunction('convertToInteractive',\n",
              "                                                     [key], {});\n",
              "          if (!dataTable) return;\n",
              "\n",
              "          const docLinkHtml = 'Like what you see? Visit the ' +\n",
              "            '<a target=\"_blank\" href=https://colab.research.google.com/notebooks/data_table.ipynb>data table notebook</a>'\n",
              "            + ' to learn more about interactive tables.';\n",
              "          element.innerHTML = '';\n",
              "          dataTable['output_type'] = 'display_data';\n",
              "          await google.colab.output.renderOutput(dataTable, element);\n",
              "          const docLink = document.createElement('div');\n",
              "          docLink.innerHTML = docLinkHtml;\n",
              "          element.appendChild(docLink);\n",
              "        }\n",
              "      </script>\n",
              "    </div>\n",
              "  </div>\n",
              "  "
            ]
          },
          "metadata": {},
          "execution_count": 148
        }
      ]
    },
    {
      "cell_type": "code",
      "source": [
        "TablToExpectedOfBoth(df)"
      ],
      "metadata": {
        "colab": {
          "base_uri": "https://localhost:8080/"
        },
        "id": "GymFMPN68Zrh",
        "outputId": "6f5150d2-fb61-44cb-b834-3214469fc3a9"
      },
      "execution_count": 156,
      "outputs": [
        {
          "output_type": "execute_result",
          "data": {
            "text/plain": [
              "(Decimal('0.90'), Decimal('5.30'))"
            ]
          },
          "metadata": {},
          "execution_count": 156
        }
      ]
    }
  ]
}